{
  "nbformat": 4,
  "nbformat_minor": 0,
  "metadata": {
    "colab": {
      "name": "aut_pyspark.ipynb",
      "provenance": [],
      "authorship_tag": "ABX9TyM7T3PwXlMt7j6I3/pxz6vh",
      "include_colab_link": true
    },
    "kernelspec": {
      "name": "python3",
      "display_name": "Python 3"
    }
  },
  "cells": [
    {
      "cell_type": "markdown",
      "metadata": {
        "id": "view-in-github",
        "colab_type": "text"
      },
      "source": [
        "<a href=\"https://colab.research.google.com/github/archivesunleashed/notebooks/blob/master/aut_pyspark.ipynb\" target=\"_parent\"><img src=\"https://colab.research.google.com/assets/colab-badge.svg\" alt=\"Open In Colab\"/></a>"
      ]
    },
    {
      "cell_type": "markdown",
      "metadata": {
        "id": "GkPhOw8fslFL",
        "colab_type": "text"
      },
      "source": [
        "# Working with AUT and PySpark"
      ]
    },
    {
      "cell_type": "markdown",
      "metadata": {
        "id": "El8PD9awsppz",
        "colab_type": "text"
      },
      "source": [
        "## Environment"
      ]
    },
    {
      "cell_type": "markdown",
      "metadata": {
        "id": "QhI9p5mRsx1f",
        "colab_type": "text"
      },
      "source": [
        "## Setup PySpark\n",
        "\n",
        "The following commands download and install PySpark.\n"
      ]
    },
    {
      "cell_type": "code",
      "metadata": {
        "id": "goue9Wuy4Jdr",
        "colab_type": "code",
        "colab": {}
      },
      "source": [
        "%%capture\n",
        "\n",
        "!wget \"https://www.dropbox.com/s/c7dypk5uepmq920/aut.zip\"\n",
        "!wget \"https://www.dropbox.com/s/ggz7w1q42dciupf/aut-0.18.2-SNAPSHOT-fatjar.jar\""
      ],
      "execution_count": 0,
      "outputs": []
    },
    {
      "cell_type": "code",
      "metadata": {
        "id": "jX92o_3K9FVj",
        "colab_type": "code",
        "colab": {
          "base_uri": "https://localhost:8080/",
          "height": 35
        },
        "outputId": "324fb335-7166-48b8-ab0b-606c53db1192"
      },
      "source": [
        "!ls"
      ],
      "execution_count": 2,
      "outputs": [
        {
          "output_type": "stream",
          "text": [
            "aut-0.18.2-SNAPSHOT-fatjar.jar\taut.zip  sample_data\n"
          ],
          "name": "stdout"
        }
      ]
    },
    {
      "cell_type": "code",
      "metadata": {
        "id": "pmbFuSz5szQ1",
        "colab_type": "code",
        "colab": {}
      },
      "source": [
        "%%capture\n",
        "\n",
        "!apt-get update\n",
        "!apt-get install -y openjdk-8-jdk-headless -qq \n",
        "!apt-get install maven -qq\n",
        "\n",
        "!curl -L \"https://archive.apache.org/dist/spark/spark-2.4.4/spark-2.4.4-bin-hadoop2.7.tgz\" > spark-2.4.4-bin-hadoop2.7.tgz\n",
        "!tar -xvf spark-2.4.4-bin-hadoop2.7.tgz\n",
        "!pip install -q findspark"
      ],
      "execution_count": 0,
      "outputs": []
    },
    {
      "cell_type": "code",
      "metadata": {
        "id": "iWySNZFls542",
        "colab_type": "code",
        "colab": {}
      },
      "source": [
        "import os\n",
        "os.environ[\"JAVA_HOME\"] = \"/usr/lib/jvm/java-8-openjdk-amd64\"\n",
        "os.environ[\"SPARK_HOME\"] = \"/content/spark-2.4.4-bin-hadoop2.7\"\n",
        "os.environ['PYSPARK_SUBMIT_ARGS'] = '--jars aut-0.18.2-SNAPSHOT-fatjar.jar --py-files aut.zip pyspark-shell'"
      ],
      "execution_count": 0,
      "outputs": []
    },
    {
      "cell_type": "code",
      "metadata": {
        "id": "giGxwK0as6BN",
        "colab_type": "code",
        "colab": {}
      },
      "source": [
        "import findspark\n",
        "findspark.init()\n",
        "import pyspark\n",
        "sc = pyspark.SparkContext()\n",
        "from pyspark.sql import SQLContext\n",
        "sqlContext = SQLContext(sc)"
      ],
      "execution_count": 0,
      "outputs": []
    },
    {
      "cell_type": "markdown",
      "metadata": {
        "id": "tjpj2PyttClF",
        "colab_type": "text"
      },
      "source": [
        "## Data\n",
        "\n",
        "This directory contains sample data that you might want to use with the Archives Unleashed Toolkit. The ARC and WARC file are drawn from the Canadian Political Parties & Political Interest Groups Archive-It Collection, collected by the University of Toronto. We are grateful that they've provided this material to us.\n",
        "\n",
        "If you use their material, please cite it as (in this case if a website):\n",
        "\n",
        "    University of Toronto Libraries, Canadian Political Parties and Interest Groups, Archive-It Collection 227, Canadian Action Party, http://wayback.archive-it.org/227/20051004191340/http://canadianactionparty.ca/Default2.asp\n"
      ]
    },
    {
      "cell_type": "code",
      "metadata": {
        "id": "AB47vlXOtAzM",
        "colab_type": "code",
        "colab": {}
      },
      "source": [
        "%%capture\n",
        "!mkdir data\n",
        "!wget \"https://github.com/archivesunleashed/aut-resources/blob/master/Sample-Data/ARCHIVEIT-227-UOFTORONTO-CANPOLPINT-20060622205612-00009-crawling025.archive.org.arc.gz?raw=true\" -O data/ARCHIVEIT-227-UOFTORONTO-CANPOLPINT-20060622205612-00009-crawling025.archive.org.arc.gz\n",
        "!wget \"https://github.com/archivesunleashed/aut-resources/blob/master/Sample-Data/ARCHIVEIT-227-QUARTERLY-XUGECV-20091218231727-00039-crawling06.us.archive.org-8091.warc.gz?raw=true\" -O data/ARCHIVEIT-227-QUARTERLY-XUGECV-20091218231727-00039-crawling06.us.archive.org-8091.warc.gz"
      ],
      "execution_count": 0,
      "outputs": []
    },
    {
      "cell_type": "code",
      "metadata": {
        "id": "BVHxIDQbtDIp",
        "colab_type": "code",
        "colab": {
          "base_uri": "https://localhost:8080/",
          "height": 54
        },
        "outputId": "df46abe4-88ae-4e12-8ee8-f49d21e55c28"
      },
      "source": [
        "!ls data"
      ],
      "execution_count": 11,
      "outputs": [
        {
          "output_type": "stream",
          "text": [
            "ARCHIVEIT-227-QUARTERLY-XUGECV-20091218231727-00039-crawling06.us.archive.org-8091.warc.gz\n",
            "ARCHIVEIT-227-UOFTORONTO-CANPOLPINT-20060622205612-00009-crawling025.archive.org.arc.gz\n"
          ],
          "name": "stdout"
        }
      ]
    },
    {
      "cell_type": "code",
      "metadata": {
        "id": "cKf6SOu69vDi",
        "colab_type": "code",
        "colab": {}
      },
      "source": [
        "from aut import *\n",
        "from pyspark.sql.functions import desc"
      ],
      "execution_count": 0,
      "outputs": []
    },
    {
      "cell_type": "code",
      "metadata": {
        "id": "c5wnsqQG9wXh",
        "colab_type": "code",
        "colab": {}
      },
      "source": [
        "archive = WebArchive(sc, sqlContext, \"data\")"
      ],
      "execution_count": 0,
      "outputs": []
    },
    {
      "cell_type": "code",
      "metadata": {
        "id": "pED7i5LwABDU",
        "colab_type": "code",
        "colab": {
          "base_uri": "https://localhost:8080/",
          "height": 495
        },
        "outputId": "994de0ad-2929-41e0-e1c7-fc5e29b70677"
      },
      "source": [
        "webpages = archive.webpages()\n",
        "webpages.show(10, True)"
      ],
      "execution_count": 14,
      "outputs": [
        {
          "output_type": "stream",
          "text": [
            "+----------+--------------------+--------------------+--------------------+--------+--------------------+\n",
            "|crawl_date|                 url|mime_type_web_server|      mime_type_tika|language|             content|\n",
            "+----------+--------------------+--------------------+--------------------+--------+--------------------+\n",
            "|  20091218|http://www.equalv...|           text/html|application/xhtml...|      en|HTTP/1.1 200 OK\r\n",
            "...|\n",
            "|  20091218|http://www.libera...|           text/html|application/xhtml...|      en|HTTP/1.1 200 OK\r\n",
            "...|\n",
            "|  20091218|http://www.canadi...|           text/html|application/xhtml...|      en|HTTP/1.1 200 OK\r\n",
            "...|\n",
            "|  20091218|http://www.equalv...|           text/html|application/xhtml...|      en|HTTP/1.1 200 OK\r\n",
            "...|\n",
            "|  20091218|http://www.libera...|           text/html|application/xhtml...|      en|HTTP/1.1 200 OK\r\n",
            "...|\n",
            "|  20091218|http://greenparty...|           text/html|application/xhtml...|      fr|HTTP/1.1 200 OK\r\n",
            "...|\n",
            "|  20091218|http://www.equalv...|           text/html|application/xhtml...|      en|HTTP/1.1 200 OK\r\n",
            "...|\n",
            "|  20091218|http://www.ndp.ca...|           text/html|application/xhtml...|      en|HTTP/1.1 200 OK\r\n",
            "...|\n",
            "|  20091218|http://www.fairvo...|           text/html|application/xhtml...|      en|HTTP/1.1 200 OK\r\n",
            "...|\n",
            "|  20091218|http://www.canadi...|           text/html|application/xhtml...|      en|HTTP/1.1 200 OK\r\n",
            "...|\n",
            "+----------+--------------------+--------------------+--------------------+--------+--------------------+\n",
            "only showing top 10 rows\n",
            "\n"
          ],
          "name": "stdout"
        }
      ]
    },
    {
      "cell_type": "code",
      "metadata": {
        "id": "ORPMV0_PAOzf",
        "colab_type": "code",
        "colab": {
          "base_uri": "https://localhost:8080/",
          "height": 311
        },
        "outputId": "ec01b4d2-3cea-4f7f-9cc3-1ee0b2fed1f4"
      },
      "source": [
        "links = archive.links()\n",
        "links.show(10, True)"
      ],
      "execution_count": 15,
      "outputs": [
        {
          "output_type": "stream",
          "text": [
            "+----------+--------------------+--------------------+--------------------+\n",
            "|crawl_date|                 src|                dest|              anchor|\n",
            "+----------+--------------------+--------------------+--------------------+\n",
            "|  20091218|http://www.equalv...|http://www.equalv...|                    |\n",
            "|  20091218|http://www.equalv...|http://www.equalv...|       RSS SUBSCRIBE|\n",
            "|  20091218|http://www.equalv...|http://www.equalv...|Bulletin d’AVE - ...|\n",
            "|  20091218|http://www.equalv...|http://www.equalv...|MORE ABOUT EV'S Y...|\n",
            "|  20091218|http://www.equalv...|http://www.thesta...|Coyle: Honouring ...|\n",
            "|  20091218|http://www.equalv...|http://gettingtot...|Getting to the Ga...|\n",
            "|  20091218|http://www.equalv...|http://www.snapde...|                    |\n",
            "|  20091218|http://www.libera...|http://www.libera...|Liberal Party of ...|\n",
            "|  20091218|http://www.libera...|http://www.libera...|   Michael Ignatieff|\n",
            "|  20091218|http://www.libera...|http://www.libera...|        Introduction|\n",
            "+----------+--------------------+--------------------+--------------------+\n",
            "only showing top 10 rows\n",
            "\n"
          ],
          "name": "stdout"
        }
      ]
    },
    {
      "cell_type": "code",
      "metadata": {
        "id": "IQ_IvDGaApQt",
        "colab_type": "code",
        "colab": {
          "base_uri": "https://localhost:8080/",
          "height": 311
        },
        "outputId": "418847af-70f8-4fbe-bd25-e62ad7b57a4f"
      },
      "source": [
        "images = archive.images()\n",
        "images.show(10, True)"
      ],
      "execution_count": 16,
      "outputs": [
        {
          "output_type": "stream",
          "text": [
            "+--------------------+--------------------+---------+--------------------+--------------+-----+------+--------------------+--------------------+--------------------+\n",
            "|                 url|            filename|extension|mime_type_web_server|mime_type_tika|width|height|                 md5|                sha1|               bytes|\n",
            "+--------------------+--------------------+---------+--------------------+--------------+-----+------+--------------------+--------------------+--------------------+\n",
            "|http://farm3.stat...|4047878934_ef12ba...|      jpg|          image/jpeg|    image/jpeg|  100|    75|e1a376f170b815f49...|2165fd2908950e9f6...|/9j/4AAQSkZJRgABA...|\n",
            "|http://farm3.stat...|4047881126_fc6777...|      jpg|          image/jpeg|    image/jpeg|   75|   100|371a2a5142c611405...|933f937c949826696...|/9j/4AAQSkZJRgABA...|\n",
            "|http://farm3.stat...|4047879492_a72dd8...|      jpg|          image/jpeg|    image/jpeg|  100|    75|8877679361cde970d...|31dbaaed2f7194c95...|/9j/4AAQSkZJRgABA...|\n",
            "|http://farm3.stat...|4047877728_c6c118...|      jpg|          image/jpeg|    image/jpeg|   75|   100|8f009a568d47e1888...|7b83e7d6c78ed65cf...|/9j/4AAQSkZJRgABA...|\n",
            "|http://img.youtub...|               0.jpg|      jpg|          image/jpeg|    image/jpeg|  480|   360|96d9290d060547781...|2d3005bd6e09ca064...|/9j/4AAQSkZJRgABA...|\n",
            "|http://img.youtub...|               0.jpg|      jpg|          image/jpeg|    image/jpeg|  480|   360|c69d65d4880445b31...|abe40cb96bfc79095...|/9j/4AAQSkZJRgABA...|\n",
            "|http://img.youtub...|               0.jpg|      jpg|          image/jpeg|    image/jpeg|  480|   360|cb11c08d43e25ec3b...|2060857d6cf41b141...|/9j/4AAQSkZJRgABA...|\n",
            "|http://img.youtub...|               0.jpg|      jpg|          image/jpeg|    image/jpeg|  480|   360|756b5a0a83a621eb7...|d4625efc80efb985e...|/9j/4AAQSkZJRgABA...|\n",
            "|http://img.youtub...|               0.jpg|      jpg|          image/jpeg|    image/jpeg|  480|   360|0b60007c3e3d9d63f...|a154035590a01efb4...|/9j/4AAQSkZJRgABA...|\n",
            "|http://img.youtub...|               0.jpg|      jpg|          image/jpeg|    image/jpeg|  480|   360|97fdea388e1245691...|e415a77a4369ecef8...|/9j/4AAQSkZJRgABA...|\n",
            "+--------------------+--------------------+---------+--------------------+--------------+-----+------+--------------------+--------------------+--------------------+\n",
            "only showing top 10 rows\n",
            "\n"
          ],
          "name": "stdout"
        }
      ]
    },
    {
      "cell_type": "code",
      "metadata": {
        "id": "LklbvcR_AvUW",
        "colab_type": "code",
        "colab": {
          "base_uri": "https://localhost:8080/",
          "height": 311
        },
        "outputId": "cf6f2da7-ed37-4f71-a61a-09c98da00343"
      },
      "source": [
        "image_links = archive.image_links()\n",
        "image_links.show(10, True)"
      ],
      "execution_count": 17,
      "outputs": [
        {
          "output_type": "stream",
          "text": [
            "+--------------------+--------------------+\n",
            "|                 src|           image_url|\n",
            "+--------------------+--------------------+\n",
            "|http://www.equalv...|http://www.equalv...|\n",
            "|http://www.equalv...|http://www.equalv...|\n",
            "|http://www.equalv...|http://www.equalv...|\n",
            "|http://www.equalv...|http://www.equalv...|\n",
            "|http://www.equalv...|http://www.equalv...|\n",
            "|http://www.equalv...|http://www.equalv...|\n",
            "|http://www.equalv...|http://www.equalv...|\n",
            "|http://www.equalv...|http://www.equalv...|\n",
            "|http://www.equalv...|http://www.equalv...|\n",
            "|http://www.equalv...|http://www.equalv...|\n",
            "+--------------------+--------------------+\n",
            "only showing top 10 rows\n",
            "\n"
          ],
          "name": "stdout"
        }
      ]
    },
    {
      "cell_type": "code",
      "metadata": {
        "id": "7sDZpGHzA19m",
        "colab_type": "code",
        "colab": {
          "base_uri": "https://localhost:8080/",
          "height": 311
        },
        "outputId": "a3a2dfa4-30f6-45c7-a887-e30740710411"
      },
      "source": [
        "pdfs = archive.pdfs()\n",
        "pdfs.show(10, True)"
      ],
      "execution_count": 18,
      "outputs": [
        {
          "output_type": "stream",
          "text": [
            "+--------------------+--------------------+---------+--------------------+---------------+--------------------+--------------------+--------------------+\n",
            "|                 url|            filename|extension|mime_type_web_server| mime_type_tika|                 md5|                sha1|               bytes|\n",
            "+--------------------+--------------------+---------+--------------------+---------------+--------------------+--------------------+--------------------+\n",
            "|http://partimarij...|Massicotti_Affida...|      pdf|     application/pdf|application/pdf|4daa676e867d0ac65...|5d7c895db1b592aaa...|JVBERi0xLjIKJSDi4...|\n",
            "|http://www.web.ne...|      securityqs.PDF|      pdf|     application/pdf|application/pdf|eadd48d19fd55e103...|2ab70423309828af9...|JVBERi0xLjIgDQol4...|\n",
            "|http://partimarij...|           Ewing.pdf|      pdf|     application/pdf|application/pdf|8e43fec319e76e0f5...|930cd5ecf521b2b8f...|JVBERi0xLjIKJSDi4...|\n",
            "|http://www.libera...|           35050.pdf|      pdf|     application/pdf|application/pdf|d81be8c5e5305a3a0...|c5dcc3ecfae8823ff...|JVBERi0xLjQNJeLjz...|\n",
            "|http://www.web.ne...|ConfrontingMyths.pdf|      pdf|     application/pdf|application/pdf|81aac5dcd9da83763...|b3b2d23c4e76b1705...|JVBERi0xLjQNJeLjz...|\n",
            "|http://www.ppforu...|science_cohort_re...|      pdf|     application/pdf|application/pdf|e542a274868147014...|bc7eaad7b47d32785...|JVBERi0xLjINJeLjz...|\n",
            "|http://www.web.ne...|  rapportnov2004.pdf|      pdf|     application/pdf|application/pdf|9bfd3bba5576e77f7...|bbad6d21e52b849b4...|JVBERi0xLjUNJeLjz...|\n",
            "|http://www.ppforu...|nwmo_report_final...|      pdf|     application/pdf|application/pdf|e13d66039e73300aa...|4618fbf2a6b9dcc03...|JVBERi0xLjINJeLjz...|\n",
            "|http://www.libera...|           35002.pdf|      pdf|     application/pdf|application/pdf|b0595da30caaa0c35...|dbca484df2a672092...|JVBERi0xLjQNJeLjz...|\n",
            "|http://www.web.ne...|      Securiteqs.PDF|      pdf|     application/pdf|application/pdf|a79ca783b207979f9...|cb2a7e97cf5fff312...|JVBERi0xLjIgDQol4...|\n",
            "+--------------------+--------------------+---------+--------------------+---------------+--------------------+--------------------+--------------------+\n",
            "only showing top 10 rows\n",
            "\n"
          ],
          "name": "stdout"
        }
      ]
    },
    {
      "cell_type": "code",
      "metadata": {
        "id": "gIXiWnowA6C-",
        "colab_type": "code",
        "colab": {
          "base_uri": "https://localhost:8080/",
          "height": 146
        },
        "outputId": "6c7b7f61-47aa-47d4-8beb-92ff20737f08"
      },
      "source": [
        "audio = archive.audio()\n",
        "audio.show(10, True)"
      ],
      "execution_count": 19,
      "outputs": [
        {
          "output_type": "stream",
          "text": [
            "+--------------------+--------------+---------+--------------------+--------------------+--------------------+--------------------+--------------------+\n",
            "|                 url|      filename|extension|mime_type_web_server|      mime_type_tika|                 md5|                sha1|               bytes|\n",
            "+--------------------+--------------+---------+--------------------+--------------------+--------------------+--------------------+--------------------+\n",
            "|http://www.canadi...|   COLLINS1.RA|       ra|   audio/x-realaudio|audio/x-pn-realaudio|0128cb24f439f13a7...|ff1f9fdc00805d8fe...|LnJh/QAEAAAucmE0A...|\n",
            "|http://www.animal...|2006-01-13.mp3|      mp3|          audio/mpeg|          audio/mpeg|e4b3825ea1ecae26d...|990919d05d6cd4bdb...|//NAxAkWuVKkX9gQA...|\n",
            "+--------------------+--------------+---------+--------------------+--------------------+--------------------+--------------------+--------------------+\n",
            "\n"
          ],
          "name": "stdout"
        }
      ]
    },
    {
      "cell_type": "code",
      "metadata": {
        "id": "9RvBcPOPA-eT",
        "colab_type": "code",
        "colab": {
          "base_uri": "https://localhost:8080/",
          "height": 219
        },
        "outputId": "08bf8314-2974-49b2-fc2d-5d58ad27a326"
      },
      "source": [
        "video = archive.video()\n",
        "video.show(10, True)"
      ],
      "execution_count": 20,
      "outputs": [
        {
          "output_type": "stream",
          "text": [
            "+--------------------+--------------------+---------+--------------------+--------------+--------------------+--------------------+--------------------+\n",
            "|                 url|            filename|extension|mime_type_web_server|mime_type_tika|                 md5|                sha1|               bytes|\n",
            "+--------------------+--------------------+---------+--------------------+--------------+--------------------+--------------------+--------------------+\n",
            "|http://v2.cache7....|       videoplayback|      flv|         video/x-flv|   video/x-flv|670586aafcb4824b5...|07e88d18aea50510d...|RkxWAQUAAAAJAAAAA...|\n",
            "|http://www.bloc.o...|            bloc.wmv|      wmv|      video/x-ms-wmv|video/x-ms-wmv|fc16dd3c9c289a7ce...|1a77f9f3d9b18d31a...|MCaydY5mzxGm2QCqA...|\n",
            "|http://www.noshar...|       HomaCBClQ.WMV|      wmv|          text/plain|video/x-ms-wmv|ef89c319f8ccd119a...|46e34725a78df33d0...|MCaydY5mzxGm2QCqA...|\n",
            "|http://www.bloc.o...|        16juin02.wmv|      wmv|      video/x-ms-wmv|video/x-ms-wmv|5b49c2b15ec631516...|b9ea03cbf9b3dcf96...|MCaydY5mzxGm2QCqA...|\n",
            "|http://www.conser...|20060411-videogut...|      flv|          text/plain|   video/x-flv|dbba9d1c0b2604e1c...|0c65be85e1fcfb89f...|RkxWAQUAAAAJAAAAA...|\n",
            "|http://www.noshar...|           Aug12.wmv|      wmv|          text/plain|video/x-ms-wmv|07ab22f7cdc3db4e7...|34c5e5dc596500477...|MCaydY5mzxGm2QCqA...|\n",
            "+--------------------+--------------------+---------+--------------------+--------------+--------------------+--------------------+--------------------+\n",
            "\n"
          ],
          "name": "stdout"
        }
      ]
    },
    {
      "cell_type": "code",
      "metadata": {
        "id": "ama3TJnPBC2D",
        "colab_type": "code",
        "colab": {
          "base_uri": "https://localhost:8080/",
          "height": 109
        },
        "outputId": "aea1ffb2-692d-48a6-ef8b-037f8de6e839"
      },
      "source": [
        "spreadsheets = archive.spreadsheets()\n",
        "spreadsheets.show(10, True)"
      ],
      "execution_count": 21,
      "outputs": [
        {
          "output_type": "stream",
          "text": [
            "+---+--------+---------+--------------------+--------------+---+----+-----+\n",
            "|url|filename|extension|mime_type_web_server|mime_type_tika|md5|sha1|bytes|\n",
            "+---+--------+---------+--------------------+--------------+---+----+-----+\n",
            "+---+--------+---------+--------------------+--------------+---+----+-----+\n",
            "\n"
          ],
          "name": "stdout"
        }
      ]
    },
    {
      "cell_type": "code",
      "metadata": {
        "id": "1cIN-aG6BHNe",
        "colab_type": "code",
        "colab": {
          "base_uri": "https://localhost:8080/",
          "height": 127
        },
        "outputId": "8aa53d4d-04f3-45ca-f9cf-26ccd1f4b31f"
      },
      "source": [
        "presentation_program_files = archive.presentation_program()\n",
        "presentation_program_files.show(10, True)"
      ],
      "execution_count": 22,
      "outputs": [
        {
          "output_type": "stream",
          "text": [
            "+--------------------+--------+---------+--------------------+--------------------+--------------------+--------------------+--------------------+\n",
            "|                 url|filename|extension|mime_type_web_server|      mime_type_tika|                 md5|                sha1|               bytes|\n",
            "+--------------------+--------+---------+--------------------+--------------------+--------------------+--------------------+--------------------+\n",
            "|http://www.afn.ca...| aig.pps|      pps|application/vnd.m...|application/vnd.m...|f38d64504487dd373...|b7d60930a981e2bc2...|0M8R4KGxGuEAAAAAA...|\n",
            "+--------------------+--------+---------+--------------------+--------------------+--------------------+--------------------+--------------------+\n",
            "\n"
          ],
          "name": "stdout"
        }
      ]
    },
    {
      "cell_type": "code",
      "metadata": {
        "id": "eqgZ2AEiBPg7",
        "colab_type": "code",
        "colab": {
          "base_uri": "https://localhost:8080/",
          "height": 237
        },
        "outputId": "653a9f75-c17c-4d89-ac48-7fe9e183aed2"
      },
      "source": [
        "word_processor_files = archive.word_processor()\n",
        "word_processor_files.show(10, True)"
      ],
      "execution_count": 23,
      "outputs": [
        {
          "output_type": "stream",
          "text": [
            "+--------------------+--------------------+---------+--------------------+------------------+--------------------+--------------------+--------------------+\n",
            "|                 url|            filename|extension|mime_type_web_server|    mime_type_tika|                 md5|                sha1|               bytes|\n",
            "+--------------------+--------------------+---------+--------------------+------------------+--------------------+--------------------+--------------------+\n",
            "|http://canadianac...|Some_facts_about_...|      doc|  application/msword|application/msword|f35c8570d81a0f4f5...|64378b21c8ea6bce5...|0M8R4KGxGuEAAAAAA...|\n",
            "|http://www.nawl.c...|Pub_Brief_Antiter...|      doc|  application/msword|application/msword|b0528837322957073...|35f8fdc77d6e92b40...|0M8R4KGxGuEAAAAAA...|\n",
            "|http://www.equalv...|       layton-en.doc|      doc|  application/msword|application/msword|3c28c798bfcc25ffe...|f9a0f96ab31de9cdd...|0M8R4KGxGuEAAAAAA...|\n",
            "|http://www.nawl.c...|PRESS_MDStatement...|      doc|  application/msword|application/msword|90b8e4d39a6064042...|0689aa7e30c4bae4b...|0M8R4KGxGuEAAAAAA...|\n",
            "|http://www.nawl.c...|     PE_NAPE_eng.doc|      doc|  application/msword|application/msword|5a89970a7d73535e3...|4d10adca44da9274a...|0M8R4KGxGuEAAAAAA...|\n",
            "|http://www.nawl.c...|PE_Call-Action_en...|      rtf|            text/rtf|   application/rtf|0731efc1a7f99c353...|b071f83583ba93741...|e1xydGYxXGFuc2lcY...|\n",
            "|http://www.nawl.c...|PE_LetterPM_Dec04...|      doc|  application/msword|application/msword|2a5cb54b9f9fa3042...|0f959f7817feb086b...|0M8R4KGxGuEAAAAAA...|\n",
            "+--------------------+--------------------+---------+--------------------+------------------+--------------------+--------------------+--------------------+\n",
            "\n"
          ],
          "name": "stdout"
        }
      ]
    },
    {
      "cell_type": "code",
      "metadata": {
        "id": "0qom-M8HBUxZ",
        "colab_type": "code",
        "colab": {
          "base_uri": "https://localhost:8080/",
          "height": 201
        },
        "outputId": "5d0d5239-699c-4171-e9b6-47c7bc023f14"
      },
      "source": [
        "text_files = archive.text_files()\n",
        "text_files.show(10, True)"
      ],
      "execution_count": 24,
      "outputs": [
        {
          "output_type": "stream",
          "text": [
            "+--------------------+--------------------+---------+--------------------+--------------+--------------------+--------------------+--------------------+\n",
            "|                 url|            filename|extension|mime_type_web_server|mime_type_tika|                 md5|                sha1|               bytes|\n",
            "+--------------------+--------------------+---------+--------------------+--------------+--------------------+--------------------+--------------------+\n",
            "|http://agoracosmo...|            html.mes|      mes|          text/plain|    text/plain|7dee99acd58abc66c...|096c51df2828f49b8...|PGJyPg0KPHA+PGZvb...|\n",
            "|http://agoracosmo...|           html.mes1|     mes1|          text/plain|    text/plain|58c9b7de5042206c3...|ede3e2b202a8f61d5...|PGJyPg0KPHA+PGZvb...|\n",
            "|http://www.noshar...|       HomaCBClQ.WMV|      WMV|          text/plain|video/x-ms-wmv|ef89c319f8ccd119a...|46e34725a78df33d0...|MCaydY5mzxGm2QCqA...|\n",
            "|http://www.conser...|20060411-videogut...|      flv|          text/plain|   video/x-flv|dbba9d1c0b2604e1c...|0c65be85e1fcfb89f...|RkxWAQUAAAAJAAAAA...|\n",
            "|http://www.noshar...|           Aug12.wmv|      wmv|          text/plain|video/x-ms-wmv|07ab22f7cdc3db4e7...|34c5e5dc596500477...|MCaydY5mzxGm2QCqA...|\n",
            "+--------------------+--------------------+---------+--------------------+--------------+--------------------+--------------------+--------------------+\n",
            "\n"
          ],
          "name": "stdout"
        }
      ]
    }
  ]
}