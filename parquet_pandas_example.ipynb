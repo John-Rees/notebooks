{
  "nbformat": 4,
  "nbformat_minor": 0,
  "metadata": {
    "colab": {
      "name": "parquet-pandas-example.ipynb",
      "provenance": [],
      "machine_shape": "hm",
      "include_colab_link": true
    },
    "kernelspec": {
      "name": "python3",
      "display_name": "Python 3"
    }
  },
  "cells": [
    {
      "cell_type": "markdown",
      "metadata": {
        "id": "view-in-github",
        "colab_type": "text"
      },
      "source": [
        "<a href=\"https://colab.research.google.com/github/archivesunleashed/notebooks/blob/master/parquet_pandas_example.ipynb\" target=\"_parent\"><img src=\"https://colab.research.google.com/assets/colab-badge.svg\" alt=\"Open In Colab\"/></a>"
      ]
    },
    {
      "cell_type": "markdown",
      "metadata": {
        "id": "EN0gajhr7pKd",
        "colab_type": "text"
      },
      "source": [
        "# Working with Archives Unleashed Parquet Derivatives\n",
        "\n",
        "In this notebook, we'll setup an enviroment, then download a dataset of web archive collection derivatives that were produced with the [Archives Unleashed Toolkit](https://github.com/archivesunleashed/aut/). These derivatives are in the [Apache Parquet](https://parquet.apache.org/) format, which is a [columnar storage](http://en.wikipedia.org/wiki/Column-oriented_DBMS) format. These derivatives and generally small enough to work with on your local machine, and can be easily converted to Pandas DataFrames as demostrated below.\n",
        "\n",
        "**[Binary Analysis](https://github.com/archivesunleashed/aut-docs/blob/master/current/binary-analysis.md#binary-analysis)**\n",
        "- [Audio](https://github.com/archivesunleashed/aut-docs/blob/master/current/binary-analysis.md#extract-audio-information)\n",
        "- [Images](https://github.com/archivesunleashed/aut-docs/blob/master/current/binary-analysis.md#extract-image-information)\n",
        "- [PDFs](https://github.com/archivesunleashed/aut-docs/blob/master/current/binary-analysis.md#extract-pdf-information)\n",
        "- [Presentation program files](https://github.com/archivesunleashed/aut-docs/blob/master/current/binary-analysis.md#extract-presentation-program-files-information)\n",
        "- [Spreadsheets](https://github.com/archivesunleashed/aut-docs/blob/master/current/binary-analysis.md#extract-spreadsheet-information)\n",
        "- [Text files](https://github.com/archivesunleashed/aut-docs/blob/master/current/binary-analysis.md#extract-text-files-information)\n",
        "- [Videos](https://github.com/archivesunleashed/aut-docs/blob/master/current/binary-analysis.md#extract-video-information)\n",
        "- [Word processor files](https://github.com/archivesunleashed/aut-docs/blob/master/current/binary-analysis.md#extract-word-processor-files-information)\n",
        "\n",
        "**Web Pages**\n",
        "\n",
        "`.webpages()` Produces a DataFrame with the following columns:\n",
        "  - `crawl_date`\n",
        "  - `url`\n",
        "  - `mime_type_web_server`\n",
        "  - `mime_type_tika`\n",
        "  - `content`\n",
        "\n",
        "**Web Graph**\n",
        "\n",
        "`.webgraph()` Produces a DataFrame with the following columns:\n",
        "  - `crawl_date`\n",
        "  - `src`\n",
        "  - `dest`\n",
        "  - `anchor`\n",
        "\n",
        "**Image Links**\n",
        "\n",
        "`.imageLinks()` Produces a DataFrame with the following columns:\n",
        "  - `src`\n",
        "  - `image_url`\n"
      ]
    },
    {
      "cell_type": "markdown",
      "metadata": {
        "id": "OctPUqrG-K2W",
        "colab_type": "text"
      },
      "source": [
        "# Dataset\n",
        "\n",
        "We will need a web archive dataset to work with.\n",
        "\n",
        "The one we'll use in this example notebook comes from [Bibliothèque et Archives nationales du Québec](https://www.banq.qc.ca/accueil/). It is a web archive collection of the Ministry of Environment of Québec (2011-2014), that has been  processed by the [Archives Unleashed Toolkit](https://github.com/archivesunleashed/aut/). Merci beaucoup banq!\n",
        "\n",
        "[![DOI](https://zenodo.org/badge/DOI/10.5281/zenodo.3596786.svg)](https://doi.org/10.5281/zenodo.3596786)\n",
        "\n",
        "\n",
        "Curious about the size the derivative Parquet output compared to the size of the web archive collection?\n",
        "\n",
        "The total size of all 11 Parquet deriatives is 1.5G, with `webpages` being the largest (1.4G) since it has a column with all the text.\n",
        "\n",
        "```\n",
        "948K\t./spreadsheet\n",
        "3.5M\t./image\n",
        "56K\t./audio\n",
        "1.7M\t./word-processor\n",
        "1.4G\t./webpages\n",
        "2.5M\t./video\n",
        "252K\t./text\n",
        "24M\t./webgraph\n",
        "18M\t./imagelinks\n",
        "16K\t./presentation-program\n",
        "3.2M\t./pdf\n",
        "1.5G\t.\n",
        "```\n",
        "\n",
        "The total size of the web archive collection is 165G."
      ]
    },
    {
      "cell_type": "code",
      "metadata": {
        "id": "m3FRzjAYyPid",
        "colab_type": "code",
        "colab": {}
      },
      "source": [
        "%%capture\n",
        "\n",
        "!curl -L \"https://zenodo.org/record/3596786/files/environnement-qc.tar.gz?download=1\" > environment-qc-parquet.tar.gz\n",
        "!tar -xzf environment-qc-parquet.tar.gz"
      ],
      "execution_count": 0,
      "outputs": []
    },
    {
      "cell_type": "code",
      "metadata": {
        "id": "2RK74TCSuIXE",
        "colab_type": "code",
        "outputId": "56a5af3b-ebee-4f9c-9bfd-6b7449c2a898",
        "colab": {
          "base_uri": "https://localhost:8080/",
          "height": 234
        }
      },
      "source": [
        "!ls -1 environnement-qc"
      ],
      "execution_count": 4,
      "outputs": [
        {
          "output_type": "stream",
          "text": [
            "audio\n",
            "image\n",
            "imagelinks\n",
            "pdf\n",
            "presentation-program\n",
            "README\n",
            "spreadsheet\n",
            "text\n",
            "video\n",
            "webgraph\n",
            "webpages\n",
            "word-processor\n"
          ],
          "name": "stdout"
        }
      ]
    },
    {
      "cell_type": "markdown",
      "metadata": {
        "colab_type": "text",
        "id": "JS0T6i4xPTVx"
      },
      "source": [
        "# Environment\n",
        "\n",
        "Next, we'll setup our environment so we can work with the Parquet output with Pandas."
      ]
    },
    {
      "cell_type": "code",
      "metadata": {
        "colab_type": "code",
        "id": "n56-DeEFPTCq",
        "colab": {}
      },
      "source": [
        "import numpy as np\n",
        "import pandas as pd\n",
        "import pyarrow as pa\n",
        "import pyarrow.parquet as pq\n",
        "import matplotlib.pyplot as plt"
      ],
      "execution_count": 0,
      "outputs": []
    },
    {
      "cell_type": "markdown",
      "metadata": {
        "id": "oFAFb2X3_VJC",
        "colab_type": "text"
      },
      "source": [
        "# Loading our Archives Unleashed Datasets as DataFrames\n",
        "\n",
        "Next, we'll load up our datasets to work with, and show a preview of each. We'll load the network, domains, web graph, pages, and images. The remainder of the binary datasets (audio, video, spreadsheets, etc.) will all follow the same pattern as the images dataset, except that they do not have the height and width columns.\n"
      ]
    },
    {
      "cell_type": "markdown",
      "metadata": {
        "id": "SnEntLU0U2ox",
        "colab_type": "text"
      },
      "source": [
        "## Images"
      ]
    },
    {
      "cell_type": "code",
      "metadata": {
        "id": "GhE_Vhv8Awkx",
        "colab_type": "code",
        "outputId": "97a249aa-8146-46e8-f492-f26042aa65a6",
        "colab": {
          "base_uri": "https://localhost:8080/",
          "height": 424
        }
      },
      "source": [
        "images_parquet = pq.read_table('environnement-qc/image')\n",
        "images = images_parquet.to_pandas()\n",
        "images\n",
        "\n"
      ],
      "execution_count": 7,
      "outputs": [
        {
          "output_type": "execute_result",
          "data": {
            "text/html": [
              "<div>\n",
              "<style scoped>\n",
              "    .dataframe tbody tr th:only-of-type {\n",
              "        vertical-align: middle;\n",
              "    }\n",
              "\n",
              "    .dataframe tbody tr th {\n",
              "        vertical-align: top;\n",
              "    }\n",
              "\n",
              "    .dataframe thead th {\n",
              "        text-align: right;\n",
              "    }\n",
              "</style>\n",
              "<table border=\"1\" class=\"dataframe\">\n",
              "  <thead>\n",
              "    <tr style=\"text-align: right;\">\n",
              "      <th></th>\n",
              "      <th>url</th>\n",
              "      <th>filename</th>\n",
              "      <th>extension</th>\n",
              "      <th>mime_type_web_server</th>\n",
              "      <th>mime_type_tika</th>\n",
              "      <th>width</th>\n",
              "      <th>height</th>\n",
              "      <th>md5</th>\n",
              "    </tr>\n",
              "  </thead>\n",
              "  <tbody>\n",
              "    <tr>\n",
              "      <th>0</th>\n",
              "      <td>http://www.mddelcc.gouv.qc.ca/pesticides/jardi...</td>\n",
              "      <td>mille-clop-carabe.jpg</td>\n",
              "      <td>jpg</td>\n",
              "      <td>image/jpeg</td>\n",
              "      <td>image/jpeg</td>\n",
              "      <td>151</td>\n",
              "      <td>150</td>\n",
              "      <td>fff9b162031400d2dc96ec30284f580e</td>\n",
              "    </tr>\n",
              "    <tr>\n",
              "      <th>1</th>\n",
              "      <td>http://www.mddep.gouv.qc.ca//pesticides/jardin...</td>\n",
              "      <td>mille-clop-carabe.jpg</td>\n",
              "      <td>jpg</td>\n",
              "      <td>image/jpeg</td>\n",
              "      <td>image/jpeg</td>\n",
              "      <td>151</td>\n",
              "      <td>150</td>\n",
              "      <td>fff9b162031400d2dc96ec30284f580e</td>\n",
              "    </tr>\n",
              "    <tr>\n",
              "      <th>2</th>\n",
              "      <td>http://www.mddefp.gouv.qc.ca////pesticides/jar...</td>\n",
              "      <td>mille-clop-carabe.jpg</td>\n",
              "      <td>jpg</td>\n",
              "      <td>image/jpeg</td>\n",
              "      <td>image/jpeg</td>\n",
              "      <td>151</td>\n",
              "      <td>150</td>\n",
              "      <td>fff9b162031400d2dc96ec30284f580e</td>\n",
              "    </tr>\n",
              "    <tr>\n",
              "      <th>3</th>\n",
              "      <td>http://www.mddefp.gouv.qc.ca////pesticides/jar...</td>\n",
              "      <td>mille-clop-carabe.jpg</td>\n",
              "      <td>jpg</td>\n",
              "      <td>image/jpeg</td>\n",
              "      <td>image/jpeg</td>\n",
              "      <td>151</td>\n",
              "      <td>150</td>\n",
              "      <td>fff9b162031400d2dc96ec30284f580e</td>\n",
              "    </tr>\n",
              "    <tr>\n",
              "      <th>4</th>\n",
              "      <td>http://www.mddep.gouv.qc.ca/pesticides/jardine...</td>\n",
              "      <td>mille-clop-carabe.jpg</td>\n",
              "      <td>jpg</td>\n",
              "      <td>image/jpeg</td>\n",
              "      <td>image/jpeg</td>\n",
              "      <td>151</td>\n",
              "      <td>150</td>\n",
              "      <td>fff9b162031400d2dc96ec30284f580e</td>\n",
              "    </tr>\n",
              "    <tr>\n",
              "      <th>...</th>\n",
              "      <td>...</td>\n",
              "      <td>...</td>\n",
              "      <td>...</td>\n",
              "      <td>...</td>\n",
              "      <td>...</td>\n",
              "      <td>...</td>\n",
              "      <td>...</td>\n",
              "      <td>...</td>\n",
              "    </tr>\n",
              "    <tr>\n",
              "      <th>128294</th>\n",
              "      <td>http://mddep.gouv.qc.ca///biodiversite/habitat...</td>\n",
              "      <td>image-ile-G.jpg</td>\n",
              "      <td>jpg</td>\n",
              "      <td>image/jpeg</td>\n",
              "      <td>image/jpeg</td>\n",
              "      <td>375</td>\n",
              "      <td>500</td>\n",
              "      <td>000175bcfb5be374c5f8da05bfe49dc8</td>\n",
              "    </tr>\n",
              "    <tr>\n",
              "      <th>128295</th>\n",
              "      <td>http://mddep.gouv.qc.ca//biodiversite/habitats...</td>\n",
              "      <td>image-ile-G.jpg</td>\n",
              "      <td>jpg</td>\n",
              "      <td>image/jpeg</td>\n",
              "      <td>image/jpeg</td>\n",
              "      <td>375</td>\n",
              "      <td>500</td>\n",
              "      <td>000175bcfb5be374c5f8da05bfe49dc8</td>\n",
              "    </tr>\n",
              "    <tr>\n",
              "      <th>128296</th>\n",
              "      <td>http://www.mddep.gouv.qc.ca/biodiversite/habit...</td>\n",
              "      <td>image-ile-G.jpg</td>\n",
              "      <td>jpg</td>\n",
              "      <td>image/jpeg</td>\n",
              "      <td>image/jpeg</td>\n",
              "      <td>375</td>\n",
              "      <td>500</td>\n",
              "      <td>000175bcfb5be374c5f8da05bfe49dc8</td>\n",
              "    </tr>\n",
              "    <tr>\n",
              "      <th>128297</th>\n",
              "      <td>http://mddep.gouv.qc.ca////biodiversite/habita...</td>\n",
              "      <td>image-ile-G.jpg</td>\n",
              "      <td>jpg</td>\n",
              "      <td>image/jpeg</td>\n",
              "      <td>image/jpeg</td>\n",
              "      <td>375</td>\n",
              "      <td>500</td>\n",
              "      <td>000175bcfb5be374c5f8da05bfe49dc8</td>\n",
              "    </tr>\n",
              "    <tr>\n",
              "      <th>128298</th>\n",
              "      <td>http://www.mddefp.gouv.qc.ca//biodiversite/hab...</td>\n",
              "      <td>image-ile-G.jpg</td>\n",
              "      <td>jpg</td>\n",
              "      <td>image/jpeg</td>\n",
              "      <td>image/jpeg</td>\n",
              "      <td>375</td>\n",
              "      <td>500</td>\n",
              "      <td>000175bcfb5be374c5f8da05bfe49dc8</td>\n",
              "    </tr>\n",
              "  </tbody>\n",
              "</table>\n",
              "<p>128299 rows × 8 columns</p>\n",
              "</div>"
            ],
            "text/plain": [
              "                                                      url  ...                               md5\n",
              "0       http://www.mddelcc.gouv.qc.ca/pesticides/jardi...  ...  fff9b162031400d2dc96ec30284f580e\n",
              "1       http://www.mddep.gouv.qc.ca//pesticides/jardin...  ...  fff9b162031400d2dc96ec30284f580e\n",
              "2       http://www.mddefp.gouv.qc.ca////pesticides/jar...  ...  fff9b162031400d2dc96ec30284f580e\n",
              "3       http://www.mddefp.gouv.qc.ca////pesticides/jar...  ...  fff9b162031400d2dc96ec30284f580e\n",
              "4       http://www.mddep.gouv.qc.ca/pesticides/jardine...  ...  fff9b162031400d2dc96ec30284f580e\n",
              "...                                                   ...  ...                               ...\n",
              "128294  http://mddep.gouv.qc.ca///biodiversite/habitat...  ...  000175bcfb5be374c5f8da05bfe49dc8\n",
              "128295  http://mddep.gouv.qc.ca//biodiversite/habitats...  ...  000175bcfb5be374c5f8da05bfe49dc8\n",
              "128296  http://www.mddep.gouv.qc.ca/biodiversite/habit...  ...  000175bcfb5be374c5f8da05bfe49dc8\n",
              "128297  http://mddep.gouv.qc.ca////biodiversite/habita...  ...  000175bcfb5be374c5f8da05bfe49dc8\n",
              "128298  http://www.mddefp.gouv.qc.ca//biodiversite/hab...  ...  000175bcfb5be374c5f8da05bfe49dc8\n",
              "\n",
              "[128299 rows x 8 columns]"
            ]
          },
          "metadata": {
            "tags": []
          },
          "execution_count": 7
        }
      ]
    },
    {
      "cell_type": "markdown",
      "metadata": {
        "id": "y5CmfUPNVAQH",
        "colab_type": "text"
      },
      "source": [
        "## Web Graph"
      ]
    },
    {
      "cell_type": "code",
      "metadata": {
        "id": "-YKUCY_izzT8",
        "colab_type": "code",
        "outputId": "22d611cd-0e2e-4026-d098-1a68f581c932",
        "colab": {
          "base_uri": "https://localhost:8080/",
          "height": 424
        }
      },
      "source": [
        "webgraph_parquet = pq.read_table('environnement-qc/webgraph')\n",
        "webgraph = webgraph_parquet.to_pandas()\n",
        "webgraph"
      ],
      "execution_count": 9,
      "outputs": [
        {
          "output_type": "execute_result",
          "data": {
            "text/html": [
              "<div>\n",
              "<style scoped>\n",
              "    .dataframe tbody tr th:only-of-type {\n",
              "        vertical-align: middle;\n",
              "    }\n",
              "\n",
              "    .dataframe tbody tr th {\n",
              "        vertical-align: top;\n",
              "    }\n",
              "\n",
              "    .dataframe thead th {\n",
              "        text-align: right;\n",
              "    }\n",
              "</style>\n",
              "<table border=\"1\" class=\"dataframe\">\n",
              "  <thead>\n",
              "    <tr style=\"text-align: right;\">\n",
              "      <th></th>\n",
              "      <th>crawl_date</th>\n",
              "      <th>src</th>\n",
              "      <th>dest</th>\n",
              "      <th>anchor</th>\n",
              "    </tr>\n",
              "  </thead>\n",
              "  <tbody>\n",
              "    <tr>\n",
              "      <th>0</th>\n",
              "      <td>20140509</td>\n",
              "      <td>http://www.mddefp.gouv.qc.ca////infuseur/commu...</td>\n",
              "      <td>http://www.mddefp.gouv.qc.ca/communiques/2013/...</td>\n",
              "      <td>Estimation au 24 juillet 2013 des quantit�s de...</td>\n",
              "    </tr>\n",
              "    <tr>\n",
              "      <th>1</th>\n",
              "      <td>20140509</td>\n",
              "      <td>http://www.mddefp.gouv.qc.ca////infuseur/commu...</td>\n",
              "      <td>http://recherched.gouv.qc.ca/internet/search.d...</td>\n",
              "      <td>Recherche</td>\n",
              "    </tr>\n",
              "    <tr>\n",
              "      <th>2</th>\n",
              "      <td>20140509</td>\n",
              "      <td>http://www.mddefp.gouv.qc.ca////infuseur/commu...</td>\n",
              "      <td>http://www.gouv.qc.ca/</td>\n",
              "      <td></td>\n",
              "    </tr>\n",
              "    <tr>\n",
              "      <th>3</th>\n",
              "      <td>20140509</td>\n",
              "      <td>http://www.mddefp.gouv.qc.ca////infuseur/commu...</td>\n",
              "      <td>http://www.droitauteur.gouv.qc.ca/copyright.php</td>\n",
              "      <td>� Gouvernement du Qu�bec, 2002</td>\n",
              "    </tr>\n",
              "    <tr>\n",
              "      <th>4</th>\n",
              "      <td>20140509</td>\n",
              "      <td>http://www.mddefp.gouv.qc.ca////infuseur/commu...</td>\n",
              "      <td>http://recherched.gouv.qc.ca/internet/search.d...</td>\n",
              "      <td>Recherche</td>\n",
              "    </tr>\n",
              "    <tr>\n",
              "      <th>...</th>\n",
              "      <td>...</td>\n",
              "      <td>...</td>\n",
              "      <td>...</td>\n",
              "      <td>...</td>\n",
              "    </tr>\n",
              "    <tr>\n",
              "      <th>1124520</th>\n",
              "      <td>20160419</td>\n",
              "      <td>http://www.mddelcc.gouv.qc.ca/publications/200...</td>\n",
              "      <td>http://www.droitauteur.gouv.qc.ca/copyright.php</td>\n",
              "      <td>� Gouvernement du Qu�bec, 2015</td>\n",
              "    </tr>\n",
              "    <tr>\n",
              "      <th>1124521</th>\n",
              "      <td>20160419</td>\n",
              "      <td>http://www.mddelcc.gouv.qc.ca/publications/200...</td>\n",
              "      <td>http://www.gouv.qc.ca/</td>\n",
              "      <td></td>\n",
              "    </tr>\n",
              "    <tr>\n",
              "      <th>1124522</th>\n",
              "      <td>20160419</td>\n",
              "      <td>http://www.mddelcc.gouv.qc.ca/publications/200...</td>\n",
              "      <td>http://www.droitauteur.gouv.qc.ca/copyright.php</td>\n",
              "      <td>� Gouvernement du Qu�bec, 2015</td>\n",
              "    </tr>\n",
              "    <tr>\n",
              "      <th>1124523</th>\n",
              "      <td>20160419</td>\n",
              "      <td>http://www.mddelcc.gouv.qc.ca/publications/200...</td>\n",
              "      <td>http://www.gouv.qc.ca/</td>\n",
              "      <td></td>\n",
              "    </tr>\n",
              "    <tr>\n",
              "      <th>1124524</th>\n",
              "      <td>20160419</td>\n",
              "      <td>http://www.mddelcc.gouv.qc.ca/publications/200...</td>\n",
              "      <td>http://www.droitauteur.gouv.qc.ca/copyright.php</td>\n",
              "      <td>� Gouvernement du Qu�bec, 2015</td>\n",
              "    </tr>\n",
              "  </tbody>\n",
              "</table>\n",
              "<p>1124525 rows × 4 columns</p>\n",
              "</div>"
            ],
            "text/plain": [
              "        crawl_date  ...                                             anchor\n",
              "0         20140509  ...  Estimation au 24 juillet 2013 des quantit�s de...\n",
              "1         20140509  ...                                          Recherche\n",
              "2         20140509  ...                                                   \n",
              "3         20140509  ...                     � Gouvernement du Qu�bec, 2002\n",
              "4         20140509  ...                                          Recherche\n",
              "...            ...  ...                                                ...\n",
              "1124520   20160419  ...                     � Gouvernement du Qu�bec, 2015\n",
              "1124521   20160419  ...                                                   \n",
              "1124522   20160419  ...                     � Gouvernement du Qu�bec, 2015\n",
              "1124523   20160419  ...                                                   \n",
              "1124524   20160419  ...                     � Gouvernement du Qu�bec, 2015\n",
              "\n",
              "[1124525 rows x 4 columns]"
            ]
          },
          "metadata": {
            "tags": []
          },
          "execution_count": 9
        }
      ]
    },
    {
      "cell_type": "markdown",
      "metadata": {
        "id": "cio0EbS7VCNU",
        "colab_type": "text"
      },
      "source": [
        "## Pages"
      ]
    },
    {
      "cell_type": "code",
      "metadata": {
        "id": "rtGAFAxV0NnB",
        "colab_type": "code",
        "outputId": "64c55c51-02c6-40fd-bf43-0e666ec71b06",
        "colab": {
          "base_uri": "https://localhost:8080/",
          "height": 424
        }
      },
      "source": [
        "pages_parquet = pq.read_table('environnement-qc/webpages')\n",
        "pages = pages_parquet.to_pandas()\n",
        "pages"
      ],
      "execution_count": 10,
      "outputs": [
        {
          "output_type": "execute_result",
          "data": {
            "text/html": [
              "<div>\n",
              "<style scoped>\n",
              "    .dataframe tbody tr th:only-of-type {\n",
              "        vertical-align: middle;\n",
              "    }\n",
              "\n",
              "    .dataframe tbody tr th {\n",
              "        vertical-align: top;\n",
              "    }\n",
              "\n",
              "    .dataframe thead th {\n",
              "        text-align: right;\n",
              "    }\n",
              "</style>\n",
              "<table border=\"1\" class=\"dataframe\">\n",
              "  <thead>\n",
              "    <tr style=\"text-align: right;\">\n",
              "      <th></th>\n",
              "      <th>crawl_date</th>\n",
              "      <th>url</th>\n",
              "      <th>mime_type_web_server</th>\n",
              "      <th>mime_type_tika</th>\n",
              "      <th>content</th>\n",
              "    </tr>\n",
              "  </thead>\n",
              "  <tbody>\n",
              "    <tr>\n",
              "      <th>0</th>\n",
              "      <td>20140509</td>\n",
              "      <td>http://www.mddefp.gouv.qc.ca////infuseur/commu...</td>\n",
              "      <td>text/html</td>\n",
              "      <td>text/html</td>\n",
              "      <td>HTTP/1.1 200 OK\\r\\nConnection: close\\r\\nDate: ...</td>\n",
              "    </tr>\n",
              "    <tr>\n",
              "      <th>1</th>\n",
              "      <td>20140509</td>\n",
              "      <td>http://www.mddefp.gouv.qc.ca////infuseur/commu...</td>\n",
              "      <td>text/html</td>\n",
              "      <td>text/html</td>\n",
              "      <td>HTTP/1.1 200 OK\\r\\nConnection: close\\r\\nDate: ...</td>\n",
              "    </tr>\n",
              "    <tr>\n",
              "      <th>2</th>\n",
              "      <td>20140509</td>\n",
              "      <td>http://www.mddefp.gouv.qc.ca////infuseur/commu...</td>\n",
              "      <td>text/html</td>\n",
              "      <td>text/html</td>\n",
              "      <td>HTTP/1.1 200 OK\\r\\nConnection: close\\r\\nDate: ...</td>\n",
              "    </tr>\n",
              "    <tr>\n",
              "      <th>3</th>\n",
              "      <td>20140509</td>\n",
              "      <td>http://www.mddefp.gouv.qc.ca////infuseur/commu...</td>\n",
              "      <td>text/html</td>\n",
              "      <td>text/html</td>\n",
              "      <td>HTTP/1.1 200 OK\\r\\nConnection: close\\r\\nDate: ...</td>\n",
              "    </tr>\n",
              "    <tr>\n",
              "      <th>4</th>\n",
              "      <td>20140509</td>\n",
              "      <td>http://www.mddefp.gouv.qc.ca////infuseur/commu...</td>\n",
              "      <td>text/html</td>\n",
              "      <td>text/html</td>\n",
              "      <td>HTTP/1.1 200 OK\\r\\nConnection: close\\r\\nDate: ...</td>\n",
              "    </tr>\n",
              "    <tr>\n",
              "      <th>...</th>\n",
              "      <td>...</td>\n",
              "      <td>...</td>\n",
              "      <td>...</td>\n",
              "      <td>...</td>\n",
              "      <td>...</td>\n",
              "    </tr>\n",
              "    <tr>\n",
              "      <th>322336</th>\n",
              "      <td>20160419</td>\n",
              "      <td>http://www.mddelcc.gouv.qc.ca/publications/200...</td>\n",
              "      <td>text/html</td>\n",
              "      <td>text/html</td>\n",
              "      <td>HTTP/1.1 200 OK\\r\\nConnection: close\\r\\nDate: ...</td>\n",
              "    </tr>\n",
              "    <tr>\n",
              "      <th>322337</th>\n",
              "      <td>20160419</td>\n",
              "      <td>http://www.mddelcc.gouv.qc.ca/publications/199...</td>\n",
              "      <td>text/html</td>\n",
              "      <td>text/html</td>\n",
              "      <td>HTTP/1.1 200 OK\\r\\nConnection: close\\r\\nDate: ...</td>\n",
              "    </tr>\n",
              "    <tr>\n",
              "      <th>322338</th>\n",
              "      <td>20160419</td>\n",
              "      <td>http://www.mddelcc.gouv.qc.ca/publications/200...</td>\n",
              "      <td>text/html</td>\n",
              "      <td>text/html</td>\n",
              "      <td>HTTP/1.1 200 OK\\r\\nConnection: close\\r\\nDate: ...</td>\n",
              "    </tr>\n",
              "    <tr>\n",
              "      <th>322339</th>\n",
              "      <td>20160419</td>\n",
              "      <td>http://www.mddelcc.gouv.qc.ca/publications/200...</td>\n",
              "      <td>text/html</td>\n",
              "      <td>text/html</td>\n",
              "      <td>HTTP/1.1 200 OK\\r\\nConnection: close\\r\\nDate: ...</td>\n",
              "    </tr>\n",
              "    <tr>\n",
              "      <th>322340</th>\n",
              "      <td>20160419</td>\n",
              "      <td>http://www.mddelcc.gouv.qc.ca/publications/200...</td>\n",
              "      <td>text/html</td>\n",
              "      <td>text/html</td>\n",
              "      <td>HTTP/1.1 200 OK\\r\\nConnection: close\\r\\nDate: ...</td>\n",
              "    </tr>\n",
              "  </tbody>\n",
              "</table>\n",
              "<p>322341 rows × 5 columns</p>\n",
              "</div>"
            ],
            "text/plain": [
              "       crawl_date  ...                                            content\n",
              "0        20140509  ...  HTTP/1.1 200 OK\\r\\nConnection: close\\r\\nDate: ...\n",
              "1        20140509  ...  HTTP/1.1 200 OK\\r\\nConnection: close\\r\\nDate: ...\n",
              "2        20140509  ...  HTTP/1.1 200 OK\\r\\nConnection: close\\r\\nDate: ...\n",
              "3        20140509  ...  HTTP/1.1 200 OK\\r\\nConnection: close\\r\\nDate: ...\n",
              "4        20140509  ...  HTTP/1.1 200 OK\\r\\nConnection: close\\r\\nDate: ...\n",
              "...           ...  ...                                                ...\n",
              "322336   20160419  ...  HTTP/1.1 200 OK\\r\\nConnection: close\\r\\nDate: ...\n",
              "322337   20160419  ...  HTTP/1.1 200 OK\\r\\nConnection: close\\r\\nDate: ...\n",
              "322338   20160419  ...  HTTP/1.1 200 OK\\r\\nConnection: close\\r\\nDate: ...\n",
              "322339   20160419  ...  HTTP/1.1 200 OK\\r\\nConnection: close\\r\\nDate: ...\n",
              "322340   20160419  ...  HTTP/1.1 200 OK\\r\\nConnection: close\\r\\nDate: ...\n",
              "\n",
              "[322341 rows x 5 columns]"
            ]
          },
          "metadata": {
            "tags": []
          },
          "execution_count": 10
        }
      ]
    },
    {
      "cell_type": "markdown",
      "metadata": {
        "id": "3HPwOCNAvqMe",
        "colab_type": "text"
      },
      "source": [
        "# Data Analysis\n",
        "\n",
        "Now that we have all of our datasets loaded up, we can begin to work with it!"
      ]
    },
    {
      "cell_type": "markdown",
      "metadata": {
        "id": "J6Pkg0prv3BE",
        "colab_type": "text"
      },
      "source": [
        "## Counting total files, and unique files\n"
      ]
    },
    {
      "cell_type": "markdown",
      "metadata": {
        "id": "DFX4Gl3wv7bi",
        "colab_type": "text"
      },
      "source": [
        "\n",
        "#### Count number of rows (how many images are in the web archive collection).\n"
      ]
    },
    {
      "cell_type": "code",
      "metadata": {
        "id": "bn-1v127aKIG",
        "colab_type": "code",
        "outputId": "0009e6fa-1db8-4f89-8bac-e174ed9c0764",
        "colab": {
          "base_uri": "https://localhost:8080/",
          "height": 180
        }
      },
      "source": [
        "images.count()"
      ],
      "execution_count": 11,
      "outputs": [
        {
          "output_type": "execute_result",
          "data": {
            "text/plain": [
              "url                     128299\n",
              "filename                128299\n",
              "extension               128299\n",
              "mime_type_web_server    128299\n",
              "mime_type_tika          128299\n",
              "width                   128299\n",
              "height                  128299\n",
              "md5                     128299\n",
              "dtype: int64"
            ]
          },
          "metadata": {
            "tags": []
          },
          "execution_count": 11
        }
      ]
    },
    {
      "cell_type": "markdown",
      "metadata": {
        "id": "38veKiPhwKo4",
        "colab_type": "text"
      },
      "source": [
        " #### How many unique images are in the collection?\n",
        "\n",
        "\n"
      ]
    },
    {
      "cell_type": "code",
      "metadata": {
        "id": "WesM3kQowM5B",
        "colab_type": "code",
        "outputId": "fab9d8ac-7fae-4542-8736-cb893fa57931",
        "colab": {
          "base_uri": "https://localhost:8080/",
          "height": 35
        }
      },
      "source": [
        "len(images.md5.unique())"
      ],
      "execution_count": 12,
      "outputs": [
        {
          "output_type": "execute_result",
          "data": {
            "text/plain": [
              "9282"
            ]
          },
          "metadata": {
            "tags": []
          },
          "execution_count": 12
        }
      ]
    },
    {
      "cell_type": "markdown",
      "metadata": {
        "id": "ZIXkI0-1wWQf",
        "colab_type": "text"
      },
      "source": [
        "#### What are the top 10 most occuring images in the collection?"
      ]
    },
    {
      "cell_type": "code",
      "metadata": {
        "id": "8Ts03OFyjPIM",
        "colab_type": "code",
        "outputId": "adf80a4d-c248-451a-d6ce-9d80056b2bba",
        "colab": {
          "base_uri": "https://localhost:8080/",
          "height": 216
        }
      },
      "source": [
        "images['md5'].value_counts().head(10)"
      ],
      "execution_count": 14,
      "outputs": [
        {
          "output_type": "execute_result",
          "data": {
            "text/plain": [
              "e7d1f7750c16bc835bf1cfe1bf322d46    168\n",
              "5283d313972a24f0e71c47ae3c99958b    168\n",
              "a4d3ddfb1a95e87650c624660d67765a    168\n",
              "b09dc3225d5e1377c52c06feddc33bfe    168\n",
              "497db34fffa0e278f57ae614b4b758a0     54\n",
              "89663337857f6d769fbcaed7278cc925     52\n",
              "58e5d8676dfcc4205551314d98fb2624     51\n",
              "a8e006b69336ea12b293a62b2f9d330f     48\n",
              "1f5794b728c6a7e101c472eeb30fce60     48\n",
              "4098b0699d95df5f31a43420ba8e1f87     47\n",
              "Name: md5, dtype: int64"
            ]
          },
          "metadata": {
            "tags": []
          },
          "execution_count": 14
        }
      ]
    },
    {
      "cell_type": "markdown",
      "metadata": {
        "id": "FG7pGZUEwlaI",
        "colab_type": "text"
      },
      "source": [
        "\n",
        "#### What's the information around all of the occurances of `5283d313972a24f0e71c47ae3c99958b`?\n"
      ]
    },
    {
      "cell_type": "code",
      "metadata": {
        "id": "msmmm65lkSIK",
        "colab_type": "code",
        "outputId": "b95db9c6-4994-4216-9c04-9de2041b817a",
        "colab": {
          "base_uri": "https://localhost:8080/",
          "height": 424
        }
      },
      "source": [
        "images.loc[images['md5'] == '5283d313972a24f0e71c47ae3c99958b']"
      ],
      "execution_count": 15,
      "outputs": [
        {
          "output_type": "execute_result",
          "data": {
            "text/html": [
              "<div>\n",
              "<style scoped>\n",
              "    .dataframe tbody tr th:only-of-type {\n",
              "        vertical-align: middle;\n",
              "    }\n",
              "\n",
              "    .dataframe tbody tr th {\n",
              "        vertical-align: top;\n",
              "    }\n",
              "\n",
              "    .dataframe thead th {\n",
              "        text-align: right;\n",
              "    }\n",
              "</style>\n",
              "<table border=\"1\" class=\"dataframe\">\n",
              "  <thead>\n",
              "    <tr style=\"text-align: right;\">\n",
              "      <th></th>\n",
              "      <th>url</th>\n",
              "      <th>filename</th>\n",
              "      <th>extension</th>\n",
              "      <th>mime_type_web_server</th>\n",
              "      <th>mime_type_tika</th>\n",
              "      <th>width</th>\n",
              "      <th>height</th>\n",
              "      <th>md5</th>\n",
              "    </tr>\n",
              "  </thead>\n",
              "  <tbody>\n",
              "    <tr>\n",
              "      <th>86127</th>\n",
              "      <td>http://www.mddefp.gouv.qc.ca//poissons/st-char...</td>\n",
              "      <td>tumeur.jpg</td>\n",
              "      <td>jpg</td>\n",
              "      <td>image/jpeg</td>\n",
              "      <td>image/jpeg</td>\n",
              "      <td>310</td>\n",
              "      <td>220</td>\n",
              "      <td>5283d313972a24f0e71c47ae3c99958b</td>\n",
              "    </tr>\n",
              "    <tr>\n",
              "      <th>86128</th>\n",
              "      <td>http://www.mddep.gouv.qc.ca/poissons/yamaska/t...</td>\n",
              "      <td>tumeur.jpg</td>\n",
              "      <td>jpg</td>\n",
              "      <td>image/jpeg</td>\n",
              "      <td>image/jpeg</td>\n",
              "      <td>310</td>\n",
              "      <td>220</td>\n",
              "      <td>5283d313972a24f0e71c47ae3c99958b</td>\n",
              "    </tr>\n",
              "    <tr>\n",
              "      <th>86129</th>\n",
              "      <td>http://mddefp.gouv.qc.ca/poissons/st-maurice/t...</td>\n",
              "      <td>tumeur.jpg</td>\n",
              "      <td>jpg</td>\n",
              "      <td>image/jpeg</td>\n",
              "      <td>image/jpeg</td>\n",
              "      <td>310</td>\n",
              "      <td>220</td>\n",
              "      <td>5283d313972a24f0e71c47ae3c99958b</td>\n",
              "    </tr>\n",
              "    <tr>\n",
              "      <th>86130</th>\n",
              "      <td>http://mddefp.gouv.qc.ca/poissons/st-francois/...</td>\n",
              "      <td>tumeur.jpg</td>\n",
              "      <td>jpg</td>\n",
              "      <td>image/jpeg</td>\n",
              "      <td>image/jpeg</td>\n",
              "      <td>310</td>\n",
              "      <td>220</td>\n",
              "      <td>5283d313972a24f0e71c47ae3c99958b</td>\n",
              "    </tr>\n",
              "    <tr>\n",
              "      <th>86131</th>\n",
              "      <td>http://mddefp.gouv.qc.ca/poissons/chateauguay/...</td>\n",
              "      <td>tumeur.jpg</td>\n",
              "      <td>jpg</td>\n",
              "      <td>image/jpeg</td>\n",
              "      <td>image/jpeg</td>\n",
              "      <td>310</td>\n",
              "      <td>220</td>\n",
              "      <td>5283d313972a24f0e71c47ae3c99958b</td>\n",
              "    </tr>\n",
              "    <tr>\n",
              "      <th>...</th>\n",
              "      <td>...</td>\n",
              "      <td>...</td>\n",
              "      <td>...</td>\n",
              "      <td>...</td>\n",
              "      <td>...</td>\n",
              "      <td>...</td>\n",
              "      <td>...</td>\n",
              "      <td>...</td>\n",
              "    </tr>\n",
              "    <tr>\n",
              "      <th>86290</th>\n",
              "      <td>http://www.mddelcc.gouv.qc.ca//poissons/yamask...</td>\n",
              "      <td>tumeur.jpg</td>\n",
              "      <td>jpg</td>\n",
              "      <td>image/jpeg</td>\n",
              "      <td>image/jpeg</td>\n",
              "      <td>310</td>\n",
              "      <td>220</td>\n",
              "      <td>5283d313972a24f0e71c47ae3c99958b</td>\n",
              "    </tr>\n",
              "    <tr>\n",
              "      <th>86291</th>\n",
              "      <td>http://www.mddelcc.gouv.qc.ca//poissons/assomp...</td>\n",
              "      <td>tumeur.jpg</td>\n",
              "      <td>jpg</td>\n",
              "      <td>image/jpeg</td>\n",
              "      <td>image/jpeg</td>\n",
              "      <td>310</td>\n",
              "      <td>220</td>\n",
              "      <td>5283d313972a24f0e71c47ae3c99958b</td>\n",
              "    </tr>\n",
              "    <tr>\n",
              "      <th>86292</th>\n",
              "      <td>http://www.mddelcc.gouv.qc.ca//poissons/st-fra...</td>\n",
              "      <td>tumeur.jpg</td>\n",
              "      <td>jpg</td>\n",
              "      <td>image/jpeg</td>\n",
              "      <td>image/jpeg</td>\n",
              "      <td>310</td>\n",
              "      <td>220</td>\n",
              "      <td>5283d313972a24f0e71c47ae3c99958b</td>\n",
              "    </tr>\n",
              "    <tr>\n",
              "      <th>86293</th>\n",
              "      <td>http://www.mddep.gouv.qc.ca/poissons/st-franco...</td>\n",
              "      <td>tumeur.jpg</td>\n",
              "      <td>jpg</td>\n",
              "      <td>image/jpeg</td>\n",
              "      <td>image/jpeg</td>\n",
              "      <td>310</td>\n",
              "      <td>220</td>\n",
              "      <td>5283d313972a24f0e71c47ae3c99958b</td>\n",
              "    </tr>\n",
              "    <tr>\n",
              "      <th>86294</th>\n",
              "      <td>http://www.mddep.gouv.qc.ca//poissons/yamaska/...</td>\n",
              "      <td>tumeur.jpg</td>\n",
              "      <td>jpg</td>\n",
              "      <td>image/jpeg</td>\n",
              "      <td>image/jpeg</td>\n",
              "      <td>310</td>\n",
              "      <td>220</td>\n",
              "      <td>5283d313972a24f0e71c47ae3c99958b</td>\n",
              "    </tr>\n",
              "  </tbody>\n",
              "</table>\n",
              "<p>168 rows × 8 columns</p>\n",
              "</div>"
            ],
            "text/plain": [
              "                                                     url  ...                               md5\n",
              "86127  http://www.mddefp.gouv.qc.ca//poissons/st-char...  ...  5283d313972a24f0e71c47ae3c99958b\n",
              "86128  http://www.mddep.gouv.qc.ca/poissons/yamaska/t...  ...  5283d313972a24f0e71c47ae3c99958b\n",
              "86129  http://mddefp.gouv.qc.ca/poissons/st-maurice/t...  ...  5283d313972a24f0e71c47ae3c99958b\n",
              "86130  http://mddefp.gouv.qc.ca/poissons/st-francois/...  ...  5283d313972a24f0e71c47ae3c99958b\n",
              "86131  http://mddefp.gouv.qc.ca/poissons/chateauguay/...  ...  5283d313972a24f0e71c47ae3c99958b\n",
              "...                                                  ...  ...                               ...\n",
              "86290  http://www.mddelcc.gouv.qc.ca//poissons/yamask...  ...  5283d313972a24f0e71c47ae3c99958b\n",
              "86291  http://www.mddelcc.gouv.qc.ca//poissons/assomp...  ...  5283d313972a24f0e71c47ae3c99958b\n",
              "86292  http://www.mddelcc.gouv.qc.ca//poissons/st-fra...  ...  5283d313972a24f0e71c47ae3c99958b\n",
              "86293  http://www.mddep.gouv.qc.ca/poissons/st-franco...  ...  5283d313972a24f0e71c47ae3c99958b\n",
              "86294  http://www.mddep.gouv.qc.ca//poissons/yamaska/...  ...  5283d313972a24f0e71c47ae3c99958b\n",
              "\n",
              "[168 rows x 8 columns]"
            ]
          },
          "metadata": {
            "tags": []
          },
          "execution_count": 15
        }
      ]
    },
    {
      "cell_type": "markdown",
      "metadata": {
        "id": "kE-8epARIG0-",
        "colab_type": "text"
      },
      "source": [
        "### What does `5283d313972a24f0e71c47ae3c99958b` look like?\n",
        "\n",
        "We can extract the binary from the web archive using our [binary extraction functions](https://github.com/archivesunleashed/aut-docs-new/blob/master/current/image-analysis.md#scala-df).\n",
        "\n",
        "```scala\n",
        "import io.archivesunleashed._\n",
        "import io.archivesunleashed.matchbox._\n",
        "\n",
        "val df = RecordLoader\n",
        "  .loadArchives(\"example.arc.gz\", sc)\n",
        "  .extractImageDetailsDF();\n",
        "\n",
        "df.select($\"bytes\", $\"extension\")\n",
        "  .saveToDisk(\"bytes\", \"/path/to/export/directory/your-preferred-filename-prefix\", $\"extension\")\n",
        "```\n",
        "\n",
        "But! Since we don't have access to the WARC files here, just the Parquet derivatives, we can make do with that by trying to display a live web version of the image, or a replay URL. In this case, BANQ's replay service is available at [https://waext.banq.qc.ca](https://waext.banq.qc.ca).\n",
        "\n"
      ]
    },
    {
      "cell_type": "code",
      "metadata": {
        "id": "wB3VqcmgJQM0",
        "colab_type": "code",
        "outputId": "3e26490e-5e2a-46b5-aaf8-2ef0d91dab65",
        "colab": {
          "base_uri": "https://localhost:8080/",
          "height": 53
        }
      },
      "source": [
        "pd.options.display.max_colwidth = -1\n",
        "one_image = images.loc[images['md5'] == '5283d313972a24f0e71c47ae3c99958b'].head(1)\n",
        "one_image['url']"
      ],
      "execution_count": 16,
      "outputs": [
        {
          "output_type": "execute_result",
          "data": {
            "text/plain": [
              "86127    http://www.mddefp.gouv.qc.ca//poissons/st-charles/tumeur.jpg\n",
              "Name: url, dtype: object"
            ]
          },
          "metadata": {
            "tags": []
          },
          "execution_count": 16
        }
      ]
    },
    {
      "cell_type": "markdown",
      "metadata": {
        "id": "5YV2u_8aLEJS",
        "colab_type": "text"
      },
      "source": [
        "![gross](https://waext.banq.qc.ca/wayback/20121127094123/http://www.mddefp.gouv.qc.ca/poissons/assomption/tumeur.jpg)"
      ]
    },
    {
      "cell_type": "markdown",
      "metadata": {
        "id": "GbLLZW2awzCv",
        "colab_type": "text"
      },
      "source": [
        "#### What are the top 10 most occuring filenames in the collection?\n",
        "\n"
      ]
    },
    {
      "cell_type": "code",
      "metadata": {
        "id": "pQaw54ACkwdZ",
        "colab_type": "code",
        "outputId": "0a57aebf-0abf-41d7-8084-86816a521ff3",
        "colab": {
          "base_uri": "https://localhost:8080/",
          "height": 216
        }
      },
      "source": [
        "top_filenames = images['filename'].value_counts().head(10)\n",
        "top_filenames"
      ],
      "execution_count": 17,
      "outputs": [
        {
          "output_type": "execute_result",
          "data": {
            "text/plain": [
              "carte-p.jpg      1144\n",
              "carte2.jpg       811 \n",
              "carte1.jpg       769 \n",
              "carte-g.jpg      630 \n",
              "carte-qc.jpg     506 \n",
              "carte-an.jpg     506 \n",
              "carte.jpg        481 \n",
              "carte-G.jpg      462 \n",
              "carte_p.jpg      426 \n",
              "carte_web.jpg    386 \n",
              "Name: filename, dtype: int64"
            ]
          },
          "metadata": {
            "tags": []
          },
          "execution_count": 17
        }
      ]
    },
    {
      "cell_type": "markdown",
      "metadata": {
        "id": "Z7F3re20BQRI",
        "colab_type": "text"
      },
      "source": [
        "#### Let's plot it!"
      ]
    },
    {
      "cell_type": "code",
      "metadata": {
        "id": "sRvlstfsBWEZ",
        "colab_type": "code",
        "outputId": "2650fc2f-3144-471c-976c-86aec6273e2c",
        "colab": {
          "base_uri": "https://localhost:8080/",
          "height": 715
        }
      },
      "source": [
        "top_filenames_chart = top_filenames.plot.bar(figsize=(25,10))\n",
        "top_filenames_chart.set_title(\"Top Filenames\", fontsize=22)\n",
        "top_filenames_chart.set_xlabel(\"Filename\", fontsize=20)\n",
        "top_filenames_chart.set_ylabel(\"Count\", fontsize=20)"
      ],
      "execution_count": 18,
      "outputs": [
        {
          "output_type": "execute_result",
          "data": {
            "text/plain": [
              "Text(0, 0.5, 'Count')"
            ]
          },
          "metadata": {
            "tags": []
          },
          "execution_count": 18
        },
        {
          "output_type": "display_data",
          "data": {
            "image/png": "[encoded data removed]",
            "text/plain": [
              "<Figure size 1800x720 with 1 Axes>"
            ]
          },
          "metadata": {
            "tags": []
          }
        }
      ]
    },
    {
      "cell_type": "markdown",
      "metadata": {
        "id": "BneaN9cgGoly",
        "colab_type": "text"
      },
      "source": [
        "#### How about a MIME type distribution?\n",
        "\n"
      ]
    },
    {
      "cell_type": "code",
      "metadata": {
        "id": "RDd-J8D-GwDk",
        "colab_type": "code",
        "outputId": "862d2b13-011e-4461-c692-8a818e98042f",
        "colab": {
          "base_uri": "https://localhost:8080/",
          "height": 655
        }
      },
      "source": [
        "image_mime_types = images['mime_type_tika'].value_counts().head(5)\n",
        "image_mime_type_chart = image_mime_types.plot.line(figsize=(20,10))\n",
        "image_mime_type_chart.set_title(\"Images MIME Type Distribution\", fontsize=22)\n",
        "image_mime_type_chart.set_xlabel(\"MIME Type\", fontsize=20)\n",
        "image_mime_type_chart.set_ylabel(\"Count\", fontsize=20)"
      ],
      "execution_count": 19,
      "outputs": [
        {
          "output_type": "execute_result",
          "data": {
            "text/plain": [
              "Text(0, 0.5, 'Count')"
            ]
          },
          "metadata": {
            "tags": []
          },
          "execution_count": 19
        },
        {
          "output_type": "display_data",
          "data": {
            "image/png": "[encoded data removed]",
            "text/plain": [
              "<Figure size 1440x720 with 1 Axes>"
            ]
          },
          "metadata": {
            "tags": []
          }
        }
      ]
    },
    {
      "cell_type": "code",
      "metadata": {
        "colab_type": "code",
        "outputId": "69869c3d-82d9-4ead-aecf-9e52b4db27a1",
        "id": "rUPJ2VITIZHZ",
        "colab": {
          "base_uri": "https://localhost:8080/",
          "height": 655
        }
      },
      "source": [
        "page_mime_types = pages['mime_type_tika'].value_counts()\n",
        "page_type_chart = page_mime_types.plot.line(figsize=(20,10))\n",
        "page_type_chart.set_title(\"Pages MIME Type Distribution\", fontsize=22)\n",
        "page_type_chart.set_xlabel(\"MIME Type\", fontsize=20)\n",
        "page_type_chart.set_ylabel(\"Count\", fontsize=20)"
      ],
      "execution_count": 20,
      "outputs": [
        {
          "output_type": "execute_result",
          "data": {
            "text/plain": [
              "Text(0, 0.5, 'Count')"
            ]
          },
          "metadata": {
            "tags": []
          },
          "execution_count": 20
        },
        {
          "output_type": "display_data",
          "data": {
            "image/png": "[encoded data removed]",
            "text/plain": [
              "<Figure size 1440x720 with 1 Axes>"
            ]
          },
          "metadata": {
            "tags": []
          }
        }
      ]
    },
    {
      "cell_type": "markdown",
      "metadata": {
        "id": "ndZjsWKzUykd",
        "colab_type": "text"
      },
      "source": [
        "## Domains"
      ]
    },
    {
      "cell_type": "code",
      "metadata": {
        "id": "xUebRBMHuoRs",
        "colab_type": "code",
        "outputId": "5d9c7154-fb77-42b8-dffa-6f779772d899",
        "colab": {
          "base_uri": "https://localhost:8080/",
          "height": 360
        }
      },
      "source": [
        "# domains_parquet = pq.read_table('environnement-qc/domains')\n",
        "# domains = domains_parquet.to_pandas()\n",
        "domains = pages.apply(lambda row: tldextract.extract(row.url).domain, axis=1)"
      ],
      "execution_count": 21,
      "outputs": [
        {
          "output_type": "error",
          "ename": "OSError",
          "evalue": "ignored",
          "traceback": [
            "\u001b[0;31m---------------------------------------------------------------------------\u001b[0m",
            "\u001b[0;31mOSError\u001b[0m                                   Traceback (most recent call last)",
            "\u001b[0;32m<ipython-input-21-b95a52fbc2fa>\u001b[0m in \u001b[0;36m<module>\u001b[0;34m()\u001b[0m\n\u001b[0;32m----> 1\u001b[0;31m \u001b[0mdomains_parquet\u001b[0m \u001b[0;34m=\u001b[0m \u001b[0mpq\u001b[0m\u001b[0;34m.\u001b[0m\u001b[0mread_table\u001b[0m\u001b[0;34m(\u001b[0m\u001b[0;34m'environnement-qc/domains'\u001b[0m\u001b[0;34m)\u001b[0m\u001b[0;34m\u001b[0m\u001b[0;34m\u001b[0m\u001b[0m\n\u001b[0m\u001b[1;32m      2\u001b[0m \u001b[0mdomains\u001b[0m \u001b[0;34m=\u001b[0m \u001b[0mdomains_parquet\u001b[0m\u001b[0;34m.\u001b[0m\u001b[0mto_pandas\u001b[0m\u001b[0;34m(\u001b[0m\u001b[0;34m)\u001b[0m\u001b[0;34m\u001b[0m\u001b[0;34m\u001b[0m\u001b[0m\n\u001b[1;32m      3\u001b[0m \u001b[0mdomains\u001b[0m\u001b[0;34m\u001b[0m\u001b[0;34m\u001b[0m\u001b[0m\n",
            "\u001b[0;32m/usr/local/lib/python3.6/dist-packages/pyarrow/parquet.py\u001b[0m in \u001b[0;36mread_table\u001b[0;34m(source, columns, use_threads, metadata, use_pandas_metadata, memory_map, filesystem, filters)\u001b[0m\n\u001b[1;32m   1210\u001b[0m     \u001b[0;32mif\u001b[0m \u001b[0m_is_path_like\u001b[0m\u001b[0;34m(\u001b[0m\u001b[0msource\u001b[0m\u001b[0;34m)\u001b[0m\u001b[0;34m:\u001b[0m\u001b[0;34m\u001b[0m\u001b[0;34m\u001b[0m\u001b[0m\n\u001b[1;32m   1211\u001b[0m         pf = ParquetDataset(source, metadata=metadata, memory_map=memory_map,\n\u001b[0;32m-> 1212\u001b[0;31m                             filesystem=filesystem, filters=filters)\n\u001b[0m\u001b[1;32m   1213\u001b[0m     \u001b[0;32melse\u001b[0m\u001b[0;34m:\u001b[0m\u001b[0;34m\u001b[0m\u001b[0;34m\u001b[0m\u001b[0m\n\u001b[1;32m   1214\u001b[0m         \u001b[0mpf\u001b[0m \u001b[0;34m=\u001b[0m \u001b[0mParquetFile\u001b[0m\u001b[0;34m(\u001b[0m\u001b[0msource\u001b[0m\u001b[0;34m,\u001b[0m \u001b[0mmetadata\u001b[0m\u001b[0;34m=\u001b[0m\u001b[0mmetadata\u001b[0m\u001b[0;34m,\u001b[0m \u001b[0mmemory_map\u001b[0m\u001b[0;34m=\u001b[0m\u001b[0mmemory_map\u001b[0m\u001b[0;34m)\u001b[0m\u001b[0;34m\u001b[0m\u001b[0;34m\u001b[0m\u001b[0m\n",
            "\u001b[0;32m/usr/local/lib/python3.6/dist-packages/pyarrow/parquet.py\u001b[0m in \u001b[0;36m__init__\u001b[0;34m(self, path_or_paths, filesystem, schema, metadata, split_row_groups, validate_schema, filters, metadata_nthreads, memory_map)\u001b[0m\n\u001b[1;32m    979\u001b[0m          \u001b[0mself\u001b[0m\u001b[0;34m.\u001b[0m\u001b[0mmetadata_path\u001b[0m\u001b[0;34m)\u001b[0m \u001b[0;34m=\u001b[0m \u001b[0m_make_manifest\u001b[0m\u001b[0;34m(\u001b[0m\u001b[0;34m\u001b[0m\u001b[0;34m\u001b[0m\u001b[0m\n\u001b[1;32m    980\u001b[0m              \u001b[0mpath_or_paths\u001b[0m\u001b[0;34m,\u001b[0m \u001b[0mself\u001b[0m\u001b[0;34m.\u001b[0m\u001b[0mfs\u001b[0m\u001b[0;34m,\u001b[0m \u001b[0mmetadata_nthreads\u001b[0m\u001b[0;34m=\u001b[0m\u001b[0mmetadata_nthreads\u001b[0m\u001b[0;34m,\u001b[0m\u001b[0;34m\u001b[0m\u001b[0;34m\u001b[0m\u001b[0m\n\u001b[0;32m--> 981\u001b[0;31m              open_file_func=partial(_open_dataset_file, self))\n\u001b[0m\u001b[1;32m    982\u001b[0m \u001b[0;34m\u001b[0m\u001b[0m\n\u001b[1;32m    983\u001b[0m         \u001b[0;32mif\u001b[0m \u001b[0mself\u001b[0m\u001b[0;34m.\u001b[0m\u001b[0mcommon_metadata_path\u001b[0m \u001b[0;32mis\u001b[0m \u001b[0;32mnot\u001b[0m \u001b[0;32mNone\u001b[0m\u001b[0;34m:\u001b[0m\u001b[0;34m\u001b[0m\u001b[0;34m\u001b[0m\u001b[0m\n",
            "\u001b[0;32m/usr/local/lib/python3.6/dist-packages/pyarrow/parquet.py\u001b[0m in \u001b[0;36m_make_manifest\u001b[0;34m(path_or_paths, fs, pathsep, metadata_nthreads, open_file_func)\u001b[0m\n\u001b[1;32m   1165\u001b[0m             \u001b[0;32mif\u001b[0m \u001b[0;32mnot\u001b[0m \u001b[0mfs\u001b[0m\u001b[0;34m.\u001b[0m\u001b[0misfile\u001b[0m\u001b[0;34m(\u001b[0m\u001b[0mpath\u001b[0m\u001b[0;34m)\u001b[0m\u001b[0;34m:\u001b[0m\u001b[0;34m\u001b[0m\u001b[0;34m\u001b[0m\u001b[0m\n\u001b[1;32m   1166\u001b[0m                 raise IOError('Passed non-file path: {0}'\n\u001b[0;32m-> 1167\u001b[0;31m                               .format(path))\n\u001b[0m\u001b[1;32m   1168\u001b[0m             \u001b[0mpiece\u001b[0m \u001b[0;34m=\u001b[0m \u001b[0mParquetDatasetPiece\u001b[0m\u001b[0;34m(\u001b[0m\u001b[0mpath\u001b[0m\u001b[0;34m,\u001b[0m \u001b[0mopen_file_func\u001b[0m\u001b[0;34m=\u001b[0m\u001b[0mopen_file_func\u001b[0m\u001b[0;34m)\u001b[0m\u001b[0;34m\u001b[0m\u001b[0;34m\u001b[0m\u001b[0m\n\u001b[1;32m   1169\u001b[0m             \u001b[0mpieces\u001b[0m\u001b[0;34m.\u001b[0m\u001b[0mappend\u001b[0m\u001b[0;34m(\u001b[0m\u001b[0mpiece\u001b[0m\u001b[0;34m)\u001b[0m\u001b[0;34m\u001b[0m\u001b[0;34m\u001b[0m\u001b[0m\n",
            "\u001b[0;31mOSError\u001b[0m: Passed non-file path: environnement-qc/domains"
          ]
        }
      ]
    },
    {
      "cell_type": "markdown",
      "metadata": {
        "id": "QGHnjGRQPzqV",
        "colab_type": "text"
      },
      "source": [
        "#### Let's start off here by creating a line chart of the top 10 domains."
      ]
    },
    {
      "cell_type": "code",
      "metadata": {
        "id": "C_X_YSD4PyQi",
        "colab_type": "code",
        "outputId": "b242d644-e909-4e5b-b9c7-a83cc0f0d178",
        "colab": {
          "base_uri": "https://localhost:8080/",
          "height": 926
        }
      },
      "source": [
        "top_domains = domains.sort_values('count', ascending=False).head(10)\n",
        "top_domains_chart = top_domains.plot.line(x='Domain', y='count', figsize=(25,15))\n",
        "top_domains_chart.set_title(\"Domains Distribution\", fontsize=22)\n",
        "top_domains_chart.set_xlabel(\"Domain\", fontsize=20)\n",
        "top_domains_chart.set_ylabel(\"Count\", fontsize=20)"
      ],
      "execution_count": 0,
      "outputs": [
        {
          "output_type": "execute_result",
          "data": {
            "text/plain": [
              "Text(0, 0.5, 'Count')"
            ]
          },
          "metadata": {
            "tags": []
          },
          "execution_count": 97
        },
        {
          "output_type": "display_data",
          "data": {
            "text/plain": [
              "<Figure size 1800x1080 with 1 Axes>"
            ],
            "image/png": "[encoded data removed]"
          },
          "metadata": {
            "tags": [],
            "needs_background": "light"
          }
        }
      ]
    },
    {
      "cell_type": "markdown",
      "metadata": {
        "id": "VDXDhqCcyyFj",
        "colab_type": "text"
      },
      "source": [
        "### Top Level Domain Analysis\n",
        "Next, we'll be creating a new column, `tld`, which is based off an existing column, 'Domain'. This example should give you an idea of how you can expand these datasets to do further research and analysis.\n",
        "\n",
        "We'll take the `Domain` column, and extract the `tld` from it with [`tldextract`](https://github.com/john-kurkowski/tldextract).\n",
        "\n",
        "First we'll add the [`tldextract`](https://github.com/john-kurkowski/tldextract)library to the notebook. Then, we'll create the new column."
      ]
    },
    {
      "cell_type": "code",
      "metadata": {
        "id": "clPJuQAe5mcg",
        "colab_type": "code",
        "colab": {}
      },
      "source": [
        "%%capture\n",
        "\n",
        "!pip install tldextract"
      ],
      "execution_count": 0,
      "outputs": []
    },
    {
      "cell_type": "code",
      "metadata": {
        "id": "mv7a-MLIx-3f",
        "colab_type": "code",
        "outputId": "db58cb65-2378-4d9a-c976-f052688e528e",
        "colab": {
          "base_uri": "https://localhost:8080/",
          "height": 1000
        }
      },
      "source": [
        "import tldextract\n",
        "\n",
        "domains['tld'] = domains.apply(lambda row: tldextract.extract(row.Domain).suffix, axis=1)\n",
        "domains"
      ],
      "execution_count": 0,
      "outputs": [
        {
          "output_type": "execute_result",
          "data": {
            "text/plain": [
              "                                  Domain   count    tld\n",
              "0                  www.mddefp.gouv.qc.ca  113680  qc.ca\n",
              "1                   www.mddep.gouv.qc.ca  106857  qc.ca\n",
              "2                 www.mddelcc.gouv.qc.ca   88832  qc.ca\n",
              "3                       mddep.gouv.qc.ca   48971  qc.ca\n",
              "4                      mddefp.gouv.qc.ca   41023  qc.ca\n",
              "5                   www.deficlimat.qc.ca    7073  qc.ca\n",
              "6                    www.cehq.gouv.qc.ca    5814  qc.ca\n",
              "7           www.environnement.gouv.qc.ca    3771  qc.ca\n",
              "8                    www.racj.gouv.qc.ca    2746  qc.ca\n",
              "9        www.faisonslepoureux.gouv.qc.ca    2639  qc.ca\n",
              "10                      deficlimat.qc.ca    2388  qc.ca\n",
              "11                   www.cqlc.gouv.qc.ca    1317  qc.ca\n",
              "12                       www.youtube.com    1172    com\n",
              "13           ees-gazdeschiste.gouv.qc.ca     584  qc.ca\n",
              "14             www.iqa.mddefp.gouv.qc.ca     461  qc.ca\n",
              "15                    publications.gc.ca     302  gc.ca\n",
              "16                www.coroner.gouv.qc.ca     257  qc.ca\n",
              "17                  www.ceaeq.gouv.qc.ca     217  qc.ca\n",
              "18                  www.cdpnq.gouv.qc.ca     212  qc.ca\n",
              "19        www.registres.mddep.gouv.qc.ca     211  qc.ca\n",
              "20        www.letsdoitforthem.gouv.qc.ca     198  qc.ca\n",
              "21       www.registres.mddefp.gouv.qc.ca     177  qc.ca\n",
              "22                      cdpnq.gouv.qc.ca     147  qc.ca\n",
              "23      www.rageduratonlaveur.gouv.qc.ca     140  qc.ca\n",
              "24         www.protegeonsleau.gouv.qc.ca     127  qc.ca\n",
              "25                  www.nosplansdeau.com     123    com\n",
              "26          www.fetedelapeche.gouv.qc.ca     121  qc.ca\n",
              "27       vehiculeselectriques.gouv.qc.ca     103  qc.ca\n",
              "28   www.vehiculeselectriques.gouv.qc.ca     101  qc.ca\n",
              "29          rageduratonlaveur.gouv.qc.ca      87  qc.ca\n",
              "..                                   ...     ...    ...\n",
              "296             www.nrcresearchpress.com       1    com\n",
              "297                  www.plosbiology.org       1    org\n",
              "298                  www.loto-quebec.com       1    com\n",
              "299           icesjms.oxfordjournals.org       1    org\n",
              "300                       fishlarvae.com       1    com\n",
              "301                 search.microsoft.com       1    com\n",
              "302                  www.mrif.gouv.qc.ca       1  qc.ca\n",
              "303                      cbk0.google.com       1    com\n",
              "304               www.espacej.gouv.qc.ca       1  qc.ca\n",
              "305                   www.sludgenews.org       1    org\n",
              "306                www.aetmis.gouv.qc.ca       1  qc.ca\n",
              "307                        www.natca.org       1    org\n",
              "308                 www.fapaq.gouv.qc.ca       1  qc.ca\n",
              "309         www.conservatoire.gouv.qc.ca       1  qc.ca\n",
              "310                      khm0.google.com       1    com\n",
              "311     r2---sn-t0a7sn7d.googlevideo.com       1    com\n",
              "312                  qtinstall.apple.com       1    com\n",
              "313                activex.microsoft.com       1    com\n",
              "314                       s7.addthis.com       1    com\n",
              "315     r4---sn-9gv7enek.googlevideo.com       1    com\n",
              "316          www.conseil-des-aines.qc.ca       1  qc.ca\n",
              "317                   www.reseau-idee.be       1     be\n",
              "318               digitalcommons.unl.edu       1    edu\n",
              "319                www.longtailvideo.com       1    com\n",
              "320                www.mamrot.gouv.qc.ca       1  qc.ca\n",
              "321                         wwwedu.ge.ch       1     ch\n",
              "322     r2---sn-9gv7ened.googlevideo.com       1    com\n",
              "323                    www.ncdc.noaa.gov       1    gov\n",
              "324     r1---sn-9gv7ene6.googlevideo.com       1    com\n",
              "325                      csi.gstatic.com       1    com\n",
              "\n",
              "[326 rows x 3 columns]"
            ],
            "text/html": [
              "<div>\n",
              "<style scoped>\n",
              "    .dataframe tbody tr th:only-of-type {\n",
              "        vertical-align: middle;\n",
              "    }\n",
              "\n",
              "    .dataframe tbody tr th {\n",
              "        vertical-align: top;\n",
              "    }\n",
              "\n",
              "    .dataframe thead th {\n",
              "        text-align: right;\n",
              "    }\n",
              "</style>\n",
              "<table border=\"1\" class=\"dataframe\">\n",
              "  <thead>\n",
              "    <tr style=\"text-align: right;\">\n",
              "      <th></th>\n",
              "      <th>Domain</th>\n",
              "      <th>count</th>\n",
              "      <th>tld</th>\n",
              "    </tr>\n",
              "  </thead>\n",
              "  <tbody>\n",
              "    <tr>\n",
              "      <th>0</th>\n",
              "      <td>www.mddefp.gouv.qc.ca</td>\n",
              "      <td>113680</td>\n",
              "      <td>qc.ca</td>\n",
              "    </tr>\n",
              "    <tr>\n",
              "      <th>1</th>\n",
              "      <td>www.mddep.gouv.qc.ca</td>\n",
              "      <td>106857</td>\n",
              "      <td>qc.ca</td>\n",
              "    </tr>\n",
              "    <tr>\n",
              "      <th>2</th>\n",
              "      <td>www.mddelcc.gouv.qc.ca</td>\n",
              "      <td>88832</td>\n",
              "      <td>qc.ca</td>\n",
              "    </tr>\n",
              "    <tr>\n",
              "      <th>3</th>\n",
              "      <td>mddep.gouv.qc.ca</td>\n",
              "      <td>48971</td>\n",
              "      <td>qc.ca</td>\n",
              "    </tr>\n",
              "    <tr>\n",
              "      <th>4</th>\n",
              "      <td>mddefp.gouv.qc.ca</td>\n",
              "      <td>41023</td>\n",
              "      <td>qc.ca</td>\n",
              "    </tr>\n",
              "    <tr>\n",
              "      <th>5</th>\n",
              "      <td>www.deficlimat.qc.ca</td>\n",
              "      <td>7073</td>\n",
              "      <td>qc.ca</td>\n",
              "    </tr>\n",
              "    <tr>\n",
              "      <th>6</th>\n",
              "      <td>www.cehq.gouv.qc.ca</td>\n",
              "      <td>5814</td>\n",
              "      <td>qc.ca</td>\n",
              "    </tr>\n",
              "    <tr>\n",
              "      <th>7</th>\n",
              "      <td>www.environnement.gouv.qc.ca</td>\n",
              "      <td>3771</td>\n",
              "      <td>qc.ca</td>\n",
              "    </tr>\n",
              "    <tr>\n",
              "      <th>8</th>\n",
              "      <td>www.racj.gouv.qc.ca</td>\n",
              "      <td>2746</td>\n",
              "      <td>qc.ca</td>\n",
              "    </tr>\n",
              "    <tr>\n",
              "      <th>9</th>\n",
              "      <td>www.faisonslepoureux.gouv.qc.ca</td>\n",
              "      <td>2639</td>\n",
              "      <td>qc.ca</td>\n",
              "    </tr>\n",
              "    <tr>\n",
              "      <th>10</th>\n",
              "      <td>deficlimat.qc.ca</td>\n",
              "      <td>2388</td>\n",
              "      <td>qc.ca</td>\n",
              "    </tr>\n",
              "    <tr>\n",
              "      <th>11</th>\n",
              "      <td>www.cqlc.gouv.qc.ca</td>\n",
              "      <td>1317</td>\n",
              "      <td>qc.ca</td>\n",
              "    </tr>\n",
              "    <tr>\n",
              "      <th>12</th>\n",
              "      <td>www.youtube.com</td>\n",
              "      <td>1172</td>\n",
              "      <td>com</td>\n",
              "    </tr>\n",
              "    <tr>\n",
              "      <th>13</th>\n",
              "      <td>ees-gazdeschiste.gouv.qc.ca</td>\n",
              "      <td>584</td>\n",
              "      <td>qc.ca</td>\n",
              "    </tr>\n",
              "    <tr>\n",
              "      <th>14</th>\n",
              "      <td>www.iqa.mddefp.gouv.qc.ca</td>\n",
              "      <td>461</td>\n",
              "      <td>qc.ca</td>\n",
              "    </tr>\n",
              "    <tr>\n",
              "      <th>15</th>\n",
              "      <td>publications.gc.ca</td>\n",
              "      <td>302</td>\n",
              "      <td>gc.ca</td>\n",
              "    </tr>\n",
              "    <tr>\n",
              "      <th>16</th>\n",
              "      <td>www.coroner.gouv.qc.ca</td>\n",
              "      <td>257</td>\n",
              "      <td>qc.ca</td>\n",
              "    </tr>\n",
              "    <tr>\n",
              "      <th>17</th>\n",
              "      <td>www.ceaeq.gouv.qc.ca</td>\n",
              "      <td>217</td>\n",
              "      <td>qc.ca</td>\n",
              "    </tr>\n",
              "    <tr>\n",
              "      <th>18</th>\n",
              "      <td>www.cdpnq.gouv.qc.ca</td>\n",
              "      <td>212</td>\n",
              "      <td>qc.ca</td>\n",
              "    </tr>\n",
              "    <tr>\n",
              "      <th>19</th>\n",
              "      <td>www.registres.mddep.gouv.qc.ca</td>\n",
              "      <td>211</td>\n",
              "      <td>qc.ca</td>\n",
              "    </tr>\n",
              "    <tr>\n",
              "      <th>20</th>\n",
              "      <td>www.letsdoitforthem.gouv.qc.ca</td>\n",
              "      <td>198</td>\n",
              "      <td>qc.ca</td>\n",
              "    </tr>\n",
              "    <tr>\n",
              "      <th>21</th>\n",
              "      <td>www.registres.mddefp.gouv.qc.ca</td>\n",
              "      <td>177</td>\n",
              "      <td>qc.ca</td>\n",
              "    </tr>\n",
              "    <tr>\n",
              "      <th>22</th>\n",
              "      <td>cdpnq.gouv.qc.ca</td>\n",
              "      <td>147</td>\n",
              "      <td>qc.ca</td>\n",
              "    </tr>\n",
              "    <tr>\n",
              "      <th>23</th>\n",
              "      <td>www.rageduratonlaveur.gouv.qc.ca</td>\n",
              "      <td>140</td>\n",
              "      <td>qc.ca</td>\n",
              "    </tr>\n",
              "    <tr>\n",
              "      <th>24</th>\n",
              "      <td>www.protegeonsleau.gouv.qc.ca</td>\n",
              "      <td>127</td>\n",
              "      <td>qc.ca</td>\n",
              "    </tr>\n",
              "    <tr>\n",
              "      <th>25</th>\n",
              "      <td>www.nosplansdeau.com</td>\n",
              "      <td>123</td>\n",
              "      <td>com</td>\n",
              "    </tr>\n",
              "    <tr>\n",
              "      <th>26</th>\n",
              "      <td>www.fetedelapeche.gouv.qc.ca</td>\n",
              "      <td>121</td>\n",
              "      <td>qc.ca</td>\n",
              "    </tr>\n",
              "    <tr>\n",
              "      <th>27</th>\n",
              "      <td>vehiculeselectriques.gouv.qc.ca</td>\n",
              "      <td>103</td>\n",
              "      <td>qc.ca</td>\n",
              "    </tr>\n",
              "    <tr>\n",
              "      <th>28</th>\n",
              "      <td>www.vehiculeselectriques.gouv.qc.ca</td>\n",
              "      <td>101</td>\n",
              "      <td>qc.ca</td>\n",
              "    </tr>\n",
              "    <tr>\n",
              "      <th>29</th>\n",
              "      <td>rageduratonlaveur.gouv.qc.ca</td>\n",
              "      <td>87</td>\n",
              "      <td>qc.ca</td>\n",
              "    </tr>\n",
              "    <tr>\n",
              "      <th>...</th>\n",
              "      <td>...</td>\n",
              "      <td>...</td>\n",
              "      <td>...</td>\n",
              "    </tr>\n",
              "    <tr>\n",
              "      <th>296</th>\n",
              "      <td>www.nrcresearchpress.com</td>\n",
              "      <td>1</td>\n",
              "      <td>com</td>\n",
              "    </tr>\n",
              "    <tr>\n",
              "      <th>297</th>\n",
              "      <td>www.plosbiology.org</td>\n",
              "      <td>1</td>\n",
              "      <td>org</td>\n",
              "    </tr>\n",
              "    <tr>\n",
              "      <th>298</th>\n",
              "      <td>www.loto-quebec.com</td>\n",
              "      <td>1</td>\n",
              "      <td>com</td>\n",
              "    </tr>\n",
              "    <tr>\n",
              "      <th>299</th>\n",
              "      <td>icesjms.oxfordjournals.org</td>\n",
              "      <td>1</td>\n",
              "      <td>org</td>\n",
              "    </tr>\n",
              "    <tr>\n",
              "      <th>300</th>\n",
              "      <td>fishlarvae.com</td>\n",
              "      <td>1</td>\n",
              "      <td>com</td>\n",
              "    </tr>\n",
              "    <tr>\n",
              "      <th>301</th>\n",
              "      <td>search.microsoft.com</td>\n",
              "      <td>1</td>\n",
              "      <td>com</td>\n",
              "    </tr>\n",
              "    <tr>\n",
              "      <th>302</th>\n",
              "      <td>www.mrif.gouv.qc.ca</td>\n",
              "      <td>1</td>\n",
              "      <td>qc.ca</td>\n",
              "    </tr>\n",
              "    <tr>\n",
              "      <th>303</th>\n",
              "      <td>cbk0.google.com</td>\n",
              "      <td>1</td>\n",
              "      <td>com</td>\n",
              "    </tr>\n",
              "    <tr>\n",
              "      <th>304</th>\n",
              "      <td>www.espacej.gouv.qc.ca</td>\n",
              "      <td>1</td>\n",
              "      <td>qc.ca</td>\n",
              "    </tr>\n",
              "    <tr>\n",
              "      <th>305</th>\n",
              "      <td>www.sludgenews.org</td>\n",
              "      <td>1</td>\n",
              "      <td>org</td>\n",
              "    </tr>\n",
              "    <tr>\n",
              "      <th>306</th>\n",
              "      <td>www.aetmis.gouv.qc.ca</td>\n",
              "      <td>1</td>\n",
              "      <td>qc.ca</td>\n",
              "    </tr>\n",
              "    <tr>\n",
              "      <th>307</th>\n",
              "      <td>www.natca.org</td>\n",
              "      <td>1</td>\n",
              "      <td>org</td>\n",
              "    </tr>\n",
              "    <tr>\n",
              "      <th>308</th>\n",
              "      <td>www.fapaq.gouv.qc.ca</td>\n",
              "      <td>1</td>\n",
              "      <td>qc.ca</td>\n",
              "    </tr>\n",
              "    <tr>\n",
              "      <th>309</th>\n",
              "      <td>www.conservatoire.gouv.qc.ca</td>\n",
              "      <td>1</td>\n",
              "      <td>qc.ca</td>\n",
              "    </tr>\n",
              "    <tr>\n",
              "      <th>310</th>\n",
              "      <td>khm0.google.com</td>\n",
              "      <td>1</td>\n",
              "      <td>com</td>\n",
              "    </tr>\n",
              "    <tr>\n",
              "      <th>311</th>\n",
              "      <td>r2---sn-t0a7sn7d.googlevideo.com</td>\n",
              "      <td>1</td>\n",
              "      <td>com</td>\n",
              "    </tr>\n",
              "    <tr>\n",
              "      <th>312</th>\n",
              "      <td>qtinstall.apple.com</td>\n",
              "      <td>1</td>\n",
              "      <td>com</td>\n",
              "    </tr>\n",
              "    <tr>\n",
              "      <th>313</th>\n",
              "      <td>activex.microsoft.com</td>\n",
              "      <td>1</td>\n",
              "      <td>com</td>\n",
              "    </tr>\n",
              "    <tr>\n",
              "      <th>314</th>\n",
              "      <td>s7.addthis.com</td>\n",
              "      <td>1</td>\n",
              "      <td>com</td>\n",
              "    </tr>\n",
              "    <tr>\n",
              "      <th>315</th>\n",
              "      <td>r4---sn-9gv7enek.googlevideo.com</td>\n",
              "      <td>1</td>\n",
              "      <td>com</td>\n",
              "    </tr>\n",
              "    <tr>\n",
              "      <th>316</th>\n",
              "      <td>www.conseil-des-aines.qc.ca</td>\n",
              "      <td>1</td>\n",
              "      <td>qc.ca</td>\n",
              "    </tr>\n",
              "    <tr>\n",
              "      <th>317</th>\n",
              "      <td>www.reseau-idee.be</td>\n",
              "      <td>1</td>\n",
              "      <td>be</td>\n",
              "    </tr>\n",
              "    <tr>\n",
              "      <th>318</th>\n",
              "      <td>digitalcommons.unl.edu</td>\n",
              "      <td>1</td>\n",
              "      <td>edu</td>\n",
              "    </tr>\n",
              "    <tr>\n",
              "      <th>319</th>\n",
              "      <td>www.longtailvideo.com</td>\n",
              "      <td>1</td>\n",
              "      <td>com</td>\n",
              "    </tr>\n",
              "    <tr>\n",
              "      <th>320</th>\n",
              "      <td>www.mamrot.gouv.qc.ca</td>\n",
              "      <td>1</td>\n",
              "      <td>qc.ca</td>\n",
              "    </tr>\n",
              "    <tr>\n",
              "      <th>321</th>\n",
              "      <td>wwwedu.ge.ch</td>\n",
              "      <td>1</td>\n",
              "      <td>ch</td>\n",
              "    </tr>\n",
              "    <tr>\n",
              "      <th>322</th>\n",
              "      <td>r2---sn-9gv7ened.googlevideo.com</td>\n",
              "      <td>1</td>\n",
              "      <td>com</td>\n",
              "    </tr>\n",
              "    <tr>\n",
              "      <th>323</th>\n",
              "      <td>www.ncdc.noaa.gov</td>\n",
              "      <td>1</td>\n",
              "      <td>gov</td>\n",
              "    </tr>\n",
              "    <tr>\n",
              "      <th>324</th>\n",
              "      <td>r1---sn-9gv7ene6.googlevideo.com</td>\n",
              "      <td>1</td>\n",
              "      <td>com</td>\n",
              "    </tr>\n",
              "    <tr>\n",
              "      <th>325</th>\n",
              "      <td>csi.gstatic.com</td>\n",
              "      <td>1</td>\n",
              "      <td>com</td>\n",
              "    </tr>\n",
              "  </tbody>\n",
              "</table>\n",
              "<p>326 rows × 3 columns</p>\n",
              "</div>"
            ]
          },
          "metadata": {
            "tags": []
          },
          "execution_count": 93
        }
      ]
    },
    {
      "cell_type": "markdown",
      "metadata": {
        "id": "jdXFS2yu8XYG",
        "colab_type": "text"
      },
      "source": [
        "#### Next, let's count the distict TLDs.\n"
      ]
    },
    {
      "cell_type": "code",
      "metadata": {
        "id": "1lViQIU48e-u",
        "colab_type": "code",
        "outputId": "faed2f44-13bd-4c0f-a4f4-9d646ca914ca",
        "colab": {
          "base_uri": "https://localhost:8080/",
          "height": 329
        }
      },
      "source": [
        "tld_count = domains['tld'].value_counts()\n",
        "tld_count"
      ],
      "execution_count": 0,
      "outputs": [
        {
          "output_type": "execute_result",
          "data": {
            "text/plain": [
              "qc.ca    131\n",
              "com       87\n",
              "org       34\n",
              "ca        33\n",
              "gc.ca     10\n",
              "gov        8\n",
              "net        6\n",
              "co.kr      4\n",
              "int        3\n",
              "ch         3\n",
              "be         2\n",
              "edu        1\n",
              "info       1\n",
              "eu         1\n",
              "tv         1\n",
              "sk.ca      1\n",
              "Name: tld, dtype: int64"
            ]
          },
          "metadata": {
            "tags": []
          },
          "execution_count": 95
        }
      ]
    },
    {
      "cell_type": "markdown",
      "metadata": {
        "id": "xm_V_0PGzZut",
        "colab_type": "text"
      },
      "source": [
        "#### Next, we'll plot the TLD count.\n"
      ]
    },
    {
      "cell_type": "code",
      "metadata": {
        "id": "N8yNlOa-zmBD",
        "colab_type": "code",
        "outputId": "31232b46-f769-47c0-b744-6b858ce00460",
        "colab": {
          "base_uri": "https://localhost:8080/",
          "height": 671
        }
      },
      "source": [
        "tld_chart = tld_count.plot.bar(legend=None, figsize=(25,10))\n",
        "tld_chart.set_xlabel(\"TLD\", fontsize=20)\n",
        "tld_chart.set_ylabel(\"Count\", fontsize=20)\n",
        "tld_chart.set_title(\"Top Level Domain Distribution\", fontsize=22)"
      ],
      "execution_count": 0,
      "outputs": [
        {
          "output_type": "execute_result",
          "data": {
            "text/plain": [
              "Text(0.5, 1.0, 'Top Level Domain Distribution')"
            ]
          },
          "metadata": {
            "tags": []
          },
          "execution_count": 104
        },
        {
          "output_type": "display_data",
          "data": {
            "text/plain": [
              "<Figure size 1800x720 with 1 Axes>"
            ],
            "image/png": "[encoded data removed]"
          },
          "metadata": {
            "tags": [],
            "needs_background": "light"
          }
        }
      ]
    },
    {
      "cell_type": "markdown",
      "metadata": {
        "id": "zbW18iAf2Wwk",
        "colab_type": "text"
      },
      "source": [
        "## Text Analysis\n",
        "\n",
        "With the `pages` derivative, we get a `text` column. This is the text of the web page, we the HTTP header information stripped out. Since we have this column, it opens up the whole world of text analysis to us!\n",
        "\n",
        "Note of caution here, working with raw text can be very memory intensive, and we're limited on memory in Colab. You'll need to set up an enviroment with more memory if you want to do analysis on larger collection. In these examples, you might notice us using `.head()` on some examples. This is because we can't load all of the text for some of the examples."
      ]
    },
    {
      "cell_type": "markdown",
      "metadata": {
        "id": "fvTLDa_r2xkT",
        "colab_type": "text"
      },
      "source": [
        "Let's start the text analysis section by installing and importing [`textblob`](https://textblob.readthedocs.io/en/dev/), a really robust text processing Python library, and download some helpful items from [`nltk`](https://www.nltk.org/)."
      ]
    },
    {
      "cell_type": "code",
      "metadata": {
        "id": "c76j7PBx3BBJ",
        "colab_type": "code",
        "colab": {}
      },
      "source": [
        "%%capture\n",
        "\n",
        "!pip install textblob\n",
        "!python -m nltk.downloader all\n",
        "\n",
        "import nltk\n",
        "from textblob import TextBlob"
      ],
      "execution_count": 0,
      "outputs": []
    },
    {
      "cell_type": "markdown",
      "metadata": {
        "id": "NDLgzQYUV-gN",
        "colab_type": "text"
      },
      "source": [
        "### Tokenization\n",
        "\n",
        "Let's add a new column to our `pages` DataFrame that is the tokenized output of the `text` column.\n",
        "\n",
        "**THIS TAKES A LONG TIME**"
      ]
    },
    {
      "cell_type": "code",
      "metadata": {
        "id": "h_8Gv43OWNqR",
        "colab_type": "code",
        "colab": {}
      },
      "source": [
        "from nltk.tokenize import sent_tokenize, word_tokenize\n",
        "\n",
        "pages['tokenized_text'] = pages.apply(lambda row: word_tokenize(row.content), axis=1)\n",
        "pages"
      ],
      "execution_count": 0,
      "outputs": []
    },
    {
      "cell_type": "markdown",
      "metadata": {
        "id": "bQpBHatXdheb",
        "colab_type": "text"
      },
      "source": [
        "#### Let's add one more column, a count of tokenized words."
      ]
    },
    {
      "cell_type": "code",
      "metadata": {
        "id": "_THI8wj9dCHl",
        "colab_type": "code",
        "colab": {}
      },
      "source": [
        "pages['tokenized_text_count'] = pages.apply(lambda row: len(row.tokenized_text), axis=1)\n",
        "pages"
      ],
      "execution_count": 0,
      "outputs": []
    },
    {
      "cell_type": "markdown",
      "metadata": {
        "id": "eyqSMvTG4l72",
        "colab_type": "text"
      },
      "source": [
        "### Basic word count statistics"
      ]
    },
    {
      "cell_type": "code",
      "metadata": {
        "id": "L5NI_zNN4p_X",
        "colab_type": "code",
        "colab": {}
      },
      "source": [
        "pages['tokenized_text_count'].mean()"
      ],
      "execution_count": 0,
      "outputs": []
    },
    {
      "cell_type": "code",
      "metadata": {
        "id": "-BPZrHhEDM9-",
        "colab_type": "code",
        "colab": {}
      },
      "source": [
        "pages['tokenized_text_count'].std()"
      ],
      "execution_count": 0,
      "outputs": []
    },
    {
      "cell_type": "code",
      "metadata": {
        "id": "WGrGGenFDVHA",
        "colab_type": "code",
        "colab": {}
      },
      "source": [
        "pages['tokenized_text_count'].max()"
      ],
      "execution_count": 0,
      "outputs": []
    },
    {
      "cell_type": "code",
      "metadata": {
        "id": "J-HUwzhdDWAp",
        "colab_type": "code",
        "colab": {}
      },
      "source": [
        "pages['tokenized_text_count'].min()"
      ],
      "execution_count": 0,
      "outputs": []
    },
    {
      "cell_type": "markdown",
      "metadata": {
        "id": "5LLvauQ8eFyo",
        "colab_type": "text"
      },
      "source": [
        "### Pages with the most words\n",
        "\n",
        "Let's create a bar chart, that shows the pages with the most words.\n",
        "\n",
        "First, let's show the query to get the data for our chart.\n",
        "\n",
        "\n"
      ]
    },
    {
      "cell_type": "code",
      "metadata": {
        "id": "1dlINrpO4jDc",
        "colab_type": "code",
        "colab": {}
      },
      "source": [
        "word_count = pages[['url', 'tokenized_text_count']].sort_values(by='tokenized_text_count', ascending=False).head(25)\n",
        "word_count"
      ],
      "execution_count": 0,
      "outputs": []
    },
    {
      "cell_type": "markdown",
      "metadata": {
        "id": "g6S50HjG4zl4",
        "colab_type": "text"
      },
      "source": [
        "Next, let's create a bar chart of this."
      ]
    },
    {
      "cell_type": "code",
      "metadata": {
        "id": "A5WGFlwWeTV7",
        "colab_type": "code",
        "colab": {}
      },
      "source": [
        "word_count_chart = word_count.plot(kind='bar', x='url', figsize=(20,10))\n",
        "word_count_chart.set_title('Pages with most words\\n', fontsize=22)\n",
        "word_count_chart.set_ylabel('Count', fontsize=20)\n",
        "word_count_chart.set_xlabel('Page', fontsize=20)\n"
      ],
      "execution_count": 0,
      "outputs": []
    },
    {
      "cell_type": "markdown",
      "metadata": {
        "id": "vtkSUVSMLWtg",
        "colab_type": "text"
      },
      "source": [
        "### Sentiment Analysis"
      ]
    },
    {
      "cell_type": "markdown",
      "metadata": {
        "id": "fj8Jhd9-3MaX",
        "colab_type": "text"
      },
      "source": [
        "Let's start with sentiment analysis.\n"
      ]
    },
    {
      "cell_type": "code",
      "metadata": {
        "id": "-kD80QLd3ZaV",
        "colab_type": "code",
        "colab": {}
      },
      "source": [
        "text_blob = TextBlob(\"\".join(pages['text'].head(10000).values))\n",
        "text_blob.sentiment"
      ],
      "execution_count": 0,
      "outputs": []
    },
    {
      "cell_type": "markdown",
      "metadata": {
        "id": "9t81QnYm7IuK",
        "colab_type": "text"
      },
      "source": [
        "### n-grams"
      ]
    },
    {
      "cell_type": "code",
      "metadata": {
        "id": "FE2ma91j7KYj",
        "colab_type": "code",
        "colab": {}
      },
      "source": [
        "from nltk.util import ngrams\n",
        "\n",
        "ngrams(text_blob, 5)"
      ],
      "execution_count": 0,
      "outputs": []
    },
    {
      "cell_type": "markdown",
      "metadata": {
        "id": "leNXRaW97v3W",
        "colab_type": "text"
      },
      "source": [
        "### Word Cloud\n",
        "\n",
        "Word clouds are always fun, right?!\n",
        "\n",
        "Let's setup some dependcies here, and install the [`word_cloud`](https://github.com/amueller/word_cloud) library, and setup some stop words via `nltk`.\n"
      ]
    },
    {
      "cell_type": "code",
      "metadata": {
        "id": "GJ3CqiHh7xYw",
        "colab_type": "code",
        "colab": {}
      },
      "source": [
        "%%capture\n",
        "\n",
        "!pip install wordcloud\n",
        "from wordcloud import WordCloud, STOPWORDS, ImageColorGenerator\n",
        "from nltk.corpus import stopwords\n",
        "\n",
        "french_stop_words = set(stopwords.words('french'))"
      ],
      "execution_count": 0,
      "outputs": []
    },
    {
      "cell_type": "code",
      "metadata": {
        "id": "8tgCgivP8Bzn",
        "colab_type": "code",
        "colab": {}
      },
      "source": [
        "wordcloud = WordCloud(stopwords=french_stop_words, width=2000, height=1500, scale=10, max_font_size=250, max_words=100, background_color=\"white\").generate(\"\".join(pages['text'].values))\n",
        "plt.figure(figsize=[35,10])\n",
        "plt.imshow(wordcloud, interpolation=\"bilinear\")\n",
        "plt.axis(\"off\")\n",
        "plt.show()"
      ],
      "execution_count": 0,
      "outputs": []
    },
    {
      "cell_type": "markdown",
      "metadata": {
        "id": "DWq4hkhoAXNm",
        "colab_type": "text"
      },
      "source": [
        "## Examining the Web Graph"
      ]
    },
    {
      "cell_type": "markdown",
      "metadata": {
        "id": "tdCH8zAPAa2M",
        "colab_type": "text"
      },
      "source": [
        "Let's start by looking at the web graph columns again."
      ]
    },
    {
      "cell_type": "code",
      "metadata": {
        "id": "-MFkAOcLAWy5",
        "colab_type": "code",
        "colab": {}
      },
      "source": [
        "webgraph"
      ],
      "execution_count": 0,
      "outputs": []
    },
    {
      "cell_type": "markdown",
      "metadata": {
        "id": "BFaebkzWAp-R",
        "colab_type": "text"
      },
      "source": [
        "### What are the most frequent crawl dates?\n"
      ]
    },
    {
      "cell_type": "code",
      "metadata": {
        "id": "kJNT3vqkAxqj",
        "colab_type": "code",
        "colab": {}
      },
      "source": [
        "crawl_dates = webgraph['crawl_date'].value_counts()\n",
        "crawl_dates\n",
        "crawl_dates_chart = crawl_dates.plot.line(figsize=(25,12))\n",
        "crawl_dates_chart.set_xlabel(\"Crawl Date\", fontsize=20)\n",
        "crawl_dates_chart.set_ylabel(\"Count\", fontsize=20)\n",
        "crawl_dates_chart.set_title(\"Crawl Date Frequency\", fontsize=22)\n"
      ],
      "execution_count": 0,
      "outputs": []
    }
  ]
}