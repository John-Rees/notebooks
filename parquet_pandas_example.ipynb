{
  "nbformat": 4,
  "nbformat_minor": 0,
  "metadata": {
    "colab": {
      "name": "parquet-pandas-example.ipynb",
      "provenance": [],
      "machine_shape": "hm",
      "include_colab_link": true
    },
    "kernelspec": {
      "name": "python3",
      "display_name": "Python 3"
    }
  },
  "cells": [
    {
      "cell_type": "markdown",
      "metadata": {
        "id": "view-in-github",
        "colab_type": "text"
      },
      "source": [
        "<a href=\"https://colab.research.google.com/github/archivesunleashed/notebooks/blob/master/parquet_pandas_example.ipynb\" target=\"_parent\"><img src=\"https://colab.research.google.com/assets/colab-badge.svg\" alt=\"Open In Colab\"/></a>"
      ]
    },
    {
      "cell_type": "markdown",
      "metadata": {
        "id": "EN0gajhr7pKd",
        "colab_type": "text"
      },
      "source": [
        "# Working with Archives Unleashed Parquet Derivatives\n",
        "\n",
        "In this notebook, we'll setup an environment, then download a dataset of web archive collection derivatives that were produced with the [Archives Unleashed Toolkit](https://github.com/archivesunleashed/aut/). These derivatives are in the [Apache Parquet](https://parquet.apache.org/) format, which is a [columnar storage](http://en.wikipedia.org/wiki/Column-oriented_DBMS) format. These derivatives are generally small enough to work with on your local machine, and can be easily converted to Pandas DataFrames as demonstrated below.\n",
        "\n",
        "This notebook is useful for exploring the following derivatives. \n",
        "\n",
        "**[Binary Analysis](https://github.com/archivesunleashed/aut-docs/blob/master/current/binary-analysis.md#binary-analysis)**\n",
        "- [Audio](https://github.com/archivesunleashed/aut-docs/blob/master/current/binary-analysis.md#extract-audio-information)\n",
        "- [Images](https://github.com/archivesunleashed/aut-docs/blob/master/current/binary-analysis.md#extract-image-information)\n",
        "- [PDFs](https://github.com/archivesunleashed/aut-docs/blob/master/current/binary-analysis.md#extract-pdf-information)\n",
        "- [Presentation program files](https://github.com/archivesunleashed/aut-docs/blob/master/current/binary-analysis.md#extract-presentation-program-files-information)\n",
        "- [Spreadsheets](https://github.com/archivesunleashed/aut-docs/blob/master/current/binary-analysis.md#extract-spreadsheet-information)\n",
        "- [Text files](https://github.com/archivesunleashed/aut-docs/blob/master/current/binary-analysis.md#extract-text-files-information)\n",
        "- [Videos](https://github.com/archivesunleashed/aut-docs/blob/master/current/binary-analysis.md#extract-video-information)\n",
        "- [Word processor files](https://github.com/archivesunleashed/aut-docs/blob/master/current/binary-analysis.md#extract-word-processor-files-information)\n",
        "\n",
        "**Web Pages**\n",
        "\n",
        "`.webpages().select($\"crawl_date\", $\"url\", $\"mime_type_web_server\", $\"mime_type_tika\", RemoveHTMLDF(RemoveHTTPHeaderDF(($\"content\"))).alias(\"content\"))` \n",
        "\n",
        "Produces a DataFrame with the following columns:\n",
        "  - `crawl_date`\n",
        "  - `url`\n",
        "  - `mime_type_web_server`\n",
        "  - `mime_type_tika`\n",
        "  - `content`\n",
        "\n",
        "As the `webpages` derivative is especially rich - it contains the full text of all webpages - we have a separate notebook for [text analysis](https://github.com/archivesunleashed/notebooks/blob/master/parquet_text_analyis.ipynb) here.\n",
        "\n",
        "**Web Graph**\n",
        "\n",
        "`.webgraph()` \n",
        "\n",
        "Produces a DataFrame with the following columns:\n",
        "  - `crawl_date`\n",
        "  - `src`\n",
        "  - `dest`\n",
        "  - `anchor`\n",
        "\n",
        "**Image Links**\n",
        "\n",
        "`.imageLinks()`\n",
        "\n",
        "Produces a DataFrame with the following columns:\n",
        "  - `src`\n",
        "  - `image_url`\n",
        "\n",
        "**Domains**\n",
        "\n",
        "`.webpages().groupBy(ExtractDomainDF($\"url\").alias(\"url\")).count().sort($\"count\".desc)`\n",
        "\n",
        "Produces a DataFrame with the following columns:\n",
        "- domain\n",
        "- count\n",
        "\n",
        "We recommend running through the notebook with the provided sample dataset. You may then want to substitute it with your own dataset."
      ]
    },
    {
      "cell_type": "markdown",
      "metadata": {
        "id": "OctPUqrG-K2W",
        "colab_type": "text"
      },
      "source": [
        "# Dataset\n",
        "\n",
        "First, we will need a web archive dataset to work with.\n",
        "\n",
        "In this example notebook we use a dataset from [Bibliothèque et Archives nationales du Québec](https://www.banq.qc.ca/accueil/). It is a web archive collection of the Ministry of Environment of Québec (2011-2014), that has been  processed by the [Archives Unleashed Toolkit](https://github.com/archivesunleashed/aut/). Merci beaucoup BAnQ!\n",
        "\n",
        "[![DOI](https://zenodo.org/badge/DOI/10.5281/zenodo.3605525.svg)](https://doi.org/10.5281/zenodo.3605525)\n",
        "\n",
        "Curious about the size the derivative Parquet output compared to the size of the web archive collection?\n",
        "\n",
        "The total size of all 12 Parquet deriatives is 594M, with `webpages` being the largest (528M) since it has a column with full text (`content`).\n",
        "\n",
        "```\n",
        "2.5M\t./videos\n",
        "344K\t./domains\n",
        "1.7M\t./word-processor-files\n",
        "24K\t./presentation-program-files\n",
        "1.7M\t./spreadsheets\n",
        "880K\t./audio\n",
        "4.4M\t./images\n",
        "528M\t./webpages\n",
        "1.7M\t./text-files\n",
        "3.9M\t./pdfs\n",
        "29M\t./webgraph\n",
        "22M\t./imagelinks\n",
        "594M\t.\n",
        "```\n",
        "\n",
        "The total size of the web archive collection is 165G. The derivative file is thus a 99.68% decrease!\n",
        "\n",
        "The following command downloads all of the parquets file from the Zenodo data repository. To run a 'cell,' you can click the play button next to the cell or you can press your shift key and enter key at the same time.\n",
        "\n",
        "Whenever you see code snippets like this, you should do the same thing to run it.\n"
      ]
    },
    {
      "cell_type": "code",
      "metadata": {
        "id": "m3FRzjAYyPid",
        "colab_type": "code",
        "colab": {}
      },
      "source": [
        "%%capture\n",
        "\n",
        "!curl -L \"https://zenodo.org/record/3598450/files/environnement-qc.tar.gz?download=1\" > environment-qc-parquet.tar.gz\n",
        "!tar -xzf environment-qc-parquet.tar.gz"
      ],
      "execution_count": 0,
      "outputs": []
    },
    {
      "cell_type": "markdown",
      "metadata": {
        "id": "h3Nr_JCbsWx8",
        "colab_type": "text"
      },
      "source": [
        "The following command provides a list of all the downloaded parquet files. You should see a list of all the different derivatives here - note that they line up with the list provided at the beginning of this notebook.\n"
      ]
    },
    {
      "cell_type": "code",
      "metadata": {
        "id": "2RK74TCSuIXE",
        "colab_type": "code",
        "outputId": "df9af3a3-5078-4d60-f21e-2bfaf9480a66",
        "colab": {
          "base_uri": "https://localhost:8080/",
          "height": 237
        }
      },
      "source": [
        "!ls -1 parquet"
      ],
      "execution_count": 2,
      "outputs": [
        {
          "output_type": "stream",
          "text": [
            "audio\n",
            "domains\n",
            "imagelinks\n",
            "images\n",
            "pdfs\n",
            "presentation-program-files\n",
            "spreadsheets\n",
            "text-files\n",
            "videos\n",
            "webgraph\n",
            "webpages\n",
            "word-processor-files\n"
          ],
          "name": "stdout"
        }
      ]
    },
    {
      "cell_type": "markdown",
      "metadata": {
        "colab_type": "text",
        "id": "JS0T6i4xPTVx"
      },
      "source": [
        "# Environment\n",
        "\n",
        "Next, we'll setup our environment so we can work with the Parquet output with [Pandas](https://pandas.pydata.org)."
      ]
    },
    {
      "cell_type": "code",
      "metadata": {
        "colab_type": "code",
        "id": "n56-DeEFPTCq",
        "colab": {}
      },
      "source": [
        "import numpy as np\n",
        "import pandas as pd\n",
        "import pyarrow as pa\n",
        "import pyarrow.parquet as pq\n",
        "import matplotlib.pyplot as plt"
      ],
      "execution_count": 0,
      "outputs": []
    },
    {
      "cell_type": "markdown",
      "metadata": {
        "id": "oFAFb2X3_VJC",
        "colab_type": "text"
      },
      "source": [
        "# Loading our Archives Unleashed Datasets as DataFrames\n",
        "\n",
        "Next, we'll load up our datasets to work with and show a preview of each. We'll load the network, domains, web graph, and images. \n",
        "\n",
        "The remainder of the binary datasets (audio, video, spreadsheets, etc.) will all follow the same pattern as the images dataset, except that they do not have the height and width columns. A useful exercise when trying to learn how to use this would be to swap out images for audio, for example, and see how you can explore these other file types.\n",
        "\n",
        "We've provided a [separate notebook](https://github.com/archivesunleashed/notebooks/blob/master/parquet_text_analyis.ipynb) to work with the pages dataset  because it tends to be resource intensive.\n"
      ]
    },
    {
      "cell_type": "markdown",
      "metadata": {
        "id": "SnEntLU0U2ox",
        "colab_type": "text"
      },
      "source": [
        "## Images\n",
        "\n",
        "The following commands create a variable called `images` that contain a DataFrame with all of the image information from the web archive. \n",
        "\n",
        "**Reminder:** If you want to look at a differnt derivative, you can, for instance, replace out `images` for `audio`."
      ]
    },
    {
      "cell_type": "code",
      "metadata": {
        "id": "GhE_Vhv8Awkx",
        "colab_type": "code",
        "outputId": "d54148c0-6461-4efb-df7f-f60f37498861",
        "colab": {
          "base_uri": "https://localhost:8080/",
          "height": 424
        }
      },
      "source": [
        "images_parquet = pq.read_table('parquet/images')\n",
        "images = images_parquet.to_pandas()\n",
        "images"
      ],
      "execution_count": 4,
      "outputs": [
        {
          "output_type": "execute_result",
          "data": {
            "text/html": [
              "<div>\n",
              "<style scoped>\n",
              "    .dataframe tbody tr th:only-of-type {\n",
              "        vertical-align: middle;\n",
              "    }\n",
              "\n",
              "    .dataframe tbody tr th {\n",
              "        vertical-align: top;\n",
              "    }\n",
              "\n",
              "    .dataframe thead th {\n",
              "        text-align: right;\n",
              "    }\n",
              "</style>\n",
              "<table border=\"1\" class=\"dataframe\">\n",
              "  <thead>\n",
              "    <tr style=\"text-align: right;\">\n",
              "      <th></th>\n",
              "      <th>url</th>\n",
              "      <th>filename</th>\n",
              "      <th>extension</th>\n",
              "      <th>mime_type_web_server</th>\n",
              "      <th>mime_type_tika</th>\n",
              "      <th>width</th>\n",
              "      <th>height</th>\n",
              "      <th>md5</th>\n",
              "    </tr>\n",
              "  </thead>\n",
              "  <tbody>\n",
              "    <tr>\n",
              "      <th>0</th>\n",
              "      <td>http://www.mddelcc.gouv.qc.ca/pesticides/jardi...</td>\n",
              "      <td>mille-clop-carabe.jpg</td>\n",
              "      <td>jpg</td>\n",
              "      <td>image/jpeg</td>\n",
              "      <td>image/jpeg</td>\n",
              "      <td>151</td>\n",
              "      <td>150</td>\n",
              "      <td>fff9b162031400d2dc96ec30284f580e</td>\n",
              "    </tr>\n",
              "    <tr>\n",
              "      <th>1</th>\n",
              "      <td>http://www.mddep.gouv.qc.ca//pesticides/jardin...</td>\n",
              "      <td>mille-clop-carabe.jpg</td>\n",
              "      <td>jpg</td>\n",
              "      <td>image/jpeg</td>\n",
              "      <td>image/jpeg</td>\n",
              "      <td>151</td>\n",
              "      <td>150</td>\n",
              "      <td>fff9b162031400d2dc96ec30284f580e</td>\n",
              "    </tr>\n",
              "    <tr>\n",
              "      <th>2</th>\n",
              "      <td>http://www.mddefp.gouv.qc.ca/pesticides/jardin...</td>\n",
              "      <td>mille-clop-carabe.jpg</td>\n",
              "      <td>jpg</td>\n",
              "      <td>image/jpeg</td>\n",
              "      <td>image/jpeg</td>\n",
              "      <td>151</td>\n",
              "      <td>150</td>\n",
              "      <td>fff9b162031400d2dc96ec30284f580e</td>\n",
              "    </tr>\n",
              "    <tr>\n",
              "      <th>3</th>\n",
              "      <td>http://www.mddefp.gouv.qc.ca////pesticides/jar...</td>\n",
              "      <td>mille-clop-carabe.jpg</td>\n",
              "      <td>jpg</td>\n",
              "      <td>image/jpeg</td>\n",
              "      <td>image/jpeg</td>\n",
              "      <td>151</td>\n",
              "      <td>150</td>\n",
              "      <td>fff9b162031400d2dc96ec30284f580e</td>\n",
              "    </tr>\n",
              "    <tr>\n",
              "      <th>4</th>\n",
              "      <td>http://www.mddefp.gouv.qc.ca////pesticides/jar...</td>\n",
              "      <td>mille-clop-carabe.jpg</td>\n",
              "      <td>jpg</td>\n",
              "      <td>image/jpeg</td>\n",
              "      <td>image/jpeg</td>\n",
              "      <td>151</td>\n",
              "      <td>150</td>\n",
              "      <td>fff9b162031400d2dc96ec30284f580e</td>\n",
              "    </tr>\n",
              "    <tr>\n",
              "      <th>...</th>\n",
              "      <td>...</td>\n",
              "      <td>...</td>\n",
              "      <td>...</td>\n",
              "      <td>...</td>\n",
              "      <td>...</td>\n",
              "      <td>...</td>\n",
              "      <td>...</td>\n",
              "      <td>...</td>\n",
              "    </tr>\n",
              "    <tr>\n",
              "      <th>156161</th>\n",
              "      <td>http://mddep.gouv.qc.ca///biodiversite/habitat...</td>\n",
              "      <td>image-ile-G.jpg</td>\n",
              "      <td>jpg</td>\n",
              "      <td>image/jpeg</td>\n",
              "      <td>image/jpeg</td>\n",
              "      <td>375</td>\n",
              "      <td>500</td>\n",
              "      <td>000175bcfb5be374c5f8da05bfe49dc8</td>\n",
              "    </tr>\n",
              "    <tr>\n",
              "      <th>156162</th>\n",
              "      <td>http://mddep.gouv.qc.ca//biodiversite/habitats...</td>\n",
              "      <td>image-ile-G.jpg</td>\n",
              "      <td>jpg</td>\n",
              "      <td>image/jpeg</td>\n",
              "      <td>image/jpeg</td>\n",
              "      <td>375</td>\n",
              "      <td>500</td>\n",
              "      <td>000175bcfb5be374c5f8da05bfe49dc8</td>\n",
              "    </tr>\n",
              "    <tr>\n",
              "      <th>156163</th>\n",
              "      <td>http://www.mddep.gouv.qc.ca/biodiversite/habit...</td>\n",
              "      <td>image-ile-G.jpg</td>\n",
              "      <td>jpg</td>\n",
              "      <td>image/jpeg</td>\n",
              "      <td>image/jpeg</td>\n",
              "      <td>375</td>\n",
              "      <td>500</td>\n",
              "      <td>000175bcfb5be374c5f8da05bfe49dc8</td>\n",
              "    </tr>\n",
              "    <tr>\n",
              "      <th>156164</th>\n",
              "      <td>http://mddep.gouv.qc.ca////biodiversite/habita...</td>\n",
              "      <td>image-ile-G.jpg</td>\n",
              "      <td>jpg</td>\n",
              "      <td>image/jpeg</td>\n",
              "      <td>image/jpeg</td>\n",
              "      <td>375</td>\n",
              "      <td>500</td>\n",
              "      <td>000175bcfb5be374c5f8da05bfe49dc8</td>\n",
              "    </tr>\n",
              "    <tr>\n",
              "      <th>156165</th>\n",
              "      <td>http://www.mddefp.gouv.qc.ca//biodiversite/hab...</td>\n",
              "      <td>image-ile-G.jpg</td>\n",
              "      <td>jpg</td>\n",
              "      <td>image/jpeg</td>\n",
              "      <td>image/jpeg</td>\n",
              "      <td>375</td>\n",
              "      <td>500</td>\n",
              "      <td>000175bcfb5be374c5f8da05bfe49dc8</td>\n",
              "    </tr>\n",
              "  </tbody>\n",
              "</table>\n",
              "<p>156166 rows × 8 columns</p>\n",
              "</div>"
            ],
            "text/plain": [
              "                                                      url  ...                               md5\n",
              "0       http://www.mddelcc.gouv.qc.ca/pesticides/jardi...  ...  fff9b162031400d2dc96ec30284f580e\n",
              "1       http://www.mddep.gouv.qc.ca//pesticides/jardin...  ...  fff9b162031400d2dc96ec30284f580e\n",
              "2       http://www.mddefp.gouv.qc.ca/pesticides/jardin...  ...  fff9b162031400d2dc96ec30284f580e\n",
              "3       http://www.mddefp.gouv.qc.ca////pesticides/jar...  ...  fff9b162031400d2dc96ec30284f580e\n",
              "4       http://www.mddefp.gouv.qc.ca////pesticides/jar...  ...  fff9b162031400d2dc96ec30284f580e\n",
              "...                                                   ...  ...                               ...\n",
              "156161  http://mddep.gouv.qc.ca///biodiversite/habitat...  ...  000175bcfb5be374c5f8da05bfe49dc8\n",
              "156162  http://mddep.gouv.qc.ca//biodiversite/habitats...  ...  000175bcfb5be374c5f8da05bfe49dc8\n",
              "156163  http://www.mddep.gouv.qc.ca/biodiversite/habit...  ...  000175bcfb5be374c5f8da05bfe49dc8\n",
              "156164  http://mddep.gouv.qc.ca////biodiversite/habita...  ...  000175bcfb5be374c5f8da05bfe49dc8\n",
              "156165  http://www.mddefp.gouv.qc.ca//biodiversite/hab...  ...  000175bcfb5be374c5f8da05bfe49dc8\n",
              "\n",
              "[156166 rows x 8 columns]"
            ]
          },
          "metadata": {
            "tags": []
          },
          "execution_count": 4
        }
      ]
    },
    {
      "cell_type": "markdown",
      "metadata": {
        "id": "y5CmfUPNVAQH",
        "colab_type": "text"
      },
      "source": [
        "## Web Graph\n",
        "\n",
        "The next data that we will explore will be the \"web graph.\" This is a DataFrame containing all the hyperlinks within a collection - from `src` (or the page that _contains_ the link) to `dest` (or the page that the link is linking _to_). It also includes the date when this link was crawled, as well as the `anchor` text (what the user clicks on to visit)."
      ]
    },
    {
      "cell_type": "code",
      "metadata": {
        "id": "-YKUCY_izzT8",
        "colab_type": "code",
        "outputId": "02e29807-0477-4624-e4b4-555af539bcfd",
        "colab": {
          "base_uri": "https://localhost:8080/",
          "height": 424
        }
      },
      "source": [
        "webgraph_parquet = pq.read_table('parquet/webgraph')\n",
        "webgraph = webgraph_parquet.to_pandas()\n",
        "webgraph"
      ],
      "execution_count": 5,
      "outputs": [
        {
          "output_type": "execute_result",
          "data": {
            "text/html": [
              "<div>\n",
              "<style scoped>\n",
              "    .dataframe tbody tr th:only-of-type {\n",
              "        vertical-align: middle;\n",
              "    }\n",
              "\n",
              "    .dataframe tbody tr th {\n",
              "        vertical-align: top;\n",
              "    }\n",
              "\n",
              "    .dataframe thead th {\n",
              "        text-align: right;\n",
              "    }\n",
              "</style>\n",
              "<table border=\"1\" class=\"dataframe\">\n",
              "  <thead>\n",
              "    <tr style=\"text-align: right;\">\n",
              "      <th></th>\n",
              "      <th>crawl_date</th>\n",
              "      <th>src</th>\n",
              "      <th>dest</th>\n",
              "      <th>anchor</th>\n",
              "    </tr>\n",
              "  </thead>\n",
              "  <tbody>\n",
              "    <tr>\n",
              "      <th>0</th>\n",
              "      <td>20121218</td>\n",
              "      <td>http://www.mddefp.gouv.qc.ca/infuseur/communiq...</td>\n",
              "      <td>http://www.mddefp.gouv.qc.ca/changements/carbo...</td>\n",
              "      <td>modification r�glementaire</td>\n",
              "    </tr>\n",
              "    <tr>\n",
              "      <th>1</th>\n",
              "      <td>20121218</td>\n",
              "      <td>http://www.mddefp.gouv.qc.ca/infuseur/communiq...</td>\n",
              "      <td>http://recherched.gouv.qc.ca/internet/search.d...</td>\n",
              "      <td>Recherche</td>\n",
              "    </tr>\n",
              "    <tr>\n",
              "      <th>2</th>\n",
              "      <td>20121218</td>\n",
              "      <td>http://www.mddefp.gouv.qc.ca/infuseur/communiq...</td>\n",
              "      <td>http://www.gouv.qc.ca/</td>\n",
              "      <td></td>\n",
              "    </tr>\n",
              "    <tr>\n",
              "      <th>3</th>\n",
              "      <td>20121218</td>\n",
              "      <td>http://www.mddefp.gouv.qc.ca/infuseur/communiq...</td>\n",
              "      <td>http://www.droitauteur.gouv.qc.ca/copyright.php</td>\n",
              "      <td>� Gouvernement du Qu�bec, 2002</td>\n",
              "    </tr>\n",
              "    <tr>\n",
              "      <th>4</th>\n",
              "      <td>20121218</td>\n",
              "      <td>http://www.vehiculeselectriques.gouv.qc.ca/eng...</td>\n",
              "      <td>http://www.gouv.qc.ca/portail/quebec/pgs/commu...</td>\n",
              "      <td>Québec Portal</td>\n",
              "    </tr>\n",
              "    <tr>\n",
              "      <th>...</th>\n",
              "      <td>...</td>\n",
              "      <td>...</td>\n",
              "      <td>...</td>\n",
              "      <td>...</td>\n",
              "    </tr>\n",
              "    <tr>\n",
              "      <th>1439507</th>\n",
              "      <td>20121219</td>\n",
              "      <td>http://www.mddep.gouv.qc.ca/eau/guide/resultat...</td>\n",
              "      <td>http://www.gouv.qc.ca/</td>\n",
              "      <td></td>\n",
              "    </tr>\n",
              "    <tr>\n",
              "      <th>1439508</th>\n",
              "      <td>20121219</td>\n",
              "      <td>http://www.mddep.gouv.qc.ca/eau/guide/resultat...</td>\n",
              "      <td>http://www.droitauteur.gouv.qc.ca/copyright.php</td>\n",
              "      <td>� Gouvernement du Qu�bec, 2002</td>\n",
              "    </tr>\n",
              "    <tr>\n",
              "      <th>1439509</th>\n",
              "      <td>20121219</td>\n",
              "      <td>http://www.mddep.gouv.qc.ca/eau/guide/resultat...</td>\n",
              "      <td>http://recherched.gouv.qc.ca/internet/search.d...</td>\n",
              "      <td>Recherche</td>\n",
              "    </tr>\n",
              "    <tr>\n",
              "      <th>1439510</th>\n",
              "      <td>20121219</td>\n",
              "      <td>http://www.mddep.gouv.qc.ca/eau/guide/resultat...</td>\n",
              "      <td>http://www.gouv.qc.ca/</td>\n",
              "      <td></td>\n",
              "    </tr>\n",
              "    <tr>\n",
              "      <th>1439511</th>\n",
              "      <td>20121219</td>\n",
              "      <td>http://www.mddep.gouv.qc.ca/eau/guide/resultat...</td>\n",
              "      <td>http://www.droitauteur.gouv.qc.ca/copyright.php</td>\n",
              "      <td>� Gouvernement du Qu�bec, 2002</td>\n",
              "    </tr>\n",
              "  </tbody>\n",
              "</table>\n",
              "<p>1439512 rows × 4 columns</p>\n",
              "</div>"
            ],
            "text/plain": [
              "        crawl_date  ...                          anchor\n",
              "0         20121218  ...      modification r�glementaire\n",
              "1         20121218  ...                       Recherche\n",
              "2         20121218  ...                                \n",
              "3         20121218  ...  � Gouvernement du Qu�bec, 2002\n",
              "4         20121218  ...                   Québec Portal\n",
              "...            ...  ...                             ...\n",
              "1439507   20121219  ...                                \n",
              "1439508   20121219  ...  � Gouvernement du Qu�bec, 2002\n",
              "1439509   20121219  ...                       Recherche\n",
              "1439510   20121219  ...                                \n",
              "1439511   20121219  ...  � Gouvernement du Qu�bec, 2002\n",
              "\n",
              "[1439512 rows x 4 columns]"
            ]
          },
          "metadata": {
            "tags": []
          },
          "execution_count": 5
        }
      ]
    },
    {
      "cell_type": "markdown",
      "metadata": {
        "id": "ndZjsWKzUykd",
        "colab_type": "text"
      },
      "source": [
        "## Domains\n",
        "\n",
        "This derivative contains basic information about what's been collected in the crawl. Specifically we can analyze how often pages from each domain appear."
      ]
    },
    {
      "cell_type": "code",
      "metadata": {
        "id": "xUebRBMHuoRs",
        "colab_type": "code",
        "outputId": "aa344de2-6004-44f5-8f5b-7779767962e7",
        "colab": {
          "base_uri": "https://localhost:8080/",
          "height": 424
        }
      },
      "source": [
        "domains_parquet = pq.read_table('parquet/domains')\n",
        "domains = domains_parquet.to_pandas()\n",
        "domains"
      ],
      "execution_count": 6,
      "outputs": [
        {
          "output_type": "execute_result",
          "data": {
            "text/html": [
              "<div>\n",
              "<style scoped>\n",
              "    .dataframe tbody tr th:only-of-type {\n",
              "        vertical-align: middle;\n",
              "    }\n",
              "\n",
              "    .dataframe tbody tr th {\n",
              "        vertical-align: top;\n",
              "    }\n",
              "\n",
              "    .dataframe thead th {\n",
              "        text-align: right;\n",
              "    }\n",
              "</style>\n",
              "<table border=\"1\" class=\"dataframe\">\n",
              "  <thead>\n",
              "    <tr style=\"text-align: right;\">\n",
              "      <th></th>\n",
              "      <th>url</th>\n",
              "      <th>count</th>\n",
              "    </tr>\n",
              "  </thead>\n",
              "  <tbody>\n",
              "    <tr>\n",
              "      <th>0</th>\n",
              "      <td>www.mddefp.gouv.qc.ca</td>\n",
              "      <td>108409</td>\n",
              "    </tr>\n",
              "    <tr>\n",
              "      <th>1</th>\n",
              "      <td>www.mddep.gouv.qc.ca</td>\n",
              "      <td>99854</td>\n",
              "    </tr>\n",
              "    <tr>\n",
              "      <th>2</th>\n",
              "      <td>www.mddelcc.gouv.qc.ca</td>\n",
              "      <td>83594</td>\n",
              "    </tr>\n",
              "    <tr>\n",
              "      <th>3</th>\n",
              "      <td>mddep.gouv.qc.ca</td>\n",
              "      <td>47392</td>\n",
              "    </tr>\n",
              "    <tr>\n",
              "      <th>4</th>\n",
              "      <td>mddefp.gouv.qc.ca</td>\n",
              "      <td>39783</td>\n",
              "    </tr>\n",
              "    <tr>\n",
              "      <th>...</th>\n",
              "      <td>...</td>\n",
              "      <td>...</td>\n",
              "    </tr>\n",
              "    <tr>\n",
              "      <th>76</th>\n",
              "      <td>www.mnba.qc.ca</td>\n",
              "      <td>1</td>\n",
              "    </tr>\n",
              "    <tr>\n",
              "      <th>77</th>\n",
              "      <td>www.cbd.int</td>\n",
              "      <td>1</td>\n",
              "    </tr>\n",
              "    <tr>\n",
              "      <th>78</th>\n",
              "      <td>s7.addthis.com</td>\n",
              "      <td>1</td>\n",
              "    </tr>\n",
              "    <tr>\n",
              "      <th>79</th>\n",
              "      <td>www.longtailvideo.com</td>\n",
              "      <td>1</td>\n",
              "    </tr>\n",
              "    <tr>\n",
              "      <th>80</th>\n",
              "      <td>www.pesticides.mddep.gouv.qc.ca</td>\n",
              "      <td>1</td>\n",
              "    </tr>\n",
              "  </tbody>\n",
              "</table>\n",
              "<p>81 rows × 2 columns</p>\n",
              "</div>"
            ],
            "text/plain": [
              "                                url   count\n",
              "0             www.mddefp.gouv.qc.ca  108409\n",
              "1              www.mddep.gouv.qc.ca   99854\n",
              "2            www.mddelcc.gouv.qc.ca   83594\n",
              "3                  mddep.gouv.qc.ca   47392\n",
              "4                 mddefp.gouv.qc.ca   39783\n",
              "..                              ...     ...\n",
              "76                   www.mnba.qc.ca       1\n",
              "77                      www.cbd.int       1\n",
              "78                   s7.addthis.com       1\n",
              "79            www.longtailvideo.com       1\n",
              "80  www.pesticides.mddep.gouv.qc.ca       1\n",
              "\n",
              "[81 rows x 2 columns]"
            ]
          },
          "metadata": {
            "tags": []
          },
          "execution_count": 6
        }
      ]
    },
    {
      "cell_type": "markdown",
      "metadata": {
        "id": "3HPwOCNAvqMe",
        "colab_type": "text"
      },
      "source": [
        "# Data Analysis\n",
        "\n",
        "Now that we have all of our datasets loaded up, we can begin to work with them!"
      ]
    },
    {
      "cell_type": "markdown",
      "metadata": {
        "id": "J6Pkg0prv3BE",
        "colab_type": "text"
      },
      "source": [
        "## Counting total files, and unique files\n"
      ]
    },
    {
      "cell_type": "markdown",
      "metadata": {
        "id": "DFX4Gl3wv7bi",
        "colab_type": "text"
      },
      "source": [
        "\n",
        "#### Count number of rows (how many images are in the web archive collection).\n"
      ]
    },
    {
      "cell_type": "code",
      "metadata": {
        "id": "bn-1v127aKIG",
        "colab_type": "code",
        "outputId": "141d348f-ddb2-4239-f246-458f838079e2",
        "colab": {
          "base_uri": "https://localhost:8080/",
          "height": 182
        }
      },
      "source": [
        "images.count()"
      ],
      "execution_count": 7,
      "outputs": [
        {
          "output_type": "execute_result",
          "data": {
            "text/plain": [
              "url                     156166\n",
              "filename                156166\n",
              "extension               156166\n",
              "mime_type_web_server    156166\n",
              "mime_type_tika          156166\n",
              "width                   156166\n",
              "height                  156166\n",
              "md5                     156166\n",
              "dtype: int64"
            ]
          },
          "metadata": {
            "tags": []
          },
          "execution_count": 7
        }
      ]
    },
    {
      "cell_type": "markdown",
      "metadata": {
        "id": "38veKiPhwKo4",
        "colab_type": "text"
      },
      "source": [
        " #### How many unique images are in the collection?\n",
        "\n",
        " We can see if an image is unique or not by computing an [MD5 hash](https://en.wikipedia.org/wiki/MD5#MD5_hashes) of it. The exact same image might be called `example.jpg` and `foo.jpg` - by computing the hash, we can see that even with different file names, they are actually the same image!\n",
        "\n",
        "\n"
      ]
    },
    {
      "cell_type": "code",
      "metadata": {
        "id": "WesM3kQowM5B",
        "colab_type": "code",
        "outputId": "af762999-b0b7-426a-8d2a-2220b0a01ba4",
        "colab": {
          "base_uri": "https://localhost:8080/",
          "height": 35
        }
      },
      "source": [
        "len(images.md5.unique())"
      ],
      "execution_count": 8,
      "outputs": [
        {
          "output_type": "execute_result",
          "data": {
            "text/plain": [
              "18287"
            ]
          },
          "metadata": {
            "tags": []
          },
          "execution_count": 8
        }
      ]
    },
    {
      "cell_type": "markdown",
      "metadata": {
        "id": "ZIXkI0-1wWQf",
        "colab_type": "text"
      },
      "source": [
        "#### What are the top 10 most occurring images in the collection?\n",
        "\n",
        "Here we discover which image (or images) occur most frequently. "
      ]
    },
    {
      "cell_type": "code",
      "metadata": {
        "id": "8Ts03OFyjPIM",
        "colab_type": "code",
        "outputId": "8a3ff595-51f4-42d3-af0e-4bff25a09101",
        "colab": {
          "base_uri": "https://localhost:8080/",
          "height": 219
        }
      },
      "source": [
        "images['md5'].value_counts().head(10)"
      ],
      "execution_count": 9,
      "outputs": [
        {
          "output_type": "execute_result",
          "data": {
            "text/plain": [
              "b09dc3225d5e1377c52c06feddc33bfe    192\n",
              "e7d1f7750c16bc835bf1cfe1bf322d46    192\n",
              "a4d3ddfb1a95e87650c624660d67765a    192\n",
              "5283d313972a24f0e71c47ae3c99958b    192\n",
              "89663337857f6d769fbcaed7278cc925     77\n",
              "497db34fffa0e278f57ae614b4b758a0     64\n",
              "58e5d8676dfcc4205551314d98fb2624     61\n",
              "100322cfd242ee75dd5a744526f08d6b     56\n",
              "65274f9eaa4c585b7c35193ebb04e0d7     53\n",
              "838f6da6f67b96e0750570630056c31d     53\n",
              "Name: md5, dtype: int64"
            ]
          },
          "metadata": {
            "tags": []
          },
          "execution_count": 9
        }
      ]
    },
    {
      "cell_type": "markdown",
      "metadata": {
        "id": "FG7pGZUEwlaI",
        "colab_type": "text"
      },
      "source": [
        "\n",
        "#### What's the information around all of the occurances of `b09dc3225d5e1377c52c06feddc33bfe`?\n",
        "\n",
        "What, you mean you don't know what `b09dc3225d5e1377c52c06feddc33bfe` means? Let's find those images in the DataFrame table - we can here see the real file name (`erosion.jpg`) and more importantly, its URL within the web archive.\n"
      ]
    },
    {
      "cell_type": "code",
      "metadata": {
        "id": "msmmm65lkSIK",
        "colab_type": "code",
        "outputId": "9fb680b0-4433-441b-e142-f7a289e68932",
        "colab": {
          "base_uri": "https://localhost:8080/",
          "height": 424
        }
      },
      "source": [
        "images.loc[images['md5'] == 'b09dc3225d5e1377c52c06feddc33bfe']"
      ],
      "execution_count": 10,
      "outputs": [
        {
          "output_type": "execute_result",
          "data": {
            "text/html": [
              "<div>\n",
              "<style scoped>\n",
              "    .dataframe tbody tr th:only-of-type {\n",
              "        vertical-align: middle;\n",
              "    }\n",
              "\n",
              "    .dataframe tbody tr th {\n",
              "        vertical-align: top;\n",
              "    }\n",
              "\n",
              "    .dataframe thead th {\n",
              "        text-align: right;\n",
              "    }\n",
              "</style>\n",
              "<table border=\"1\" class=\"dataframe\">\n",
              "  <thead>\n",
              "    <tr style=\"text-align: right;\">\n",
              "      <th></th>\n",
              "      <th>url</th>\n",
              "      <th>filename</th>\n",
              "      <th>extension</th>\n",
              "      <th>mime_type_web_server</th>\n",
              "      <th>mime_type_tika</th>\n",
              "      <th>width</th>\n",
              "      <th>height</th>\n",
              "      <th>md5</th>\n",
              "    </tr>\n",
              "  </thead>\n",
              "  <tbody>\n",
              "    <tr>\n",
              "      <th>46963</th>\n",
              "      <td>http://www.mddefp.gouv.qc.ca//poissons/st-char...</td>\n",
              "      <td>erosion.jpg</td>\n",
              "      <td>jpg</td>\n",
              "      <td>image/jpeg</td>\n",
              "      <td>image/jpeg</td>\n",
              "      <td>310</td>\n",
              "      <td>220</td>\n",
              "      <td>b09dc3225d5e1377c52c06feddc33bfe</td>\n",
              "    </tr>\n",
              "    <tr>\n",
              "      <th>46964</th>\n",
              "      <td>http://www.mddep.gouv.qc.ca/poissons/yamaska/e...</td>\n",
              "      <td>erosion.jpg</td>\n",
              "      <td>jpg</td>\n",
              "      <td>image/jpeg</td>\n",
              "      <td>image/jpeg</td>\n",
              "      <td>310</td>\n",
              "      <td>220</td>\n",
              "      <td>b09dc3225d5e1377c52c06feddc33bfe</td>\n",
              "    </tr>\n",
              "    <tr>\n",
              "      <th>46965</th>\n",
              "      <td>http://mddefp.gouv.qc.ca/poissons/st-maurice/e...</td>\n",
              "      <td>erosion.jpg</td>\n",
              "      <td>jpg</td>\n",
              "      <td>image/jpeg</td>\n",
              "      <td>image/jpeg</td>\n",
              "      <td>310</td>\n",
              "      <td>220</td>\n",
              "      <td>b09dc3225d5e1377c52c06feddc33bfe</td>\n",
              "    </tr>\n",
              "    <tr>\n",
              "      <th>46966</th>\n",
              "      <td>http://mddefp.gouv.qc.ca/poissons/st-francois/...</td>\n",
              "      <td>erosion.jpg</td>\n",
              "      <td>jpg</td>\n",
              "      <td>image/jpeg</td>\n",
              "      <td>image/jpeg</td>\n",
              "      <td>310</td>\n",
              "      <td>220</td>\n",
              "      <td>b09dc3225d5e1377c52c06feddc33bfe</td>\n",
              "    </tr>\n",
              "    <tr>\n",
              "      <th>46967</th>\n",
              "      <td>http://mddefp.gouv.qc.ca/poissons/chateauguay/...</td>\n",
              "      <td>erosion.jpg</td>\n",
              "      <td>jpg</td>\n",
              "      <td>image/jpeg</td>\n",
              "      <td>image/jpeg</td>\n",
              "      <td>310</td>\n",
              "      <td>220</td>\n",
              "      <td>b09dc3225d5e1377c52c06feddc33bfe</td>\n",
              "    </tr>\n",
              "    <tr>\n",
              "      <th>...</th>\n",
              "      <td>...</td>\n",
              "      <td>...</td>\n",
              "      <td>...</td>\n",
              "      <td>...</td>\n",
              "      <td>...</td>\n",
              "      <td>...</td>\n",
              "      <td>...</td>\n",
              "      <td>...</td>\n",
              "    </tr>\n",
              "    <tr>\n",
              "      <th>47150</th>\n",
              "      <td>http://www.mddelcc.gouv.qc.ca//poissons/yamask...</td>\n",
              "      <td>erosion.jpg</td>\n",
              "      <td>jpg</td>\n",
              "      <td>image/jpeg</td>\n",
              "      <td>image/jpeg</td>\n",
              "      <td>310</td>\n",
              "      <td>220</td>\n",
              "      <td>b09dc3225d5e1377c52c06feddc33bfe</td>\n",
              "    </tr>\n",
              "    <tr>\n",
              "      <th>47151</th>\n",
              "      <td>http://www.mddelcc.gouv.qc.ca//poissons/assomp...</td>\n",
              "      <td>erosion.jpg</td>\n",
              "      <td>jpg</td>\n",
              "      <td>image/jpeg</td>\n",
              "      <td>image/jpeg</td>\n",
              "      <td>310</td>\n",
              "      <td>220</td>\n",
              "      <td>b09dc3225d5e1377c52c06feddc33bfe</td>\n",
              "    </tr>\n",
              "    <tr>\n",
              "      <th>47152</th>\n",
              "      <td>http://www.mddelcc.gouv.qc.ca//poissons/st-fra...</td>\n",
              "      <td>erosion.jpg</td>\n",
              "      <td>jpg</td>\n",
              "      <td>image/jpeg</td>\n",
              "      <td>image/jpeg</td>\n",
              "      <td>310</td>\n",
              "      <td>220</td>\n",
              "      <td>b09dc3225d5e1377c52c06feddc33bfe</td>\n",
              "    </tr>\n",
              "    <tr>\n",
              "      <th>47153</th>\n",
              "      <td>http://www.mddep.gouv.qc.ca/poissons/st-franco...</td>\n",
              "      <td>erosion.jpg</td>\n",
              "      <td>jpg</td>\n",
              "      <td>image/jpeg</td>\n",
              "      <td>image/jpeg</td>\n",
              "      <td>310</td>\n",
              "      <td>220</td>\n",
              "      <td>b09dc3225d5e1377c52c06feddc33bfe</td>\n",
              "    </tr>\n",
              "    <tr>\n",
              "      <th>47154</th>\n",
              "      <td>http://www.mddep.gouv.qc.ca//poissons/yamaska/...</td>\n",
              "      <td>erosion.jpg</td>\n",
              "      <td>jpg</td>\n",
              "      <td>image/jpeg</td>\n",
              "      <td>image/jpeg</td>\n",
              "      <td>310</td>\n",
              "      <td>220</td>\n",
              "      <td>b09dc3225d5e1377c52c06feddc33bfe</td>\n",
              "    </tr>\n",
              "  </tbody>\n",
              "</table>\n",
              "<p>192 rows × 8 columns</p>\n",
              "</div>"
            ],
            "text/plain": [
              "                                                     url  ...                               md5\n",
              "46963  http://www.mddefp.gouv.qc.ca//poissons/st-char...  ...  b09dc3225d5e1377c52c06feddc33bfe\n",
              "46964  http://www.mddep.gouv.qc.ca/poissons/yamaska/e...  ...  b09dc3225d5e1377c52c06feddc33bfe\n",
              "46965  http://mddefp.gouv.qc.ca/poissons/st-maurice/e...  ...  b09dc3225d5e1377c52c06feddc33bfe\n",
              "46966  http://mddefp.gouv.qc.ca/poissons/st-francois/...  ...  b09dc3225d5e1377c52c06feddc33bfe\n",
              "46967  http://mddefp.gouv.qc.ca/poissons/chateauguay/...  ...  b09dc3225d5e1377c52c06feddc33bfe\n",
              "...                                                  ...  ...                               ...\n",
              "47150  http://www.mddelcc.gouv.qc.ca//poissons/yamask...  ...  b09dc3225d5e1377c52c06feddc33bfe\n",
              "47151  http://www.mddelcc.gouv.qc.ca//poissons/assomp...  ...  b09dc3225d5e1377c52c06feddc33bfe\n",
              "47152  http://www.mddelcc.gouv.qc.ca//poissons/st-fra...  ...  b09dc3225d5e1377c52c06feddc33bfe\n",
              "47153  http://www.mddep.gouv.qc.ca/poissons/st-franco...  ...  b09dc3225d5e1377c52c06feddc33bfe\n",
              "47154  http://www.mddep.gouv.qc.ca//poissons/yamaska/...  ...  b09dc3225d5e1377c52c06feddc33bfe\n",
              "\n",
              "[192 rows x 8 columns]"
            ]
          },
          "metadata": {
            "tags": []
          },
          "execution_count": 10
        }
      ]
    },
    {
      "cell_type": "markdown",
      "metadata": {
        "id": "kE-8epARIG0-",
        "colab_type": "text"
      },
      "source": [
        "### What does `b09dc3225d5e1377c52c06feddc33bfe` look like?\n",
        "\n",
        "We can extract the binary from the web archive using our [binary extraction functions](https://github.com/archivesunleashed/aut-docs-new/blob/master/current/image-analysis.md#scala-df).\n",
        "\n",
        "```scala\n",
        "import io.archivesunleashed._\n",
        "import io.archivesunleashed.df._\n",
        "\n",
        "val df = RecordLoader\n",
        "  .loadArchives(\"example.arc.gz\", sc)\n",
        "  .extractImageDetailsDF();\n",
        "\n",
        "df.select($\"bytes\", $\"extension\")\n",
        "  .saveToDisk(\"bytes\", \"/path/to/export/directory/your-preferred-filename-prefix\", $\"extension\")\n",
        "```\n",
        "\n",
        "**But**, since we don't have access to the WARC files here, just the Parquet derivatives, we can make do  by trying to display a live web version of the image or a replay URL. In this case, BANQ's replay service is available at [https://waext.banq.qc.ca](https://waext.banq.qc.ca)."
      ]
    },
    {
      "cell_type": "code",
      "metadata": {
        "id": "wB3VqcmgJQM0",
        "colab_type": "code",
        "outputId": "888c4145-8a65-4136-cc99-17a9a507e8fb",
        "colab": {
          "base_uri": "https://localhost:8080/",
          "height": 54
        }
      },
      "source": [
        "pd.options.display.max_colwidth = -1\n",
        "one_image = images.loc[images['md5'] == 'b09dc3225d5e1377c52c06feddc33bfe'].head(1)\n",
        "one_image['url']"
      ],
      "execution_count": 11,
      "outputs": [
        {
          "output_type": "execute_result",
          "data": {
            "text/plain": [
              "46963    http://www.mddefp.gouv.qc.ca//poissons/st-charles/erosion.jpg\n",
              "Name: url, dtype: object"
            ]
          },
          "metadata": {
            "tags": []
          },
          "execution_count": 11
        }
      ]
    },
    {
      "cell_type": "markdown",
      "metadata": {
        "id": "5YV2u_8aLEJS",
        "colab_type": "text"
      },
      "source": [
        "![fish](https://waext.banq.qc.ca/wayback/20121127103149/http://www.mddefp.gouv.qc.ca/poissons/st-charles/erosion.jpg)"
      ]
    },
    {
      "cell_type": "markdown",
      "metadata": {
        "id": "6YfsUGSRt1Ns",
        "colab_type": "text"
      },
      "source": [
        "Unfortunately, while we can tell you this is such a popular image within the web archive, we can't tell you _why_. That's where the researcher comes in!"
      ]
    },
    {
      "cell_type": "markdown",
      "metadata": {
        "id": "GbLLZW2awzCv",
        "colab_type": "text"
      },
      "source": [
        "#### What are the top 10 most occuring filenames in the collection?\n",
        "\n",
        "Note that this is of course different than the MD5 results up above. Here we are focusing _just_ on filename. So `carte-p.jpg` for example, might actually be referring to different images who happen to have the same name.\n"
      ]
    },
    {
      "cell_type": "code",
      "metadata": {
        "id": "pQaw54ACkwdZ",
        "colab_type": "code",
        "outputId": "e3e51f34-75ea-4ba7-a36a-36e51fcf56b5",
        "colab": {
          "base_uri": "https://localhost:8080/",
          "height": 219
        }
      },
      "source": [
        "top_filenames = images['filename'].value_counts().head(10)\n",
        "top_filenames"
      ],
      "execution_count": 12,
      "outputs": [
        {
          "output_type": "execute_result",
          "data": {
            "text/plain": [
              "carte-p.jpg      1196\n",
              "carte2.jpg       924 \n",
              "carte1.jpg       875 \n",
              "carte-g.jpg      660 \n",
              "carte.jpg        576 \n",
              "carte-an.jpg     575 \n",
              "carte-qc.jpg     575 \n",
              "carte-G.jpg      484 \n",
              "carte_p.jpg      473 \n",
              "carte_web.jpg    431 \n",
              "Name: filename, dtype: int64"
            ]
          },
          "metadata": {
            "tags": []
          },
          "execution_count": 12
        }
      ]
    },
    {
      "cell_type": "markdown",
      "metadata": {
        "id": "Z7F3re20BQRI",
        "colab_type": "text"
      },
      "source": [
        "#### Let's plot it!"
      ]
    },
    {
      "cell_type": "code",
      "metadata": {
        "id": "sRvlstfsBWEZ",
        "colab_type": "code",
        "outputId": "f88f26e8-d465-4c0c-cd7e-6c4abb5185b9",
        "colab": {
          "base_uri": "https://localhost:8080/",
          "height": 715
        }
      },
      "source": [
        "top_filenames_chart = top_filenames.plot.bar(figsize=(25,10))\n",
        "top_filenames_chart.set_title(\"Top Filenames\", fontsize=22)\n",
        "top_filenames_chart.set_xlabel(\"Filename\", fontsize=20)\n",
        "top_filenames_chart.set_ylabel(\"Count\", fontsize=20)"
      ],
      "execution_count": 13,
      "outputs": [
        {
          "output_type": "execute_result",
          "data": {
            "text/plain": [
              "Text(0, 0.5, 'Count')"
            ]
          },
          "metadata": {
            "tags": []
          },
          "execution_count": 13
        },
        {
          "output_type": "display_data",
          "data": {
            "image/png": "[encoded data removed]",
            "text/plain": [
              "<Figure size 1800x720 with 1 Axes>"
            ]
          },
          "metadata": {
            "tags": []
          }
        }
      ]
    },
    {
      "cell_type": "markdown",
      "metadata": {
        "id": "BneaN9cgGoly",
        "colab_type": "text"
      },
      "source": [
        "#### How about a MIME type distribution?\n",
        "\n",
        "What _kind_ of image files are present? We can discover this by checking their \"media type\", or [MIME type](https://en.wikipedia.org/wiki/Media_type). \n",
        "\n",
        "\n",
        "\n",
        "\n"
      ]
    },
    {
      "cell_type": "code",
      "metadata": {
        "id": "RDd-J8D-GwDk",
        "colab_type": "code",
        "outputId": "3d417d86-a9ee-4053-c329-99ed8eb01ff1",
        "colab": {
          "base_uri": "https://localhost:8080/",
          "height": 772
        }
      },
      "source": [
        "image_mime_types = images['mime_type_tika'].value_counts().head(5)\n",
        "image_mime_type_chart = image_mime_types.plot.bar(figsize=(20,10))\n",
        "image_mime_type_chart.set_title(\"Images MIME Type Distribution\", fontsize=22)\n",
        "image_mime_type_chart.set_xlabel(\"MIME Type\", fontsize=20)\n",
        "image_mime_type_chart.set_ylabel(\"Count\", fontsize=20)"
      ],
      "execution_count": 14,
      "outputs": [
        {
          "output_type": "execute_result",
          "data": {
            "text/plain": [
              "Text(0, 0.5, 'Count')"
            ]
          },
          "metadata": {
            "tags": []
          },
          "execution_count": 14
        },
        {
          "output_type": "display_data",
          "data": {
            "image/png": "[encoded data removed]",
            "text/plain": [
              "<Figure size 1440x720 with 1 Axes>"
            ]
          },
          "metadata": {
            "tags": []
          }
        }
      ]
    },
    {
      "cell_type": "markdown",
      "metadata": {
        "id": "QGHnjGRQPzqV",
        "colab_type": "text"
      },
      "source": [
        "#### How about the distribution of the top 10 domains?\n",
        "\n",
        "Here we can see which domains are the most frequent within the web archive."
      ]
    },
    {
      "cell_type": "code",
      "metadata": {
        "id": "C_X_YSD4PyQi",
        "colab_type": "code",
        "outputId": "34977e47-a91c-49b2-c965-394399635f42",
        "colab": {
          "base_uri": "https://localhost:8080/",
          "height": 969
        }
      },
      "source": [
        "top_domains = domains.sort_values('count', ascending=False).head(10)\n",
        "top_domains_chart = top_domains.plot.bar(x='url', y='count', figsize=(25,13))\n",
        "top_domains_chart.set_title(\"Domains Distribution\", fontsize=22)\n",
        "top_domains_chart.set_xlabel(\"Domain\", fontsize=20)\n",
        "top_domains_chart.set_ylabel(\"Count\", fontsize=20)"
      ],
      "execution_count": 19,
      "outputs": [
        {
          "output_type": "execute_result",
          "data": {
            "text/plain": [
              "Text(0, 0.5, 'Count')"
            ]
          },
          "metadata": {
            "tags": []
          },
          "execution_count": 19
        },
        {
          "output_type": "display_data",
          "data": {
            "image/png": "[encoded data removed]",
            "text/plain": [
              "<Figure size 1800x936 with 1 Axes>"
            ]
          },
          "metadata": {
            "tags": []
          }
        }
      ]
    },
    {
      "cell_type": "markdown",
      "metadata": {
        "id": "VDXDhqCcyyFj",
        "colab_type": "text"
      },
      "source": [
        "### Top Level Domain Analysis\n",
        "Now let's create a new column, `tld`, which is based off an existing column, 'Domain'. This example should give you an idea of how you can expand these datasets to do further research and analysis. \n",
        "\n",
        "A [top-level domain](https://en.wikipedia.org/wiki/Top-level_domain) refers to the highest domain in an address - i.e. `.ca`, `.com`, `.org`, or yes, even `.pizza`.\n",
        "\n",
        "Things get a bit complicated, however, in some national TLDs. While `qc.ca` (the domain for Quebec) isn't really a top-level domain, it has many of the features of one as people can directly register under it. Below, we'll use the command `suffix` to include this. \n",
        "\n",
        "> You can learn more about suffixes at https://publicsuffix.org.\n",
        "\n",
        "We'll take the `Domain` column and extract the `tld` from it with [`tldextract`](https://github.com/john-kurkowski/tldextract).\n",
        "\n",
        "First we'll add the [`tldextract`](https://github.com/john-kurkowski/tldextract) library to the notebook. Then, we'll create the new column."
      ]
    },
    {
      "cell_type": "code",
      "metadata": {
        "id": "clPJuQAe5mcg",
        "colab_type": "code",
        "colab": {}
      },
      "source": [
        "%%capture\n",
        "\n",
        "!pip install tldextract"
      ],
      "execution_count": 0,
      "outputs": []
    },
    {
      "cell_type": "code",
      "metadata": {
        "id": "mv7a-MLIx-3f",
        "colab_type": "code",
        "outputId": "4318bcf8-46fe-4944-8ab3-5b4bceb542a6",
        "colab": {
          "base_uri": "https://localhost:8080/",
          "height": 424
        }
      },
      "source": [
        "import tldextract\n",
        "\n",
        "domains['tld'] = domains.apply(lambda row: tldextract.extract(row.url).suffix, axis=1)\n",
        "domains"
      ],
      "execution_count": 17,
      "outputs": [
        {
          "output_type": "execute_result",
          "data": {
            "text/html": [
              "<div>\n",
              "<style scoped>\n",
              "    .dataframe tbody tr th:only-of-type {\n",
              "        vertical-align: middle;\n",
              "    }\n",
              "\n",
              "    .dataframe tbody tr th {\n",
              "        vertical-align: top;\n",
              "    }\n",
              "\n",
              "    .dataframe thead th {\n",
              "        text-align: right;\n",
              "    }\n",
              "</style>\n",
              "<table border=\"1\" class=\"dataframe\">\n",
              "  <thead>\n",
              "    <tr style=\"text-align: right;\">\n",
              "      <th></th>\n",
              "      <th>url</th>\n",
              "      <th>count</th>\n",
              "      <th>tld</th>\n",
              "    </tr>\n",
              "  </thead>\n",
              "  <tbody>\n",
              "    <tr>\n",
              "      <th>0</th>\n",
              "      <td>www.mddefp.gouv.qc.ca</td>\n",
              "      <td>108409</td>\n",
              "      <td>qc.ca</td>\n",
              "    </tr>\n",
              "    <tr>\n",
              "      <th>1</th>\n",
              "      <td>www.mddep.gouv.qc.ca</td>\n",
              "      <td>99854</td>\n",
              "      <td>qc.ca</td>\n",
              "    </tr>\n",
              "    <tr>\n",
              "      <th>2</th>\n",
              "      <td>www.mddelcc.gouv.qc.ca</td>\n",
              "      <td>83594</td>\n",
              "      <td>qc.ca</td>\n",
              "    </tr>\n",
              "    <tr>\n",
              "      <th>3</th>\n",
              "      <td>mddep.gouv.qc.ca</td>\n",
              "      <td>47392</td>\n",
              "      <td>qc.ca</td>\n",
              "    </tr>\n",
              "    <tr>\n",
              "      <th>4</th>\n",
              "      <td>mddefp.gouv.qc.ca</td>\n",
              "      <td>39783</td>\n",
              "      <td>qc.ca</td>\n",
              "    </tr>\n",
              "    <tr>\n",
              "      <th>...</th>\n",
              "      <td>...</td>\n",
              "      <td>...</td>\n",
              "      <td>...</td>\n",
              "    </tr>\n",
              "    <tr>\n",
              "      <th>76</th>\n",
              "      <td>www.mnba.qc.ca</td>\n",
              "      <td>1</td>\n",
              "      <td>qc.ca</td>\n",
              "    </tr>\n",
              "    <tr>\n",
              "      <th>77</th>\n",
              "      <td>www.cbd.int</td>\n",
              "      <td>1</td>\n",
              "      <td>int</td>\n",
              "    </tr>\n",
              "    <tr>\n",
              "      <th>78</th>\n",
              "      <td>s7.addthis.com</td>\n",
              "      <td>1</td>\n",
              "      <td>com</td>\n",
              "    </tr>\n",
              "    <tr>\n",
              "      <th>79</th>\n",
              "      <td>www.longtailvideo.com</td>\n",
              "      <td>1</td>\n",
              "      <td>com</td>\n",
              "    </tr>\n",
              "    <tr>\n",
              "      <th>80</th>\n",
              "      <td>www.pesticides.mddep.gouv.qc.ca</td>\n",
              "      <td>1</td>\n",
              "      <td>qc.ca</td>\n",
              "    </tr>\n",
              "  </tbody>\n",
              "</table>\n",
              "<p>81 rows × 3 columns</p>\n",
              "</div>"
            ],
            "text/plain": [
              "                                url   count    tld\n",
              "0   www.mddefp.gouv.qc.ca            108409  qc.ca\n",
              "1   www.mddep.gouv.qc.ca             99854   qc.ca\n",
              "2   www.mddelcc.gouv.qc.ca           83594   qc.ca\n",
              "3   mddep.gouv.qc.ca                 47392   qc.ca\n",
              "4   mddefp.gouv.qc.ca                39783   qc.ca\n",
              "..                ...                  ...     ...\n",
              "76  www.mnba.qc.ca                   1       qc.ca\n",
              "77  www.cbd.int                      1       int  \n",
              "78  s7.addthis.com                   1       com  \n",
              "79  www.longtailvideo.com            1       com  \n",
              "80  www.pesticides.mddep.gouv.qc.ca  1       qc.ca\n",
              "\n",
              "[81 rows x 3 columns]"
            ]
          },
          "metadata": {
            "tags": []
          },
          "execution_count": 17
        }
      ]
    },
    {
      "cell_type": "markdown",
      "metadata": {
        "id": "jdXFS2yu8XYG",
        "colab_type": "text"
      },
      "source": [
        "#### Next, let's count the distict TLDs.\n"
      ]
    },
    {
      "cell_type": "code",
      "metadata": {
        "id": "1lViQIU48e-u",
        "colab_type": "code",
        "outputId": "10585389-d55c-4902-8466-680d677f2864",
        "colab": {
          "base_uri": "https://localhost:8080/",
          "height": 164
        }
      },
      "source": [
        "tld_count = domains['tld'].value_counts()\n",
        "tld_count"
      ],
      "execution_count": 20,
      "outputs": [
        {
          "output_type": "execute_result",
          "data": {
            "text/plain": [
              "qc.ca    44\n",
              "com      22\n",
              "ca       5 \n",
              "net      4 \n",
              "gc.ca    3 \n",
              "org      2 \n",
              "int      1 \n",
              "Name: tld, dtype: int64"
            ]
          },
          "metadata": {
            "tags": []
          },
          "execution_count": 20
        }
      ]
    },
    {
      "cell_type": "markdown",
      "metadata": {
        "id": "xm_V_0PGzZut",
        "colab_type": "text"
      },
      "source": [
        "#### Next, we'll plot the TLD count.\n"
      ]
    },
    {
      "cell_type": "code",
      "metadata": {
        "id": "N8yNlOa-zmBD",
        "colab_type": "code",
        "outputId": "70a3f565-2bf7-47ff-b6f4-88594bf139cf",
        "colab": {
          "base_uri": "https://localhost:8080/",
          "height": 671
        }
      },
      "source": [
        "tld_chart = tld_count.plot.bar(legend=None, figsize=(25,10))\n",
        "tld_chart.set_xlabel(\"TLD\", fontsize=20)\n",
        "tld_chart.set_ylabel(\"Count\", fontsize=20)\n",
        "tld_chart.set_title(\"Top Level Domain Distribution\", fontsize=22)"
      ],
      "execution_count": 21,
      "outputs": [
        {
          "output_type": "execute_result",
          "data": {
            "text/plain": [
              "Text(0.5, 1.0, 'Top Level Domain Distribution')"
            ]
          },
          "metadata": {
            "tags": []
          },
          "execution_count": 21
        },
        {
          "output_type": "display_data",
          "data": {
            "image/png": "[encoded data removed]",
            "text/plain": [
              "<Figure size 1800x720 with 1 Axes>"
            ]
          },
          "metadata": {
            "tags": []
          }
        }
      ]
    },
    {
      "cell_type": "markdown",
      "metadata": {
        "id": "DWq4hkhoAXNm",
        "colab_type": "text"
      },
      "source": [
        "## Examining the Web Graph"
      ]
    },
    {
      "cell_type": "markdown",
      "metadata": {
        "id": "tdCH8zAPAa2M",
        "colab_type": "text"
      },
      "source": [
        "Remember the hyperlink web graph? Let's look at the web graph columns again.\n",
        "\n"
      ]
    },
    {
      "cell_type": "code",
      "metadata": {
        "id": "-MFkAOcLAWy5",
        "colab_type": "code",
        "outputId": "0f11915f-4826-42d3-e93b-6066f2575f42",
        "colab": {
          "base_uri": "https://localhost:8080/",
          "height": 545
        }
      },
      "source": [
        "webgraph"
      ],
      "execution_count": 22,
      "outputs": [
        {
          "output_type": "execute_result",
          "data": {
            "text/html": [
              "<div>\n",
              "<style scoped>\n",
              "    .dataframe tbody tr th:only-of-type {\n",
              "        vertical-align: middle;\n",
              "    }\n",
              "\n",
              "    .dataframe tbody tr th {\n",
              "        vertical-align: top;\n",
              "    }\n",
              "\n",
              "    .dataframe thead th {\n",
              "        text-align: right;\n",
              "    }\n",
              "</style>\n",
              "<table border=\"1\" class=\"dataframe\">\n",
              "  <thead>\n",
              "    <tr style=\"text-align: right;\">\n",
              "      <th></th>\n",
              "      <th>crawl_date</th>\n",
              "      <th>src</th>\n",
              "      <th>dest</th>\n",
              "      <th>anchor</th>\n",
              "    </tr>\n",
              "  </thead>\n",
              "  <tbody>\n",
              "    <tr>\n",
              "      <th>0</th>\n",
              "      <td>20121218</td>\n",
              "      <td>http://www.mddefp.gouv.qc.ca/infuseur/communique.asp?no=2301</td>\n",
              "      <td>http://www.mddefp.gouv.qc.ca/changements/carbone/reg-mod-reg-spede.pdf</td>\n",
              "      <td>modification r�glementaire</td>\n",
              "    </tr>\n",
              "    <tr>\n",
              "      <th>1</th>\n",
              "      <td>20121218</td>\n",
              "      <td>http://www.mddefp.gouv.qc.ca/infuseur/communique.asp?no=2301</td>\n",
              "      <td>http://recherched.gouv.qc.ca/internet/search.do?query=&amp;searchIn=menv&amp;charSet=ISO-8859-1&amp;includesDir=http://www.mddefp.gouv.qc.ca/recherche/&amp;includesExt=asp&amp;displayLang=fr&amp;searchLang=fr&amp;source=IQA&amp;hitsPerPage=10&amp;leftMenu=false&amp;template=default&amp;pageWidth=760px&amp;horizontalAlign=center&amp;headerHeight=140px&amp;bottomHeight=60px&amp;leftMenuWidth=0px &amp;dev=true</td>\n",
              "      <td>Recherche</td>\n",
              "    </tr>\n",
              "    <tr>\n",
              "      <th>2</th>\n",
              "      <td>20121218</td>\n",
              "      <td>http://www.mddefp.gouv.qc.ca/infuseur/communique.asp?no=2301</td>\n",
              "      <td>http://www.gouv.qc.ca/</td>\n",
              "      <td></td>\n",
              "    </tr>\n",
              "    <tr>\n",
              "      <th>3</th>\n",
              "      <td>20121218</td>\n",
              "      <td>http://www.mddefp.gouv.qc.ca/infuseur/communique.asp?no=2301</td>\n",
              "      <td>http://www.droitauteur.gouv.qc.ca/copyright.php</td>\n",
              "      <td>� Gouvernement du Qu�bec, 2002</td>\n",
              "    </tr>\n",
              "    <tr>\n",
              "      <th>4</th>\n",
              "      <td>20121218</td>\n",
              "      <td>http://www.vehiculeselectriques.gouv.qc.ca/english/nous-joindre.asp</td>\n",
              "      <td>http://www.gouv.qc.ca/portail/quebec/pgs/commun/?lang=fr</td>\n",
              "      <td>Québec Portal</td>\n",
              "    </tr>\n",
              "    <tr>\n",
              "      <th>...</th>\n",
              "      <td>...</td>\n",
              "      <td>...</td>\n",
              "      <td>...</td>\n",
              "      <td>...</td>\n",
              "    </tr>\n",
              "    <tr>\n",
              "      <th>1439507</th>\n",
              "      <td>20121219</td>\n",
              "      <td>http://www.mddep.gouv.qc.ca/eau/guide/resultat.asp?site=090380001&amp;methode=c</td>\n",
              "      <td>http://www.gouv.qc.ca/</td>\n",
              "      <td></td>\n",
              "    </tr>\n",
              "    <tr>\n",
              "      <th>1439508</th>\n",
              "      <td>20121219</td>\n",
              "      <td>http://www.mddep.gouv.qc.ca/eau/guide/resultat.asp?site=090380001&amp;methode=c</td>\n",
              "      <td>http://www.droitauteur.gouv.qc.ca/copyright.php</td>\n",
              "      <td>� Gouvernement du Qu�bec, 2002</td>\n",
              "    </tr>\n",
              "    <tr>\n",
              "      <th>1439509</th>\n",
              "      <td>20121219</td>\n",
              "      <td>http://www.mddep.gouv.qc.ca/eau/guide/resultat.asp?site=090500006</td>\n",
              "      <td>http://recherched.gouv.qc.ca/internet/search.do?query=&amp;searchIn=menv&amp;charSet=ISO-8859-1&amp;includesDir=http://www.mddefp.gouv.qc.ca/recherche/&amp;includesExt=asp&amp;displayLang=fr&amp;searchLang=fr&amp;source=IQA&amp;hitsPerPage=10&amp;leftMenu=false&amp;template=default&amp;pageWidth=760px&amp;horizontalAlign=center&amp;headerHeight=140px&amp;bottomHeight=60px&amp;leftMenuWidth=0px &amp;dev=true</td>\n",
              "      <td>Recherche</td>\n",
              "    </tr>\n",
              "    <tr>\n",
              "      <th>1439510</th>\n",
              "      <td>20121219</td>\n",
              "      <td>http://www.mddep.gouv.qc.ca/eau/guide/resultat.asp?site=090500006</td>\n",
              "      <td>http://www.gouv.qc.ca/</td>\n",
              "      <td></td>\n",
              "    </tr>\n",
              "    <tr>\n",
              "      <th>1439511</th>\n",
              "      <td>20121219</td>\n",
              "      <td>http://www.mddep.gouv.qc.ca/eau/guide/resultat.asp?site=090500006</td>\n",
              "      <td>http://www.droitauteur.gouv.qc.ca/copyright.php</td>\n",
              "      <td>� Gouvernement du Qu�bec, 2002</td>\n",
              "    </tr>\n",
              "  </tbody>\n",
              "</table>\n",
              "<p>1439512 rows × 4 columns</p>\n",
              "</div>"
            ],
            "text/plain": [
              "        crawl_date  ...                          anchor\n",
              "0        20121218   ...  modification r�glementaire    \n",
              "1        20121218   ...  Recherche                     \n",
              "2        20121218   ...                                \n",
              "3        20121218   ...  � Gouvernement du Qu�bec, 2002\n",
              "4        20121218   ...  Québec Portal                 \n",
              "...           ...   ...            ...                 \n",
              "1439507  20121219   ...                                \n",
              "1439508  20121219   ...  � Gouvernement du Qu�bec, 2002\n",
              "1439509  20121219   ...  Recherche                     \n",
              "1439510  20121219   ...                                \n",
              "1439511  20121219   ...  � Gouvernement du Qu�bec, 2002\n",
              "\n",
              "[1439512 rows x 4 columns]"
            ]
          },
          "metadata": {
            "tags": []
          },
          "execution_count": 22
        }
      ]
    },
    {
      "cell_type": "markdown",
      "metadata": {
        "id": "BFaebkzWAp-R",
        "colab_type": "text"
      },
      "source": [
        "### What are the most frequent crawl dates?\n"
      ]
    },
    {
      "cell_type": "code",
      "metadata": {
        "id": "kJNT3vqkAxqj",
        "colab_type": "code",
        "outputId": "645abaf1-1c58-4566-999a-7f086383c329",
        "colab": {
          "base_uri": "https://localhost:8080/",
          "height": 763
        }
      },
      "source": [
        "crawl_dates = webgraph['crawl_date'].value_counts()\n",
        "crawl_dates\n",
        "crawl_dates_chart = crawl_dates.plot.line(figsize=(25,12))\n",
        "crawl_dates_chart.set_xlabel(\"Crawl Date\", fontsize=20)\n",
        "crawl_dates_chart.set_ylabel(\"Count\", fontsize=20)\n",
        "crawl_dates_chart.set_title(\"Crawl Date Frequency\", fontsize=22)\n"
      ],
      "execution_count": 23,
      "outputs": [
        {
          "output_type": "execute_result",
          "data": {
            "text/plain": [
              "Text(0.5, 1.0, 'Crawl Date Frequency')"
            ]
          },
          "metadata": {
            "tags": []
          },
          "execution_count": 23
        },
        {
          "output_type": "display_data",
          "data": {
            "image/png": "[encoded data removed]",
            "text/plain": [
              "<Figure size 1800x864 with 1 Axes>"
            ]
          },
          "metadata": {
            "tags": []
          }
        }
      ]
    }
  ]
}
