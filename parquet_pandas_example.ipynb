{
  "nbformat": 4,
  "nbformat_minor": 0,
  "metadata": {
    "colab": {
      "name": "parquet-pandas-example.ipynb",
      "provenance": [],
      "include_colab_link": true
    },
    "kernelspec": {
      "name": "python3",
      "display_name": "Python 3"
    }
  },
  "cells": [
    {
      "cell_type": "markdown",
      "metadata": {
        "id": "view-in-github",
        "colab_type": "text"
      },
      "source": [
        "<a href=\"https://colab.research.google.com/github/archivesunleashed/notebooks/blob/master/parquet_pandas_example.ipynb\" target=\"_parent\"><img src=\"https://colab.research.google.com/assets/colab-badge.svg\" alt=\"Open In Colab\"/></a>"
      ]
    },
    {
      "cell_type": "markdown",
      "metadata": {
        "id": "EN0gajhr7pKd",
        "colab_type": "text"
      },
      "source": [
        "# Working with Archives Unleashed Parquet Derivatives\n",
        "\n",
        "In this notebook, we'll setup an enviroment, then load nine different DataFrames to experiment with.\n",
        "\n",
        "**[Binary Analysis](https://github.com/archivesunleashed/aut/wiki/Bleeding-Edge#list-of-domains)**\n",
        "- [Audio](https://github.com/archivesunleashed/aut-docs-new/blob/master/current/binary-analysis.md#Extract-Audio-Information)\n",
        "- [Images](https://github.com/archivesunleashed/aut-docs-new/blob/master/current/image-analysis.md#Extract-Image-information)\n",
        "- [PDFs](https://github.com/archivesunleashed/aut-docs-new/blob/master/current/binary-analysis.md#Extract-PDF-Information)\n",
        "- [Presentation program files](https://github.com/archivesunleashed/aut-docs-new/blob/master/current/binary-analysis.md#Extract-Presentation-Program-Files-Information)\n",
        "- [Spreadsheets](https://github.com/archivesunleashed/aut-docs-new/blob/master/current/binary-analysis.md#Extract-Spreadsheet-Information)\n",
        "- [Videos](https://github.com/archivesunleashed/aut-docs-new/blob/master/current/binary-analysis.md#Extract-Video-Information)\n",
        "- [Word processor files](hhttps://github.com/archivesunleashed/aut-docs-new/blob/master/current/binary-analysis.md#Extract-Word-Processor-Files-Information)\n",
        "\n",
        "**[Hyperlink Network](https://github.com/archivesunleashed/aut/wiki/Bleeding-Edge#hyperlink-network)**\n",
        "\n",
        "**[List of Domains](https://github.com/archivesunleashed/aut/wiki/Bleeding-Edge#list-of-domains)**"
      ]
    },
    {
      "cell_type": "markdown",
      "metadata": {
        "id": "OctPUqrG-K2W",
        "colab_type": "text"
      },
      "source": [
        "# Dataset\n",
        "\n",
        "We will need web archive dataset to work with.\n",
        "\n",
        "The one we'll use in this example notebook comes from [Bibliothèque et Archives nationales du Québec](https://www.banq.qc.ca/accueil/). It is a web archive collection of the Ministry of Environment of Québec (2011-2014), that has been  processed by the [Archives Unleashed Toolkit](https://github.com/archivesunleashed/aut/). Merci beaucoup banq!\n",
        "\n",
        "The dataset format is [Apache Parquet](https://en.wikipedia.org/wiki/Apache_Parquet) output of the the DataFrame functions linked to above. Parquet is a column oriented data format, and it's straightforward to work with in [Apache Spark](https://spark.apache.org/), and [Panads](https://pandas.pydata.org/)."
      ]
    },
    {
      "cell_type": "code",
      "metadata": {
        "id": "m3FRzjAYyPid",
        "colab_type": "code",
        "colab": {}
      },
      "source": [
        "%%capture\n",
        "\n",
        "!curl -L \"https://cloud.archivesunleashed.org/environment-qc-parquet.tar.gz\" > environment-qc-parquet.tar.gz\n",
        "!tar -xzf environment-qc-parquet.tar.gz"
      ],
      "execution_count": 0,
      "outputs": []
    },
    {
      "cell_type": "code",
      "metadata": {
        "id": "2RK74TCSuIXE",
        "colab_type": "code",
        "outputId": "4eefb5df-3128-4e7b-bbe3-77223d9b89f2",
        "colab": {
          "base_uri": "https://localhost:8080/",
          "height": 182
        }
      },
      "source": [
        "!ls -1 parquet"
      ],
      "execution_count": 2,
      "outputs": [
        {
          "output_type": "stream",
          "text": [
            "audio\n",
            "domains\n",
            "images\n",
            "network\n",
            "pdf\n",
            "presentation_program\n",
            "spreadsheets\n",
            "videos\n",
            "word_processor\n"
          ],
          "name": "stdout"
        }
      ]
    },
    {
      "cell_type": "markdown",
      "metadata": {
        "colab_type": "text",
        "id": "JS0T6i4xPTVx"
      },
      "source": [
        "# Environment\n",
        "\n",
        "Next, we'll setup our environment so we can work with the Parquet output with Pandas."
      ]
    },
    {
      "cell_type": "code",
      "metadata": {
        "colab_type": "code",
        "id": "n56-DeEFPTCq",
        "colab": {}
      },
      "source": [
        "import numpy as np\n",
        "import pandas as pd\n",
        "import pyarrow as pa\n",
        "import pyarrow.parquet as pq\n",
        "import matplotlib.pyplot as plt"
      ],
      "execution_count": 0,
      "outputs": []
    },
    {
      "cell_type": "markdown",
      "metadata": {
        "id": "oFAFb2X3_VJC",
        "colab_type": "text"
      },
      "source": [
        "# Loading our Archives Unleashed Datasets as DataFrames\n",
        "\n",
        "Next, we'll load up our datasets to work with, and show a preview of each."
      ]
    },
    {
      "cell_type": "code",
      "metadata": {
        "id": "IAAPLqPEtu0b",
        "colab_type": "code",
        "outputId": "0f4c220a-6fd1-473e-a65b-fb7f551a6590",
        "colab": {
          "base_uri": "https://localhost:8080/",
          "height": 424
        }
      },
      "source": [
        "audio_parquet = pq.read_table('parquet/audio')\n",
        "audio = audio_parquet.to_pandas()\n",
        "audio"
      ],
      "execution_count": 4,
      "outputs": [
        {
          "output_type": "execute_result",
          "data": {
            "text/html": [
              "<div>\n",
              "<style scoped>\n",
              "    .dataframe tbody tr th:only-of-type {\n",
              "        vertical-align: middle;\n",
              "    }\n",
              "\n",
              "    .dataframe tbody tr th {\n",
              "        vertical-align: top;\n",
              "    }\n",
              "\n",
              "    .dataframe thead th {\n",
              "        text-align: right;\n",
              "    }\n",
              "</style>\n",
              "<table border=\"1\" class=\"dataframe\">\n",
              "  <thead>\n",
              "    <tr style=\"text-align: right;\">\n",
              "      <th></th>\n",
              "      <th>url</th>\n",
              "      <th>filename</th>\n",
              "      <th>extension</th>\n",
              "      <th>mime_type_web_server</th>\n",
              "      <th>mime_type_tika</th>\n",
              "      <th>md5</th>\n",
              "    </tr>\n",
              "  </thead>\n",
              "  <tbody>\n",
              "    <tr>\n",
              "      <th>0</th>\n",
              "      <td>http://mddefp.gouv.qc.ca/eau/prelevements/form...</td>\n",
              "      <td>sound1.mp3</td>\n",
              "      <td>mp3</td>\n",
              "      <td>audio/mpeg</td>\n",
              "      <td>audio/mpeg</td>\n",
              "      <td>fed21e8e6f0629ddf2877834409c48e1</td>\n",
              "    </tr>\n",
              "    <tr>\n",
              "      <th>1</th>\n",
              "      <td>http://mddefp.gouv.qc.ca/programmes/climat-mun...</td>\n",
              "      <td>sound11.mp3</td>\n",
              "      <td>mp3</td>\n",
              "      <td>audio/mpeg</td>\n",
              "      <td>audio/mpeg</td>\n",
              "      <td>febfce2754ed3a4a38eb3007e617f6e0</td>\n",
              "    </tr>\n",
              "    <tr>\n",
              "      <th>2</th>\n",
              "      <td>http://mddefp.gouv.qc.ca/programmes/climat-mun...</td>\n",
              "      <td>sound10.mp3</td>\n",
              "      <td>mp3</td>\n",
              "      <td>audio/mpeg</td>\n",
              "      <td>audio/mpeg</td>\n",
              "      <td>f9b28587eeac1c77cfb23a56448f23bf</td>\n",
              "    </tr>\n",
              "    <tr>\n",
              "      <th>3</th>\n",
              "      <td>http://mddefp.gouv.qc.ca/programmes/climat-mun...</td>\n",
              "      <td>sound2.mp3</td>\n",
              "      <td>mp3</td>\n",
              "      <td>audio/mpeg</td>\n",
              "      <td>audio/mpeg</td>\n",
              "      <td>f82671594517b894883ffb3958a010d3</td>\n",
              "    </tr>\n",
              "    <tr>\n",
              "      <th>4</th>\n",
              "      <td>http://mddefp.gouv.qc.ca/programmes/climat-mun...</td>\n",
              "      <td>sound11.mp3</td>\n",
              "      <td>mp3</td>\n",
              "      <td>audio/mpeg</td>\n",
              "      <td>audio/mpeg</td>\n",
              "      <td>f80fa7ed2a96bedbad2de820d766a66e</td>\n",
              "    </tr>\n",
              "    <tr>\n",
              "      <th>...</th>\n",
              "      <td>...</td>\n",
              "      <td>...</td>\n",
              "      <td>...</td>\n",
              "      <td>...</td>\n",
              "      <td>...</td>\n",
              "      <td>...</td>\n",
              "    </tr>\n",
              "    <tr>\n",
              "      <th>198</th>\n",
              "      <td>http://mddefp.gouv.qc.ca/eau/prelevements/form...</td>\n",
              "      <td>sound43.mp3</td>\n",
              "      <td>mp3</td>\n",
              "      <td>audio/mpeg</td>\n",
              "      <td>audio/mpeg</td>\n",
              "      <td>0d7c63beca7992be930af82cfd86443d</td>\n",
              "    </tr>\n",
              "    <tr>\n",
              "      <th>199</th>\n",
              "      <td>http://mddefp.gouv.qc.ca/eau/prelevements/form...</td>\n",
              "      <td>sound6.mp3</td>\n",
              "      <td>mp3</td>\n",
              "      <td>audio/mpeg</td>\n",
              "      <td>audio/mpeg</td>\n",
              "      <td>070b5785082d14edbc8b0a5b13a9af4c</td>\n",
              "    </tr>\n",
              "    <tr>\n",
              "      <th>200</th>\n",
              "      <td>http://mddefp.gouv.qc.ca/eau/prelevements/form...</td>\n",
              "      <td>sound27.mp3</td>\n",
              "      <td>mp3</td>\n",
              "      <td>audio/mpeg</td>\n",
              "      <td>audio/mpeg</td>\n",
              "      <td>038bb81d6d29374e3bc4405c2cb3b513</td>\n",
              "    </tr>\n",
              "    <tr>\n",
              "      <th>201</th>\n",
              "      <td>http://www.mddep.gouv.qc.ca/eau/algues-bv/camp...</td>\n",
              "      <td>campagneradio-lake.mp3</td>\n",
              "      <td>mp3</td>\n",
              "      <td>audio/mpeg</td>\n",
              "      <td>audio/mpeg</td>\n",
              "      <td>032dab1fea5cfbf75c4f8cd62db45a52</td>\n",
              "    </tr>\n",
              "    <tr>\n",
              "      <th>202</th>\n",
              "      <td>http://mddefp.gouv.qc.ca/eau/prelevements/form...</td>\n",
              "      <td>sound39.mp3</td>\n",
              "      <td>mp3</td>\n",
              "      <td>audio/mpeg</td>\n",
              "      <td>audio/mpeg</td>\n",
              "      <td>0250cdcc884cd4dad2b57cb4becee4e3</td>\n",
              "    </tr>\n",
              "  </tbody>\n",
              "</table>\n",
              "<p>203 rows × 6 columns</p>\n",
              "</div>"
            ],
            "text/plain": [
              "                                                   url  ...                               md5\n",
              "0    http://mddefp.gouv.qc.ca/eau/prelevements/form...  ...  fed21e8e6f0629ddf2877834409c48e1\n",
              "1    http://mddefp.gouv.qc.ca/programmes/climat-mun...  ...  febfce2754ed3a4a38eb3007e617f6e0\n",
              "2    http://mddefp.gouv.qc.ca/programmes/climat-mun...  ...  f9b28587eeac1c77cfb23a56448f23bf\n",
              "3    http://mddefp.gouv.qc.ca/programmes/climat-mun...  ...  f82671594517b894883ffb3958a010d3\n",
              "4    http://mddefp.gouv.qc.ca/programmes/climat-mun...  ...  f80fa7ed2a96bedbad2de820d766a66e\n",
              "..                                                 ...  ...                               ...\n",
              "198  http://mddefp.gouv.qc.ca/eau/prelevements/form...  ...  0d7c63beca7992be930af82cfd86443d\n",
              "199  http://mddefp.gouv.qc.ca/eau/prelevements/form...  ...  070b5785082d14edbc8b0a5b13a9af4c\n",
              "200  http://mddefp.gouv.qc.ca/eau/prelevements/form...  ...  038bb81d6d29374e3bc4405c2cb3b513\n",
              "201  http://www.mddep.gouv.qc.ca/eau/algues-bv/camp...  ...  032dab1fea5cfbf75c4f8cd62db45a52\n",
              "202  http://mddefp.gouv.qc.ca/eau/prelevements/form...  ...  0250cdcc884cd4dad2b57cb4becee4e3\n",
              "\n",
              "[203 rows x 6 columns]"
            ]
          },
          "metadata": {
            "tags": []
          },
          "execution_count": 4
        }
      ]
    },
    {
      "cell_type": "code",
      "metadata": {
        "id": "xUebRBMHuoRs",
        "colab_type": "code",
        "outputId": "1b4eaa3d-82a1-40f3-d3c5-202045d95043",
        "colab": {
          "base_uri": "https://localhost:8080/",
          "height": 424
        }
      },
      "source": [
        "domains_parquet = pq.read_table('parquet/domains')\n",
        "domains = domains_parquet.to_pandas()\n",
        "domains"
      ],
      "execution_count": 82,
      "outputs": [
        {
          "output_type": "execute_result",
          "data": {
            "text/html": [
              "<div>\n",
              "<style scoped>\n",
              "    .dataframe tbody tr th:only-of-type {\n",
              "        vertical-align: middle;\n",
              "    }\n",
              "\n",
              "    .dataframe tbody tr th {\n",
              "        vertical-align: top;\n",
              "    }\n",
              "\n",
              "    .dataframe thead th {\n",
              "        text-align: right;\n",
              "    }\n",
              "</style>\n",
              "<table border=\"1\" class=\"dataframe\">\n",
              "  <thead>\n",
              "    <tr style=\"text-align: right;\">\n",
              "      <th></th>\n",
              "      <th>Domain</th>\n",
              "      <th>count</th>\n",
              "    </tr>\n",
              "  </thead>\n",
              "  <tbody>\n",
              "    <tr>\n",
              "      <th>0</th>\n",
              "      <td>www.mddefp.gouv.qc.ca</td>\n",
              "      <td>113680</td>\n",
              "    </tr>\n",
              "    <tr>\n",
              "      <th>1</th>\n",
              "      <td>www.mddep.gouv.qc.ca</td>\n",
              "      <td>106857</td>\n",
              "    </tr>\n",
              "    <tr>\n",
              "      <th>2</th>\n",
              "      <td>www.mddelcc.gouv.qc.ca</td>\n",
              "      <td>88832</td>\n",
              "    </tr>\n",
              "    <tr>\n",
              "      <th>3</th>\n",
              "      <td>mddep.gouv.qc.ca</td>\n",
              "      <td>48971</td>\n",
              "    </tr>\n",
              "    <tr>\n",
              "      <th>4</th>\n",
              "      <td>mddefp.gouv.qc.ca</td>\n",
              "      <td>41023</td>\n",
              "    </tr>\n",
              "    <tr>\n",
              "      <th>...</th>\n",
              "      <td>...</td>\n",
              "      <td>...</td>\n",
              "    </tr>\n",
              "    <tr>\n",
              "      <th>321</th>\n",
              "      <td>wwwedu.ge.ch</td>\n",
              "      <td>1</td>\n",
              "    </tr>\n",
              "    <tr>\n",
              "      <th>322</th>\n",
              "      <td>r2---sn-9gv7ened.googlevideo.com</td>\n",
              "      <td>1</td>\n",
              "    </tr>\n",
              "    <tr>\n",
              "      <th>323</th>\n",
              "      <td>www.ncdc.noaa.gov</td>\n",
              "      <td>1</td>\n",
              "    </tr>\n",
              "    <tr>\n",
              "      <th>324</th>\n",
              "      <td>r1---sn-9gv7ene6.googlevideo.com</td>\n",
              "      <td>1</td>\n",
              "    </tr>\n",
              "    <tr>\n",
              "      <th>325</th>\n",
              "      <td>csi.gstatic.com</td>\n",
              "      <td>1</td>\n",
              "    </tr>\n",
              "  </tbody>\n",
              "</table>\n",
              "<p>326 rows × 2 columns</p>\n",
              "</div>"
            ],
            "text/plain": [
              "                               Domain   count\n",
              "0               www.mddefp.gouv.qc.ca  113680\n",
              "1                www.mddep.gouv.qc.ca  106857\n",
              "2              www.mddelcc.gouv.qc.ca   88832\n",
              "3                    mddep.gouv.qc.ca   48971\n",
              "4                   mddefp.gouv.qc.ca   41023\n",
              "..                                ...     ...\n",
              "321                      wwwedu.ge.ch       1\n",
              "322  r2---sn-9gv7ened.googlevideo.com       1\n",
              "323                 www.ncdc.noaa.gov       1\n",
              "324  r1---sn-9gv7ene6.googlevideo.com       1\n",
              "325                   csi.gstatic.com       1\n",
              "\n",
              "[326 rows x 2 columns]"
            ]
          },
          "metadata": {
            "tags": []
          },
          "execution_count": 82
        }
      ]
    },
    {
      "cell_type": "code",
      "metadata": {
        "id": "GhE_Vhv8Awkx",
        "colab_type": "code",
        "outputId": "e12f64c5-1294-4584-9207-538fa8c8feb4",
        "colab": {
          "base_uri": "https://localhost:8080/",
          "height": 424
        }
      },
      "source": [
        "images_parquet = pq.read_table('parquet/images')\n",
        "images = images_parquet.to_pandas()\n",
        "images\n",
        "\n"
      ],
      "execution_count": 48,
      "outputs": [
        {
          "output_type": "execute_result",
          "data": {
            "text/html": [
              "<div>\n",
              "<style scoped>\n",
              "    .dataframe tbody tr th:only-of-type {\n",
              "        vertical-align: middle;\n",
              "    }\n",
              "\n",
              "    .dataframe tbody tr th {\n",
              "        vertical-align: top;\n",
              "    }\n",
              "\n",
              "    .dataframe thead th {\n",
              "        text-align: right;\n",
              "    }\n",
              "</style>\n",
              "<table border=\"1\" class=\"dataframe\">\n",
              "  <thead>\n",
              "    <tr style=\"text-align: right;\">\n",
              "      <th></th>\n",
              "      <th>url</th>\n",
              "      <th>filename</th>\n",
              "      <th>extension</th>\n",
              "      <th>mime_type_web_server</th>\n",
              "      <th>mime_type_tika</th>\n",
              "      <th>width</th>\n",
              "      <th>height</th>\n",
              "      <th>md5</th>\n",
              "    </tr>\n",
              "  </thead>\n",
              "  <tbody>\n",
              "    <tr>\n",
              "      <th>0</th>\n",
              "      <td>http://www.mddep.gouv.qc.ca/pesticides/jardine...</td>\n",
              "      <td>mille-clop-carabe.jpg</td>\n",
              "      <td>jpg</td>\n",
              "      <td>image/jpeg</td>\n",
              "      <td>image/jpeg</td>\n",
              "      <td>151</td>\n",
              "      <td>150</td>\n",
              "      <td>fff9b162031400d2dc96ec30284f580e</td>\n",
              "    </tr>\n",
              "    <tr>\n",
              "      <th>1</th>\n",
              "      <td>http://www.mddefp.gouv.qc.ca/pesticides/jardin...</td>\n",
              "      <td>mille-clop-carabe.jpg</td>\n",
              "      <td>jpg</td>\n",
              "      <td>image/jpeg</td>\n",
              "      <td>image/jpeg</td>\n",
              "      <td>151</td>\n",
              "      <td>150</td>\n",
              "      <td>fff9b162031400d2dc96ec30284f580e</td>\n",
              "    </tr>\n",
              "    <tr>\n",
              "      <th>2</th>\n",
              "      <td>http://www.mddefp.gouv.qc.ca//pesticides/jardi...</td>\n",
              "      <td>mille-clop-carabe.jpg</td>\n",
              "      <td>jpg</td>\n",
              "      <td>image/jpeg</td>\n",
              "      <td>image/jpeg</td>\n",
              "      <td>151</td>\n",
              "      <td>150</td>\n",
              "      <td>fff9b162031400d2dc96ec30284f580e</td>\n",
              "    </tr>\n",
              "    <tr>\n",
              "      <th>3</th>\n",
              "      <td>http://mddep.gouv.qc.ca//pesticides/jardiner/m...</td>\n",
              "      <td>mille-clop-carabe.jpg</td>\n",
              "      <td>jpg</td>\n",
              "      <td>image/jpeg</td>\n",
              "      <td>image/jpeg</td>\n",
              "      <td>151</td>\n",
              "      <td>150</td>\n",
              "      <td>fff9b162031400d2dc96ec30284f580e</td>\n",
              "    </tr>\n",
              "    <tr>\n",
              "      <th>4</th>\n",
              "      <td>http://www.mddefp.gouv.qc.ca///pesticides/jard...</td>\n",
              "      <td>mille-clop-carabe.jpg</td>\n",
              "      <td>jpg</td>\n",
              "      <td>image/jpeg</td>\n",
              "      <td>image/jpeg</td>\n",
              "      <td>151</td>\n",
              "      <td>150</td>\n",
              "      <td>fff9b162031400d2dc96ec30284f580e</td>\n",
              "    </tr>\n",
              "    <tr>\n",
              "      <th>...</th>\n",
              "      <td>...</td>\n",
              "      <td>...</td>\n",
              "      <td>...</td>\n",
              "      <td>...</td>\n",
              "      <td>...</td>\n",
              "      <td>...</td>\n",
              "      <td>...</td>\n",
              "      <td>...</td>\n",
              "    </tr>\n",
              "    <tr>\n",
              "      <th>156161</th>\n",
              "      <td>http://www.mddelcc.gouv.qc.ca//biodiversite/ha...</td>\n",
              "      <td>image-ile-G.jpg</td>\n",
              "      <td>jpg</td>\n",
              "      <td>image/jpeg</td>\n",
              "      <td>image/jpeg</td>\n",
              "      <td>375</td>\n",
              "      <td>500</td>\n",
              "      <td>000175bcfb5be374c5f8da05bfe49dc8</td>\n",
              "    </tr>\n",
              "    <tr>\n",
              "      <th>156162</th>\n",
              "      <td>http://www.mddelcc.gouv.qc.ca/biodiversite/hab...</td>\n",
              "      <td>image-ile-G.jpg</td>\n",
              "      <td>jpg</td>\n",
              "      <td>image/jpeg</td>\n",
              "      <td>image/jpeg</td>\n",
              "      <td>375</td>\n",
              "      <td>500</td>\n",
              "      <td>000175bcfb5be374c5f8da05bfe49dc8</td>\n",
              "    </tr>\n",
              "    <tr>\n",
              "      <th>156163</th>\n",
              "      <td>http://www.mddelcc.gouv.qc.ca/biodiversite/hab...</td>\n",
              "      <td>image-ile-G.jpg</td>\n",
              "      <td>jpg</td>\n",
              "      <td>image/jpeg</td>\n",
              "      <td>image/jpeg</td>\n",
              "      <td>375</td>\n",
              "      <td>500</td>\n",
              "      <td>000175bcfb5be374c5f8da05bfe49dc8</td>\n",
              "    </tr>\n",
              "    <tr>\n",
              "      <th>156164</th>\n",
              "      <td>http://www.mddelcc.gouv.qc.ca/biodiversite/hab...</td>\n",
              "      <td>image-ile-G.jpg</td>\n",
              "      <td>jpg</td>\n",
              "      <td>image/jpeg</td>\n",
              "      <td>image/jpeg</td>\n",
              "      <td>375</td>\n",
              "      <td>500</td>\n",
              "      <td>000175bcfb5be374c5f8da05bfe49dc8</td>\n",
              "    </tr>\n",
              "    <tr>\n",
              "      <th>156165</th>\n",
              "      <td>http://mddefp.gouv.qc.ca/biodiversite/habitats...</td>\n",
              "      <td>image-ile-G.jpg</td>\n",
              "      <td>jpg</td>\n",
              "      <td>image/jpeg</td>\n",
              "      <td>image/jpeg</td>\n",
              "      <td>375</td>\n",
              "      <td>500</td>\n",
              "      <td>000175bcfb5be374c5f8da05bfe49dc8</td>\n",
              "    </tr>\n",
              "  </tbody>\n",
              "</table>\n",
              "<p>156166 rows × 8 columns</p>\n",
              "</div>"
            ],
            "text/plain": [
              "                                                      url  ...                               md5\n",
              "0       http://www.mddep.gouv.qc.ca/pesticides/jardine...  ...  fff9b162031400d2dc96ec30284f580e\n",
              "1       http://www.mddefp.gouv.qc.ca/pesticides/jardin...  ...  fff9b162031400d2dc96ec30284f580e\n",
              "2       http://www.mddefp.gouv.qc.ca//pesticides/jardi...  ...  fff9b162031400d2dc96ec30284f580e\n",
              "3       http://mddep.gouv.qc.ca//pesticides/jardiner/m...  ...  fff9b162031400d2dc96ec30284f580e\n",
              "4       http://www.mddefp.gouv.qc.ca///pesticides/jard...  ...  fff9b162031400d2dc96ec30284f580e\n",
              "...                                                   ...  ...                               ...\n",
              "156161  http://www.mddelcc.gouv.qc.ca//biodiversite/ha...  ...  000175bcfb5be374c5f8da05bfe49dc8\n",
              "156162  http://www.mddelcc.gouv.qc.ca/biodiversite/hab...  ...  000175bcfb5be374c5f8da05bfe49dc8\n",
              "156163  http://www.mddelcc.gouv.qc.ca/biodiversite/hab...  ...  000175bcfb5be374c5f8da05bfe49dc8\n",
              "156164  http://www.mddelcc.gouv.qc.ca/biodiversite/hab...  ...  000175bcfb5be374c5f8da05bfe49dc8\n",
              "156165  http://mddefp.gouv.qc.ca/biodiversite/habitats...  ...  000175bcfb5be374c5f8da05bfe49dc8\n",
              "\n",
              "[156166 rows x 8 columns]"
            ]
          },
          "metadata": {
            "tags": []
          },
          "execution_count": 48
        }
      ]
    },
    {
      "cell_type": "code",
      "metadata": {
        "id": "rIEtkT4TvWcX",
        "colab_type": "code",
        "outputId": "354f32ee-502c-4124-be6b-93d9bc11827c",
        "colab": {
          "base_uri": "https://localhost:8080/",
          "height": 424
        }
      },
      "source": [
        "network_parquet = pq.read_table('parquet/network')\n",
        "network = network_parquet.to_pandas()\n",
        "network"
      ],
      "execution_count": 52,
      "outputs": [
        {
          "output_type": "execute_result",
          "data": {
            "text/html": [
              "<div>\n",
              "<style scoped>\n",
              "    .dataframe tbody tr th:only-of-type {\n",
              "        vertical-align: middle;\n",
              "    }\n",
              "\n",
              "    .dataframe tbody tr th {\n",
              "        vertical-align: top;\n",
              "    }\n",
              "\n",
              "    .dataframe thead th {\n",
              "        text-align: right;\n",
              "    }\n",
              "</style>\n",
              "<table border=\"1\" class=\"dataframe\">\n",
              "  <thead>\n",
              "    <tr style=\"text-align: right;\">\n",
              "      <th></th>\n",
              "      <th>SrcDomain</th>\n",
              "      <th>DestDomain</th>\n",
              "      <th>count</th>\n",
              "    </tr>\n",
              "  </thead>\n",
              "  <tbody>\n",
              "    <tr>\n",
              "      <th>0</th>\n",
              "      <td>youtube.com</td>\n",
              "      <td>accounts.google.com</td>\n",
              "      <td>4885</td>\n",
              "    </tr>\n",
              "    <tr>\n",
              "      <th>1</th>\n",
              "      <td>youtube.com</td>\n",
              "      <td>youtube.com</td>\n",
              "      <td>123</td>\n",
              "    </tr>\n",
              "    <tr>\n",
              "      <th>2</th>\n",
              "      <td>youtube.com</td>\n",
              "      <td>mddefp.gouv.qc.ca</td>\n",
              "      <td>5</td>\n",
              "    </tr>\n",
              "    <tr>\n",
              "      <th>3</th>\n",
              "      <td>youtube.com</td>\n",
              "      <td>support.google.com</td>\n",
              "      <td>3</td>\n",
              "    </tr>\n",
              "    <tr>\n",
              "      <th>4</th>\n",
              "      <td>youtube.com</td>\n",
              "      <td>on.undp.org</td>\n",
              "      <td>14</td>\n",
              "    </tr>\n",
              "    <tr>\n",
              "      <th>...</th>\n",
              "      <td>...</td>\n",
              "      <td>...</td>\n",
              "      <td>...</td>\n",
              "    </tr>\n",
              "    <tr>\n",
              "      <th>6207</th>\n",
              "      <td>addinto.com</td>\n",
              "      <td>wordpress.org</td>\n",
              "      <td>1</td>\n",
              "    </tr>\n",
              "    <tr>\n",
              "      <th>6208</th>\n",
              "      <td>addinto.com</td>\n",
              "      <td>twitter.com</td>\n",
              "      <td>1</td>\n",
              "    </tr>\n",
              "    <tr>\n",
              "      <th>6209</th>\n",
              "      <td>addinto.com</td>\n",
              "      <td>chrome.google.com</td>\n",
              "      <td>1</td>\n",
              "    </tr>\n",
              "    <tr>\n",
              "      <th>6210</th>\n",
              "      <td>addinto.com</td>\n",
              "      <td>addinto.com</td>\n",
              "      <td>12</td>\n",
              "    </tr>\n",
              "    <tr>\n",
              "      <th>6211</th>\n",
              "      <td>academic.oup.com</td>\n",
              "      <td>watermark.silverchair.com</td>\n",
              "      <td>1</td>\n",
              "    </tr>\n",
              "  </tbody>\n",
              "</table>\n",
              "<p>6212 rows × 3 columns</p>\n",
              "</div>"
            ],
            "text/plain": [
              "             SrcDomain                 DestDomain  count\n",
              "0          youtube.com        accounts.google.com   4885\n",
              "1          youtube.com                youtube.com    123\n",
              "2          youtube.com          mddefp.gouv.qc.ca      5\n",
              "3          youtube.com         support.google.com      3\n",
              "4          youtube.com                on.undp.org     14\n",
              "...                ...                        ...    ...\n",
              "6207       addinto.com              wordpress.org      1\n",
              "6208       addinto.com                twitter.com      1\n",
              "6209       addinto.com          chrome.google.com      1\n",
              "6210       addinto.com                addinto.com     12\n",
              "6211  academic.oup.com  watermark.silverchair.com      1\n",
              "\n",
              "[6212 rows x 3 columns]"
            ]
          },
          "metadata": {
            "tags": []
          },
          "execution_count": 52
        }
      ]
    },
    {
      "cell_type": "code",
      "metadata": {
        "id": "Bemw7ZIXvY4Z",
        "colab_type": "code",
        "outputId": "2bd3901f-bccc-47a3-c710-bec94bf5e7a5",
        "colab": {
          "base_uri": "https://localhost:8080/",
          "height": 424
        }
      },
      "source": [
        "pdf_parquet = pq.read_table('parquet/pdf')\n",
        "pdf = pdf_parquet.to_pandas()\n",
        "pdf"
      ],
      "execution_count": 0,
      "outputs": [
        {
          "output_type": "execute_result",
          "data": {
            "text/html": [
              "<div>\n",
              "<style scoped>\n",
              "    .dataframe tbody tr th:only-of-type {\n",
              "        vertical-align: middle;\n",
              "    }\n",
              "\n",
              "    .dataframe tbody tr th {\n",
              "        vertical-align: top;\n",
              "    }\n",
              "\n",
              "    .dataframe thead th {\n",
              "        text-align: right;\n",
              "    }\n",
              "</style>\n",
              "<table border=\"1\" class=\"dataframe\">\n",
              "  <thead>\n",
              "    <tr style=\"text-align: right;\">\n",
              "      <th></th>\n",
              "      <th>url</th>\n",
              "      <th>filename</th>\n",
              "      <th>extension</th>\n",
              "      <th>mime_type_web_server</th>\n",
              "      <th>mime_type_tika</th>\n",
              "      <th>md5</th>\n",
              "    </tr>\n",
              "  </thead>\n",
              "  <tbody>\n",
              "    <tr>\n",
              "      <th>0</th>\n",
              "      <td>http://www.protegerlenord.mddep.gouv.qc.ca/mem...</td>\n",
              "      <td>Quebec-Solidaire.pdf</td>\n",
              "      <td>pdf</td>\n",
              "      <td>application/pdf</td>\n",
              "      <td>application/pdf</td>\n",
              "      <td>fffe68b2a457b3650f469c88b861be1b</td>\n",
              "    </tr>\n",
              "    <tr>\n",
              "      <th>1</th>\n",
              "      <td>https://www.protegerlenord.mddep.gouv.qc.ca/me...</td>\n",
              "      <td>Quebec-Solidaire.pdf</td>\n",
              "      <td>pdf</td>\n",
              "      <td>application/pdf</td>\n",
              "      <td>application/pdf</td>\n",
              "      <td>fffe68b2a457b3650f469c88b861be1b</td>\n",
              "    </tr>\n",
              "    <tr>\n",
              "      <th>2</th>\n",
              "      <td>http://www.bape.gouv.qc.ca/sections/documentat...</td>\n",
              "      <td>Guide_consid%C3%A9ration_principes_DD_BAPE.pdf</td>\n",
              "      <td>pdf</td>\n",
              "      <td>application/pdf</td>\n",
              "      <td>application/pdf</td>\n",
              "      <td>fffd0827d0b98332acd3daa5b6fb8fa9</td>\n",
              "    </tr>\n",
              "    <tr>\n",
              "      <th>3</th>\n",
              "      <td>http://www.bape.gouv.qc.ca/sections/documentat...</td>\n",
              "      <td>Guide_consid%C3%A9ration_principes_DD_BAPE.pdf</td>\n",
              "      <td>pdf</td>\n",
              "      <td>application/pdf</td>\n",
              "      <td>application/pdf</td>\n",
              "      <td>fffd0827d0b98332acd3daa5b6fb8fa9</td>\n",
              "    </tr>\n",
              "    <tr>\n",
              "      <th>4</th>\n",
              "      <td>http://www.bape.gouv.qc.ca/sections/documentat...</td>\n",
              "      <td>Guide_consid%C3%A9ration_principes_DD_BAPE.pdf</td>\n",
              "      <td>pdf</td>\n",
              "      <td>application/pdf</td>\n",
              "      <td>application/pdf</td>\n",
              "      <td>fffd0827d0b98332acd3daa5b6fb8fa9</td>\n",
              "    </tr>\n",
              "    <tr>\n",
              "      <th>...</th>\n",
              "      <td>...</td>\n",
              "      <td>...</td>\n",
              "      <td>...</td>\n",
              "      <td>...</td>\n",
              "      <td>...</td>\n",
              "      <td>...</td>\n",
              "    </tr>\n",
              "    <tr>\n",
              "      <th>134172</th>\n",
              "      <td>http://www.mddelcc.gouv.qc.ca/ministere/accesp...</td>\n",
              "      <td>201007.pdf</td>\n",
              "      <td>pdf</td>\n",
              "      <td>application/pdf</td>\n",
              "      <td>application/pdf</td>\n",
              "      <td>00103aad7ed8011b3032a9ddf2ccc8f7</td>\n",
              "    </tr>\n",
              "    <tr>\n",
              "      <th>134173</th>\n",
              "      <td>http://mddefp.gouv.qc.ca/ministere/accesprotec...</td>\n",
              "      <td>201007.pdf</td>\n",
              "      <td>pdf</td>\n",
              "      <td>application/pdf</td>\n",
              "      <td>application/pdf</td>\n",
              "      <td>00103aad7ed8011b3032a9ddf2ccc8f7</td>\n",
              "    </tr>\n",
              "    <tr>\n",
              "      <th>134174</th>\n",
              "      <td>http://www.mddep.gouv.qc.ca/ministere/accespro...</td>\n",
              "      <td>201007.pdf</td>\n",
              "      <td>pdf</td>\n",
              "      <td>application/pdf</td>\n",
              "      <td>application/pdf</td>\n",
              "      <td>00103aad7ed8011b3032a9ddf2ccc8f7</td>\n",
              "    </tr>\n",
              "    <tr>\n",
              "      <th>134175</th>\n",
              "      <td>http://mddefp.gouv.qc.ca/ministere/accesprotec...</td>\n",
              "      <td>201007.pdf</td>\n",
              "      <td>pdf</td>\n",
              "      <td>application/pdf</td>\n",
              "      <td>application/pdf</td>\n",
              "      <td>00103aad7ed8011b3032a9ddf2ccc8f7</td>\n",
              "    </tr>\n",
              "    <tr>\n",
              "      <th>134176</th>\n",
              "      <td>http://www.mddep.gouv.qc.ca/ministere/accespro...</td>\n",
              "      <td>201007.pdf</td>\n",
              "      <td>pdf</td>\n",
              "      <td>application/pdf</td>\n",
              "      <td>application/pdf</td>\n",
              "      <td>00103aad7ed8011b3032a9ddf2ccc8f7</td>\n",
              "    </tr>\n",
              "  </tbody>\n",
              "</table>\n",
              "<p>134177 rows × 6 columns</p>\n",
              "</div>"
            ],
            "text/plain": [
              "                                                      url  ...                               md5\n",
              "0       http://www.protegerlenord.mddep.gouv.qc.ca/mem...  ...  fffe68b2a457b3650f469c88b861be1b\n",
              "1       https://www.protegerlenord.mddep.gouv.qc.ca/me...  ...  fffe68b2a457b3650f469c88b861be1b\n",
              "2       http://www.bape.gouv.qc.ca/sections/documentat...  ...  fffd0827d0b98332acd3daa5b6fb8fa9\n",
              "3       http://www.bape.gouv.qc.ca/sections/documentat...  ...  fffd0827d0b98332acd3daa5b6fb8fa9\n",
              "4       http://www.bape.gouv.qc.ca/sections/documentat...  ...  fffd0827d0b98332acd3daa5b6fb8fa9\n",
              "...                                                   ...  ...                               ...\n",
              "134172  http://www.mddelcc.gouv.qc.ca/ministere/accesp...  ...  00103aad7ed8011b3032a9ddf2ccc8f7\n",
              "134173  http://mddefp.gouv.qc.ca/ministere/accesprotec...  ...  00103aad7ed8011b3032a9ddf2ccc8f7\n",
              "134174  http://www.mddep.gouv.qc.ca/ministere/accespro...  ...  00103aad7ed8011b3032a9ddf2ccc8f7\n",
              "134175  http://mddefp.gouv.qc.ca/ministere/accesprotec...  ...  00103aad7ed8011b3032a9ddf2ccc8f7\n",
              "134176  http://www.mddep.gouv.qc.ca/ministere/accespro...  ...  00103aad7ed8011b3032a9ddf2ccc8f7\n",
              "\n",
              "[134177 rows x 6 columns]"
            ]
          },
          "metadata": {
            "tags": []
          },
          "execution_count": 9
        }
      ]
    },
    {
      "cell_type": "code",
      "metadata": {
        "id": "s2dUFTrVvazx",
        "colab_type": "code",
        "outputId": "b01a950f-f665-41e8-9f0b-303c09a948f8",
        "colab": {
          "base_uri": "https://localhost:8080/",
          "height": 896
        }
      },
      "source": [
        "presentation_program_parquet = pq.read_table('parquet/presentation_program')\n",
        "presentation_program = presentation_program_parquet.to_pandas()\n",
        "presentation_program"
      ],
      "execution_count": 0,
      "outputs": [
        {
          "output_type": "execute_result",
          "data": {
            "text/html": [
              "<div>\n",
              "<style scoped>\n",
              "    .dataframe tbody tr th:only-of-type {\n",
              "        vertical-align: middle;\n",
              "    }\n",
              "\n",
              "    .dataframe tbody tr th {\n",
              "        vertical-align: top;\n",
              "    }\n",
              "\n",
              "    .dataframe thead th {\n",
              "        text-align: right;\n",
              "    }\n",
              "</style>\n",
              "<table border=\"1\" class=\"dataframe\">\n",
              "  <thead>\n",
              "    <tr style=\"text-align: right;\">\n",
              "      <th></th>\n",
              "      <th>url</th>\n",
              "      <th>filename</th>\n",
              "      <th>extension</th>\n",
              "      <th>mime_type_web_server</th>\n",
              "      <th>mime_type_tika</th>\n",
              "      <th>md5</th>\n",
              "    </tr>\n",
              "  </thead>\n",
              "  <tbody>\n",
              "    <tr>\n",
              "      <th>0</th>\n",
              "      <td>http://www.mddefp.gouv.qc.ca/eau/eco_aqua/phos...</td>\n",
              "      <td>phosphore-abitibi.ppt</td>\n",
              "      <td>ppt</td>\n",
              "      <td>application/vnd.ms-powerpoint</td>\n",
              "      <td>application/vnd.ms-powerpoint</td>\n",
              "      <td>f355c8d364bbd7c69e6a49d85e455b4f</td>\n",
              "    </tr>\n",
              "    <tr>\n",
              "      <th>1</th>\n",
              "      <td>http://www.mddep.gouv.qc.ca/eau/eco_aqua/phosp...</td>\n",
              "      <td>phosphore-abitibi.ppt</td>\n",
              "      <td>ppt</td>\n",
              "      <td>application/vnd.ms-powerpoint</td>\n",
              "      <td>application/vnd.ms-powerpoint</td>\n",
              "      <td>f355c8d364bbd7c69e6a49d85e455b4f</td>\n",
              "    </tr>\n",
              "    <tr>\n",
              "      <th>2</th>\n",
              "      <td>http://mddep.gouv.qc.ca//eau/eco_aqua/phosphor...</td>\n",
              "      <td>phosphore-abitibi.ppt</td>\n",
              "      <td>ppt</td>\n",
              "      <td>application/vnd.ms-powerpoint</td>\n",
              "      <td>application/vnd.ms-powerpoint</td>\n",
              "      <td>f355c8d364bbd7c69e6a49d85e455b4f</td>\n",
              "    </tr>\n",
              "    <tr>\n",
              "      <th>3</th>\n",
              "      <td>http://www.mddefp.gouv.qc.ca//eau/eco_aqua/pho...</td>\n",
              "      <td>phosphore-abitibi.ppt</td>\n",
              "      <td>ppt</td>\n",
              "      <td>application/vnd.ms-powerpoint</td>\n",
              "      <td>application/vnd.ms-powerpoint</td>\n",
              "      <td>f355c8d364bbd7c69e6a49d85e455b4f</td>\n",
              "    </tr>\n",
              "    <tr>\n",
              "      <th>4</th>\n",
              "      <td>http://mddep.gouv.qc.ca///eau/eco_aqua/phospho...</td>\n",
              "      <td>phosphore-abitibi.ppt</td>\n",
              "      <td>ppt</td>\n",
              "      <td>application/vnd.ms-powerpoint</td>\n",
              "      <td>application/vnd.ms-powerpoint</td>\n",
              "      <td>f355c8d364bbd7c69e6a49d85e455b4f</td>\n",
              "    </tr>\n",
              "    <tr>\n",
              "      <th>5</th>\n",
              "      <td>http://www.mddefp.gouv.qc.ca///eau/eco_aqua/ph...</td>\n",
              "      <td>phosphore-abitibi.ppt</td>\n",
              "      <td>ppt</td>\n",
              "      <td>application/vnd.ms-powerpoint</td>\n",
              "      <td>application/vnd.ms-powerpoint</td>\n",
              "      <td>f355c8d364bbd7c69e6a49d85e455b4f</td>\n",
              "    </tr>\n",
              "    <tr>\n",
              "      <th>6</th>\n",
              "      <td>http://mddep.gouv.qc.ca////eau/eco_aqua/phosph...</td>\n",
              "      <td>phosphore-abitibi.ppt</td>\n",
              "      <td>ppt</td>\n",
              "      <td>application/vnd.ms-powerpoint</td>\n",
              "      <td>application/vnd.ms-powerpoint</td>\n",
              "      <td>f355c8d364bbd7c69e6a49d85e455b4f</td>\n",
              "    </tr>\n",
              "    <tr>\n",
              "      <th>7</th>\n",
              "      <td>http://www.mddefp.gouv.qc.ca////eau/eco_aqua/p...</td>\n",
              "      <td>phosphore-abitibi.ppt</td>\n",
              "      <td>ppt</td>\n",
              "      <td>application/vnd.ms-powerpoint</td>\n",
              "      <td>application/vnd.ms-powerpoint</td>\n",
              "      <td>f355c8d364bbd7c69e6a49d85e455b4f</td>\n",
              "    </tr>\n",
              "    <tr>\n",
              "      <th>8</th>\n",
              "      <td>http://www.mddefp.gouv.qc.ca/eau/eco_aqua/phos...</td>\n",
              "      <td>phosphore-abitibi.ppt</td>\n",
              "      <td>ppt</td>\n",
              "      <td>application/vnd.ms-powerpoint</td>\n",
              "      <td>application/vnd.ms-powerpoint</td>\n",
              "      <td>f355c8d364bbd7c69e6a49d85e455b4f</td>\n",
              "    </tr>\n",
              "    <tr>\n",
              "      <th>9</th>\n",
              "      <td>http://www.mddep.gouv.qc.ca/eau/eco_aqua/phosp...</td>\n",
              "      <td>phosphore-abitibi.ppt</td>\n",
              "      <td>ppt</td>\n",
              "      <td>application/vnd.ms-powerpoint</td>\n",
              "      <td>application/vnd.ms-powerpoint</td>\n",
              "      <td>f355c8d364bbd7c69e6a49d85e455b4f</td>\n",
              "    </tr>\n",
              "    <tr>\n",
              "      <th>10</th>\n",
              "      <td>http://www.mddefp.gouv.qc.ca//eau/eco_aqua/pho...</td>\n",
              "      <td>phosphore-abitibi.ppt</td>\n",
              "      <td>ppt</td>\n",
              "      <td>application/vnd.ms-powerpoint</td>\n",
              "      <td>application/vnd.ms-powerpoint</td>\n",
              "      <td>f355c8d364bbd7c69e6a49d85e455b4f</td>\n",
              "    </tr>\n",
              "    <tr>\n",
              "      <th>11</th>\n",
              "      <td>http://www.mddep.gouv.qc.ca//eau/eco_aqua/phos...</td>\n",
              "      <td>phosphore-abitibi.ppt</td>\n",
              "      <td>ppt</td>\n",
              "      <td>application/vnd.ms-powerpoint</td>\n",
              "      <td>application/vnd.ms-powerpoint</td>\n",
              "      <td>f355c8d364bbd7c69e6a49d85e455b4f</td>\n",
              "    </tr>\n",
              "    <tr>\n",
              "      <th>12</th>\n",
              "      <td>http://www.mddefp.gouv.qc.ca///eau/eco_aqua/ph...</td>\n",
              "      <td>phosphore-abitibi.ppt</td>\n",
              "      <td>ppt</td>\n",
              "      <td>application/vnd.ms-powerpoint</td>\n",
              "      <td>application/vnd.ms-powerpoint</td>\n",
              "      <td>f355c8d364bbd7c69e6a49d85e455b4f</td>\n",
              "    </tr>\n",
              "    <tr>\n",
              "      <th>13</th>\n",
              "      <td>http://www.mddep.gouv.qc.ca///eau/eco_aqua/pho...</td>\n",
              "      <td>phosphore-abitibi.ppt</td>\n",
              "      <td>ppt</td>\n",
              "      <td>application/vnd.ms-powerpoint</td>\n",
              "      <td>application/vnd.ms-powerpoint</td>\n",
              "      <td>f355c8d364bbd7c69e6a49d85e455b4f</td>\n",
              "    </tr>\n",
              "    <tr>\n",
              "      <th>14</th>\n",
              "      <td>http://www.mddefp.gouv.qc.ca////eau/eco_aqua/p...</td>\n",
              "      <td>phosphore-abitibi.ppt</td>\n",
              "      <td>ppt</td>\n",
              "      <td>application/vnd.ms-powerpoint</td>\n",
              "      <td>application/vnd.ms-powerpoint</td>\n",
              "      <td>f355c8d364bbd7c69e6a49d85e455b4f</td>\n",
              "    </tr>\n",
              "    <tr>\n",
              "      <th>15</th>\n",
              "      <td>http://www.mddep.gouv.qc.ca////eau/eco_aqua/ph...</td>\n",
              "      <td>phosphore-abitibi.ppt</td>\n",
              "      <td>ppt</td>\n",
              "      <td>application/vnd.ms-powerpoint</td>\n",
              "      <td>application/vnd.ms-powerpoint</td>\n",
              "      <td>f355c8d364bbd7c69e6a49d85e455b4f</td>\n",
              "    </tr>\n",
              "    <tr>\n",
              "      <th>16</th>\n",
              "      <td>http://www.mddelcc.gouv.qc.ca/eau/eco_aqua/pho...</td>\n",
              "      <td>phosphore-abitibi.ppt</td>\n",
              "      <td>ppt</td>\n",
              "      <td>application/vnd.ms-powerpoint</td>\n",
              "      <td>application/vnd.ms-powerpoint</td>\n",
              "      <td>f355c8d364bbd7c69e6a49d85e455b4f</td>\n",
              "    </tr>\n",
              "    <tr>\n",
              "      <th>17</th>\n",
              "      <td>http://www.mddelcc.gouv.qc.ca//eau/eco_aqua/ph...</td>\n",
              "      <td>phosphore-abitibi.ppt</td>\n",
              "      <td>ppt</td>\n",
              "      <td>application/vnd.ms-powerpoint</td>\n",
              "      <td>application/vnd.ms-powerpoint</td>\n",
              "      <td>f355c8d364bbd7c69e6a49d85e455b4f</td>\n",
              "    </tr>\n",
              "    <tr>\n",
              "      <th>18</th>\n",
              "      <td>http://www.mddelcc.gouv.qc.ca///eau/eco_aqua/p...</td>\n",
              "      <td>phosphore-abitibi.ppt</td>\n",
              "      <td>ppt</td>\n",
              "      <td>application/vnd.ms-powerpoint</td>\n",
              "      <td>application/vnd.ms-powerpoint</td>\n",
              "      <td>f355c8d364bbd7c69e6a49d85e455b4f</td>\n",
              "    </tr>\n",
              "    <tr>\n",
              "      <th>19</th>\n",
              "      <td>http://www.mddelcc.gouv.qc.ca/eau/eco_aqua/pho...</td>\n",
              "      <td>phosphore-abitibi.ppt</td>\n",
              "      <td>ppt</td>\n",
              "      <td>application/vnd.ms-powerpoint</td>\n",
              "      <td>application/vnd.ms-powerpoint</td>\n",
              "      <td>f355c8d364bbd7c69e6a49d85e455b4f</td>\n",
              "    </tr>\n",
              "    <tr>\n",
              "      <th>20</th>\n",
              "      <td>http://www.mddelcc.gouv.qc.ca/eau/eco_aqua/pho...</td>\n",
              "      <td>phosphore-abitibi.ppt</td>\n",
              "      <td>ppt</td>\n",
              "      <td>application/vnd.ms-powerpoint</td>\n",
              "      <td>application/vnd.ms-powerpoint</td>\n",
              "      <td>f355c8d364bbd7c69e6a49d85e455b4f</td>\n",
              "    </tr>\n",
              "    <tr>\n",
              "      <th>21</th>\n",
              "      <td>http://www.mddelcc.gouv.qc.ca/eau/eco_aqua/pho...</td>\n",
              "      <td>phosphore-abitibi.ppt</td>\n",
              "      <td>ppt</td>\n",
              "      <td>application/vnd.ms-powerpoint</td>\n",
              "      <td>application/vnd.ms-powerpoint</td>\n",
              "      <td>f355c8d364bbd7c69e6a49d85e455b4f</td>\n",
              "    </tr>\n",
              "    <tr>\n",
              "      <th>22</th>\n",
              "      <td>http://mddefp.gouv.qc.ca/eau/eco_aqua/phosphor...</td>\n",
              "      <td>phosphore-abitibi.ppt</td>\n",
              "      <td>ppt</td>\n",
              "      <td>application/vnd.ms-powerpoint</td>\n",
              "      <td>application/vnd.ms-powerpoint</td>\n",
              "      <td>f355c8d364bbd7c69e6a49d85e455b4f</td>\n",
              "    </tr>\n",
              "    <tr>\n",
              "      <th>23</th>\n",
              "      <td>http://www.mddep.gouv.qc.ca/eau/eco_aqua/phosp...</td>\n",
              "      <td>phosphore-abitibi.ppt</td>\n",
              "      <td>ppt</td>\n",
              "      <td>application/vnd.ms-powerpoint</td>\n",
              "      <td>application/vnd.ms-powerpoint</td>\n",
              "      <td>f355c8d364bbd7c69e6a49d85e455b4f</td>\n",
              "    </tr>\n",
              "    <tr>\n",
              "      <th>24</th>\n",
              "      <td>http://www.mddep.gouv.qc.ca/eau/eco_aqua/phosp...</td>\n",
              "      <td>phosphore-abitibi.ppt</td>\n",
              "      <td>ppt</td>\n",
              "      <td>application/vnd.ms-powerpoint</td>\n",
              "      <td>application/vnd.ms-powerpoint</td>\n",
              "      <td>f355c8d364bbd7c69e6a49d85e455b4f</td>\n",
              "    </tr>\n",
              "    <tr>\n",
              "      <th>25</th>\n",
              "      <td>http://mddefp.gouv.qc.ca/eau/eco_aqua/phosphor...</td>\n",
              "      <td>phosphore-abitibi.ppt</td>\n",
              "      <td>ppt</td>\n",
              "      <td>application/vnd.ms-powerpoint</td>\n",
              "      <td>application/vnd.ms-powerpoint</td>\n",
              "      <td>f355c8d364bbd7c69e6a49d85e455b4f</td>\n",
              "    </tr>\n",
              "    <tr>\n",
              "      <th>26</th>\n",
              "      <td>http://www.environnement.gouv.qc.ca/jeap/docum...</td>\n",
              "      <td>JEAP.pptx</td>\n",
              "      <td>pptx</td>\n",
              "      <td>application/vnd.openxmlformats-officedocument....</td>\n",
              "      <td>application/vnd.openxmlformats-officedocument....</td>\n",
              "      <td>c3cf8193a17007d48ec623ad2573ad65</td>\n",
              "    </tr>\n",
              "  </tbody>\n",
              "</table>\n",
              "</div>"
            ],
            "text/plain": [
              "                                                  url  ...                               md5\n",
              "0   http://www.mddefp.gouv.qc.ca/eau/eco_aqua/phos...  ...  f355c8d364bbd7c69e6a49d85e455b4f\n",
              "1   http://www.mddep.gouv.qc.ca/eau/eco_aqua/phosp...  ...  f355c8d364bbd7c69e6a49d85e455b4f\n",
              "2   http://mddep.gouv.qc.ca//eau/eco_aqua/phosphor...  ...  f355c8d364bbd7c69e6a49d85e455b4f\n",
              "3   http://www.mddefp.gouv.qc.ca//eau/eco_aqua/pho...  ...  f355c8d364bbd7c69e6a49d85e455b4f\n",
              "4   http://mddep.gouv.qc.ca///eau/eco_aqua/phospho...  ...  f355c8d364bbd7c69e6a49d85e455b4f\n",
              "5   http://www.mddefp.gouv.qc.ca///eau/eco_aqua/ph...  ...  f355c8d364bbd7c69e6a49d85e455b4f\n",
              "6   http://mddep.gouv.qc.ca////eau/eco_aqua/phosph...  ...  f355c8d364bbd7c69e6a49d85e455b4f\n",
              "7   http://www.mddefp.gouv.qc.ca////eau/eco_aqua/p...  ...  f355c8d364bbd7c69e6a49d85e455b4f\n",
              "8   http://www.mddefp.gouv.qc.ca/eau/eco_aqua/phos...  ...  f355c8d364bbd7c69e6a49d85e455b4f\n",
              "9   http://www.mddep.gouv.qc.ca/eau/eco_aqua/phosp...  ...  f355c8d364bbd7c69e6a49d85e455b4f\n",
              "10  http://www.mddefp.gouv.qc.ca//eau/eco_aqua/pho...  ...  f355c8d364bbd7c69e6a49d85e455b4f\n",
              "11  http://www.mddep.gouv.qc.ca//eau/eco_aqua/phos...  ...  f355c8d364bbd7c69e6a49d85e455b4f\n",
              "12  http://www.mddefp.gouv.qc.ca///eau/eco_aqua/ph...  ...  f355c8d364bbd7c69e6a49d85e455b4f\n",
              "13  http://www.mddep.gouv.qc.ca///eau/eco_aqua/pho...  ...  f355c8d364bbd7c69e6a49d85e455b4f\n",
              "14  http://www.mddefp.gouv.qc.ca////eau/eco_aqua/p...  ...  f355c8d364bbd7c69e6a49d85e455b4f\n",
              "15  http://www.mddep.gouv.qc.ca////eau/eco_aqua/ph...  ...  f355c8d364bbd7c69e6a49d85e455b4f\n",
              "16  http://www.mddelcc.gouv.qc.ca/eau/eco_aqua/pho...  ...  f355c8d364bbd7c69e6a49d85e455b4f\n",
              "17  http://www.mddelcc.gouv.qc.ca//eau/eco_aqua/ph...  ...  f355c8d364bbd7c69e6a49d85e455b4f\n",
              "18  http://www.mddelcc.gouv.qc.ca///eau/eco_aqua/p...  ...  f355c8d364bbd7c69e6a49d85e455b4f\n",
              "19  http://www.mddelcc.gouv.qc.ca/eau/eco_aqua/pho...  ...  f355c8d364bbd7c69e6a49d85e455b4f\n",
              "20  http://www.mddelcc.gouv.qc.ca/eau/eco_aqua/pho...  ...  f355c8d364bbd7c69e6a49d85e455b4f\n",
              "21  http://www.mddelcc.gouv.qc.ca/eau/eco_aqua/pho...  ...  f355c8d364bbd7c69e6a49d85e455b4f\n",
              "22  http://mddefp.gouv.qc.ca/eau/eco_aqua/phosphor...  ...  f355c8d364bbd7c69e6a49d85e455b4f\n",
              "23  http://www.mddep.gouv.qc.ca/eau/eco_aqua/phosp...  ...  f355c8d364bbd7c69e6a49d85e455b4f\n",
              "24  http://www.mddep.gouv.qc.ca/eau/eco_aqua/phosp...  ...  f355c8d364bbd7c69e6a49d85e455b4f\n",
              "25  http://mddefp.gouv.qc.ca/eau/eco_aqua/phosphor...  ...  f355c8d364bbd7c69e6a49d85e455b4f\n",
              "26  http://www.environnement.gouv.qc.ca/jeap/docum...  ...  c3cf8193a17007d48ec623ad2573ad65\n",
              "\n",
              "[27 rows x 6 columns]"
            ]
          },
          "metadata": {
            "tags": []
          },
          "execution_count": 10
        }
      ]
    },
    {
      "cell_type": "code",
      "metadata": {
        "id": "27Ic4iYXvg56",
        "colab_type": "code",
        "outputId": "07c432ff-ed64-446b-8d36-dee0533db8c9",
        "colab": {
          "base_uri": "https://localhost:8080/",
          "height": 424
        }
      },
      "source": [
        "spreadsheets_parquet = pq.read_table('parquet/spreadsheets')\n",
        "spreadsheets = spreadsheets_parquet.to_pandas()\n",
        "spreadsheets"
      ],
      "execution_count": 0,
      "outputs": [
        {
          "output_type": "execute_result",
          "data": {
            "text/html": [
              "<div>\n",
              "<style scoped>\n",
              "    .dataframe tbody tr th:only-of-type {\n",
              "        vertical-align: middle;\n",
              "    }\n",
              "\n",
              "    .dataframe tbody tr th {\n",
              "        vertical-align: top;\n",
              "    }\n",
              "\n",
              "    .dataframe thead th {\n",
              "        text-align: right;\n",
              "    }\n",
              "</style>\n",
              "<table border=\"1\" class=\"dataframe\">\n",
              "  <thead>\n",
              "    <tr style=\"text-align: right;\">\n",
              "      <th></th>\n",
              "      <th>url</th>\n",
              "      <th>filename</th>\n",
              "      <th>extension</th>\n",
              "      <th>mime_type_web_server</th>\n",
              "      <th>mime_type_tika</th>\n",
              "      <th>md5</th>\n",
              "    </tr>\n",
              "  </thead>\n",
              "  <tbody>\n",
              "    <tr>\n",
              "      <th>0</th>\n",
              "      <td>http://www.mddefp.gouv.qc.ca/lac-megantic/sedi...</td>\n",
              "      <td>sediments-megantic.xls</td>\n",
              "      <td>xls</td>\n",
              "      <td>application/vnd.ms-excel</td>\n",
              "      <td>application/vnd.ms-excel</td>\n",
              "      <td>ff9a2535bf6ab810ae693d7a023b1320</td>\n",
              "    </tr>\n",
              "    <tr>\n",
              "      <th>1</th>\n",
              "      <td>http://mddep.gouv.qc.ca/lac-megantic/sediments...</td>\n",
              "      <td>sediments-megantic.xls</td>\n",
              "      <td>xls</td>\n",
              "      <td>application/vnd.ms-excel</td>\n",
              "      <td>application/vnd.ms-excel</td>\n",
              "      <td>ff9a2535bf6ab810ae693d7a023b1320</td>\n",
              "    </tr>\n",
              "    <tr>\n",
              "      <th>2</th>\n",
              "      <td>http://mddep.gouv.qc.ca//lac-megantic/sediment...</td>\n",
              "      <td>sediments-megantic.xls</td>\n",
              "      <td>xls</td>\n",
              "      <td>application/vnd.ms-excel</td>\n",
              "      <td>application/vnd.ms-excel</td>\n",
              "      <td>ff9a2535bf6ab810ae693d7a023b1320</td>\n",
              "    </tr>\n",
              "    <tr>\n",
              "      <th>3</th>\n",
              "      <td>http://www.mddefp.gouv.qc.ca//lac-megantic/sed...</td>\n",
              "      <td>sediments-megantic.xls</td>\n",
              "      <td>xls</td>\n",
              "      <td>application/vnd.ms-excel</td>\n",
              "      <td>application/vnd.ms-excel</td>\n",
              "      <td>ff9a2535bf6ab810ae693d7a023b1320</td>\n",
              "    </tr>\n",
              "    <tr>\n",
              "      <th>4</th>\n",
              "      <td>http://www.mddefp.gouv.qc.ca///lac-megantic/se...</td>\n",
              "      <td>sediments-megantic.xls</td>\n",
              "      <td>xls</td>\n",
              "      <td>application/vnd.ms-excel</td>\n",
              "      <td>application/vnd.ms-excel</td>\n",
              "      <td>ff9a2535bf6ab810ae693d7a023b1320</td>\n",
              "    </tr>\n",
              "    <tr>\n",
              "      <th>...</th>\n",
              "      <td>...</td>\n",
              "      <td>...</td>\n",
              "      <td>...</td>\n",
              "      <td>...</td>\n",
              "      <td>...</td>\n",
              "      <td>...</td>\n",
              "    </tr>\n",
              "    <tr>\n",
              "      <th>1929</th>\n",
              "      <td>http://www.mddelcc.gouv.qc.ca//air/ambiant/nic...</td>\n",
              "      <td>donnees-pst.xls</td>\n",
              "      <td>xls</td>\n",
              "      <td>application/vnd.ms-excel</td>\n",
              "      <td>application/vnd.ms-excel</td>\n",
              "      <td>003d18351128ea802f5117d81f22450b</td>\n",
              "    </tr>\n",
              "    <tr>\n",
              "      <th>1930</th>\n",
              "      <td>http://www.mddelcc.gouv.qc.ca/air/ambiant/nick...</td>\n",
              "      <td>donnees-pst.xls</td>\n",
              "      <td>xls</td>\n",
              "      <td>application/vnd.ms-excel</td>\n",
              "      <td>application/vnd.ms-excel</td>\n",
              "      <td>003d18351128ea802f5117d81f22450b</td>\n",
              "    </tr>\n",
              "    <tr>\n",
              "      <th>1931</th>\n",
              "      <td>http://www.mddelcc.gouv.qc.ca/air/ambiant/nick...</td>\n",
              "      <td>donnees-pst.xls</td>\n",
              "      <td>xls</td>\n",
              "      <td>application/vnd.ms-excel</td>\n",
              "      <td>application/vnd.ms-excel</td>\n",
              "      <td>003d18351128ea802f5117d81f22450b</td>\n",
              "    </tr>\n",
              "    <tr>\n",
              "      <th>1932</th>\n",
              "      <td>http://www.mddelcc.gouv.qc.ca/air/ambiant/nick...</td>\n",
              "      <td>donnees-pst.xls</td>\n",
              "      <td>xls</td>\n",
              "      <td>application/vnd.ms-excel</td>\n",
              "      <td>application/vnd.ms-excel</td>\n",
              "      <td>003d18351128ea802f5117d81f22450b</td>\n",
              "    </tr>\n",
              "    <tr>\n",
              "      <th>1933</th>\n",
              "      <td>http://mddefp.gouv.qc.ca/air/ambiant/nickel-li...</td>\n",
              "      <td>donnees-pst.xls</td>\n",
              "      <td>xls</td>\n",
              "      <td>application/vnd.ms-excel</td>\n",
              "      <td>application/vnd.ms-excel</td>\n",
              "      <td>003d18351128ea802f5117d81f22450b</td>\n",
              "    </tr>\n",
              "  </tbody>\n",
              "</table>\n",
              "<p>1934 rows × 6 columns</p>\n",
              "</div>"
            ],
            "text/plain": [
              "                                                    url  ...                               md5\n",
              "0     http://www.mddefp.gouv.qc.ca/lac-megantic/sedi...  ...  ff9a2535bf6ab810ae693d7a023b1320\n",
              "1     http://mddep.gouv.qc.ca/lac-megantic/sediments...  ...  ff9a2535bf6ab810ae693d7a023b1320\n",
              "2     http://mddep.gouv.qc.ca//lac-megantic/sediment...  ...  ff9a2535bf6ab810ae693d7a023b1320\n",
              "3     http://www.mddefp.gouv.qc.ca//lac-megantic/sed...  ...  ff9a2535bf6ab810ae693d7a023b1320\n",
              "4     http://www.mddefp.gouv.qc.ca///lac-megantic/se...  ...  ff9a2535bf6ab810ae693d7a023b1320\n",
              "...                                                 ...  ...                               ...\n",
              "1929  http://www.mddelcc.gouv.qc.ca//air/ambiant/nic...  ...  003d18351128ea802f5117d81f22450b\n",
              "1930  http://www.mddelcc.gouv.qc.ca/air/ambiant/nick...  ...  003d18351128ea802f5117d81f22450b\n",
              "1931  http://www.mddelcc.gouv.qc.ca/air/ambiant/nick...  ...  003d18351128ea802f5117d81f22450b\n",
              "1932  http://www.mddelcc.gouv.qc.ca/air/ambiant/nick...  ...  003d18351128ea802f5117d81f22450b\n",
              "1933  http://mddefp.gouv.qc.ca/air/ambiant/nickel-li...  ...  003d18351128ea802f5117d81f22450b\n",
              "\n",
              "[1934 rows x 6 columns]"
            ]
          },
          "metadata": {
            "tags": []
          },
          "execution_count": 11
        }
      ]
    },
    {
      "cell_type": "code",
      "metadata": {
        "id": "AVzWkLXqviU7",
        "colab_type": "code",
        "outputId": "d1d582f2-da6b-4ce9-d232-ad3358201a35",
        "colab": {
          "base_uri": "https://localhost:8080/",
          "height": 424
        }
      },
      "source": [
        "videos_parquet = pq.read_table('parquet/videos')\n",
        "videos = videos_parquet.to_pandas()\n",
        "videos"
      ],
      "execution_count": 0,
      "outputs": [
        {
          "output_type": "execute_result",
          "data": {
            "text/html": [
              "<div>\n",
              "<style scoped>\n",
              "    .dataframe tbody tr th:only-of-type {\n",
              "        vertical-align: middle;\n",
              "    }\n",
              "\n",
              "    .dataframe tbody tr th {\n",
              "        vertical-align: top;\n",
              "    }\n",
              "\n",
              "    .dataframe thead th {\n",
              "        text-align: right;\n",
              "    }\n",
              "</style>\n",
              "<table border=\"1\" class=\"dataframe\">\n",
              "  <thead>\n",
              "    <tr style=\"text-align: right;\">\n",
              "      <th></th>\n",
              "      <th>url</th>\n",
              "      <th>filename</th>\n",
              "      <th>extension</th>\n",
              "      <th>mime_type_web_server</th>\n",
              "      <th>mime_type_tika</th>\n",
              "      <th>md5</th>\n",
              "    </tr>\n",
              "  </thead>\n",
              "  <tbody>\n",
              "    <tr>\n",
              "      <th>0</th>\n",
              "      <td>http://r2---sn-9pm-t0ae.googlevideo.com/videop...</td>\n",
              "      <td>videoplayback</td>\n",
              "      <td>mp4</td>\n",
              "      <td>video/mp4</td>\n",
              "      <td>video/mp4</td>\n",
              "      <td>fff69dea5a778dc8c85150546f83e3bf</td>\n",
              "    </tr>\n",
              "    <tr>\n",
              "      <th>1</th>\n",
              "      <td>http://r1---sn-huvuxaxjvh-t0ae.googlevideo.com...</td>\n",
              "      <td>videoplayback</td>\n",
              "      <td>mp4</td>\n",
              "      <td>video/mp4</td>\n",
              "      <td>video/mp4</td>\n",
              "      <td>ffc631a176a4a2a9c6350e0f7bf5ebbb</td>\n",
              "    </tr>\n",
              "    <tr>\n",
              "      <th>2</th>\n",
              "      <td>http://r1---sn-huvuxaxjvh-t0ae.googlevideo.com...</td>\n",
              "      <td>videoplayback</td>\n",
              "      <td>mp4</td>\n",
              "      <td>video/mp4</td>\n",
              "      <td>video/mp4</td>\n",
              "      <td>ffc631a176a4a2a9c6350e0f7bf5ebbb</td>\n",
              "    </tr>\n",
              "    <tr>\n",
              "      <th>3</th>\n",
              "      <td>http://r2---sn-9pm-t0ae.googlevideo.com/videop...</td>\n",
              "      <td>videoplayback</td>\n",
              "      <td>mp4</td>\n",
              "      <td>video/mp4</td>\n",
              "      <td>video/mp4</td>\n",
              "      <td>ffc1f5800fcbe1a5569233ba7d35eb37</td>\n",
              "    </tr>\n",
              "    <tr>\n",
              "      <th>4</th>\n",
              "      <td>http://r1---sn-9pm-t0ae.googlevideo.com/videop...</td>\n",
              "      <td>videoplayback</td>\n",
              "      <td>mp4</td>\n",
              "      <td>video/mp4</td>\n",
              "      <td>video/mp4</td>\n",
              "      <td>ff9cc29ff27b71821842b6fc869d52fc</td>\n",
              "    </tr>\n",
              "    <tr>\n",
              "      <th>...</th>\n",
              "      <td>...</td>\n",
              "      <td>...</td>\n",
              "      <td>...</td>\n",
              "      <td>...</td>\n",
              "      <td>...</td>\n",
              "      <td>...</td>\n",
              "    </tr>\n",
              "    <tr>\n",
              "      <th>1225</th>\n",
              "      <td>http://r3---sn-9pm-t0ae.googlevideo.com/videop...</td>\n",
              "      <td>videoplayback</td>\n",
              "      <td>mp4</td>\n",
              "      <td>video/mp4</td>\n",
              "      <td>video/mp4</td>\n",
              "      <td>0260d72ebbf15e9002476ca36051b6d6</td>\n",
              "    </tr>\n",
              "    <tr>\n",
              "      <th>1226</th>\n",
              "      <td>http://r1---sn-9pm-t0ae.googlevideo.com/videop...</td>\n",
              "      <td>videoplayback</td>\n",
              "      <td>mp4</td>\n",
              "      <td>video/mp4</td>\n",
              "      <td>video/mp4</td>\n",
              "      <td>0243341c00b45c691f8aa5ccf58c4d81</td>\n",
              "    </tr>\n",
              "    <tr>\n",
              "      <th>1227</th>\n",
              "      <td>http://r2---sn-9pm-t0ae.googlevideo.com/videop...</td>\n",
              "      <td>videoplayback</td>\n",
              "      <td>mp4</td>\n",
              "      <td>video/mp4</td>\n",
              "      <td>video/mp4</td>\n",
              "      <td>01424b75d5369bb1dd0429fdac5dd1ce</td>\n",
              "    </tr>\n",
              "    <tr>\n",
              "      <th>1228</th>\n",
              "      <td>http://r2---sn-9pm-t0ae.googlevideo.com/videop...</td>\n",
              "      <td>videoplayback</td>\n",
              "      <td>mp4</td>\n",
              "      <td>video/mp4</td>\n",
              "      <td>video/mp4</td>\n",
              "      <td>0136818662f6d774f0f0ec72624ab039</td>\n",
              "    </tr>\n",
              "    <tr>\n",
              "      <th>1229</th>\n",
              "      <td>http://r2---sn-huvuxaxjvh-t0ae.googlevideo.com...</td>\n",
              "      <td>videoplayback</td>\n",
              "      <td>mp4</td>\n",
              "      <td>video/mp4</td>\n",
              "      <td>video/mp4</td>\n",
              "      <td>005d7be6977c314466d572e01c30f8db</td>\n",
              "    </tr>\n",
              "  </tbody>\n",
              "</table>\n",
              "<p>1230 rows × 6 columns</p>\n",
              "</div>"
            ],
            "text/plain": [
              "                                                    url  ...                               md5\n",
              "0     http://r2---sn-9pm-t0ae.googlevideo.com/videop...  ...  fff69dea5a778dc8c85150546f83e3bf\n",
              "1     http://r1---sn-huvuxaxjvh-t0ae.googlevideo.com...  ...  ffc631a176a4a2a9c6350e0f7bf5ebbb\n",
              "2     http://r1---sn-huvuxaxjvh-t0ae.googlevideo.com...  ...  ffc631a176a4a2a9c6350e0f7bf5ebbb\n",
              "3     http://r2---sn-9pm-t0ae.googlevideo.com/videop...  ...  ffc1f5800fcbe1a5569233ba7d35eb37\n",
              "4     http://r1---sn-9pm-t0ae.googlevideo.com/videop...  ...  ff9cc29ff27b71821842b6fc869d52fc\n",
              "...                                                 ...  ...                               ...\n",
              "1225  http://r3---sn-9pm-t0ae.googlevideo.com/videop...  ...  0260d72ebbf15e9002476ca36051b6d6\n",
              "1226  http://r1---sn-9pm-t0ae.googlevideo.com/videop...  ...  0243341c00b45c691f8aa5ccf58c4d81\n",
              "1227  http://r2---sn-9pm-t0ae.googlevideo.com/videop...  ...  01424b75d5369bb1dd0429fdac5dd1ce\n",
              "1228  http://r2---sn-9pm-t0ae.googlevideo.com/videop...  ...  0136818662f6d774f0f0ec72624ab039\n",
              "1229  http://r2---sn-huvuxaxjvh-t0ae.googlevideo.com...  ...  005d7be6977c314466d572e01c30f8db\n",
              "\n",
              "[1230 rows x 6 columns]"
            ]
          },
          "metadata": {
            "tags": []
          },
          "execution_count": 12
        }
      ]
    },
    {
      "cell_type": "code",
      "metadata": {
        "id": "Lz98OX2Zvj15",
        "colab_type": "code",
        "outputId": "64c967ef-a25c-4a47-84be-10f5be0de7eb",
        "colab": {
          "base_uri": "https://localhost:8080/",
          "height": 424
        }
      },
      "source": [
        "word_processor_parquet = pq.read_table('parquet/word_processor')\n",
        "word_processor = word_processor_parquet.to_pandas()\n",
        "word_processor"
      ],
      "execution_count": 0,
      "outputs": [
        {
          "output_type": "execute_result",
          "data": {
            "text/html": [
              "<div>\n",
              "<style scoped>\n",
              "    .dataframe tbody tr th:only-of-type {\n",
              "        vertical-align: middle;\n",
              "    }\n",
              "\n",
              "    .dataframe tbody tr th {\n",
              "        vertical-align: top;\n",
              "    }\n",
              "\n",
              "    .dataframe thead th {\n",
              "        text-align: right;\n",
              "    }\n",
              "</style>\n",
              "<table border=\"1\" class=\"dataframe\">\n",
              "  <thead>\n",
              "    <tr style=\"text-align: right;\">\n",
              "      <th></th>\n",
              "      <th>url</th>\n",
              "      <th>filename</th>\n",
              "      <th>extension</th>\n",
              "      <th>mime_type_web_server</th>\n",
              "      <th>mime_type_tika</th>\n",
              "      <th>md5</th>\n",
              "    </tr>\n",
              "  </thead>\n",
              "  <tbody>\n",
              "    <tr>\n",
              "      <th>0</th>\n",
              "      <td>http://mddefp.gouv.qc.ca/lqe/renforcement/decl...</td>\n",
              "      <td>declaration-societe-personnes.docx</td>\n",
              "      <td>docx</td>\n",
              "      <td>application/vnd.openxmlformats-officedocument....</td>\n",
              "      <td>application/vnd.openxmlformats-officedocument....</td>\n",
              "      <td>fee6ba124baaa44676b8639afb20027c</td>\n",
              "    </tr>\n",
              "    <tr>\n",
              "      <th>1</th>\n",
              "      <td>http://www.mddep.gouv.qc.ca/matieres/dangereux...</td>\n",
              "      <td>cautionnement.doc</td>\n",
              "      <td>doc</td>\n",
              "      <td>application/msword</td>\n",
              "      <td>application/msword</td>\n",
              "      <td>fece1f61a6c8826e6ffa58860b5bead5</td>\n",
              "    </tr>\n",
              "    <tr>\n",
              "      <th>2</th>\n",
              "      <td>http://mddefp.gouv.qc.ca/matieres/dangereux/ca...</td>\n",
              "      <td>cautionnement.doc</td>\n",
              "      <td>doc</td>\n",
              "      <td>application/msword</td>\n",
              "      <td>application/msword</td>\n",
              "      <td>fece1f61a6c8826e6ffa58860b5bead5</td>\n",
              "    </tr>\n",
              "    <tr>\n",
              "      <th>3</th>\n",
              "      <td>http://www.mddefp.gouv.qc.ca//matieres/dangere...</td>\n",
              "      <td>cautionnement.doc</td>\n",
              "      <td>doc</td>\n",
              "      <td>application/msword</td>\n",
              "      <td>application/msword</td>\n",
              "      <td>fece1f61a6c8826e6ffa58860b5bead5</td>\n",
              "    </tr>\n",
              "    <tr>\n",
              "      <th>4</th>\n",
              "      <td>http://mddep.gouv.qc.ca//matieres/dangereux/ca...</td>\n",
              "      <td>cautionnement.doc</td>\n",
              "      <td>doc</td>\n",
              "      <td>application/msword</td>\n",
              "      <td>application/msword</td>\n",
              "      <td>fece1f61a6c8826e6ffa58860b5bead5</td>\n",
              "    </tr>\n",
              "    <tr>\n",
              "      <th>...</th>\n",
              "      <td>...</td>\n",
              "      <td>...</td>\n",
              "      <td>...</td>\n",
              "      <td>...</td>\n",
              "      <td>...</td>\n",
              "      <td>...</td>\n",
              "    </tr>\n",
              "    <tr>\n",
              "      <th>4250</th>\n",
              "      <td>http://www.mddelcc.gouv.qc.ca/milieu_agri/agri...</td>\n",
              "      <td>liste-associes.doc</td>\n",
              "      <td>doc</td>\n",
              "      <td>application/msword</td>\n",
              "      <td>application/msword</td>\n",
              "      <td>002aa2cb7107e65eb22dd760d420c7ad</td>\n",
              "    </tr>\n",
              "    <tr>\n",
              "      <th>4251</th>\n",
              "      <td>http://www.mddelcc.gouv.qc.ca//milieu_agri/agr...</td>\n",
              "      <td>liste-associes.doc</td>\n",
              "      <td>doc</td>\n",
              "      <td>application/msword</td>\n",
              "      <td>application/msword</td>\n",
              "      <td>002aa2cb7107e65eb22dd760d420c7ad</td>\n",
              "    </tr>\n",
              "    <tr>\n",
              "      <th>4252</th>\n",
              "      <td>http://www.mddelcc.gouv.qc.ca/milieu_agri/agri...</td>\n",
              "      <td>liste-associes.doc</td>\n",
              "      <td>doc</td>\n",
              "      <td>application/msword</td>\n",
              "      <td>application/msword</td>\n",
              "      <td>002aa2cb7107e65eb22dd760d420c7ad</td>\n",
              "    </tr>\n",
              "    <tr>\n",
              "      <th>4253</th>\n",
              "      <td>http://www.mddelcc.gouv.qc.ca/milieu_agri/agri...</td>\n",
              "      <td>liste-associes.doc</td>\n",
              "      <td>doc</td>\n",
              "      <td>application/msword</td>\n",
              "      <td>application/msword</td>\n",
              "      <td>002aa2cb7107e65eb22dd760d420c7ad</td>\n",
              "    </tr>\n",
              "    <tr>\n",
              "      <th>4254</th>\n",
              "      <td>http://www.mddelcc.gouv.qc.ca/milieu_agri/agri...</td>\n",
              "      <td>liste-associes.doc</td>\n",
              "      <td>doc</td>\n",
              "      <td>application/msword</td>\n",
              "      <td>application/msword</td>\n",
              "      <td>002aa2cb7107e65eb22dd760d420c7ad</td>\n",
              "    </tr>\n",
              "  </tbody>\n",
              "</table>\n",
              "<p>4255 rows × 6 columns</p>\n",
              "</div>"
            ],
            "text/plain": [
              "                                                    url  ...                               md5\n",
              "0     http://mddefp.gouv.qc.ca/lqe/renforcement/decl...  ...  fee6ba124baaa44676b8639afb20027c\n",
              "1     http://www.mddep.gouv.qc.ca/matieres/dangereux...  ...  fece1f61a6c8826e6ffa58860b5bead5\n",
              "2     http://mddefp.gouv.qc.ca/matieres/dangereux/ca...  ...  fece1f61a6c8826e6ffa58860b5bead5\n",
              "3     http://www.mddefp.gouv.qc.ca//matieres/dangere...  ...  fece1f61a6c8826e6ffa58860b5bead5\n",
              "4     http://mddep.gouv.qc.ca//matieres/dangereux/ca...  ...  fece1f61a6c8826e6ffa58860b5bead5\n",
              "...                                                 ...  ...                               ...\n",
              "4250  http://www.mddelcc.gouv.qc.ca/milieu_agri/agri...  ...  002aa2cb7107e65eb22dd760d420c7ad\n",
              "4251  http://www.mddelcc.gouv.qc.ca//milieu_agri/agr...  ...  002aa2cb7107e65eb22dd760d420c7ad\n",
              "4252  http://www.mddelcc.gouv.qc.ca/milieu_agri/agri...  ...  002aa2cb7107e65eb22dd760d420c7ad\n",
              "4253  http://www.mddelcc.gouv.qc.ca/milieu_agri/agri...  ...  002aa2cb7107e65eb22dd760d420c7ad\n",
              "4254  http://www.mddelcc.gouv.qc.ca/milieu_agri/agri...  ...  002aa2cb7107e65eb22dd760d420c7ad\n",
              "\n",
              "[4255 rows x 6 columns]"
            ]
          },
          "metadata": {
            "tags": []
          },
          "execution_count": 13
        }
      ]
    },
    {
      "cell_type": "markdown",
      "metadata": {
        "id": "3HPwOCNAvqMe",
        "colab_type": "text"
      },
      "source": [
        "# Data Analysis\n",
        "\n",
        "Now that we have all of our datasets loaded up, we can begin to work with it!"
      ]
    },
    {
      "cell_type": "markdown",
      "metadata": {
        "id": "J6Pkg0prv3BE",
        "colab_type": "text"
      },
      "source": [
        "## Counting total files, and unique files\n"
      ]
    },
    {
      "cell_type": "markdown",
      "metadata": {
        "id": "DFX4Gl3wv7bi",
        "colab_type": "text"
      },
      "source": [
        "\n",
        "Count number of rows (how many images are in the web archive collection).\n"
      ]
    },
    {
      "cell_type": "code",
      "metadata": {
        "id": "bn-1v127aKIG",
        "colab_type": "code",
        "outputId": "0a4aa5c7-4a34-40dc-e56a-f61ed9a75c77",
        "colab": {
          "base_uri": "https://localhost:8080/",
          "height": 182
        }
      },
      "source": [
        "images.count()"
      ],
      "execution_count": 0,
      "outputs": [
        {
          "output_type": "execute_result",
          "data": {
            "text/plain": [
              "url                     156166\n",
              "filename                156166\n",
              "extension               156166\n",
              "mime_type_web_server    156166\n",
              "mime_type_tika          156166\n",
              "width                   156166\n",
              "height                  156166\n",
              "md5                     156166\n",
              "dtype: int64"
            ]
          },
          "metadata": {
            "tags": []
          },
          "execution_count": 15
        }
      ]
    },
    {
      "cell_type": "markdown",
      "metadata": {
        "id": "38veKiPhwKo4",
        "colab_type": "text"
      },
      "source": [
        "How many unique images are in the collection?\n",
        "\n",
        "\n"
      ]
    },
    {
      "cell_type": "code",
      "metadata": {
        "id": "WesM3kQowM5B",
        "colab_type": "code",
        "outputId": "05407f7c-b6fa-47c2-b88b-881db2b7e706",
        "colab": {
          "base_uri": "https://localhost:8080/",
          "height": 35
        }
      },
      "source": [
        "len(images.md5.unique())"
      ],
      "execution_count": 0,
      "outputs": [
        {
          "output_type": "execute_result",
          "data": {
            "text/plain": [
              "18287"
            ]
          },
          "metadata": {
            "tags": []
          },
          "execution_count": 24
        }
      ]
    },
    {
      "cell_type": "markdown",
      "metadata": {
        "id": "ZIXkI0-1wWQf",
        "colab_type": "text"
      },
      "source": [
        "What are the top 10 most occuring images in the collection?"
      ]
    },
    {
      "cell_type": "code",
      "metadata": {
        "id": "8Ts03OFyjPIM",
        "colab_type": "code",
        "outputId": "c2a2fc1f-5217-44f9-9e03-d70f40f553d4",
        "colab": {
          "base_uri": "https://localhost:8080/",
          "height": 219
        }
      },
      "source": [
        "images['md5'].value_counts().head(10)"
      ],
      "execution_count": 0,
      "outputs": [
        {
          "output_type": "execute_result",
          "data": {
            "text/plain": [
              "5283d313972a24f0e71c47ae3c99958b    192\n",
              "e7d1f7750c16bc835bf1cfe1bf322d46    192\n",
              "a4d3ddfb1a95e87650c624660d67765a    192\n",
              "b09dc3225d5e1377c52c06feddc33bfe    192\n",
              "89663337857f6d769fbcaed7278cc925     77\n",
              "497db34fffa0e278f57ae614b4b758a0     64\n",
              "58e5d8676dfcc4205551314d98fb2624     61\n",
              "100322cfd242ee75dd5a744526f08d6b     56\n",
              "b7fd236aca8435a65f31c6d67db0685f     53\n",
              "65274f9eaa4c585b7c35193ebb04e0d7     53\n",
              "Name: md5, dtype: int64"
            ]
          },
          "metadata": {
            "tags": []
          },
          "execution_count": 16
        }
      ]
    },
    {
      "cell_type": "markdown",
      "metadata": {
        "id": "FG7pGZUEwlaI",
        "colab_type": "text"
      },
      "source": [
        "\n",
        "What's the information around all of the occurances of `5283d313972a24f0e71c47ae3c99958b`?\n"
      ]
    },
    {
      "cell_type": "code",
      "metadata": {
        "id": "msmmm65lkSIK",
        "colab_type": "code",
        "outputId": "6bc500cd-64a3-40fc-d9ca-722cbf701a1b",
        "colab": {
          "base_uri": "https://localhost:8080/",
          "height": 424
        }
      },
      "source": [
        "images.loc[images['md5'] == '5283d313972a24f0e71c47ae3c99958b']"
      ],
      "execution_count": 0,
      "outputs": [
        {
          "output_type": "execute_result",
          "data": {
            "text/html": [
              "<div>\n",
              "<style scoped>\n",
              "    .dataframe tbody tr th:only-of-type {\n",
              "        vertical-align: middle;\n",
              "    }\n",
              "\n",
              "    .dataframe tbody tr th {\n",
              "        vertical-align: top;\n",
              "    }\n",
              "\n",
              "    .dataframe thead th {\n",
              "        text-align: right;\n",
              "    }\n",
              "</style>\n",
              "<table border=\"1\" class=\"dataframe\">\n",
              "  <thead>\n",
              "    <tr style=\"text-align: right;\">\n",
              "      <th></th>\n",
              "      <th>url</th>\n",
              "      <th>filename</th>\n",
              "      <th>extension</th>\n",
              "      <th>mime_type_web_server</th>\n",
              "      <th>mime_type_tika</th>\n",
              "      <th>width</th>\n",
              "      <th>height</th>\n",
              "      <th>md5</th>\n",
              "    </tr>\n",
              "  </thead>\n",
              "  <tbody>\n",
              "    <tr>\n",
              "      <th>104915</th>\n",
              "      <td>http://mddefp.gouv.qc.ca/poissons/assomption/t...</td>\n",
              "      <td>tumeur.jpg</td>\n",
              "      <td>jpg</td>\n",
              "      <td>image/jpeg</td>\n",
              "      <td>image/jpeg</td>\n",
              "      <td>310</td>\n",
              "      <td>220</td>\n",
              "      <td>5283d313972a24f0e71c47ae3c99958b</td>\n",
              "    </tr>\n",
              "    <tr>\n",
              "      <th>104916</th>\n",
              "      <td>http://mddefp.gouv.qc.ca/poissons/chateauguay/...</td>\n",
              "      <td>tumeur.jpg</td>\n",
              "      <td>jpg</td>\n",
              "      <td>image/jpeg</td>\n",
              "      <td>image/jpeg</td>\n",
              "      <td>310</td>\n",
              "      <td>220</td>\n",
              "      <td>5283d313972a24f0e71c47ae3c99958b</td>\n",
              "    </tr>\n",
              "    <tr>\n",
              "      <th>104917</th>\n",
              "      <td>http://mddefp.gouv.qc.ca/poissons/st-francois/...</td>\n",
              "      <td>tumeur.jpg</td>\n",
              "      <td>jpg</td>\n",
              "      <td>image/jpeg</td>\n",
              "      <td>image/jpeg</td>\n",
              "      <td>310</td>\n",
              "      <td>220</td>\n",
              "      <td>5283d313972a24f0e71c47ae3c99958b</td>\n",
              "    </tr>\n",
              "    <tr>\n",
              "      <th>104918</th>\n",
              "      <td>http://mddefp.gouv.qc.ca/poissons/st-maurice/t...</td>\n",
              "      <td>tumeur.jpg</td>\n",
              "      <td>jpg</td>\n",
              "      <td>image/jpeg</td>\n",
              "      <td>image/jpeg</td>\n",
              "      <td>310</td>\n",
              "      <td>220</td>\n",
              "      <td>5283d313972a24f0e71c47ae3c99958b</td>\n",
              "    </tr>\n",
              "    <tr>\n",
              "      <th>104919</th>\n",
              "      <td>http://mddefp.gouv.qc.ca/poissons/richelieu/tu...</td>\n",
              "      <td>tumeur.jpg</td>\n",
              "      <td>jpg</td>\n",
              "      <td>image/jpeg</td>\n",
              "      <td>image/jpeg</td>\n",
              "      <td>310</td>\n",
              "      <td>220</td>\n",
              "      <td>5283d313972a24f0e71c47ae3c99958b</td>\n",
              "    </tr>\n",
              "    <tr>\n",
              "      <th>...</th>\n",
              "      <td>...</td>\n",
              "      <td>...</td>\n",
              "      <td>...</td>\n",
              "      <td>...</td>\n",
              "      <td>...</td>\n",
              "      <td>...</td>\n",
              "      <td>...</td>\n",
              "      <td>...</td>\n",
              "    </tr>\n",
              "    <tr>\n",
              "      <th>105102</th>\n",
              "      <td>http://www.mddep.gouv.qc.ca/poissons/chaudiere...</td>\n",
              "      <td>tumeur.jpg</td>\n",
              "      <td>jpg</td>\n",
              "      <td>image/jpeg</td>\n",
              "      <td>image/jpeg</td>\n",
              "      <td>310</td>\n",
              "      <td>220</td>\n",
              "      <td>5283d313972a24f0e71c47ae3c99958b</td>\n",
              "    </tr>\n",
              "    <tr>\n",
              "      <th>105103</th>\n",
              "      <td>http://www.mddep.gouv.qc.ca/poissons/yamaska/t...</td>\n",
              "      <td>tumeur.jpg</td>\n",
              "      <td>jpg</td>\n",
              "      <td>image/jpeg</td>\n",
              "      <td>image/jpeg</td>\n",
              "      <td>310</td>\n",
              "      <td>220</td>\n",
              "      <td>5283d313972a24f0e71c47ae3c99958b</td>\n",
              "    </tr>\n",
              "    <tr>\n",
              "      <th>105104</th>\n",
              "      <td>http://www.mddep.gouv.qc.ca/poissons/chateaugu...</td>\n",
              "      <td>tumeur.jpg</td>\n",
              "      <td>jpg</td>\n",
              "      <td>image/jpeg</td>\n",
              "      <td>image/jpeg</td>\n",
              "      <td>310</td>\n",
              "      <td>220</td>\n",
              "      <td>5283d313972a24f0e71c47ae3c99958b</td>\n",
              "    </tr>\n",
              "    <tr>\n",
              "      <th>105105</th>\n",
              "      <td>http://www.mddep.gouv.qc.ca/poissons/assomptio...</td>\n",
              "      <td>tumeur.jpg</td>\n",
              "      <td>jpg</td>\n",
              "      <td>image/jpeg</td>\n",
              "      <td>image/jpeg</td>\n",
              "      <td>310</td>\n",
              "      <td>220</td>\n",
              "      <td>5283d313972a24f0e71c47ae3c99958b</td>\n",
              "    </tr>\n",
              "    <tr>\n",
              "      <th>105106</th>\n",
              "      <td>http://www.mddep.gouv.qc.ca/poissons/st-charle...</td>\n",
              "      <td>tumeur.jpg</td>\n",
              "      <td>jpg</td>\n",
              "      <td>image/jpeg</td>\n",
              "      <td>image/jpeg</td>\n",
              "      <td>310</td>\n",
              "      <td>220</td>\n",
              "      <td>5283d313972a24f0e71c47ae3c99958b</td>\n",
              "    </tr>\n",
              "  </tbody>\n",
              "</table>\n",
              "<p>192 rows × 8 columns</p>\n",
              "</div>"
            ],
            "text/plain": [
              "                                                      url  ...                               md5\n",
              "104915  http://mddefp.gouv.qc.ca/poissons/assomption/t...  ...  5283d313972a24f0e71c47ae3c99958b\n",
              "104916  http://mddefp.gouv.qc.ca/poissons/chateauguay/...  ...  5283d313972a24f0e71c47ae3c99958b\n",
              "104917  http://mddefp.gouv.qc.ca/poissons/st-francois/...  ...  5283d313972a24f0e71c47ae3c99958b\n",
              "104918  http://mddefp.gouv.qc.ca/poissons/st-maurice/t...  ...  5283d313972a24f0e71c47ae3c99958b\n",
              "104919  http://mddefp.gouv.qc.ca/poissons/richelieu/tu...  ...  5283d313972a24f0e71c47ae3c99958b\n",
              "...                                                   ...  ...                               ...\n",
              "105102  http://www.mddep.gouv.qc.ca/poissons/chaudiere...  ...  5283d313972a24f0e71c47ae3c99958b\n",
              "105103  http://www.mddep.gouv.qc.ca/poissons/yamaska/t...  ...  5283d313972a24f0e71c47ae3c99958b\n",
              "105104  http://www.mddep.gouv.qc.ca/poissons/chateaugu...  ...  5283d313972a24f0e71c47ae3c99958b\n",
              "105105  http://www.mddep.gouv.qc.ca/poissons/assomptio...  ...  5283d313972a24f0e71c47ae3c99958b\n",
              "105106  http://www.mddep.gouv.qc.ca/poissons/st-charle...  ...  5283d313972a24f0e71c47ae3c99958b\n",
              "\n",
              "[192 rows x 8 columns]"
            ]
          },
          "metadata": {
            "tags": []
          },
          "execution_count": 18
        }
      ]
    },
    {
      "cell_type": "markdown",
      "metadata": {
        "id": "GbLLZW2awzCv",
        "colab_type": "text"
      },
      "source": [
        "\n",
        "What are the top 10 most occuring filenames in the collection?\n",
        "\n"
      ]
    },
    {
      "cell_type": "code",
      "metadata": {
        "id": "pQaw54ACkwdZ",
        "colab_type": "code",
        "outputId": "eba6065c-503e-48a2-9263-cae2e7cfbaa2",
        "colab": {
          "base_uri": "https://localhost:8080/",
          "height": 219
        }
      },
      "source": [
        "top_filenames = images['filename'].value_counts().head(10)\n",
        "top_filenames"
      ],
      "execution_count": 50,
      "outputs": [
        {
          "output_type": "execute_result",
          "data": {
            "text/plain": [
              "carte-p.jpg      1196\n",
              "carte2.jpg        924\n",
              "carte1.jpg        875\n",
              "carte-g.jpg       660\n",
              "carte.jpg         576\n",
              "carte-qc.jpg      575\n",
              "carte-an.jpg      575\n",
              "carte-G.jpg       484\n",
              "carte_p.jpg       473\n",
              "carte_web.jpg     431\n",
              "Name: filename, dtype: int64"
            ]
          },
          "metadata": {
            "tags": []
          },
          "execution_count": 50
        }
      ]
    },
    {
      "cell_type": "markdown",
      "metadata": {
        "id": "Z7F3re20BQRI",
        "colab_type": "text"
      },
      "source": [
        "Let's plot it!"
      ]
    },
    {
      "cell_type": "code",
      "metadata": {
        "id": "sRvlstfsBWEZ",
        "colab_type": "code",
        "colab": {
          "base_uri": "https://localhost:8080/",
          "height": 341
        },
        "outputId": "b6d77545-e54a-4ecc-8144-f37e0835ac73"
      },
      "source": [
        "top_filenames_chart = top_filenames.plot(kind='bar', title=\"Top Filenames\", legend=None)"
      ],
      "execution_count": 51,
      "outputs": [
        {
          "output_type": "display_data",
          "data": {
            "image/png": "[encoded data removed]",
            "text/plain": [
              "<Figure size 432x288 with 1 Axes>"
            ]
          },
          "metadata": {
            "tags": []
          }
        }
      ]
    },
    {
      "cell_type": "markdown",
      "metadata": {
        "id": "BneaN9cgGoly",
        "colab_type": "text"
      },
      "source": [
        "How about a MIME type distribution?\n",
        "\n"
      ]
    },
    {
      "cell_type": "code",
      "metadata": {
        "id": "RDd-J8D-GwDk",
        "colab_type": "code",
        "colab": {
          "base_uri": "https://localhost:8080/",
          "height": 607
        },
        "outputId": "44ee7d62-b986-42f8-80d9-7d1cafcd513f"
      },
      "source": [
        "mime_types = images['mime_type_tika'].value_counts().head(5)\n",
        "mime_type_chart = mime_types.plot.line(title=\"MIME Type Distribution\", figsize=(10,10))"
      ],
      "execution_count": 78,
      "outputs": [
        {
          "output_type": "display_data",
          "data": {
            "image/png": "[encoded data removed]",
            "text/plain": [
              "<Figure size 720x720 with 1 Axes>"
            ]
          },
          "metadata": {
            "tags": []
          }
        }
      ]
    },
    {
      "cell_type": "markdown",
      "metadata": {
        "id": "k8K8cgXSxxK3",
        "colab_type": "text"
      },
      "source": [
        "## Domains Analysis\n",
        "\n",
        "Domains data provides basic information about what is crawled and how often. Change the variables in the following cell to manipulate the domain analysis. For example, you may want to exclude common domains (i.e. \"google\") or you may be interested in sub-domains such as ca.geocities.com."
      ]
    },
    {
      "cell_type": "markdown",
      "metadata": {
        "id": "QGHnjGRQPzqV",
        "colab_type": "text"
      },
      "source": [
        "Let's start off here by creating a line chart of the top 10 domains."
      ]
    },
    {
      "cell_type": "code",
      "metadata": {
        "id": "C_X_YSD4PyQi",
        "colab_type": "code",
        "colab": {
          "base_uri": "https://localhost:8080/",
          "height": 893
        },
        "outputId": "428e3d38-6755-428a-cae8-7ac9830c6e3f"
      },
      "source": [
        "top_domains = domains.sort_values('count', ascending=False).head(10)\n",
        "top_domains_chart = top_domains.plot.line(title=\"Domains Distribution\", x='Domain', y='count', figsize=(25,15))"
      ],
      "execution_count": 95,
      "outputs": [
        {
          "output_type": "display_data",
          "data": {
            "image/png": "[encoded data removed]",
            "text/plain": [
              "<Figure size 1800x1080 with 1 Axes>"
            ]
          },
          "metadata": {
            "tags": []
          }
        }
      ]
    },
    {
      "cell_type": "markdown",
      "metadata": {
        "id": "VDXDhqCcyyFj",
        "colab_type": "text"
      },
      "source": [
        "Next, we'll be creating a new column, `tld`, which is based off an existing column, 'Domain'. This exapmple should give you an idea of how you can expand these datasets to do further research and analysis.\n",
        "\n",
        "We'll take the `Domain` column, and extract the `tld` from it with [`tldextract`](https://github.com/john-kurkowski/tldextract).\n",
        "\n",
        "First we'll add the [`tldextract`](https://github.com/john-kurkowski/tldextract)library to the notebook. Then, we'll create the new column."
      ]
    },
    {
      "cell_type": "markdown",
      "metadata": {
        "id": "1T7b6WAbP5WR",
        "colab_type": "text"
      },
      "source": [
        ""
      ]
    },
    {
      "cell_type": "code",
      "metadata": {
        "id": "clPJuQAe5mcg",
        "colab_type": "code",
        "colab": {}
      },
      "source": [
        "%%capture\n",
        "\n",
        "!pip install tldextract"
      ],
      "execution_count": 0,
      "outputs": []
    },
    {
      "cell_type": "code",
      "metadata": {
        "id": "mv7a-MLIx-3f",
        "colab_type": "code",
        "colab": {
          "base_uri": "https://localhost:8080/",
          "height": 424
        },
        "outputId": "5f2d7798-9321-4d7c-f8e3-72f55459bb11"
      },
      "source": [
        "import tldextract\n",
        "\n",
        "domains['tld'] = domains.apply(lambda row: tldextract.extract(row.Domain).suffix, axis=1)\n",
        "domains"
      ],
      "execution_count": 80,
      "outputs": [
        {
          "output_type": "execute_result",
          "data": {
            "text/html": [
              "<div>\n",
              "<style scoped>\n",
              "    .dataframe tbody tr th:only-of-type {\n",
              "        vertical-align: middle;\n",
              "    }\n",
              "\n",
              "    .dataframe tbody tr th {\n",
              "        vertical-align: top;\n",
              "    }\n",
              "\n",
              "    .dataframe thead th {\n",
              "        text-align: right;\n",
              "    }\n",
              "</style>\n",
              "<table border=\"1\" class=\"dataframe\">\n",
              "  <thead>\n",
              "    <tr style=\"text-align: right;\">\n",
              "      <th></th>\n",
              "      <th>Domain</th>\n",
              "      <th>count</th>\n",
              "      <th>tld</th>\n",
              "    </tr>\n",
              "  </thead>\n",
              "  <tbody>\n",
              "    <tr>\n",
              "      <th>0</th>\n",
              "      <td>www.mddefp.gouv.qc.ca</td>\n",
              "      <td>113680</td>\n",
              "      <td>qc.ca</td>\n",
              "    </tr>\n",
              "    <tr>\n",
              "      <th>1</th>\n",
              "      <td>www.mddep.gouv.qc.ca</td>\n",
              "      <td>106857</td>\n",
              "      <td>qc.ca</td>\n",
              "    </tr>\n",
              "    <tr>\n",
              "      <th>2</th>\n",
              "      <td>www.mddelcc.gouv.qc.ca</td>\n",
              "      <td>88832</td>\n",
              "      <td>qc.ca</td>\n",
              "    </tr>\n",
              "    <tr>\n",
              "      <th>3</th>\n",
              "      <td>mddep.gouv.qc.ca</td>\n",
              "      <td>48971</td>\n",
              "      <td>qc.ca</td>\n",
              "    </tr>\n",
              "    <tr>\n",
              "      <th>4</th>\n",
              "      <td>mddefp.gouv.qc.ca</td>\n",
              "      <td>41023</td>\n",
              "      <td>qc.ca</td>\n",
              "    </tr>\n",
              "    <tr>\n",
              "      <th>...</th>\n",
              "      <td>...</td>\n",
              "      <td>...</td>\n",
              "      <td>...</td>\n",
              "    </tr>\n",
              "    <tr>\n",
              "      <th>321</th>\n",
              "      <td>wwwedu.ge.ch</td>\n",
              "      <td>1</td>\n",
              "      <td>ch</td>\n",
              "    </tr>\n",
              "    <tr>\n",
              "      <th>322</th>\n",
              "      <td>r2---sn-9gv7ened.googlevideo.com</td>\n",
              "      <td>1</td>\n",
              "      <td>com</td>\n",
              "    </tr>\n",
              "    <tr>\n",
              "      <th>323</th>\n",
              "      <td>www.ncdc.noaa.gov</td>\n",
              "      <td>1</td>\n",
              "      <td>gov</td>\n",
              "    </tr>\n",
              "    <tr>\n",
              "      <th>324</th>\n",
              "      <td>r1---sn-9gv7ene6.googlevideo.com</td>\n",
              "      <td>1</td>\n",
              "      <td>com</td>\n",
              "    </tr>\n",
              "    <tr>\n",
              "      <th>325</th>\n",
              "      <td>csi.gstatic.com</td>\n",
              "      <td>1</td>\n",
              "      <td>com</td>\n",
              "    </tr>\n",
              "  </tbody>\n",
              "</table>\n",
              "<p>326 rows × 3 columns</p>\n",
              "</div>"
            ],
            "text/plain": [
              "                               Domain   count    tld\n",
              "0               www.mddefp.gouv.qc.ca  113680  qc.ca\n",
              "1                www.mddep.gouv.qc.ca  106857  qc.ca\n",
              "2              www.mddelcc.gouv.qc.ca   88832  qc.ca\n",
              "3                    mddep.gouv.qc.ca   48971  qc.ca\n",
              "4                   mddefp.gouv.qc.ca   41023  qc.ca\n",
              "..                                ...     ...    ...\n",
              "321                      wwwedu.ge.ch       1     ch\n",
              "322  r2---sn-9gv7ened.googlevideo.com       1    com\n",
              "323                 www.ncdc.noaa.gov       1    gov\n",
              "324  r1---sn-9gv7ene6.googlevideo.com       1    com\n",
              "325                   csi.gstatic.com       1    com\n",
              "\n",
              "[326 rows x 3 columns]"
            ]
          },
          "metadata": {
            "tags": []
          },
          "execution_count": 80
        }
      ]
    },
    {
      "cell_type": "markdown",
      "metadata": {
        "id": "jdXFS2yu8XYG",
        "colab_type": "text"
      },
      "source": [
        "Next, let's count the distict TLDs.\n"
      ]
    },
    {
      "cell_type": "code",
      "metadata": {
        "id": "1lViQIU48e-u",
        "colab_type": "code",
        "colab": {
          "base_uri": "https://localhost:8080/",
          "height": 329
        },
        "outputId": "569b32af-666e-40cc-a6f4-bed7af6cd035"
      },
      "source": [
        "tld_count = domains['tld'].value_counts()\n",
        "tld_count"
      ],
      "execution_count": 38,
      "outputs": [
        {
          "output_type": "execute_result",
          "data": {
            "text/plain": [
              "qc.ca    131\n",
              "com       87\n",
              "org       34\n",
              "ca        33\n",
              "gc.ca     10\n",
              "gov        8\n",
              "net        6\n",
              "co.kr      4\n",
              "int        3\n",
              "ch         3\n",
              "be         2\n",
              "info       1\n",
              "edu        1\n",
              "tv         1\n",
              "sk.ca      1\n",
              "eu         1\n",
              "Name: tld, dtype: int64"
            ]
          },
          "metadata": {
            "tags": []
          },
          "execution_count": 38
        }
      ]
    },
    {
      "cell_type": "markdown",
      "metadata": {
        "id": "xm_V_0PGzZut",
        "colab_type": "text"
      },
      "source": [
        "Next, we'll plot the TLD count.\n"
      ]
    },
    {
      "cell_type": "code",
      "metadata": {
        "id": "N8yNlOa-zmBD",
        "colab_type": "code",
        "colab": {
          "base_uri": "https://localhost:8080/",
          "height": 298
        },
        "outputId": "eec6d7f3-c2fa-4292-9cf6-c90e4bc4d827"
      },
      "source": [
        "tld_chart = tld_count.plot(kind='bar', title=\"TLD Distribution\", legend=None)"
      ],
      "execution_count": 46,
      "outputs": [
        {
          "output_type": "display_data",
          "data": {
            "image/png": "[encoded data removed]",
            "text/plain": [
              "<Figure size 432x288 with 1 Axes>"
            ]
          },
          "metadata": {
            "tags": []
          }
        }
      ]
    }
  ]
}