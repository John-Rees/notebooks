{
  "nbformat": 4,
  "nbformat_minor": 0,
  "metadata": {
    "colab": {
      "name": "au-parquet-test-no-pyspark.ipynb",
      "provenance": []
    },
    "kernelspec": {
      "name": "python3",
      "display_name": "Python 3"
    }
  },
  "cells": [
    {
      "cell_type": "markdown",
      "metadata": {
        "id": "EN0gajhr7pKd",
        "colab_type": "text"
      },
      "source": [
        "# Working with Archives Unleashed Parquet Derivatives\n",
        "\n",
        "In this notebook, we'll setup an enviroment, then load nine different DataFrames to experiment with.\n",
        "\n",
        "**[Binary Analysis](https://github.com/archivesunleashed/aut/wiki/Bleeding-Edge#list-of-domains)**\n",
        "- [Audio](https://github.com/archivesunleashed/aut-docs-new/blob/master/current/binary-analysis.md#Extract-Audio-Information)\n",
        "- [Images](https://github.com/archivesunleashed/aut-docs-new/blob/master/current/image-analysis.md#Extract-Image-information)\n",
        "- [PDFs](https://github.com/archivesunleashed/aut-docs-new/blob/master/current/binary-analysis.md#Extract-PDF-Information)\n",
        "- [Presentation program files](https://github.com/archivesunleashed/aut-docs-new/blob/master/current/binary-analysis.md#Extract-Presentation-Program-Files-Information)\n",
        "- [Spreadsheets](https://github.com/archivesunleashed/aut-docs-new/blob/master/current/binary-analysis.md#Extract-Spreadsheet-Information)\n",
        "- [Videos](https://github.com/archivesunleashed/aut-docs-new/blob/master/current/binary-analysis.md#Extract-Video-Information)\n",
        "- [Word processor files](hhttps://github.com/archivesunleashed/aut-docs-new/blob/master/current/binary-analysis.md#Extract-Word-Processor-Files-Information)\n",
        "\n",
        "**[Hyperlink Network](https://github.com/archivesunleashed/aut/wiki/Bleeding-Edge#hyperlink-network)**\n",
        "\n",
        "**[List of Domains](https://github.com/archivesunleashed/aut/wiki/Bleeding-Edge#list-of-domains)**"
      ]
    },
    {
      "cell_type": "markdown",
      "metadata": {
        "id": "Xe60G-E4wpVQ",
        "colab_type": "text"
      },
      "source": [
        "# Setup Dependencies\n",
        "\n",
        "First we'll need to setup `parquet-python`."
      ]
    },
    {
      "cell_type": "code",
      "metadata": {
        "id": "tH4OBlJuwoPT",
        "colab_type": "code",
        "colab": {}
      },
      "source": [
        "%%capture\n",
        "!pip install -q pyarrow"
      ],
      "execution_count": 0,
      "outputs": []
    },
    {
      "cell_type": "markdown",
      "metadata": {
        "id": "OctPUqrG-K2W",
        "colab_type": "text"
      },
      "source": [
        "# Dataset\n",
        "\n",
        "Next, we'll download a dataset to work with. This once comes from Bibliothèque et Archives nationales du Québec. It is Parquet output of the Ministry of Environment of Québec (2011-2014) web archives processed by the Archives Unleashed Toolkit."
      ]
    },
    {
      "cell_type": "code",
      "metadata": {
        "id": "m3FRzjAYyPid",
        "colab_type": "code",
        "colab": {}
      },
      "source": [
        "%%capture\n",
        "\n",
        "!curl -L \"https://cloud.archivesunleashed.org/environment-qc-parquet.tar.gz\" > environment-qc-parquet.tar.gz\n",
        "!tar -xzf environment-qc-parquet.tar.gz"
      ],
      "execution_count": 0,
      "outputs": []
    },
    {
      "cell_type": "markdown",
      "metadata": {
        "colab_type": "text",
        "id": "JS0T6i4xPTVx"
      },
      "source": [
        "# Environment\n",
        "\n",
        "Next, we'll setup our environment so we can work with `parquet-python`."
      ]
    },
    {
      "cell_type": "code",
      "metadata": {
        "colab_type": "code",
        "id": "n56-DeEFPTCq",
        "colab": {}
      },
      "source": [
        "import numpy as np\n",
        "import pandas as pd\n",
        "import pyarrow as pa\n",
        "import pyarrow.parquet as pq"
      ],
      "execution_count": 0,
      "outputs": []
    },
    {
      "cell_type": "markdown",
      "metadata": {
        "id": "oFAFb2X3_VJC",
        "colab_type": "text"
      },
      "source": [
        "# Datasets\n",
        "\n",
        "Next, we'll load up our datasets to work with, and show a preview of each."
      ]
    },
    {
      "cell_type": "code",
      "metadata": {
        "id": "GhE_Vhv8Awkx",
        "colab_type": "code",
        "outputId": "4ce8a722-6009-402e-ca8f-6c29c7dc6958",
        "colab": {
          "base_uri": "https://localhost:8080/",
          "height": 424
        }
      },
      "source": [
        "images_parquet = pq.read_table('parquet/images')\n",
        "images_df = images_parquet.to_pandas()\n",
        "images_parquet.to_pandas()\n",
        "\n"
      ],
      "execution_count": 34,
      "outputs": [
        {
          "output_type": "execute_result",
          "data": {
            "text/html": [
              "<div>\n",
              "<style scoped>\n",
              "    .dataframe tbody tr th:only-of-type {\n",
              "        vertical-align: middle;\n",
              "    }\n",
              "\n",
              "    .dataframe tbody tr th {\n",
              "        vertical-align: top;\n",
              "    }\n",
              "\n",
              "    .dataframe thead th {\n",
              "        text-align: right;\n",
              "    }\n",
              "</style>\n",
              "<table border=\"1\" class=\"dataframe\">\n",
              "  <thead>\n",
              "    <tr style=\"text-align: right;\">\n",
              "      <th></th>\n",
              "      <th>url</th>\n",
              "      <th>filename</th>\n",
              "      <th>extension</th>\n",
              "      <th>mime_type_web_server</th>\n",
              "      <th>mime_type_tika</th>\n",
              "      <th>width</th>\n",
              "      <th>height</th>\n",
              "      <th>md5</th>\n",
              "    </tr>\n",
              "  </thead>\n",
              "  <tbody>\n",
              "    <tr>\n",
              "      <th>0</th>\n",
              "      <td>http://www.mddep.gouv.qc.ca/pesticides/jardine...</td>\n",
              "      <td>mille-clop-carabe.jpg</td>\n",
              "      <td>jpg</td>\n",
              "      <td>image/jpeg</td>\n",
              "      <td>image/jpeg</td>\n",
              "      <td>151</td>\n",
              "      <td>150</td>\n",
              "      <td>fff9b162031400d2dc96ec30284f580e</td>\n",
              "    </tr>\n",
              "    <tr>\n",
              "      <th>1</th>\n",
              "      <td>http://www.mddefp.gouv.qc.ca/pesticides/jardin...</td>\n",
              "      <td>mille-clop-carabe.jpg</td>\n",
              "      <td>jpg</td>\n",
              "      <td>image/jpeg</td>\n",
              "      <td>image/jpeg</td>\n",
              "      <td>151</td>\n",
              "      <td>150</td>\n",
              "      <td>fff9b162031400d2dc96ec30284f580e</td>\n",
              "    </tr>\n",
              "    <tr>\n",
              "      <th>2</th>\n",
              "      <td>http://www.mddefp.gouv.qc.ca//pesticides/jardi...</td>\n",
              "      <td>mille-clop-carabe.jpg</td>\n",
              "      <td>jpg</td>\n",
              "      <td>image/jpeg</td>\n",
              "      <td>image/jpeg</td>\n",
              "      <td>151</td>\n",
              "      <td>150</td>\n",
              "      <td>fff9b162031400d2dc96ec30284f580e</td>\n",
              "    </tr>\n",
              "    <tr>\n",
              "      <th>3</th>\n",
              "      <td>http://mddep.gouv.qc.ca//pesticides/jardiner/m...</td>\n",
              "      <td>mille-clop-carabe.jpg</td>\n",
              "      <td>jpg</td>\n",
              "      <td>image/jpeg</td>\n",
              "      <td>image/jpeg</td>\n",
              "      <td>151</td>\n",
              "      <td>150</td>\n",
              "      <td>fff9b162031400d2dc96ec30284f580e</td>\n",
              "    </tr>\n",
              "    <tr>\n",
              "      <th>4</th>\n",
              "      <td>http://www.mddefp.gouv.qc.ca///pesticides/jard...</td>\n",
              "      <td>mille-clop-carabe.jpg</td>\n",
              "      <td>jpg</td>\n",
              "      <td>image/jpeg</td>\n",
              "      <td>image/jpeg</td>\n",
              "      <td>151</td>\n",
              "      <td>150</td>\n",
              "      <td>fff9b162031400d2dc96ec30284f580e</td>\n",
              "    </tr>\n",
              "    <tr>\n",
              "      <th>...</th>\n",
              "      <td>...</td>\n",
              "      <td>...</td>\n",
              "      <td>...</td>\n",
              "      <td>...</td>\n",
              "      <td>...</td>\n",
              "      <td>...</td>\n",
              "      <td>...</td>\n",
              "      <td>...</td>\n",
              "    </tr>\n",
              "    <tr>\n",
              "      <th>156161</th>\n",
              "      <td>http://www.mddelcc.gouv.qc.ca//biodiversite/ha...</td>\n",
              "      <td>image-ile-G.jpg</td>\n",
              "      <td>jpg</td>\n",
              "      <td>image/jpeg</td>\n",
              "      <td>image/jpeg</td>\n",
              "      <td>375</td>\n",
              "      <td>500</td>\n",
              "      <td>000175bcfb5be374c5f8da05bfe49dc8</td>\n",
              "    </tr>\n",
              "    <tr>\n",
              "      <th>156162</th>\n",
              "      <td>http://www.mddelcc.gouv.qc.ca/biodiversite/hab...</td>\n",
              "      <td>image-ile-G.jpg</td>\n",
              "      <td>jpg</td>\n",
              "      <td>image/jpeg</td>\n",
              "      <td>image/jpeg</td>\n",
              "      <td>375</td>\n",
              "      <td>500</td>\n",
              "      <td>000175bcfb5be374c5f8da05bfe49dc8</td>\n",
              "    </tr>\n",
              "    <tr>\n",
              "      <th>156163</th>\n",
              "      <td>http://www.mddelcc.gouv.qc.ca/biodiversite/hab...</td>\n",
              "      <td>image-ile-G.jpg</td>\n",
              "      <td>jpg</td>\n",
              "      <td>image/jpeg</td>\n",
              "      <td>image/jpeg</td>\n",
              "      <td>375</td>\n",
              "      <td>500</td>\n",
              "      <td>000175bcfb5be374c5f8da05bfe49dc8</td>\n",
              "    </tr>\n",
              "    <tr>\n",
              "      <th>156164</th>\n",
              "      <td>http://www.mddelcc.gouv.qc.ca/biodiversite/hab...</td>\n",
              "      <td>image-ile-G.jpg</td>\n",
              "      <td>jpg</td>\n",
              "      <td>image/jpeg</td>\n",
              "      <td>image/jpeg</td>\n",
              "      <td>375</td>\n",
              "      <td>500</td>\n",
              "      <td>000175bcfb5be374c5f8da05bfe49dc8</td>\n",
              "    </tr>\n",
              "    <tr>\n",
              "      <th>156165</th>\n",
              "      <td>http://mddefp.gouv.qc.ca/biodiversite/habitats...</td>\n",
              "      <td>image-ile-G.jpg</td>\n",
              "      <td>jpg</td>\n",
              "      <td>image/jpeg</td>\n",
              "      <td>image/jpeg</td>\n",
              "      <td>375</td>\n",
              "      <td>500</td>\n",
              "      <td>000175bcfb5be374c5f8da05bfe49dc8</td>\n",
              "    </tr>\n",
              "  </tbody>\n",
              "</table>\n",
              "<p>156166 rows × 8 columns</p>\n",
              "</div>"
            ],
            "text/plain": [
              "                                                      url  ...                               md5\n",
              "0       http://www.mddep.gouv.qc.ca/pesticides/jardine...  ...  fff9b162031400d2dc96ec30284f580e\n",
              "1       http://www.mddefp.gouv.qc.ca/pesticides/jardin...  ...  fff9b162031400d2dc96ec30284f580e\n",
              "2       http://www.mddefp.gouv.qc.ca//pesticides/jardi...  ...  fff9b162031400d2dc96ec30284f580e\n",
              "3       http://mddep.gouv.qc.ca//pesticides/jardiner/m...  ...  fff9b162031400d2dc96ec30284f580e\n",
              "4       http://www.mddefp.gouv.qc.ca///pesticides/jard...  ...  fff9b162031400d2dc96ec30284f580e\n",
              "...                                                   ...  ...                               ...\n",
              "156161  http://www.mddelcc.gouv.qc.ca//biodiversite/ha...  ...  000175bcfb5be374c5f8da05bfe49dc8\n",
              "156162  http://www.mddelcc.gouv.qc.ca/biodiversite/hab...  ...  000175bcfb5be374c5f8da05bfe49dc8\n",
              "156163  http://www.mddelcc.gouv.qc.ca/biodiversite/hab...  ...  000175bcfb5be374c5f8da05bfe49dc8\n",
              "156164  http://www.mddelcc.gouv.qc.ca/biodiversite/hab...  ...  000175bcfb5be374c5f8da05bfe49dc8\n",
              "156165  http://mddefp.gouv.qc.ca/biodiversite/habitats...  ...  000175bcfb5be374c5f8da05bfe49dc8\n",
              "\n",
              "[156166 rows x 8 columns]"
            ]
          },
          "metadata": {
            "tags": []
          },
          "execution_count": 34
        }
      ]
    },
    {
      "cell_type": "code",
      "metadata": {
        "id": "bn-1v127aKIG",
        "colab_type": "code",
        "colab": {
          "base_uri": "https://localhost:8080/",
          "height": 182
        },
        "outputId": "571f5f44-0f4f-430a-9e9c-d7eccf1a8abc"
      },
      "source": [
        "images_df.count()"
      ],
      "execution_count": 33,
      "outputs": [
        {
          "output_type": "execute_result",
          "data": {
            "text/plain": [
              "url                     156166\n",
              "filename                156166\n",
              "extension               156166\n",
              "mime_type_web_server    156166\n",
              "mime_type_tika          156166\n",
              "width                   156166\n",
              "height                  156166\n",
              "md5                     156166\n",
              "dtype: int64"
            ]
          },
          "metadata": {
            "tags": []
          },
          "execution_count": 33
        }
      ]
    },
    {
      "cell_type": "code",
      "metadata": {
        "id": "bz0hgjqVaQGP",
        "colab_type": "code",
        "colab": {
          "base_uri": "https://localhost:8080/",
          "height": 182
        },
        "outputId": "9da7c125-87d0-4801-c8b5-3ae03f6e8b35"
      },
      "source": [
        "images_df.dtypes"
      ],
      "execution_count": 35,
      "outputs": [
        {
          "output_type": "execute_result",
          "data": {
            "text/plain": [
              "url                     object\n",
              "filename                object\n",
              "extension               object\n",
              "mime_type_web_server    object\n",
              "mime_type_tika          object\n",
              "width                    int32\n",
              "height                   int32\n",
              "md5                     object\n",
              "dtype: object"
            ]
          },
          "metadata": {
            "tags": []
          },
          "execution_count": 35
        }
      ]
    },
    {
      "cell_type": "code",
      "metadata": {
        "id": "DQB8TgcNbKPT",
        "colab_type": "code",
        "colab": {
          "base_uri": "https://localhost:8080/",
          "height": 455
        },
        "outputId": "91c4d68d-e47d-4d77-ee11-e6e451a19c8c"
      },
      "source": [
        "images_df.groupby('md5').count()"
      ],
      "execution_count": 41,
      "outputs": [
        {
          "output_type": "execute_result",
          "data": {
            "text/html": [
              "<div>\n",
              "<style scoped>\n",
              "    .dataframe tbody tr th:only-of-type {\n",
              "        vertical-align: middle;\n",
              "    }\n",
              "\n",
              "    .dataframe tbody tr th {\n",
              "        vertical-align: top;\n",
              "    }\n",
              "\n",
              "    .dataframe thead th {\n",
              "        text-align: right;\n",
              "    }\n",
              "</style>\n",
              "<table border=\"1\" class=\"dataframe\">\n",
              "  <thead>\n",
              "    <tr style=\"text-align: right;\">\n",
              "      <th></th>\n",
              "      <th>url</th>\n",
              "      <th>filename</th>\n",
              "      <th>extension</th>\n",
              "      <th>mime_type_web_server</th>\n",
              "      <th>mime_type_tika</th>\n",
              "      <th>width</th>\n",
              "      <th>height</th>\n",
              "    </tr>\n",
              "    <tr>\n",
              "      <th>md5</th>\n",
              "      <th></th>\n",
              "      <th></th>\n",
              "      <th></th>\n",
              "      <th></th>\n",
              "      <th></th>\n",
              "      <th></th>\n",
              "      <th></th>\n",
              "    </tr>\n",
              "  </thead>\n",
              "  <tbody>\n",
              "    <tr>\n",
              "      <th>000175bcfb5be374c5f8da05bfe49dc8</th>\n",
              "      <td>22</td>\n",
              "      <td>22</td>\n",
              "      <td>22</td>\n",
              "      <td>22</td>\n",
              "      <td>22</td>\n",
              "      <td>22</td>\n",
              "      <td>22</td>\n",
              "    </tr>\n",
              "    <tr>\n",
              "      <th>0004d79ba3f2438285d991fdd9d6ee85</th>\n",
              "      <td>25</td>\n",
              "      <td>25</td>\n",
              "      <td>25</td>\n",
              "      <td>25</td>\n",
              "      <td>25</td>\n",
              "      <td>25</td>\n",
              "      <td>25</td>\n",
              "    </tr>\n",
              "    <tr>\n",
              "      <th>000a7abb52f882863847d4e9f6820c35</th>\n",
              "      <td>25</td>\n",
              "      <td>25</td>\n",
              "      <td>25</td>\n",
              "      <td>25</td>\n",
              "      <td>25</td>\n",
              "      <td>25</td>\n",
              "      <td>25</td>\n",
              "    </tr>\n",
              "    <tr>\n",
              "      <th>000e3971c93bd4a85aad066580ba54fd</th>\n",
              "      <td>1</td>\n",
              "      <td>1</td>\n",
              "      <td>1</td>\n",
              "      <td>1</td>\n",
              "      <td>1</td>\n",
              "      <td>1</td>\n",
              "      <td>1</td>\n",
              "    </tr>\n",
              "    <tr>\n",
              "      <th>000eadcf178fe76c91842c78ff3bb8a3</th>\n",
              "      <td>1</td>\n",
              "      <td>1</td>\n",
              "      <td>1</td>\n",
              "      <td>1</td>\n",
              "      <td>1</td>\n",
              "      <td>1</td>\n",
              "      <td>1</td>\n",
              "    </tr>\n",
              "    <tr>\n",
              "      <th>...</th>\n",
              "      <td>...</td>\n",
              "      <td>...</td>\n",
              "      <td>...</td>\n",
              "      <td>...</td>\n",
              "      <td>...</td>\n",
              "      <td>...</td>\n",
              "      <td>...</td>\n",
              "    </tr>\n",
              "    <tr>\n",
              "      <th>ffeb747dc2e10b2c77fe89ff7254d3f3</th>\n",
              "      <td>1</td>\n",
              "      <td>1</td>\n",
              "      <td>1</td>\n",
              "      <td>1</td>\n",
              "      <td>1</td>\n",
              "      <td>1</td>\n",
              "      <td>1</td>\n",
              "    </tr>\n",
              "    <tr>\n",
              "      <th>fff13ad81f4cdac0b936fc970fcdc43a</th>\n",
              "      <td>1</td>\n",
              "      <td>1</td>\n",
              "      <td>1</td>\n",
              "      <td>1</td>\n",
              "      <td>1</td>\n",
              "      <td>1</td>\n",
              "      <td>1</td>\n",
              "    </tr>\n",
              "    <tr>\n",
              "      <th>fff72a9e1bb51572c96dac0e541a69e9</th>\n",
              "      <td>1</td>\n",
              "      <td>1</td>\n",
              "      <td>1</td>\n",
              "      <td>1</td>\n",
              "      <td>1</td>\n",
              "      <td>1</td>\n",
              "      <td>1</td>\n",
              "    </tr>\n",
              "    <tr>\n",
              "      <th>fff8d34794f108fb31ea65a14db01115</th>\n",
              "      <td>26</td>\n",
              "      <td>26</td>\n",
              "      <td>26</td>\n",
              "      <td>26</td>\n",
              "      <td>26</td>\n",
              "      <td>26</td>\n",
              "      <td>26</td>\n",
              "    </tr>\n",
              "    <tr>\n",
              "      <th>fff9b162031400d2dc96ec30284f580e</th>\n",
              "      <td>24</td>\n",
              "      <td>24</td>\n",
              "      <td>24</td>\n",
              "      <td>24</td>\n",
              "      <td>24</td>\n",
              "      <td>24</td>\n",
              "      <td>24</td>\n",
              "    </tr>\n",
              "  </tbody>\n",
              "</table>\n",
              "<p>18287 rows × 7 columns</p>\n",
              "</div>"
            ],
            "text/plain": [
              "                                  url  filename  ...  width  height\n",
              "md5                                              ...               \n",
              "000175bcfb5be374c5f8da05bfe49dc8   22        22  ...     22      22\n",
              "0004d79ba3f2438285d991fdd9d6ee85   25        25  ...     25      25\n",
              "000a7abb52f882863847d4e9f6820c35   25        25  ...     25      25\n",
              "000e3971c93bd4a85aad066580ba54fd    1         1  ...      1       1\n",
              "000eadcf178fe76c91842c78ff3bb8a3    1         1  ...      1       1\n",
              "...                               ...       ...  ...    ...     ...\n",
              "ffeb747dc2e10b2c77fe89ff7254d3f3    1         1  ...      1       1\n",
              "fff13ad81f4cdac0b936fc970fcdc43a    1         1  ...      1       1\n",
              "fff72a9e1bb51572c96dac0e541a69e9    1         1  ...      1       1\n",
              "fff8d34794f108fb31ea65a14db01115   26        26  ...     26      26\n",
              "fff9b162031400d2dc96ec30284f580e   24        24  ...     24      24\n",
              "\n",
              "[18287 rows x 7 columns]"
            ]
          },
          "metadata": {
            "tags": []
          },
          "execution_count": 41
        }
      ]
    },
    {
      "cell_type": "code",
      "metadata": {
        "id": "8Ts03OFyjPIM",
        "colab_type": "code",
        "colab": {
          "base_uri": "https://localhost:8080/",
          "height": 219
        },
        "outputId": "4c5e3cd8-8543-4f54-f546-2603b5ea6d75"
      },
      "source": [
        "images_df['md5'].value_counts().head(10)"
      ],
      "execution_count": 47,
      "outputs": [
        {
          "output_type": "execute_result",
          "data": {
            "text/plain": [
              "b09dc3225d5e1377c52c06feddc33bfe    192\n",
              "e7d1f7750c16bc835bf1cfe1bf322d46    192\n",
              "a4d3ddfb1a95e87650c624660d67765a    192\n",
              "5283d313972a24f0e71c47ae3c99958b    192\n",
              "89663337857f6d769fbcaed7278cc925     77\n",
              "497db34fffa0e278f57ae614b4b758a0     64\n",
              "58e5d8676dfcc4205551314d98fb2624     61\n",
              "100322cfd242ee75dd5a744526f08d6b     56\n",
              "702888482d6eb995106430b6ce3e7f63     53\n",
              "b7fd236aca8435a65f31c6d67db0685f     53\n",
              "Name: md5, dtype: int64"
            ]
          },
          "metadata": {
            "tags": []
          },
          "execution_count": 47
        }
      ]
    },
    {
      "cell_type": "code",
      "metadata": {
        "id": "msmmm65lkSIK",
        "colab_type": "code",
        "colab": {
          "base_uri": "https://localhost:8080/",
          "height": 424
        },
        "outputId": "88c5fb4d-53fb-4e7c-f1a3-18817d314cd0"
      },
      "source": [
        "images_df.loc[images_df['md5'] == '5283d313972a24f0e71c47ae3c99958b']"
      ],
      "execution_count": 51,
      "outputs": [
        {
          "output_type": "execute_result",
          "data": {
            "text/html": [
              "<div>\n",
              "<style scoped>\n",
              "    .dataframe tbody tr th:only-of-type {\n",
              "        vertical-align: middle;\n",
              "    }\n",
              "\n",
              "    .dataframe tbody tr th {\n",
              "        vertical-align: top;\n",
              "    }\n",
              "\n",
              "    .dataframe thead th {\n",
              "        text-align: right;\n",
              "    }\n",
              "</style>\n",
              "<table border=\"1\" class=\"dataframe\">\n",
              "  <thead>\n",
              "    <tr style=\"text-align: right;\">\n",
              "      <th></th>\n",
              "      <th>url</th>\n",
              "      <th>filename</th>\n",
              "      <th>extension</th>\n",
              "      <th>mime_type_web_server</th>\n",
              "      <th>mime_type_tika</th>\n",
              "      <th>width</th>\n",
              "      <th>height</th>\n",
              "      <th>md5</th>\n",
              "    </tr>\n",
              "  </thead>\n",
              "  <tbody>\n",
              "    <tr>\n",
              "      <th>104915</th>\n",
              "      <td>http://mddefp.gouv.qc.ca/poissons/assomption/t...</td>\n",
              "      <td>tumeur.jpg</td>\n",
              "      <td>jpg</td>\n",
              "      <td>image/jpeg</td>\n",
              "      <td>image/jpeg</td>\n",
              "      <td>310</td>\n",
              "      <td>220</td>\n",
              "      <td>5283d313972a24f0e71c47ae3c99958b</td>\n",
              "    </tr>\n",
              "    <tr>\n",
              "      <th>104916</th>\n",
              "      <td>http://mddefp.gouv.qc.ca/poissons/chateauguay/...</td>\n",
              "      <td>tumeur.jpg</td>\n",
              "      <td>jpg</td>\n",
              "      <td>image/jpeg</td>\n",
              "      <td>image/jpeg</td>\n",
              "      <td>310</td>\n",
              "      <td>220</td>\n",
              "      <td>5283d313972a24f0e71c47ae3c99958b</td>\n",
              "    </tr>\n",
              "    <tr>\n",
              "      <th>104917</th>\n",
              "      <td>http://mddefp.gouv.qc.ca/poissons/st-francois/...</td>\n",
              "      <td>tumeur.jpg</td>\n",
              "      <td>jpg</td>\n",
              "      <td>image/jpeg</td>\n",
              "      <td>image/jpeg</td>\n",
              "      <td>310</td>\n",
              "      <td>220</td>\n",
              "      <td>5283d313972a24f0e71c47ae3c99958b</td>\n",
              "    </tr>\n",
              "    <tr>\n",
              "      <th>104918</th>\n",
              "      <td>http://mddefp.gouv.qc.ca/poissons/st-maurice/t...</td>\n",
              "      <td>tumeur.jpg</td>\n",
              "      <td>jpg</td>\n",
              "      <td>image/jpeg</td>\n",
              "      <td>image/jpeg</td>\n",
              "      <td>310</td>\n",
              "      <td>220</td>\n",
              "      <td>5283d313972a24f0e71c47ae3c99958b</td>\n",
              "    </tr>\n",
              "    <tr>\n",
              "      <th>104919</th>\n",
              "      <td>http://mddefp.gouv.qc.ca/poissons/richelieu/tu...</td>\n",
              "      <td>tumeur.jpg</td>\n",
              "      <td>jpg</td>\n",
              "      <td>image/jpeg</td>\n",
              "      <td>image/jpeg</td>\n",
              "      <td>310</td>\n",
              "      <td>220</td>\n",
              "      <td>5283d313972a24f0e71c47ae3c99958b</td>\n",
              "    </tr>\n",
              "    <tr>\n",
              "      <th>...</th>\n",
              "      <td>...</td>\n",
              "      <td>...</td>\n",
              "      <td>...</td>\n",
              "      <td>...</td>\n",
              "      <td>...</td>\n",
              "      <td>...</td>\n",
              "      <td>...</td>\n",
              "      <td>...</td>\n",
              "    </tr>\n",
              "    <tr>\n",
              "      <th>105102</th>\n",
              "      <td>http://www.mddep.gouv.qc.ca/poissons/chaudiere...</td>\n",
              "      <td>tumeur.jpg</td>\n",
              "      <td>jpg</td>\n",
              "      <td>image/jpeg</td>\n",
              "      <td>image/jpeg</td>\n",
              "      <td>310</td>\n",
              "      <td>220</td>\n",
              "      <td>5283d313972a24f0e71c47ae3c99958b</td>\n",
              "    </tr>\n",
              "    <tr>\n",
              "      <th>105103</th>\n",
              "      <td>http://www.mddep.gouv.qc.ca/poissons/yamaska/t...</td>\n",
              "      <td>tumeur.jpg</td>\n",
              "      <td>jpg</td>\n",
              "      <td>image/jpeg</td>\n",
              "      <td>image/jpeg</td>\n",
              "      <td>310</td>\n",
              "      <td>220</td>\n",
              "      <td>5283d313972a24f0e71c47ae3c99958b</td>\n",
              "    </tr>\n",
              "    <tr>\n",
              "      <th>105104</th>\n",
              "      <td>http://www.mddep.gouv.qc.ca/poissons/chateaugu...</td>\n",
              "      <td>tumeur.jpg</td>\n",
              "      <td>jpg</td>\n",
              "      <td>image/jpeg</td>\n",
              "      <td>image/jpeg</td>\n",
              "      <td>310</td>\n",
              "      <td>220</td>\n",
              "      <td>5283d313972a24f0e71c47ae3c99958b</td>\n",
              "    </tr>\n",
              "    <tr>\n",
              "      <th>105105</th>\n",
              "      <td>http://www.mddep.gouv.qc.ca/poissons/assomptio...</td>\n",
              "      <td>tumeur.jpg</td>\n",
              "      <td>jpg</td>\n",
              "      <td>image/jpeg</td>\n",
              "      <td>image/jpeg</td>\n",
              "      <td>310</td>\n",
              "      <td>220</td>\n",
              "      <td>5283d313972a24f0e71c47ae3c99958b</td>\n",
              "    </tr>\n",
              "    <tr>\n",
              "      <th>105106</th>\n",
              "      <td>http://www.mddep.gouv.qc.ca/poissons/st-charle...</td>\n",
              "      <td>tumeur.jpg</td>\n",
              "      <td>jpg</td>\n",
              "      <td>image/jpeg</td>\n",
              "      <td>image/jpeg</td>\n",
              "      <td>310</td>\n",
              "      <td>220</td>\n",
              "      <td>5283d313972a24f0e71c47ae3c99958b</td>\n",
              "    </tr>\n",
              "  </tbody>\n",
              "</table>\n",
              "<p>192 rows × 8 columns</p>\n",
              "</div>"
            ],
            "text/plain": [
              "                                                      url  ...                               md5\n",
              "104915  http://mddefp.gouv.qc.ca/poissons/assomption/t...  ...  5283d313972a24f0e71c47ae3c99958b\n",
              "104916  http://mddefp.gouv.qc.ca/poissons/chateauguay/...  ...  5283d313972a24f0e71c47ae3c99958b\n",
              "104917  http://mddefp.gouv.qc.ca/poissons/st-francois/...  ...  5283d313972a24f0e71c47ae3c99958b\n",
              "104918  http://mddefp.gouv.qc.ca/poissons/st-maurice/t...  ...  5283d313972a24f0e71c47ae3c99958b\n",
              "104919  http://mddefp.gouv.qc.ca/poissons/richelieu/tu...  ...  5283d313972a24f0e71c47ae3c99958b\n",
              "...                                                   ...  ...                               ...\n",
              "105102  http://www.mddep.gouv.qc.ca/poissons/chaudiere...  ...  5283d313972a24f0e71c47ae3c99958b\n",
              "105103  http://www.mddep.gouv.qc.ca/poissons/yamaska/t...  ...  5283d313972a24f0e71c47ae3c99958b\n",
              "105104  http://www.mddep.gouv.qc.ca/poissons/chateaugu...  ...  5283d313972a24f0e71c47ae3c99958b\n",
              "105105  http://www.mddep.gouv.qc.ca/poissons/assomptio...  ...  5283d313972a24f0e71c47ae3c99958b\n",
              "105106  http://www.mddep.gouv.qc.ca/poissons/st-charle...  ...  5283d313972a24f0e71c47ae3c99958b\n",
              "\n",
              "[192 rows x 8 columns]"
            ]
          },
          "metadata": {
            "tags": []
          },
          "execution_count": 51
        }
      ]
    },
    {
      "cell_type": "code",
      "metadata": {
        "id": "pQaw54ACkwdZ",
        "colab_type": "code",
        "colab": {
          "base_uri": "https://localhost:8080/",
          "height": 219
        },
        "outputId": "34861309-b883-433d-81bf-080820fac079"
      },
      "source": [
        "images_df['filename'].value_counts().head(10)"
      ],
      "execution_count": 52,
      "outputs": [
        {
          "output_type": "execute_result",
          "data": {
            "text/plain": [
              "carte-p.jpg      1196\n",
              "carte2.jpg        924\n",
              "carte1.jpg        875\n",
              "carte-g.jpg       660\n",
              "carte.jpg         576\n",
              "carte-an.jpg      575\n",
              "carte-qc.jpg      575\n",
              "carte-G.jpg       484\n",
              "carte_p.jpg       473\n",
              "carte_web.jpg     431\n",
              "Name: filename, dtype: int64"
            ]
          },
          "metadata": {
            "tags": []
          },
          "execution_count": 52
        }
      ]
    }
  ]
}