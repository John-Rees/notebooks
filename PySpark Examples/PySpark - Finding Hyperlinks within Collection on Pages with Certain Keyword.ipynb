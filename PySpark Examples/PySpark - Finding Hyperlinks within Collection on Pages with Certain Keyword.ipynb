{
 "cells": [
  {
   "cell_type": "code",
   "execution_count": 1,
   "metadata": {},
   "outputs": [],
   "source": [
    "from aut import *\n",
    "from pyspark.sql.functions import col, explode_outer"
   ]
  },
  {
   "cell_type": "code",
   "execution_count": 2,
   "metadata": {},
   "outputs": [],
   "source": [
    "webpages = WebArchive(sc, sqlContext, \"/home/nruest/Projects/au/sample-data/geocities\") \\\n",
    "  .webpages() \\\n",
    "  .select(remove_prefix_www(extract_domain(\"url\")).alias(\"domain\"), \"url\", \"crawl_date\", explode_outer(extract_links(\"url\", \"content\")).alias(\"link\")) \\\n",
    "  .filter(col(\"content\").like(\"%food%\")) \\\n",
    "  .select(\"url\", \"domain\", \"crawl_date\", col(\"link._1\").alias(\"destination_page\"))"
   ]
  },
  {
   "cell_type": "code",
   "execution_count": 3,
   "metadata": {},
   "outputs": [
    {
     "name": "stdout",
     "output_type": "stream",
     "text": [
      "+-------------------------------------------------------------------------------------+-------------+----------+--------------------------------------------+\n",
      "|url                                                                                  |domain       |crawl_date|destination_page                            |\n",
      "+-------------------------------------------------------------------------------------+-------------+----------+--------------------------------------------+\n",
      "|http://geocities.com/kelsoonbutler/boardDocs/BoardMeetingMinutes_AGM_March12_2002.htm|geocities.com|20091027  |null                                        |\n",
      "|http://geocities.com/krooyaimaha/health5.htm                                         |geocities.com|20091027  |http://geocities.com/krooyaimaha/health5.htm|\n",
      "|http://geocities.com/krooyaimaha/health5.htm                                         |geocities.com|20091027  |http://geocities.com/krooyaimaha/health5.htm|\n",
      "|http://geocities.com/krooyaimaha/health5.htm                                         |geocities.com|20091027  |http://geocities.com/krooyaimaha/health5.htm|\n",
      "|http://geocities.com/krooyaimaha/health5.htm                                         |geocities.com|20091027  |http://geocities.com/krooyaimaha/health5.htm|\n",
      "+-------------------------------------------------------------------------------------+-------------+----------+--------------------------------------------+\n",
      "only showing top 5 rows\n",
      "\n"
     ]
    }
   ],
   "source": [
    "webpages.show(5, False)"
   ]
  }
 ],
 "metadata": {
  "kernelspec": {
   "display_name": "Python 3",
   "language": "python",
   "name": "python3"
  },
  "language_info": {
   "codemirror_mode": {
    "name": "ipython",
    "version": 3
   },
   "file_extension": ".py",
   "mimetype": "text/x-python",
   "name": "python",
   "nbconvert_exporter": "python",
   "pygments_lexer": "ipython3",
   "version": "3.7.3"
  }
 },
 "nbformat": 4,
 "nbformat_minor": 2
}
