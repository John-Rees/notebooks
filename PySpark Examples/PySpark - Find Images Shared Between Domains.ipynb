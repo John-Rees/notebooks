{
 "cells": [
  {
   "cell_type": "code",
   "execution_count": 1,
   "metadata": {},
   "outputs": [],
   "source": [
    "from aut import *\n",
    "from pyspark.sql.functions import asc, countDistinct, first"
   ]
  },
  {
   "cell_type": "code",
   "execution_count": 2,
   "metadata": {},
   "outputs": [],
   "source": [
    "images = WebArchive(sc, sqlContext, \"/home/nruest/Projects/au/sample-data/geocities\") \\\n",
    "  .images() \\\n",
    "  .select(remove_prefix_www(extract_domain(\"url\")).alias(\"domain\"), \"url\", \"md5\")"
   ]
  },
  {
   "cell_type": "code",
   "execution_count": 3,
   "metadata": {},
   "outputs": [
    {
     "name": "stdout",
     "output_type": "stream",
     "text": [
      "+-------------+--------------------+--------------------+\n",
      "|       domain|                 url|                 md5|\n",
      "+-------------+--------------------+--------------------+\n",
      "|geocities.com|http://geocities....|17827882f7bf42860...|\n",
      "|geocities.com|http://geocities....|899bc6e3309b0fc78...|\n",
      "|geocities.com|http://geocities....|955f6c342ffed6823...|\n",
      "|geocities.com|http://geocities....|47718718ddfd7d43a...|\n",
      "|geocities.com|http://geocities....|8ada65828daff258e...|\n",
      "+-------------+--------------------+--------------------+\n",
      "only showing top 5 rows\n",
      "\n"
     ]
    }
   ],
   "source": [
    "images.show(5, True)"
   ]
  },
  {
   "cell_type": "code",
   "execution_count": 4,
   "metadata": {},
   "outputs": [],
   "source": [
    "links = images.groupBy(\"md5\") \\\n",
    "              .count() \\\n",
    "              .where(countDistinct(\"domain\")>=2)"
   ]
  },
  {
   "cell_type": "code",
   "execution_count": 5,
   "metadata": {},
   "outputs": [],
   "source": [
    "result = images.join(links, \"md5\") \\\n",
    "               .groupBy(\"domain\", \"md5\") \\\n",
    "               .agg(first(\"url\").alias(\"image_url\")) \\\n",
    "               .orderBy(asc(\"md5\"))"
   ]
  },
  {
   "cell_type": "code",
   "execution_count": 6,
   "metadata": {},
   "outputs": [
    {
     "name": "stdout",
     "output_type": "stream",
     "text": [
      "+---------------------------------+--------------------------------+--------------------------------------------------------------------------------------------------------------------------------------------------------------+\n",
      "|domain                           |md5                             |image_url                                                                                                                                                     |\n",
      "+---------------------------------+--------------------------------+--------------------------------------------------------------------------------------------------------------------------------------------------------------+\n",
      "|cmsimg.marshfieldnewsherald.com  |022ac0cde4560864fc99a3d9e5210f6b|http://cmsimg.marshfieldnewsherald.com/apps/pbcsi.dll/bilde?Avis=U0&Dato=20091026&Kategori=CWS01&Lopenr=910260803&Ref=PH&NewTbl=1&Itemnr=1&maxW=130&Border=0  |\n",
      "|cmsimg.stevenspointjournal.com   |022ac0cde4560864fc99a3d9e5210f6b|http://cmsimg.stevenspointjournal.com/apps/pbcsi.dll/bilde?Avis=U0&Dato=20091026&Kategori=CWS01&Lopenr=910260803&Ref=PH&NewTbl=1&Itemnr=1&maxW=130&Border=0   |\n",
      "|cmsimg.wisconsinrapidstribune.com|022ac0cde4560864fc99a3d9e5210f6b|http://cmsimg.wisconsinrapidstribune.com/apps/pbcsi.dll/bilde?Avis=U0&Dato=20091026&Kategori=CWS01&Lopenr=910260803&Ref=PH&NewTbl=1&Itemnr=1&maxW=130&Border=0|\n",
      "|sitelife.thenorthwestern.com     |06fe40f8d7b9b5fd7e552dac73100044|http://sitelife.thenorthwestern.com/ver1.0/Content/images/store/3/12/63a80d76-f400-4af5-bc63-4b6af4528150.Small.gif                                           |\n",
      "|sitelife.marshfieldnewsherald.com|06fe40f8d7b9b5fd7e552dac73100044|http://sitelife.marshfieldnewsherald.com/ver1.0/Content/images/store/4/5/a47bbc91-a893-4b62-95d0-04b4de0739ea.Small.gif                                       |\n",
      "|stevenspointjournal.com          |0d2fb10487f4dfad02b14d00832049a3|http://www.stevenspointjournal.com/graphics/viewadvertisers.gif                                                                                               |\n",
      "|thenorthwestern.com              |0d2fb10487f4dfad02b14d00832049a3|http://www.thenorthwestern.com/graphics/viewadvertisers.gif                                                                                                   |\n",
      "|fdlreporter.com                  |0d2fb10487f4dfad02b14d00832049a3|http://www.fdlreporter.com/graphics/viewadvertisers.gif                                                                                                       |\n",
      "|postcrescent.com                 |0d2fb10487f4dfad02b14d00832049a3|http://www.postcrescent.com/graphics/viewadvertisers.gif                                                                                                      |\n",
      "|billjanaecooksey.tripod.com      |0d4937515413df19faf9902cf06b6f88|http://billjanaecooksey.tripod.com/usflag.gif                                                                                                                 |\n",
      "+---------------------------------+--------------------------------+--------------------------------------------------------------------------------------------------------------------------------------------------------------+\n",
      "only showing top 10 rows\n",
      "\n"
     ]
    }
   ],
   "source": [
    "result.show(10, False)"
   ]
  }
 ],
 "metadata": {
  "kernelspec": {
   "display_name": "Python 3",
   "language": "python",
   "name": "python3"
  },
  "language_info": {
   "codemirror_mode": {
    "name": "ipython",
    "version": 3
   },
   "file_extension": ".py",
   "mimetype": "text/x-python",
   "name": "python",
   "nbconvert_exporter": "python",
   "pygments_lexer": "ipython3",
   "version": "3.7.3"
  }
 },
 "nbformat": 4,
 "nbformat_minor": 2
}
