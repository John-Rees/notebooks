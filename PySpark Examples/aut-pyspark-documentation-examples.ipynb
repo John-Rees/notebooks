{
 "cells": [
  {
   "cell_type": "markdown",
   "metadata": {},
   "source": [
    "# AUT PySpark Documentation Examples"
   ]
  },
  {
   "cell_type": "markdown",
   "metadata": {},
   "source": [
    "Import `aut` Python libraries."
   ]
  },
  {
   "cell_type": "code",
   "execution_count": 1,
   "metadata": {},
   "outputs": [],
   "source": [
    "from aut import *\n",
    "from pyspark.sql.functions import col, desc, explode"
   ]
  },
  {
   "cell_type": "markdown",
   "metadata": {},
   "source": [
    "# `.all()`"
   ]
  },
  {
   "cell_type": "markdown",
   "metadata": {},
   "source": [
    "`.all()` schema"
   ]
  },
  {
   "cell_type": "code",
   "execution_count": 2,
   "metadata": {},
   "outputs": [
    {
     "data": {
      "text/plain": [
       "<bound method DataFrame.printSchema of DataFrame[crawl_date: string, url: string, mime_type_web_server: string, mime_type_tika: string, content: string, bytes: binary, http_status_code: string, archive_filename: string]>"
      ]
     },
     "execution_count": 2,
     "metadata": {},
     "output_type": "execute_result"
    }
   ],
   "source": [
    "WebArchive(sc, sqlContext, \"/home/nruest/Projects/au/sample-data/geocities\")\\\n",
    "  .all()\\\n",
    "  .printSchema"
   ]
  },
  {
   "cell_type": "markdown",
   "metadata": {},
   "source": [
    "Select `url` and `http_status_code`, and show 10 with non-truncated columns."
   ]
  },
  {
   "cell_type": "code",
   "execution_count": 3,
   "metadata": {},
   "outputs": [
    {
     "name": "stdout",
     "output_type": "stream",
     "text": [
      "+-------------------------------------------------------------------------------------+----------------+\n",
      "|url                                                                                  |http_status_code|\n",
      "+-------------------------------------------------------------------------------------+----------------+\n",
      "|http://geocities.com/heigl_2k/img/thumbs/?N=D                                        |200             |\n",
      "|http://geocities.com/~jask16/weapons/naval.html                                      |200             |\n",
      "|http://geocities.com/Wellesley/4130/sur.html                                         |200             |\n",
      "|http://geocities.com/kelsoonbutler/boardDocs/BoardMeetingMinutes_AGM_March12_2002.htm|200             |\n",
      "|http://geocities.com/ianaxir/star_sapphire.htm                                       |200             |\n",
      "|http://geocities.com/vandenfromcamden/LJPics/cat/                                    |200             |\n",
      "|http://geocities.com/Wellesley/4130/eroica.html                                      |200             |\n",
      "|http://geocities.com/kkrhythm/kyotei/photo/?M=A                                      |200             |\n",
      "|http://geocities.com/guinncj/images/?D=A                                             |200             |\n",
      "|http://geocities.com/docmarck2000/orientation.htm                                    |200             |\n",
      "+-------------------------------------------------------------------------------------+----------------+\n",
      "only showing top 10 rows\n",
      "\n"
     ]
    }
   ],
   "source": [
    "WebArchive(sc, sqlContext, \"/home/nruest/Projects/au/sample-data/geocities\")\\\n",
    "  .all()\\\n",
    "  .select(\"url\", \"http_status_code\")\\\n",
    "  .show(10, False)"
   ]
  },
  {
   "cell_type": "markdown",
   "metadata": {},
   "source": [
    "Select `url` and `archive_filename`, and show 10 with truncated columns."
   ]
  },
  {
   "cell_type": "code",
   "execution_count": 4,
   "metadata": {},
   "outputs": [
    {
     "name": "stdout",
     "output_type": "stream",
     "text": [
      "+--------------------+--------------------+\n",
      "|                 url|    archive_filename|\n",
      "+--------------------+--------------------+\n",
      "|http://geocities....|file:/home/nruest...|\n",
      "|http://geocities....|file:/home/nruest...|\n",
      "|http://geocities....|file:/home/nruest...|\n",
      "|http://geocities....|file:/home/nruest...|\n",
      "|http://geocities....|file:/home/nruest...|\n",
      "|http://geocities....|file:/home/nruest...|\n",
      "|http://geocities....|file:/home/nruest...|\n",
      "|http://geocities....|file:/home/nruest...|\n",
      "|http://geocities....|file:/home/nruest...|\n",
      "|http://geocities....|file:/home/nruest...|\n",
      "+--------------------+--------------------+\n",
      "only showing top 10 rows\n",
      "\n"
     ]
    }
   ],
   "source": [
    "WebArchive(sc, sqlContext, \"/home/nruest/Projects/au/sample-data/geocities\")\\\n",
    "  .all()\\\n",
    "  .select(\"url\", \"archive_filename\")\\\n",
    "  .show(10, True)"
   ]
  },
  {
   "cell_type": "markdown",
   "metadata": {},
   "source": [
    "Select crawl date, MIME Type, bytes, and demonstrate how to apply a \"[User Defined Functions](https://docs.databricks.com/spark/latest/spark-sql/udf-scala.html)\" to a column. In this case, `detect_mime_type_tika()` detects the [MIME type](https://en.wikipedia.org/wiki/MIME) from the [Base64](https://en.wikipedia.org/wiki/Base64) encoded bytes column using [Apache Tika](https://tika.apache.org/)."
   ]
  },
  {
   "cell_type": "code",
   "execution_count": 5,
   "metadata": {},
   "outputs": [
    {
     "name": "stdout",
     "output_type": "stream",
     "text": [
      "+----------+---------+--------------+\n",
      "|crawl_date| udf_tika|mime_type_tika|\n",
      "+----------+---------+--------------+\n",
      "|  20091027|text/html|     text/html|\n",
      "|  20091027|text/html|     text/html|\n",
      "|  20091027|text/html|     text/html|\n",
      "|  20091027|text/html|     text/html|\n",
      "|  20091027|text/html|     text/html|\n",
      "|  20091027|text/html|     text/html|\n",
      "|  20091027|text/html|     text/html|\n",
      "|  20091027|text/html|     text/html|\n",
      "|  20091027|text/html|     text/html|\n",
      "|  20091027|text/html|     text/html|\n",
      "+----------+---------+--------------+\n",
      "only showing top 10 rows\n",
      "\n"
     ]
    }
   ],
   "source": [
    "WebArchive(sc, sqlContext, \"/home/nruest/Projects/au/sample-data/geocities\")\\\n",
    "  .all()\\\n",
    "  .select(\"crawl_date\", detect_mime_type_tika(\"bytes\").alias(\"udf_tika\"), \"mime_type_tika\")\\\n",
    "  .show(10, True)"
   ]
  },
  {
   "cell_type": "markdown",
   "metadata": {},
   "source": [
    "Select mimetypes, url, and filter out images."
   ]
  },
  {
   "cell_type": "code",
   "execution_count": 6,
   "metadata": {},
   "outputs": [
    {
     "name": "stdout",
     "output_type": "stream",
     "text": [
      "+--------------+--------------------+-------------------------------------------------------------------------------------+\n",
      "|mime_type_tika|mime_type_web_server|url                                                                                  |\n",
      "+--------------+--------------------+-------------------------------------------------------------------------------------+\n",
      "|text/html     |text/html           |http://geocities.com/heigl_2k/img/thumbs/?N=D                                        |\n",
      "|text/html     |text/html           |http://geocities.com/~jask16/weapons/naval.html                                      |\n",
      "|text/html     |text/html           |http://geocities.com/Wellesley/4130/sur.html                                         |\n",
      "|text/html     |text/html           |http://geocities.com/kelsoonbutler/boardDocs/BoardMeetingMinutes_AGM_March12_2002.htm|\n",
      "|text/html     |text/html           |http://geocities.com/ianaxir/star_sapphire.htm                                       |\n",
      "|text/html     |text/html           |http://geocities.com/vandenfromcamden/LJPics/cat/                                    |\n",
      "|text/html     |text/html           |http://geocities.com/Wellesley/4130/eroica.html                                      |\n",
      "|text/html     |text/html           |http://geocities.com/kkrhythm/kyotei/photo/?M=A                                      |\n",
      "|text/html     |text/html           |http://geocities.com/guinncj/images/?D=A                                             |\n",
      "|text/html     |text/html           |http://geocities.com/docmarck2000/orientation.htm                                    |\n",
      "+--------------+--------------------+-------------------------------------------------------------------------------------+\n",
      "only showing top 10 rows\n",
      "\n"
     ]
    }
   ],
   "source": [
    "WebArchive(sc, sqlContext, \"/home/nruest/Projects/au/sample-data/geocities\")\\\n",
    "  .all()\\\n",
    "  .select(\"mime_type_tika\", \"mime_type_web_server\", \"url\")\\\n",
    "  .filter(~col(\"mime_type_tika\").like(\"image/%\") | ~col(\"mime_type_web_server\").like(\"image/%\"))\\\n",
    "  .show(10, False)"
   ]
  },
  {
   "cell_type": "markdown",
   "metadata": {},
   "source": [
    "## `.webgraph()`"
   ]
  },
  {
   "cell_type": "markdown",
   "metadata": {},
   "source": [
    "`.webgraph()` schema"
   ]
  },
  {
   "cell_type": "code",
   "execution_count": 7,
   "metadata": {},
   "outputs": [
    {
     "data": {
      "text/plain": [
       "<bound method DataFrame.printSchema of DataFrame[crawl_date: string, src: string, dest: string, anchor: string]>"
      ]
     },
     "execution_count": 7,
     "metadata": {},
     "output_type": "execute_result"
    }
   ],
   "source": [
    "WebArchive(sc, sqlContext, \"/home/nruest/Projects/au/sample-data/geocities\")\\\n",
    "  .webgraph()\\\n",
    "  .printSchema"
   ]
  },
  {
   "cell_type": "markdown",
   "metadata": {},
   "source": [
    "Select source and destination urls, count their ocurrances, and filter out counts less than 5."
   ]
  },
  {
   "cell_type": "code",
   "execution_count": 8,
   "metadata": {},
   "outputs": [
    {
     "name": "stdout",
     "output_type": "stream",
     "text": [
      "+-----------------+--------------------+-----+\n",
      "|              src|                dest|count|\n",
      "+-----------------+--------------------+-----+\n",
      "|    geocities.com|   service.bfast.com|  139|\n",
      "|    geocities.com|   www.prizma.net.tr|   26|\n",
      "|    geocities.com|      www.disney.com|   12|\n",
      "|www.geocities.com|     www.bigfoot.com|   10|\n",
      "|    geocities.com|   idmg.blogspot.com|   25|\n",
      "|    geocities.com| img.photobucket.com|  324|\n",
      "|    geocities.com|www.buyandselldb.com|16200|\n",
      "|    geocities.com| www.metroactive.com|    6|\n",
      "|    geocities.com|  pub16.bravenet.com|   24|\n",
      "|www.geocities.com|        www.nasa.gov|    6|\n",
      "+-----------------+--------------------+-----+\n",
      "only showing top 10 rows\n",
      "\n"
     ]
    }
   ],
   "source": [
    "WebArchive(sc, sqlContext, \"/home/nruest/Projects/au/sample-data/geocities\")\\\n",
    "  .webgraph()\\\n",
    "  .groupBy(extract_domain(\"src\").alias(\"src\"), extract_domain(\"dest\").alias(\"dest\"))\\\n",
    "  .count()\\\n",
    "  .filter(col(\"count\") > 5)\\\n",
    "  .show(10, True)"
   ]
  },
  {
   "cell_type": "markdown",
   "metadata": {},
   "source": [
    "Similar to the above example, select source and destination urls, and additionally apply UDFs that extract the domain from the URL, and remove the `www` prefix."
   ]
  },
  {
   "cell_type": "code",
   "execution_count": 9,
   "metadata": {},
   "outputs": [
    {
     "name": "stdout",
     "output_type": "stream",
     "text": [
      "+----------+-------------+--------------------+-----+\n",
      "|crawl_date|          src|                dest|count|\n",
      "+----------+-------------+--------------------+-----+\n",
      "|  20091027|geocities.com|           tv3.co.th|  104|\n",
      "|  20091027|geocities.com|           itv.co.th|   36|\n",
      "|  20091027|geocities.com|     roushracing.com|    8|\n",
      "|  20091027|geocities.com|             come.to|  142|\n",
      "|  20091027|geocities.com|meltingpot.fortun...|   15|\n",
      "|  20091027|geocities.com|         gostats.com|   11|\n",
      "|  20091027|geocities.com|   www2.bravenet.com|   13|\n",
      "|  20091027|geocities.com|            best.com|   26|\n",
      "|  20091027|geocities.com|plugin.smileycent...|    9|\n",
      "|  20091027|geocities.com|           sciam.com|    6|\n",
      "+----------+-------------+--------------------+-----+\n",
      "only showing top 10 rows\n",
      "\n"
     ]
    }
   ],
   "source": [
    "WebArchive(sc, sqlContext, \"/home/nruest/Projects/au/sample-data/geocities\")\\\n",
    "  .webgraph()\\\n",
    "  .groupBy(\"crawl_date\", remove_prefix_www(extract_domain(\"src\")).alias(\"src\"), remove_prefix_www(extract_domain(\"dest\")).alias(\"dest\"))\\\n",
    "  .count()\\\n",
    "  .filter(col(\"count\") > 5)\\\n",
    "  .show(10, True)"
   ]
  },
  {
   "cell_type": "markdown",
   "metadata": {},
   "source": [
    "## `.webpages()`"
   ]
  },
  {
   "cell_type": "markdown",
   "metadata": {},
   "source": [
    "`.webpages()` schema"
   ]
  },
  {
   "cell_type": "code",
   "execution_count": 10,
   "metadata": {},
   "outputs": [
    {
     "data": {
      "text/plain": [
       "<bound method DataFrame.printSchema of DataFrame[crawl_date: string, url: string, mime_type_web_server: string, mime_type_tika: string, language: string, content: string]>"
      ]
     },
     "execution_count": 10,
     "metadata": {},
     "output_type": "execute_result"
    }
   ],
   "source": [
    "WebArchive(sc, sqlContext, \"/home/nruest/Projects/au/sample-data/geocities\")\\\n",
    "  .webpages()\\\n",
    "  .printSchema"
   ]
  },
  {
   "cell_type": "markdown",
   "metadata": {},
   "source": [
    "Select crawl date, domain, url, and content by using two UDFs: `extract_domain()`, and `remove_html()`."
   ]
  },
  {
   "cell_type": "code",
   "execution_count": 11,
   "metadata": {},
   "outputs": [
    {
     "name": "stdout",
     "output_type": "stream",
     "text": [
      "+----------+-------------+--------------------+--------------------+\n",
      "|crawl_date|       domain|                 url|             content|\n",
      "+----------+-------------+--------------------+--------------------+\n",
      "|  20091027|geocities.com|http://geocities....|Index of /heigl_2...|\n",
      "|  20091027|geocities.com|http://geocities....|Naval Missles Ant...|\n",
      "|  20091027|geocities.com|http://geocities....|Diana Bellessi's ...|\n",
      "|  20091027|geocities.com|http://geocities....|KELSO COMMUNITY A...|\n",
      "|  20091027|geocities.com|http://geocities....|The Star Sapphire...|\n",
      "|  20091027|geocities.com|http://geocities....|Index of /vandenf...|\n",
      "|  20091027|geocities.com|http://geocities....|Diana Bellessi's ...|\n",
      "|  20091027|geocities.com|http://geocities....|Index of /kkrhyth...|\n",
      "|  20091027|geocities.com|http://geocities....|Index of /guinncj...|\n",
      "|  20091027|geocities.com|http://geocities....|The Clinical Psyc...|\n",
      "+----------+-------------+--------------------+--------------------+\n",
      "only showing top 10 rows\n",
      "\n"
     ]
    }
   ],
   "source": [
    "WebArchive(sc, sqlContext, \"/home/nruest/Projects/au/sample-data/geocities\")\\\n",
    "  .webpages()\\\n",
    "  .select(\"crawl_date\", extract_domain(\"url\").alias(\"domain\"), \"url\", remove_html(\"content\").alias(\"content\"))\\\n",
    "  .show(10, True)"
   ]
  },
  {
   "cell_type": "markdown",
   "metadata": {},
   "source": [
    "Filter out urls that match a pattern, then select the source and detination urls from the results using a few UDFs."
   ]
  },
  {
   "cell_type": "code",
   "execution_count": 12,
   "metadata": {},
   "outputs": [
    {
     "name": "stdout",
     "output_type": "stream",
     "text": [
      "+-------------+---------------------+-----+\n",
      "|src          |dest                 |count|\n",
      "+-------------+---------------------+-----+\n",
      "|geocities.com|sushi.perfectdrug.net|1    |\n",
      "|geocities.com|eatsushi.com         |1    |\n",
      "|geocities.com|sushilinks.com       |1    |\n",
      "|geocities.com|sushifaq.com         |1    |\n",
      "+-------------+---------------------+-----+\n",
      "\n"
     ]
    }
   ],
   "source": [
    "url_pattern = \"%http://geocities.com/babiekaos/%\"\n",
    "\n",
    "WebArchive(sc, sqlContext, \"/home/nruest/Projects/au/sample-data/geocities\")\\\n",
    "  .webpages()\\\n",
    "  .filter(col(\"url\").like(url_pattern))\\\n",
    "  .select(explode(extract_links(\"url\", \"content\")).alias(\"links\"))\\\n",
    "  .select(remove_prefix_www(extract_domain(col(\"links._1\"))).alias(\"src\"), remove_prefix_www(extract_domain(col(\"links._2\"))).alias(\"dest\"))\\\n",
    "  .groupBy(\"src\", \"dest\")\\\n",
    "  .count()\\\n",
    "  .show(10, False)"
   ]
  },
  {
   "cell_type": "markdown",
   "metadata": {},
   "source": [
    "Select crawl date, domain, url, and content where domain is `www.geocities.com`."
   ]
  },
  {
   "cell_type": "code",
   "execution_count": 13,
   "metadata": {},
   "outputs": [
    {
     "name": "stdout",
     "output_type": "stream",
     "text": [
      "+----------+-----------------+--------------------+--------------------+\n",
      "|crawl_date|           domain|                 url|             content|\n",
      "+----------+-----------------+--------------------+--------------------+\n",
      "|  20091027|www.geocities.com|http://www.geocit...|Rita Rittie's Hom...|\n",
      "|  20091027|www.geocities.com|http://www.geocit...|vilperi Vilperin ...|\n",
      "|  20091027|www.geocities.com|http://www.geocit...|mina Min� Etusivu...|\n",
      "|  20091027|www.geocities.com|http://www.geocit...|Latino_Resources ...|\n",
      "|  20091027|www.geocities.com|http://www.geocit...|kerttu Kertun siv...|\n",
      "|  20091027|www.geocities.com|http://www.geocit...|CyberFausto Webpa...|\n",
      "|  20091027|www.geocities.com|http://www.geocit...|ipana Ipanan sivu...|\n",
      "|  20091027|www.geocities.com|http://www.geocit...|page6 Bookmarks f...|\n",
      "|  20091027|www.geocities.com|http://www.geocit...|page2 LCO 2148 Bo...|\n",
      "|  20091027|www.geocities.com|http://www.geocit...|CyberFausto Webpa...|\n",
      "|  20091027|www.geocities.com|http://www.geocit...|CyberFausto Webpa...|\n",
      "|  20091027|www.geocities.com|http://www.geocit...|The Rambo Family ...|\n",
      "|  20091027|www.geocities.com|http://www.geocit...|   December December|\n",
      "|  20091027|www.geocities.com|http://www.geocit...|           June June|\n",
      "|  20091027|www.geocities.com|http://www.geocit...|   November November|\n",
      "|  20091027|www.geocities.com|http://www.geocit...|Masoud Borbor بسم...|\n",
      "|  20091027|www.geocities.com|http://www.geocit...|page5 cww: Welcom...|\n",
      "|  20091027|www.geocities.com|http://www.geocit...|داستان داستان بی ...|\n",
      "|  20091027|www.geocities.com|http://www.geocit...|Caution_tape_ninj...|\n",
      "|  20091027|www.geocities.com|http://www.geocit...|The Good Characte...|\n",
      "+----------+-----------------+--------------------+--------------------+\n",
      "only showing top 20 rows\n",
      "\n"
     ]
    }
   ],
   "source": [
    "domains = [\"www.geocities.com\"]\n",
    "\n",
    "WebArchive(sc, sqlContext, \"/home/nruest/Projects/au/sample-data/geocities\")\\\n",
    "  .webpages()\\\n",
    "  .select(\"crawl_date\", extract_domain(\"url\").alias(\"domain\"), \"url\", remove_html(remove_http_header(\"content\")).alias(\"content\"))\\\n",
    "  .filter(col(\"domain\").isin(domains))\\\n",
    "  .show(20, True)"
   ]
  },
  {
   "cell_type": "markdown",
   "metadata": {},
   "source": [
    "Select crawl date, domain, and url where url matches the pattern `%http://geocities.com/cancmay%`."
   ]
  },
  {
   "cell_type": "code",
   "execution_count": 14,
   "metadata": {},
   "outputs": [
    {
     "name": "stdout",
     "output_type": "stream",
     "text": [
      "+----------+-------------+-----------------------------------------------------------+\n",
      "|crawl_date|domain       |url                                                        |\n",
      "+----------+-------------+-----------------------------------------------------------+\n",
      "|20091027  |geocities.com|http://geocities.com/cancmay/m/make-it-with-you.html       |\n",
      "|20091027  |geocities.com|http://geocities.com/cancmay/m/?N=D                        |\n",
      "|20091027  |geocities.com|http://geocities.com/cancmay/m/my-girl.html                |\n",
      "|20091027  |geocities.com|http://geocities.com/cancmay/m/my-oh-my.html               |\n",
      "|20091027  |geocities.com|http://geocities.com/cancmay/m/my-happy-ending.html        |\n",
      "|20091027  |geocities.com|http://geocities.com/cancmay/m/my-funny-valentine.html     |\n",
      "|20091027  |geocities.com|http://geocities.com/cancmay/m/mambo-italiano.html         |\n",
      "|20091027  |geocities.com|http://geocities.com/cancmay/m/man-i-feel-like-a-woman.html|\n",
      "|20091027  |geocities.com|http://geocities.com/cancmay/m/merry-go-round.html         |\n",
      "|20091027  |geocities.com|http://geocities.com/cancmay/m/macarena.html               |\n",
      "|20091027  |geocities.com|http://geocities.com/cancmay/m/michico-latino.html         |\n",
      "|20091027  |geocities.com|http://geocities.com/cancmay/m/my-love.html                |\n",
      "|20091027  |geocities.com|http://geocities.com/cancmay/m/muskrat-love.html           |\n",
      "|20091027  |geocities.com|http://geocities.com/cancmay/m/m.html                      |\n",
      "|20091027  |geocities.com|http://geocities.com/cancmay/m/melody-of-you.html          |\n",
      "|20091027  |geocities.com|http://geocities.com/cancmay/m/money-money-money.html      |\n",
      "|20091027  |geocities.com|http://geocities.com/cancmay/m/music.html                  |\n",
      "|20091027  |geocities.com|http://geocities.com/cancmay/m/my-way.html                 |\n",
      "|20091027  |geocities.com|http://geocities.com/cancmay/n/nowhere-man.html            |\n",
      "|20091027  |geocities.com|http://geocities.com/cancmay/n/not-a-second-time.html      |\n",
      "+----------+-------------+-----------------------------------------------------------+\n",
      "only showing top 20 rows\n",
      "\n"
     ]
    }
   ],
   "source": [
    "url_pattern = \"%http://geocities.com/cancmay%\"\n",
    "\n",
    "WebArchive(sc, sqlContext, \"/home/nruest/Projects/au/sample-data/geocities\")\\\n",
    "  .webpages()\\\n",
    "  .select(\"crawl_date\", extract_domain(\"url\").alias(\"domain\"), \"url\")\\\n",
    "  .filter(col(\"url\").like(url_pattern))\\\n",
    "  .show(20, False)"
   ]
  },
  {
   "cell_type": "markdown",
   "metadata": {},
   "source": [
    "Select crawl date, domain, url, and content from only September or October 2009."
   ]
  },
  {
   "cell_type": "code",
   "execution_count": 15,
   "metadata": {},
   "outputs": [
    {
     "name": "stdout",
     "output_type": "stream",
     "text": [
      "+----------+-------------+--------------------+--------------------+\n",
      "|crawl_date|       domain|                 url|             content|\n",
      "+----------+-------------+--------------------+--------------------+\n",
      "|  20091027|geocities.com|http://geocities....|Index of /heigl_2...|\n",
      "|  20091027|geocities.com|http://geocities....|Naval Missles Ant...|\n",
      "|  20091027|geocities.com|http://geocities....|Diana Bellessi's ...|\n",
      "|  20091027|geocities.com|http://geocities....|KELSO COMMUNITY A...|\n",
      "|  20091027|geocities.com|http://geocities....|The Star Sapphire...|\n",
      "|  20091027|geocities.com|http://geocities....|Index of /vandenf...|\n",
      "|  20091027|geocities.com|http://geocities....|Diana Bellessi's ...|\n",
      "|  20091027|geocities.com|http://geocities....|Index of /kkrhyth...|\n",
      "|  20091027|geocities.com|http://geocities....|Index of /guinncj...|\n",
      "|  20091027|geocities.com|http://geocities....|The Clinical Psyc...|\n",
      "|  20091027|geocities.com|http://geocities....|Index of /brokenk...|\n",
      "|  20091027|geocities.com|http://geocities....|�����º��������! T...|\n",
      "|  20091027|geocities.com|http://geocities....|Index of /casasta...|\n",
      "|  20091027|geocities.com|http://geocities....|Index of /badwick...|\n",
      "|  20091027|geocities.com|http://geocities....|The Clinical Psyc...|\n",
      "|  20091027|geocities.com|http://geocities....|Index of /onlyfor...|\n",
      "|  20091027|geocities.com|http://geocities....|KC.page Click on ...|\n",
      "|  20091027|geocities.com|http://geocities....|Diana Bellessi's ...|\n",
      "|  20091027|geocities.com|http://geocities....|KELSO COMMUNITY A...|\n",
      "|  20091027|geocities.com|http://geocities....|There Stood The B...|\n",
      "+----------+-------------+--------------------+--------------------+\n",
      "only showing top 20 rows\n",
      "\n"
     ]
    }
   ],
   "source": [
    "dates = \"2009[10][09]\\d\\d\"\n",
    " \n",
    "WebArchive(sc, sqlContext, \"/home/nruest/Projects/au/sample-data/geocities\")\\\n",
    "  .webpages()\\\n",
    "  .select(\"crawl_date\", extract_domain(\"url\").alias(\"domain\"), \"url\", remove_html(remove_http_header(\"content\")).alias(\"content\"))\\\n",
    "  .filter(col(\"crawl_date\").rlike(dates))\\\n",
    "  .show(20, True)"
   ]
  },
  {
   "cell_type": "markdown",
   "metadata": {},
   "source": [
    "Select crawl date, domain, url, and content where content has \"radio\" in it."
   ]
  },
  {
   "cell_type": "code",
   "execution_count": 16,
   "metadata": {},
   "outputs": [
    {
     "name": "stdout",
     "output_type": "stream",
     "text": [
      "+----------+-----------------+--------------------+--------------------+\n",
      "|crawl_date|           domain|                 url|             content|\n",
      "+----------+-----------------+--------------------+--------------------+\n",
      "|  20091027|    geocities.com|http://geocities....|The Clinical Psyc...|\n",
      "|  20091027|    geocities.com|http://geocities....|HUMAN SOUNDS SNOR...|\n",
      "|  20091027|    geocities.com|http://geocities....|Index of /vilsono...|\n",
      "|  20091027|    geocities.com|http://geocities....|Estafas esot�rica...|\n",
      "|  20091027|www.geocities.com|http://www.geocit...|Short Articles Ab...|\n",
      "|  20091027|www.geocities.com|http://www.geocit...|Shoulder Separati...|\n",
      "|  20091027|    geocities.com|http://geocities....|DAVID BANNER adop...|\n",
      "|  20091027|    geocities.com|http://geocities....|New Page 1 By Stu...|\n",
      "|  20091027|    geocities.com|http://geocities....|Titre: Forever Lo...|\n",
      "|  20091027|    geocities.com|http://geocities....|Index of /vilsono...|\n",
      "+----------+-----------------+--------------------+--------------------+\n",
      "only showing top 10 rows\n",
      "\n"
     ]
    }
   ],
   "source": [
    "content = \"%radio%\"\n",
    "\n",
    "WebArchive(sc, sqlContext, \"/home/nruest/Projects/au/sample-data/geocities\")\\\n",
    "  .webpages()\\\n",
    "  .select(\"crawl_date\", extract_domain(\"url\").alias(\"domain\"), \"url\", remove_html(remove_http_header(\"content\")).alias(\"content\"))\\\n",
    "  .filter(col(\"content\").like(content))\\\n",
    "  .show(10, True)"
   ]
  },
  {
   "cell_type": "markdown",
   "metadata": {},
   "source": [
    "Select crawl date, domain, url, and content where the domain is `www.geocities.com`, and the language is french."
   ]
  },
  {
   "cell_type": "code",
   "execution_count": 17,
   "metadata": {},
   "outputs": [
    {
     "name": "stdout",
     "output_type": "stream",
     "text": [
      "+----------+-----------------+--------------------+--------------------+\n",
      "|crawl_date|           domain|                 url|             content|\n",
      "+----------+-----------------+--------------------+--------------------+\n",
      "|  20091027|www.geocities.com|http://www.geocit...|           June June|\n",
      "|  20091027|www.geocities.com|http://www.geocit...|       femaletrouble|\n",
      "|  20091027|www.geocities.com|http://www.geocit...|surprise1 Pour pr...|\n",
      "|  20091027|www.geocities.com|http://www.geocit...|rose Ma vie en ro...|\n",
      "|  20091027|www.geocities.com|http://www.geocit...|eucalyptus Eucaly...|\n",
      "|  20091027|www.geocities.com|http://www.geocit...|radioh Radiohead ...|\n",
      "|  20091027|www.geocities.com|http://www.geocit...|ej5 pr�c�dent - M...|\n",
      "|  20091027|www.geocities.com|http://www.geocit...|apier An Pierl� D...|\n",
      "|  20091027|www.geocities.com|http://www.geocit...|ej9 pr�c�dent Nou...|\n",
      "|  20091027|www.geocities.com|http://www.geocit...|ej94 pr�c�dent Je...|\n",
      "|  20091027|www.geocities.com|http://www.geocit...|tam Tori Amos Si ...|\n",
      "|  20091027|www.geocities.com|http://www.geocit...|gehay Gemma Hayes...|\n",
      "|  20091027|www.geocities.com|http://www.geocit...|emtor Emiliana To...|\n",
      "|  20091027|www.geocities.com|http://www.geocit...|ej3 page pr�c�den...|\n",
      "|  20091027|www.geocities.com|http://www.geocit...|zazi Zazie Toujou...|\n",
      "|  20091027|www.geocities.com|http://www.geocit...|stnor Stina Norde...|\n",
      "|  20091027|www.geocities.com|http://www.geocit...|bjo Bj�rk Hormis ...|\n",
      "|  20091027|www.geocities.com|http://www.geocit...|nepa Nerina Pallo...|\n",
      "|  20091027|www.geocities.com|http://www.geocit...|ej8 pr�c�dent - H...|\n",
      "|  20091027|www.geocities.com|http://www.geocit...|furtherproject Fu...|\n",
      "+----------+-----------------+--------------------+--------------------+\n",
      "only showing top 20 rows\n",
      "\n"
     ]
    }
   ],
   "source": [
    "domains = [\"www.geocities.com\"]\n",
    "languages = [\"fr\"]\n",
    "\n",
    "WebArchive(sc, sqlContext, \"/home/nruest/Projects/au/sample-data/geocities\")\\\n",
    "  .webpages()\\\n",
    "  .select(\"crawl_date\", extract_domain(\"url\").alias(\"domain\"), \"url\", remove_html(remove_http_header(\"content\")).alias(\"content\"))\\\n",
    "  .filter(col(\"domain\").isin(domains))\\\n",
    "  .filter(col(\"language\").isin(languages))\\\n",
    "  .show(20, True)"
   ]
  },
  {
   "cell_type": "markdown",
   "metadata": {},
   "source": [
    "Select source and domain urls, with a count, where the content contains \"radio\"."
   ]
  },
  {
   "cell_type": "code",
   "execution_count": 18,
   "metadata": {},
   "outputs": [
    {
     "name": "stdout",
     "output_type": "stream",
     "text": [
      "+----------------+--------------------+-----+\n",
      "|             src|                dest|count|\n",
      "+----------------+--------------------+-----+\n",
      "|   geocities.com|   idmg.blogspot.com|    9|\n",
      "|saibabalinks.org|    saibabalinks.org|   14|\n",
      "|   geocities.com|   service.bfast.com|   15|\n",
      "|   geocities.com| img.photobucket.com|   23|\n",
      "|   geocities.com|     worldscouts.net|    6|\n",
      "|   geocities.com|       terravista.pt|   15|\n",
      "|   geocities.com|free.hostdepartme...|   30|\n",
      "|   geocities.com|provincia.venezia.it|    6|\n",
      "|   geocities.com|   privacy.yahoo.com|    6|\n",
      "|   geocities.com|              rai.it|    7|\n",
      "+----------------+--------------------+-----+\n",
      "only showing top 10 rows\n",
      "\n"
     ]
    }
   ],
   "source": [
    "content = \"%radio%\"\n",
    "\n",
    "WebArchive(sc, sqlContext, \"/home/nruest/Projects/au/sample-data/geocities\")\\\n",
    "  .webpages()\\\n",
    "  .filter(col(\"content\").like(content))\\\n",
    "  .select(explode(extract_links(\"url\", \"content\")).alias(\"links\"))\\\n",
    "  .select(remove_prefix_www(extract_domain(col(\"links._1\"))).alias(\"src\"), remove_prefix_www(extract_domain(col(\"links._2\"))).alias(\"dest\"))\\\n",
    "  .groupBy(\"src\", \"dest\")\\\n",
    "  .count()\\\n",
    "  .filter(col(\"count\") > 5)\\\n",
    "  .show(10, True)"
   ]
  },
  {
   "cell_type": "markdown",
   "metadata": {},
   "source": [
    "Select urls that match a regex pattern."
   ]
  },
  {
   "cell_type": "code",
   "execution_count": 19,
   "metadata": {},
   "outputs": [
    {
     "name": "stdout",
     "output_type": "stream",
     "text": [
      "+-------------------------------------------------------------------------------------+\n",
      "|url                                                                                  |\n",
      "+-------------------------------------------------------------------------------------+\n",
      "|http://geocities.com/heigl_2k/img/thumbs/?N=D                                        |\n",
      "|http://geocities.com/~jask16/weapons/naval.html                                      |\n",
      "|http://geocities.com/Wellesley/4130/sur.html                                         |\n",
      "|http://geocities.com/kelsoonbutler/boardDocs/BoardMeetingMinutes_AGM_March12_2002.htm|\n",
      "|http://geocities.com/ianaxir/star_sapphire.htm                                       |\n",
      "|http://geocities.com/vandenfromcamden/LJPics/cat/                                    |\n",
      "|http://geocities.com/Wellesley/4130/eroica.html                                      |\n",
      "|http://geocities.com/kkrhythm/kyotei/photo/?M=A                                      |\n",
      "|http://geocities.com/guinncj/images/?D=A                                             |\n",
      "|http://geocities.com/docmarck2000/orientation.htm                                    |\n",
      "+-------------------------------------------------------------------------------------+\n",
      "only showing top 10 rows\n",
      "\n"
     ]
    }
   ],
   "source": [
    "url_pattern = \"http://[^/]+/[^/]+/\"\n",
    "\n",
    "WebArchive(sc, sqlContext, \"/home/nruest/Projects/au/sample-data/geocities\")\\\n",
    "  .webpages()\\\n",
    "  .select(\"url\")\\\n",
    "  .filter(col(\"url\").rlike(url_pattern))\\\n",
    "  .show(10, False)\n"
   ]
  },
  {
   "cell_type": "markdown",
   "metadata": {},
   "source": [
    "Show top 10 domains."
   ]
  },
  {
   "cell_type": "code",
   "execution_count": 20,
   "metadata": {},
   "outputs": [
    {
     "name": "stdout",
     "output_type": "stream",
     "text": [
      "+-----------------------+------+\n",
      "|domain                 |count |\n",
      "+-----------------------+------+\n",
      "|geocities.com          |123109|\n",
      "|infocastfn.com         |430   |\n",
      "|rcm.amazon.com         |201   |\n",
      "|bagus.com              |133   |\n",
      "|globalimagegallery.com |130   |\n",
      "|physforum.com          |124   |\n",
      "|viewonbuddhism.org     |122   |\n",
      "|internetarchaeology.org|121   |\n",
      "|us.geocities.com       |121   |\n",
      "|spb.tvoe.tv            |108   |\n",
      "+-----------------------+------+\n",
      "only showing top 10 rows\n",
      "\n"
     ]
    }
   ],
   "source": [
    "WebArchive(sc, sqlContext, \"/home/nruest/Projects/au/sample-data/geocities\")\\\n",
    "  .webpages()\\\n",
    "  .select(remove_prefix_www(extract_domain(\"url\")).alias(\"Domain\"))\\\n",
    "  .groupBy(\"domain\")\\\n",
    "  .count()\\\n",
    "  .sort(desc(\"count\"))\\\n",
    "  .show(10, False)\n"
   ]
  },
  {
   "cell_type": "markdown",
   "metadata": {},
   "source": [
    "Select content, and remove HTTP Headers, and HTML."
   ]
  },
  {
   "cell_type": "code",
   "execution_count": 21,
   "metadata": {},
   "outputs": [
    {
     "name": "stdout",
     "output_type": "stream",
     "text": [
      "+--------------------+\n",
      "|             content|\n",
      "+--------------------+\n",
      "|Index of /heigl_2...|\n",
      "|Naval Missles Ant...|\n",
      "|Diana Bellessi's ...|\n",
      "|KELSO COMMUNITY A...|\n",
      "|The Star Sapphire...|\n",
      "|Index of /vandenf...|\n",
      "|Diana Bellessi's ...|\n",
      "|Index of /kkrhyth...|\n",
      "|Index of /guinncj...|\n",
      "|The Clinical Psyc...|\n",
      "+--------------------+\n",
      "only showing top 10 rows\n",
      "\n"
     ]
    }
   ],
   "source": [
    "WebArchive(sc, sqlContext, \"/home/nruest/Projects/au/sample-data/geocities\")\\\n",
    "  .webpages()\\\n",
    "  .select(remove_html(remove_http_header(\"content\")).alias(\"content\"))\\\n",
    "  .show(10, True)"
   ]
  },
  {
   "cell_type": "markdown",
   "metadata": {},
   "source": [
    "Select crawl date, domain, url, and content. Remove HTTP Headers, and remove boilerplate from content."
   ]
  },
  {
   "cell_type": "code",
   "execution_count": 22,
   "metadata": {},
   "outputs": [
    {
     "name": "stdout",
     "output_type": "stream",
     "text": [
      "+----------+-------------+--------------------+--------------------+\n",
      "|crawl_date|       domain|                 url|             content|\n",
      "+----------+-------------+--------------------+--------------------+\n",
      "|  20091027|geocities.com|http://geocities....|                    |\n",
      "|  20091027|geocities.com|http://geocities....|AGM-84 Harpoon A ...|\n",
      "|  20091027|geocities.com|http://geocities....|enlazado el ojo a...|\n",
      "|  20091027|geocities.com|http://geocities....|                 ...|\n",
      "|  20091027|geocities.com|http://geocities....|;         Pater e...|\n",
      "|  20091027|geocities.com|http://geocities....|                    |\n",
      "|  20091027|geocities.com|http://geocities....|                    |\n",
      "|  20091027|geocities.com|http://geocities....|                    |\n",
      "|  20091027|geocities.com|http://geocities....|                    |\n",
      "|  20091027|geocities.com|http://geocities....|  There are   psy...|\n",
      "+----------+-------------+--------------------+--------------------+\n",
      "only showing top 10 rows\n",
      "\n"
     ]
    }
   ],
   "source": [
    "WebArchive(sc, sqlContext, \"/home/nruest/Projects/au/sample-data/geocities\")\\\n",
    "  .webpages()\\\n",
    "  .select(\"crawl_date\", extract_domain(\"url\").alias(\"domain\"), \"url\", extract_boilerplate(remove_http_header(\"content\")).alias(\"content\"))\\\n",
    "  .show(10, True)"
   ]
  },
  {
   "cell_type": "markdown",
   "metadata": {},
   "source": [
    "Demonstrate `detect_language()` UDF on content."
   ]
  },
  {
   "cell_type": "code",
   "execution_count": 23,
   "metadata": {},
   "outputs": [
    {
     "name": "stdout",
     "output_type": "stream",
     "text": [
      "+----------+------------+--------+\n",
      "|crawl_date|udf_language|language|\n",
      "+----------+------------+--------+\n",
      "|  20091027|          en|      nl|\n",
      "|  20091027|          en|      en|\n",
      "|  20091027|          es|      es|\n",
      "|  20091027|          en|      en|\n",
      "|  20091027|          en|      en|\n",
      "|  20091027|          en|      en|\n",
      "|  20091027|          en|      en|\n",
      "|  20091027|          en|      hr|\n",
      "|  20091027|          en|      en|\n",
      "|  20091027|          en|      en|\n",
      "+----------+------------+--------+\n",
      "only showing top 10 rows\n",
      "\n"
     ]
    }
   ],
   "source": [
    "WebArchive(sc, sqlContext, \"/home/nruest/Projects/au/sample-data/geocities\")\\\n",
    "  .webpages()\\\n",
    "  .select(\"crawl_date\", detect_language(\"content\").alias(\"udf_language\"), \"language\")\\\n",
    "  .show(10, True)"
   ]
  },
  {
   "cell_type": "markdown",
   "metadata": {},
   "source": [
    "Demonstrate `extract_links()` UDF on the url and content columns."
   ]
  },
  {
   "cell_type": "code",
   "execution_count": 24,
   "metadata": {},
   "outputs": [
    {
     "name": "stdout",
     "output_type": "stream",
     "text": [
      "+----------------------------------------------------------------------------------------------------------------------------+\n",
      "|links                                                                                                                       |\n",
      "+----------------------------------------------------------------------------------------------------------------------------+\n",
      "|[http://geocities.com/docmarck2000/orientation.htm, mailto:webmaster@theclinicalpsychologist.net?subject=Sugesstion, E-mail]|\n",
      "|[http://geocities.com/krooyaimaha/ptld2902.htm, http://www.dhamma.org, ]                                                    |\n",
      "|[http://geocities.com/krooyaimaha/ptld2902.htm, http://www.dhammathai.org, Dhammathai]                                      |\n",
      "|[http://geocities.com/krooyaimaha/ptld2902.htm, http://www.yuwasong.com, Yuwasong]                                          |\n",
      "|[http://geocities.com/krooyaimaha/ptld2902.htm, http://www.luangta.com, Luangta]                                            |\n",
      "|[http://geocities.com/krooyaimaha/ptld2902.htm, http://www.geocities.com/prarawan, Prarawan]                                |\n",
      "|[http://geocities.com/krooyaimaha/ptld2902.htm, http://www.geocities.com/buddhison, Buddhison]                              |\n",
      "|[http://geocities.com/krooyaimaha/ptld2902.htm, http://www.buddhadasa.com, Buddhadasa]                                      |\n",
      "|[http://geocities.com/krooyaimaha/ptld2902.htm, http://www.learntripitaka.com, Learntripitaka]                              |\n",
      "|[http://geocities.com/krooyaimaha/ptld2902.htm, http://www.savika.org, Savika]                                              |\n",
      "+----------------------------------------------------------------------------------------------------------------------------+\n",
      "only showing top 10 rows\n",
      "\n"
     ]
    }
   ],
   "source": [
    "WebArchive(sc, sqlContext, \"/home/nruest/Projects/au/sample-data/geocities\")\\\n",
    "  .webpages()\\\n",
    "  .select(explode(extract_links(\"url\", \"content\")).alias(\"links\"))\\\n",
    "  .show(10, False)"
   ]
  },
  {
   "cell_type": "markdown",
   "metadata": {},
   "source": [
    "Demonstrate `extract_image_links()` UDF on the url and content columns."
   ]
  },
  {
   "cell_type": "code",
   "execution_count": 25,
   "metadata": {},
   "outputs": [
    {
     "name": "stdout",
     "output_type": "stream",
     "text": [
      "+---------------------------------------------------------------------------------------------+\n",
      "|image_links                                                                                  |\n",
      "+---------------------------------------------------------------------------------------------+\n",
      "|[http://geocities.com/heigl_2k/img/thumbs/?N=D, http://geocities.com/icons/blank.gif,      ] |\n",
      "|[http://geocities.com/heigl_2k/img/thumbs/?N=D, http://geocities.com/icons/back.gif, [DIR]]  |\n",
      "|[http://geocities.com/heigl_2k/img/thumbs/?N=D, http://geocities.com/icons/image2.gif, [IMG]]|\n",
      "|[http://geocities.com/heigl_2k/img/thumbs/?N=D, http://geocities.com/icons/image2.gif, [IMG]]|\n",
      "|[http://geocities.com/heigl_2k/img/thumbs/?N=D, http://geocities.com/icons/image2.gif, [IMG]]|\n",
      "|[http://geocities.com/heigl_2k/img/thumbs/?N=D, http://geocities.com/icons/image2.gif, [IMG]]|\n",
      "|[http://geocities.com/heigl_2k/img/thumbs/?N=D, http://geocities.com/icons/image2.gif, [IMG]]|\n",
      "|[http://geocities.com/heigl_2k/img/thumbs/?N=D, http://geocities.com/icons/image2.gif, [IMG]]|\n",
      "|[http://geocities.com/heigl_2k/img/thumbs/?N=D, http://geocities.com/icons/image2.gif, [IMG]]|\n",
      "|[http://geocities.com/heigl_2k/img/thumbs/?N=D, http://geocities.com/icons/image2.gif, [IMG]]|\n",
      "+---------------------------------------------------------------------------------------------+\n",
      "only showing top 10 rows\n",
      "\n"
     ]
    }
   ],
   "source": [
    "WebArchive(sc, sqlContext, \"/home/nruest/Projects/au/sample-data/geocities\")\\\n",
    "  .webpages()\\\n",
    "  .select(explode(extract_image_links(\"url\", \"content\")).alias(\"image_links\"))\\\n",
    "  .show(10, False)"
   ]
  },
  {
   "cell_type": "markdown",
   "metadata": {},
   "source": [
    "Select crawl date, domain, url, and language where the language is either Spanish or French."
   ]
  },
  {
   "cell_type": "code",
   "execution_count": 26,
   "metadata": {},
   "outputs": [
    {
     "name": "stdout",
     "output_type": "stream",
     "text": [
      "+----------+-----------------+--------------------+--------+\n",
      "|crawl_date|           domain|                 url|language|\n",
      "+----------+-----------------+--------------------+--------+\n",
      "|  20091027|    geocities.com|http://geocities....|      es|\n",
      "|  20091027|    geocities.com|http://geocities....|      es|\n",
      "|  20091027|    geocities.com|http://geocities....|      es|\n",
      "|  20091027|    geocities.com|http://geocities....|      es|\n",
      "|  20091027|    geocities.com|http://geocities....|      es|\n",
      "|  20091027|    geocities.com|http://geocities....|      es|\n",
      "|  20091027|    geocities.com|http://geocities....|      es|\n",
      "|  20091027|    geocities.com|http://geocities....|      fr|\n",
      "|  20091027|    geocities.com|http://geocities....|      es|\n",
      "|  20091027|    geocities.com|http://geocities....|      es|\n",
      "|  20091027|    geocities.com|http://geocities....|      fr|\n",
      "|  20091027|    geocities.com|http://geocities....|      es|\n",
      "|  20091027|www.geocities.com|http://www.geocit...|      fr|\n",
      "|  20091027|    geocities.com|http://geocities....|      fr|\n",
      "|  20091027|    geocities.com|http://geocities....|      es|\n",
      "|  20091027|    geocities.com|http://geocities....|      fr|\n",
      "|  20091027|    geocities.com|http://geocities....|      fr|\n",
      "|  20091027|    geocities.com|http://geocities....|      fr|\n",
      "|  20091027|    geocities.com|http://geocities....|      es|\n",
      "|  20091027|    geocities.com|http://geocities....|      es|\n",
      "|  20091027|    geocities.com|http://geocities....|      fr|\n",
      "|  20091027|    geocities.com|http://geocities....|      es|\n",
      "|  20091027|    geocities.com|http://geocities....|      es|\n",
      "|  20091027|    geocities.com|http://geocities....|      fr|\n",
      "|  20091027|    geocities.com|http://geocities....|      es|\n",
      "|  20091027|    geocities.com|http://geocities....|      es|\n",
      "|  20091027|    geocities.com|http://geocities....|      es|\n",
      "|  20091027|    geocities.com|http://geocities....|      es|\n",
      "|  20091027|www.geocities.com|http://www.geocit...|      es|\n",
      "|  20091027|    geocities.com|http://geocities....|      fr|\n",
      "|  20091027|    geocities.com|http://geocities....|      fr|\n",
      "|  20091027|    geocities.com|http://geocities....|      es|\n",
      "|  20091027|    geocities.com|http://geocities....|      es|\n",
      "|  20091027|www.geocities.com|http://www.geocit...|      es|\n",
      "|  20091027|    geocities.com|http://geocities....|      fr|\n",
      "|  20091027|    geocities.com|http://geocities....|      es|\n",
      "|  20091027|    geocities.com|http://geocities....|      es|\n",
      "|  20091027|    geocities.com|http://geocities....|      es|\n",
      "|  20091027|    geocities.com|http://geocities....|      es|\n",
      "|  20091027|    geocities.com|http://geocities....|      es|\n",
      "|  20091027|    geocities.com|http://geocities....|      fr|\n",
      "|  20091027|    geocities.com|http://geocities....|      es|\n",
      "|  20091027|    geocities.com|http://geocities....|      es|\n",
      "|  20091027|    geocities.com|http://geocities....|      es|\n",
      "|  20091027|    geocities.com|http://geocities....|      es|\n",
      "|  20091027|    geocities.com|http://geocities....|      es|\n",
      "|  20091027|    geocities.com|http://geocities....|      fr|\n",
      "|  20091027|    geocities.com|http://geocities....|      fr|\n",
      "|  20091027|    geocities.com|http://geocities....|      es|\n",
      "|  20091027|    geocities.com|http://geocities....|      fr|\n",
      "+----------+-----------------+--------------------+--------+\n",
      "only showing top 50 rows\n",
      "\n"
     ]
    }
   ],
   "source": [
    "languages = [\"es\", \"fr\"]\n",
    "\n",
    "WebArchive(sc, sqlContext, \"/home/nruest/Projects/au/sample-data/geocities\")\\\n",
    "  .webpages()\\\n",
    "  .filter(col(\"language\").isin(languages))\\\n",
    "  .select(\"crawl_date\", extract_domain(\"url\").alias(\"domain\"), \"url\", \"language\")\\\n",
    "  .show(50, True)"
   ]
  },
  {
   "cell_type": "markdown",
   "metadata": {},
   "source": [
    "Select crawl date, domain, url, and language where the language is *not* either Spanish or French."
   ]
  },
  {
   "cell_type": "code",
   "execution_count": 27,
   "metadata": {},
   "outputs": [
    {
     "name": "stdout",
     "output_type": "stream",
     "text": [
      "+----------+-----------------+--------------------+--------+\n",
      "|crawl_date|           domain|                 url|language|\n",
      "+----------+-----------------+--------------------+--------+\n",
      "|  20091027|    geocities.com|http://geocities....|      nl|\n",
      "|  20091027|    geocities.com|http://geocities....|      en|\n",
      "|  20091027|    geocities.com|http://geocities....|      en|\n",
      "|  20091027|    geocities.com|http://geocities....|      en|\n",
      "|  20091027|    geocities.com|http://geocities....|      en|\n",
      "|  20091027|    geocities.com|http://geocities....|      en|\n",
      "|  20091027|    geocities.com|http://geocities....|      hr|\n",
      "|  20091027|    geocities.com|http://geocities....|      en|\n",
      "|  20091027|    geocities.com|http://geocities....|      en|\n",
      "|  20091027|    geocities.com|http://geocities....|      en|\n",
      "|  20091027|    geocities.com|http://geocities....|      bn|\n",
      "|  20091027|    geocities.com|http://geocities....|      en|\n",
      "|  20091027|    geocities.com|http://geocities....|      en|\n",
      "|  20091027|    geocities.com|http://geocities....|      en|\n",
      "|  20091027|    geocities.com|http://geocities....|      en|\n",
      "|  20091027|    geocities.com|http://geocities....|      en|\n",
      "|  20091027|    geocities.com|http://geocities....|      en|\n",
      "|  20091027|    geocities.com|http://geocities....|      en|\n",
      "|  20091027|    geocities.com|http://geocities....|      en|\n",
      "|  20091027|    geocities.com|http://geocities....|      en|\n",
      "|  20091027|    geocities.com|http://geocities....|      tl|\n",
      "|  20091027|    geocities.com|http://geocities....|      en|\n",
      "|  20091027|www.geocities.com|http://www.geocit...|      en|\n",
      "|  20091027|    geocities.com|http://geocities....|      en|\n",
      "|  20091027|    geocities.com|http://geocities....|      en|\n",
      "|  20091027|    geocities.com|http://geocities....|      en|\n",
      "|  20091027|    geocities.com|http://geocities....|      en|\n",
      "|  20091027|    geocities.com|http://geocities....|      en|\n",
      "|  20091027|    geocities.com|http://geocities....|      en|\n",
      "|  20091027|    geocities.com|http://geocities....|      en|\n",
      "|  20091027|    geocities.com|http://geocities....|      tl|\n",
      "|  20091027|    geocities.com|http://geocities....|      en|\n",
      "|  20091027|    geocities.com|http://geocities....|      en|\n",
      "|  20091027|    geocities.com|http://geocities....|      so|\n",
      "|  20091027|    geocities.com|http://geocities....|      mt|\n",
      "|  20091027|    geocities.com|http://geocities....|      en|\n",
      "|  20091027|    geocities.com|http://geocities....|      en|\n",
      "|  20091027|    geocities.com|http://geocities....|      en|\n",
      "|  20091027|    geocities.com|http://geocities....|      en|\n",
      "|  20091027|    geocities.com|http://geocities....|      bn|\n",
      "|  20091027|    geocities.com|http://geocities....|      en|\n",
      "|  20091027|    geocities.com|http://geocities....|      en|\n",
      "|  20091027|    geocities.com|http://geocities....|      en|\n",
      "|  20091027|    geocities.com|http://geocities....|      en|\n",
      "|  20091027|    geocities.com|http://geocities....|      en|\n",
      "|  20091027|    geocities.com|http://geocities....|      sw|\n",
      "|  20091027|    geocities.com|http://geocities....|      en|\n",
      "|  20091027|    geocities.com|http://geocities....|      en|\n",
      "|  20091027|    geocities.com|http://geocities....|      en|\n",
      "|  20091027|    geocities.com|http://geocities....|      en|\n",
      "+----------+-----------------+--------------------+--------+\n",
      "only showing top 50 rows\n",
      "\n"
     ]
    }
   ],
   "source": [
    "languages = [\"es\", \"fr\"]\n",
    "\n",
    "WebArchive(sc, sqlContext, \"/home/nruest/Projects/au/sample-data/geocities\")\\\n",
    "  .webpages()\\\n",
    "  .filter(~col(\"language\").isin(languages))\\\n",
    "  .select(\"crawl_date\", extract_domain(\"url\").alias(\"domain\"), \"url\", \"language\")\\\n",
    "  .show(50, True)"
   ]
  },
  {
   "cell_type": "markdown",
   "metadata": {},
   "source": [
    "Select url, where the domain is *not* either www.archive.org, www.sloan.org."
   ]
  },
  {
   "cell_type": "code",
   "execution_count": 28,
   "metadata": {},
   "outputs": [
    {
     "name": "stdout",
     "output_type": "stream",
     "text": [
      "+-------------------------------------------------------------------------------------+\n",
      "|url                                                                                  |\n",
      "+-------------------------------------------------------------------------------------+\n",
      "|http://geocities.com/heigl_2k/img/thumbs/?N=D                                        |\n",
      "|http://geocities.com/~jask16/weapons/naval.html                                      |\n",
      "|http://geocities.com/Wellesley/4130/sur.html                                         |\n",
      "|http://geocities.com/kelsoonbutler/boardDocs/BoardMeetingMinutes_AGM_March12_2002.htm|\n",
      "|http://geocities.com/ianaxir/star_sapphire.htm                                       |\n",
      "|http://geocities.com/vandenfromcamden/LJPics/cat/                                    |\n",
      "|http://geocities.com/Wellesley/4130/eroica.html                                      |\n",
      "|http://geocities.com/kkrhythm/kyotei/photo/?M=A                                      |\n",
      "|http://geocities.com/guinncj/images/?D=A                                             |\n",
      "|http://geocities.com/docmarck2000/orientation.htm                                    |\n",
      "+-------------------------------------------------------------------------------------+\n",
      "only showing top 10 rows\n",
      "\n"
     ]
    }
   ],
   "source": [
    "domains = [\"www.archive.org\", \"www.sloan.org\"]\n",
    " \n",
    "WebArchive(sc, sqlContext, \"/home/nruest/Projects/au/sample-data/geocities\")\\\n",
    "  .webpages()\\\n",
    "  .select(\"url\")\\\n",
    "  .filter(~(extract_domain(\"url\").isin(domains)))\\\n",
    "  .show(10, False)"
   ]
  }
 ],
 "metadata": {
  "kernelspec": {
   "display_name": "Python 3",
   "language": "python",
   "name": "python3"
  },
  "language_info": {
   "codemirror_mode": {
    "name": "ipython",
    "version": 3
   },
   "file_extension": ".py",
   "mimetype": "text/x-python",
   "name": "python",
   "nbconvert_exporter": "python",
   "pygments_lexer": "ipython3",
   "version": "3.7.3"
  }
 },
 "nbformat": 4,
 "nbformat_minor": 2
}
