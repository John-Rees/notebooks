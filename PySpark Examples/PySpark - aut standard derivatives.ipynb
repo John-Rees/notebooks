{
 "cells": [
  {
   "cell_type": "code",
   "execution_count": 1,
   "metadata": {},
   "outputs": [],
   "source": [
    "from aut import *\n",
    "from pyspark.sql.functions import col, desc"
   ]
  },
  {
   "cell_type": "code",
   "execution_count": 2,
   "metadata": {},
   "outputs": [],
   "source": [
    "# Web archive collection; web pages.\n",
    "webpages = WebArchive(sc, sqlContext, \"/home/nruest/Projects/au/sample-data/geocities\").webpages()"
   ]
  },
  {
   "cell_type": "code",
   "execution_count": 3,
   "metadata": {},
   "outputs": [],
   "source": [
    "# Web archive collection; web graph.\n",
    "webgraph = WebArchive(sc, sqlContext, \"/home/nruest/Projects/au/sample-data/geocities\").webgraph()"
   ]
  },
  {
   "cell_type": "code",
   "execution_count": 4,
   "metadata": {},
   "outputs": [],
   "source": [
    "# Domains file.\n",
    "webpages.groupBy(remove_prefix_www(extract_domain(\"url\")).alias(\"url\"))\\\n",
    "  .count()\\\n",
    "  .sort(col(\"count\").desc())\\\n",
    "  .write.csv(\"all-domains\")"
   ]
  },
  {
   "cell_type": "code",
   "execution_count": 5,
   "metadata": {},
   "outputs": [],
   "source": [
    "# Full-text.\n",
    "webpages.select(\"crawl_date\", remove_prefix_www(extract_domain(\"url\")).alias(\"domain\"), \"url\", remove_html(remove_http_header(\"content\")).alias(\"content\"))\\\n",
    "  .write.csv(\"full-text\")"
   ]
  },
  {
   "cell_type": "code",
   "execution_count": 6,
   "metadata": {},
   "outputs": [],
   "source": [
    "# Create DataFrame for GraphML output\n",
    "graph = webgraph.groupBy(\"crawl_date\", remove_prefix_www(extract_domain(\"src\")).alias(\"src_domain\"), remove_prefix_www(extract_domain(\"dest\")).alias(\"dest_domain\"))\\\n",
    "          .count()\\\n",
    "          .filter((col(\"dest_domain\").isNotNull()) & (col(\"dest_domain\") !=\"\"))\\\n",
    "          .filter((col(\"src_domain\").isNotNull()) & (col(\"src_domain\") !=\"\"))\\\n",
    "          .filter(col(\"count\") > 5)\\\n",
    "          .orderBy(desc(\"count\"))"
   ]
  },
  {
   "cell_type": "code",
   "execution_count": 7,
   "metadata": {},
   "outputs": [],
   "source": [
    "# Write the GraphML out to a file.\n",
    "WriteGraphML(graph.collect(), \"test.graphml\")"
   ]
  },
  {
   "cell_type": "code",
   "execution_count": 8,
   "metadata": {},
   "outputs": [],
   "source": [
    "# Write the GEXF out to a file.\n",
    "\n",
    "# Not part of auk standard derivative process,\n",
    "# but apart of https://github.com/archivesunleashed/aut/pull/466 testing.\n",
    "\n",
    "WriteGEXF(graph.collect(), \"test.gexf\")"
   ]
  }
 ],
 "metadata": {
  "kernelspec": {
   "display_name": "Python 3",
   "language": "python",
   "name": "python3"
  },
  "language_info": {
   "codemirror_mode": {
    "name": "ipython",
    "version": 3
   },
   "file_extension": ".py",
   "mimetype": "text/x-python",
   "name": "python",
   "nbconvert_exporter": "python",
   "pygments_lexer": "ipython3",
   "version": "3.7.3"
  }
 },
 "nbformat": 4,
 "nbformat_minor": 2
}
