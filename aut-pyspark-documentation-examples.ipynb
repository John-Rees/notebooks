{
 "cells": [
  {
   "cell_type": "code",
   "execution_count": 1,
   "metadata": {},
   "outputs": [],
   "source": [
    "from aut import *\n",
    "from pyspark.sql.functions import col, desc, explode"
   ]
  },
  {
   "cell_type": "code",
   "execution_count": 2,
   "metadata": {},
   "outputs": [
    {
     "name": "stdout",
     "output_type": "stream",
     "text": [
      "+-----------------------------------------------------------------------------------+----------------+\n",
      "|url                                                                                |http_status_code|\n",
      "+-----------------------------------------------------------------------------------+----------------+\n",
      "|http://geocities.com/babiekaos/Links.html                                          |200             |\n",
      "|http://geocities.com/cloneaccount3/6490/                                           |200             |\n",
      "|http://www.geocities.com/coledale28/hi-power-soldiers-music.html                   |200             |\n",
      "|http://www.geocities.com/orvilleduncan811/12-day-of-christmas-sheet-music.html     |200             |\n",
      "|http://geocities.com/jtbm71/fotos/2000/                                            |200             |\n",
      "|http://geocities.com/cancmay/s/sunshine.html                                       |200             |\n",
      "|http://www.talent-direct.com/cgi-bin/tal_pro.cgi?profile=ARZCdYbJU5KsMARKdUxiO4l3DY|200             |\n",
      "|http://geocities.com/akimi919/sp_ph/?M=A                                           |200             |\n",
      "|http://geocities.com/cancmay/s/save-tonight.html                                   |200             |\n",
      "|http://www.geocities.com/orvilleduncan811/child-youth-elbow-knee-pad.html          |200             |\n",
      "+-----------------------------------------------------------------------------------+----------------+\n",
      "only showing top 10 rows\n",
      "\n"
     ]
    }
   ],
   "source": [
    "WebArchive(sc, sqlContext, \"/home/nruest/Projects/au/sample-data/geocities\")\\\n",
    "  .all()\\\n",
    "  .select(\"url\", \"http_status_code\")\\\n",
    "  .show(10, False)"
   ]
  },
  {
   "cell_type": "code",
   "execution_count": 3,
   "metadata": {},
   "outputs": [
    {
     "name": "stdout",
     "output_type": "stream",
     "text": [
      "+--------------------+--------------------+\n",
      "|                 url|    archive_filename|\n",
      "+--------------------+--------------------+\n",
      "|http://geocities....|file:/home/nruest...|\n",
      "|http://geocities....|file:/home/nruest...|\n",
      "|http://www.geocit...|file:/home/nruest...|\n",
      "|http://www.geocit...|file:/home/nruest...|\n",
      "|http://geocities....|file:/home/nruest...|\n",
      "|http://geocities....|file:/home/nruest...|\n",
      "|http://www.talent...|file:/home/nruest...|\n",
      "|http://geocities....|file:/home/nruest...|\n",
      "|http://geocities....|file:/home/nruest...|\n",
      "|http://www.geocit...|file:/home/nruest...|\n",
      "+--------------------+--------------------+\n",
      "only showing top 10 rows\n",
      "\n"
     ]
    }
   ],
   "source": [
    "WebArchive(sc, sqlContext, \"/home/nruest/Projects/au/sample-data/geocities\")\\\n",
    "  .all()\\\n",
    "  .select(\"url\", \"archive_filename\")\\\n",
    "  .show(10, True)"
   ]
  },
  {
   "cell_type": "code",
   "execution_count": 4,
   "metadata": {},
   "outputs": [
    {
     "name": "stdout",
     "output_type": "stream",
     "text": [
      "+-------------+---------------------+-----+\n",
      "|src          |dest                 |count|\n",
      "+-------------+---------------------+-----+\n",
      "|geocities.com|sushi.perfectdrug.net|1    |\n",
      "|geocities.com|eatsushi.com         |1    |\n",
      "|geocities.com|sushilinks.com       |1    |\n",
      "|geocities.com|sushifaq.com         |1    |\n",
      "+-------------+---------------------+-----+\n",
      "\n"
     ]
    }
   ],
   "source": [
    "url_pattern = \"%http://geocities.com/babiekaos/%\"\n",
    "\n",
    "WebArchive(sc, sqlContext, \"/home/nruest/Projects/au/sample-data/geocities\")\\\n",
    "  .webpages()\\\n",
    "  .filter(col(\"url\").like(url_pattern))\\\n",
    "  .select(explode(Udf.extract_links(\"url\", \"content\")).alias(\"links\"))\\\n",
    "  .select(Udf.remove_prefix_www(Udf.extract_domain(col(\"links._1\"))).alias(\"src\"), Udf.remove_prefix_www(Udf.extract_domain(col(\"links._2\"))).alias(\"dest\"))\\\n",
    "  .groupBy(\"src\", \"dest\")\\\n",
    "  .count()\\\n",
    "  .show(10, False)"
   ]
  },
  {
   "cell_type": "code",
   "execution_count": 5,
   "metadata": {},
   "outputs": [
    {
     "name": "stdout",
     "output_type": "stream",
     "text": [
      "+----------+-------------+--------------------+-----+\n",
      "|crawl_date|          src|                dest|count|\n",
      "+----------+-------------+--------------------+-----+\n",
      "|  20091027|geocities.com|             come.to|  142|\n",
      "|  20091027|geocities.com|        hotfiles.com|    8|\n",
      "|  20091027|geocities.com|           itv.co.th|   36|\n",
      "|  20091027|geocities.com|          nhacso.net|   10|\n",
      "|  20091027|geocities.com|   destinyschild.com|  134|\n",
      "|  20091027|geocities.com|           sciam.com|    6|\n",
      "|  20091027|geocities.com|            best.com|   26|\n",
      "|  20091027|geocities.com|    techlearning.com|    6|\n",
      "|  20091027|geocities.com|meltingpot.fortun...|   15|\n",
      "|  20091027|geocities.com|           tv3.co.th|  104|\n",
      "+----------+-------------+--------------------+-----+\n",
      "only showing top 10 rows\n",
      "\n"
     ]
    }
   ],
   "source": [
    "WebArchive(sc, sqlContext, \"/home/nruest/Projects/au/sample-data/geocities\")\\\n",
    "  .webgraph()\\\n",
    "  .groupBy(\"crawl_date\", Udf.remove_prefix_www(Udf.extract_domain(\"src\")).alias(\"src\"), Udf.remove_prefix_www(Udf.extract_domain(\"dest\")).alias(\"dest\"))\\\n",
    "  .count()\\\n",
    "  .filter(col(\"count\") > 5)\\\n",
    "  .show(10, True)"
   ]
  },
  {
   "cell_type": "code",
   "execution_count": 6,
   "metadata": {},
   "outputs": [
    {
     "name": "stdout",
     "output_type": "stream",
     "text": [
      "+----------+-----------------+--------------------+--------------------+\n",
      "|crawl_date|           domain|                 url|           conten  t|\n",
      "+----------+-----------------+--------------------+--------------------+\n",
      "|  20091027|www.geocities.com|http://www.geocit...|Hi Power Soldiers...|\n",
      "|  20091027|www.geocities.com|http://www.geocit...|12 Day Of Christm...|\n",
      "|  20091027|www.geocities.com|http://www.geocit...|Child Youth Elbow...|\n",
      "|  20091027|www.geocities.com|http://www.geocit...|Hiawatha Golf Cou...|\n",
      "|  20091027|www.geocities.com|http://www.geocit...|Hewlett Packard 6...|\n",
      "|  20091027|www.geocities.com|http://www.geocit...|Kelly Taphouse Ke...|\n",
      "|  20091027|www.geocities.com|http://www.geocit...|profile Name: Joe...|\n",
      "|  20091027|www.geocities.com|http://www.geocit...|Women Yeast Infec...|\n",
      "|  20091027|www.geocities.com|http://www.geocit...|Hi 5 Recycling Hi...|\n",
      "|  20091027|www.geocities.com|http://www.geocit...|Hazel Court: Auto...|\n",
      "|  20091027|www.geocities.com|http://www.geocit...|Ben Franklin And ...|\n",
      "|  20091027|www.geocities.com|http://www.geocit...|Hershey Theme Par...|\n",
      "|  20091027|www.geocities.com|http://www.geocit...|Hersheys Kisses A...|\n",
      "|  20091027|www.geocities.com|http://www.geocit...|news 6/1/2003 Fir...|\n",
      "|  20091027|www.geocities.com|http://www.geocit...|Hertz Trailor Ren...|\n",
      "|  20091027|www.geocities.com|http://www.geocit...|A True Friend - U...|\n",
      "|  20091027|www.geocities.com|http://www.geocit...|Hex Key With Pilo...|\n",
      "|  20091027|www.geocities.com|http://www.geocit...|Companhia Paulist...|\n",
      "|  20091027|www.geocities.com|http://www.geocit...|Heuer Trackmaster...|\n",
      "|  20091027|www.geocities.com|http://www.geocit...|Herringbone Hardw...|\n",
      "+----------+-----------------+--------------------+--------------------+\n",
      "only showing top 20 rows\n",
      "\n"
     ]
    }
   ],
   "source": [
    "domains = [\"www.geocities.com\"]\n",
    "\n",
    "WebArchive(sc, sqlContext, \"/home/nruest/Projects/au/sample-data/geocities\")\\\n",
    "  .webpages()\\\n",
    "  .select(\"crawl_date\", Udf.extract_domain(\"url\").alias(\"domain\"), \"url\", Udf.remove_html(Udf.remove_http_header(\"content\")).alias(\"conten  t\"))\\\n",
    "  .filter(col(\"domain\").isin(domains))\\\n",
    "  .show(20, True)"
   ]
  },
  {
   "cell_type": "code",
   "execution_count": 7,
   "metadata": {},
   "outputs": [
    {
     "name": "stdout",
     "output_type": "stream",
     "text": [
      "+----------+-------------+-----------------------------------------------------------+\n",
      "|crawl_date|domain       |url                                                        |\n",
      "+----------+-------------+-----------------------------------------------------------+\n",
      "|20091027  |geocities.com|http://geocities.com/cancmay/s/sunshine.html               |\n",
      "|20091027  |geocities.com|http://geocities.com/cancmay/s/save-tonight.html           |\n",
      "|20091027  |geocities.com|http://geocities.com/cancmay/s/so-far-away.html            |\n",
      "|20091027  |geocities.com|http://geocities.com/cancmay/s/sweet-georgia-brown.html    |\n",
      "|20091027  |geocities.com|http://geocities.com/cancmay/s/smoke-gets-in-your-eyes.html|\n",
      "|20091027  |geocities.com|http://geocities.com/cancmay/s/smooth-operator.html        |\n",
      "|20091027  |geocities.com|http://geocities.com/cancmay/s/stars.html                  |\n",
      "|20091027  |geocities.com|http://geocities.com/cancmay/s/stardust.html               |\n",
      "|20091027  |geocities.com|http://geocities.com/cancmay/s/so-much-in-love.html        |\n",
      "|20091027  |geocities.com|http://geocities.com/cancmay/s/?D=A                        |\n",
      "|20091027  |geocities.com|http://geocities.com/cancmay/s/sha-la-la.html              |\n",
      "|20091027  |geocities.com|http://geocities.com/cancmay/s/stupid-cupid.html           |\n",
      "|20091027  |geocities.com|http://geocities.com/cancmay/s/stand-by-me.html            |\n",
      "|20091027  |geocities.com|http://geocities.com/cancmay/s/sweet-home-alabama.html     |\n",
      "|20091027  |geocities.com|http://geocities.com/cancmay/s/she-s-the-one.html          |\n",
      "|20091027  |geocities.com|http://geocities.com/cancmay/s/she-bangs.html              |\n",
      "|20091027  |geocities.com|http://geocities.com/cancmay/s/sex-bomb.html               |\n",
      "|20091027  |geocities.com|http://geocities.com/cancmay/s/something-beautiful.html    |\n",
      "|20091027  |geocities.com|http://geocities.com/cancmay/s/sun-king.html               |\n",
      "|20091027  |geocities.com|http://geocities.com/cancmay/t/t.html                      |\n",
      "+----------+-------------+-----------------------------------------------------------+\n",
      "only showing top 20 rows\n",
      "\n"
     ]
    }
   ],
   "source": [
    "url_pattern = \"%http://geocities.com/cancmay%\"\n",
    "\n",
    "WebArchive(sc, sqlContext, \"/home/nruest/Projects/au/sample-data/geocities\")\\\n",
    "  .webpages()\\\n",
    "  .select(\"crawl_date\", Udf.extract_domain(\"url\").alias(\"domain\"), \"url\")\\\n",
    "  .filter(col(\"url\").like(url_pattern))\\\n",
    "  .show(20, False)"
   ]
  },
  {
   "cell_type": "code",
   "execution_count": 8,
   "metadata": {},
   "outputs": [
    {
     "name": "stdout",
     "output_type": "stream",
     "text": [
      "+----------+--------------------+--------------------+--------------------+\n",
      "|crawl_date|              domain|                 url|             content|\n",
      "+----------+--------------------+--------------------+--------------------+\n",
      "|  20091027|       geocities.com|http://geocities....|Sushi Land Sushi ...|\n",
      "|  20091027|       geocities.com|http://geocities....|Andrea Cruz Welco...|\n",
      "|  20091027|   www.geocities.com|http://www.geocit...|Hi Power Soldiers...|\n",
      "|  20091027|   www.geocities.com|http://www.geocit...|12 Day Of Christm...|\n",
      "|  20091027|       geocities.com|http://geocities....|Index of /jtbm71/...|\n",
      "|  20091027|       geocities.com|http://geocities....|sunshine CanCMay ...|\n",
      "|  20091027|www.talent-direct...|http://www.talent...|talent direct voi...|\n",
      "|  20091027|       geocities.com|http://geocities....|Index of /akimi91...|\n",
      "|  20091027|       geocities.com|http://geocities....|stardust CanCMay ...|\n",
      "|  20091027|   www.geocities.com|http://www.geocit...|Child Youth Elbow...|\n",
      "|  20091027|   www.geocities.com|http://www.geocit...|Hiawatha Golf Cou...|\n",
      "|  20091027|       geocities.com|http://geocities....|Index of /jtbm71/...|\n",
      "|  20091027|       geocities.com|http://geocities....|Earl Burley HELLO...|\n",
      "|  20091027|   www.geocities.com|http://www.geocit...|Hewlett Packard 6...|\n",
      "|  20091027|       geocities.com|http://geocities....|Sergers Sergers J...|\n",
      "|  20091027|       geocities.com|http://geocities....|Index of /jerrysi...|\n",
      "|  20091027|       geocities.com|http://geocities....|so far away CanCM...|\n",
      "|  20091027|       geocities.com|http://geocities....|Bj�rn Hoffmann Ho...|\n",
      "|  20091027|  www.infocastfn.com|http://www.infoca...|�Ѯ۶�(02007)�����§...|\n",
      "|  20091027|       geocities.com|http://geocities....|Index of /bujinka...|\n",
      "+----------+--------------------+--------------------+--------------------+\n",
      "only showing top 20 rows\n",
      "\n"
     ]
    }
   ],
   "source": [
    "dates = \"2009[10][09]\\d\\d\"\n",
    " \n",
    "WebArchive(sc, sqlContext, \"/home/nruest/Projects/au/sample-data/geocities\")\\\n",
    "  .webpages()\\\n",
    "  .select(\"crawl_date\", Udf.extract_domain(\"url\").alias(\"domain\"), \"url\", Udf.remove_html(Udf.remove_http_header(\"content\")).alias(\"content\"))\\\n",
    "  .filter(col(\"crawl_date\").rlike(dates))\\\n",
    "  .show(20, True)"
   ]
  },
  {
   "cell_type": "code",
   "execution_count": 9,
   "metadata": {},
   "outputs": [
    {
     "name": "stdout",
     "output_type": "stream",
     "text": [
      "+----------+-----------------+--------------------+--------------------+\n",
      "|crawl_date|           domain|                 url|             content|\n",
      "+----------+-----------------+--------------------+--------------------+\n",
      "|  20091027|www.geocities.com|http://www.geocit...|Hewlettpackard Sc...|\n",
      "|  20091027|    geocities.com|http://geocities....|Index of /the_mag...|\n",
      "|  20091027|www.geocities.com|http://www.geocit...|Women S Petite Pl...|\n",
      "|  20091027|    geocities.com|http://geocities....|dec2002 Nov 5th, ...|\n",
      "|  20091027|    geocities.com|http://geocities....|titlepagereaserch...|\n",
      "|  20091027|www.geocities.com|http://www.geocit...|Women S Sports Ap...|\n",
      "|  20091027|    geocities.com|http://geocities....|Index of /the_mag...|\n",
      "|  20091027|    geocities.com|http://geocities....|something beautif...|\n",
      "|  20091027|www.geocities.com|http://www.geocit...|Hewlett Packard C...|\n",
      "|  20091027|www.geocities.com|http://www.geocit...|Kelly Swain Kelly...|\n",
      "+----------+-----------------+--------------------+--------------------+\n",
      "only showing top 10 rows\n",
      "\n"
     ]
    }
   ],
   "source": [
    "content = \"%radio%\"\n",
    "\n",
    "WebArchive(sc, sqlContext, \"/home/nruest/Projects/au/sample-data/geocities\")\\\n",
    "  .webpages()\\\n",
    "  .select(\"crawl_date\", Udf.extract_domain(\"url\").alias(\"domain\"), \"url\", Udf.remove_html(Udf.remove_http_header(\"content\")).alias(\"content\"))\\\n",
    "  .filter(col(\"content\").like(content))\\\n",
    "  .show(10, True)"
   ]
  },
  {
   "cell_type": "code",
   "execution_count": 10,
   "metadata": {},
   "outputs": [
    {
     "name": "stdout",
     "output_type": "stream",
     "text": [
      "+----------+-----------------+--------------------+--------------------+\n",
      "|crawl_date|           domain|                 url|             content|\n",
      "+----------+-----------------+--------------------+--------------------+\n",
      "|  20091027|www.geocities.com|http://www.geocit...|lillielonnie Lill...|\n",
      "|  20091027|www.geocities.com|http://www.geocit...|lillielonnie2 Lil...|\n",
      "|  20091027|www.geocities.com|http://www.geocit...|29 janvier 2004 -...|\n",
      "|  20091027|www.geocities.com|http://www.geocit...|28 janvier 2004 -...|\n",
      "|  20091027|www.geocities.com|http://www.geocit...|31 janvier 2004 -...|\n",
      "|  20091027|www.geocities.com|http://www.geocit...|Lettre � mon amou...|\n",
      "|  20091027|www.geocities.com|http://www.geocit...|26 janvier 2004 -...|\n",
      "|  20091027|www.geocities.com|http://www.geocit...|19 janvier 2004 -...|\n",
      "|  20091027|www.geocities.com|http://www.geocit...|Samedi, le 17 jan...|\n",
      "|  20091027|www.geocities.com|http://www.geocit...|6 mai 2004 -- Jou...|\n",
      "|  20091027|www.geocities.com|http://www.geocit...|2 mai 2004 -- Jou...|\n",
      "|  20091027|www.geocities.com|http://www.geocit...|Journal de Wildth...|\n",
      "|  20091027|www.geocities.com|http://www.geocit...|29 mars 2004 -- J...|\n",
      "|  20091027|www.geocities.com|http://www.geocit...|Journal de Wildth...|\n",
      "|  20091027|www.geocities.com|http://www.geocit...|Journal de Wildth...|\n",
      "|  20091027|www.geocities.com|http://www.geocit...|19 mars 2004 -- J...|\n",
      "|  20091027|www.geocities.com|http://www.geocit...|Promesse <BGSOUND...|\n",
      "|  20091027|www.geocities.com|http://www.geocit...|3 janvier 2005 --...|\n",
      "|  20091027|www.geocities.com|http://www.geocit...|Wildthing99ca -- ...|\n",
      "|  20091027|www.geocities.com|http://www.geocit...|Dimanche, le 1er ...|\n",
      "+----------+-----------------+--------------------+--------------------+\n",
      "only showing top 20 rows\n",
      "\n"
     ]
    }
   ],
   "source": [
    "domains = [\"www.geocities.com\"]\n",
    "languages = [\"fr\"]\n",
    "\n",
    "WebArchive(sc, sqlContext, \"/home/nruest/Projects/au/sample-data/geocities\")\\\n",
    "  .webpages()\\\n",
    "  .select(\"crawl_date\", Udf.extract_domain(\"url\").alias(\"domain\"), \"url\", Udf.remove_html(Udf.remove_http_header(\"content\")).alias(\"content\"))\\\n",
    "  .filter(col(\"domain\").isin(domains))\\\n",
    "  .filter(col(\"language\").isin(languages))\\\n",
    "  .show(20, True)"
   ]
  },
  {
   "cell_type": "code",
   "execution_count": 11,
   "metadata": {},
   "outputs": [
    {
     "name": "stdout",
     "output_type": "stream",
     "text": [
      "+----------------+--------------------+-----+\n",
      "|             src|                dest|count|\n",
      "+----------------+--------------------+-----+\n",
      "|   geocities.com|     worldscouts.net|    6|\n",
      "|saibabalinks.org|    saibabalinks.org|   14|\n",
      "|   geocities.com|   service.bfast.com|   15|\n",
      "|   geocities.com|   idmg.blogspot.com|    9|\n",
      "|   geocities.com|       terravista.pt|   15|\n",
      "|   geocities.com| img.photobucket.com|   23|\n",
      "|   geocities.com|   privacy.yahoo.com|    6|\n",
      "|   geocities.com|free.hostdepartme...|   30|\n",
      "|   geocities.com|provincia.venezia.it|    6|\n",
      "|   geocities.com|dontkillspike.pro...|  573|\n",
      "+----------------+--------------------+-----+\n",
      "only showing top 10 rows\n",
      "\n"
     ]
    }
   ],
   "source": [
    "content = \"%radio%\"\n",
    "\n",
    "WebArchive(sc, sqlContext, \"/home/nruest/Projects/au/sample-data/geocities\")\\\n",
    "  .webpages()\\\n",
    "  .filter(col(\"content\").like(content))\\\n",
    "  .select(explode(Udf.extract_links(\"url\", \"content\")).alias(\"links\"))\\\n",
    "  .select(Udf.remove_prefix_www(Udf.extract_domain(col(\"links._1\"))).alias(\"src\"), Udf.remove_prefix_www(Udf.extract_domain(col(\"links._2\"))).alias(\"dest\"))\\\n",
    "  .groupBy(\"src\", \"dest\")\\\n",
    "  .count()\\\n",
    "  .filter(col(\"count\") > 5)\\\n",
    "  .show(10, True)"
   ]
  },
  {
   "cell_type": "code",
   "execution_count": 12,
   "metadata": {},
   "outputs": [
    {
     "name": "stdout",
     "output_type": "stream",
     "text": [
      "+-----------------+--------------------+-----+\n",
      "|         UDF(src)|           UDF(dest)|count|\n",
      "+-----------------+--------------------+-----+\n",
      "|    geocities.com|www.buyandselldb.com|16200|\n",
      "|    geocities.com| www.metroactive.com|    6|\n",
      "|www.geocities.com|     www.bigfoot.com|   10|\n",
      "|    geocities.com|  pub16.bravenet.com|   24|\n",
      "|    geocities.com|     worldscouts.net|    6|\n",
      "|    geocities.com|      www.disney.com|   12|\n",
      "|www.geocities.com|www.phenomenalwom...|   20|\n",
      "|    geocities.com|   service.bfast.com|  139|\n",
      "|www.geocities.com|         www.cdc.gov|    8|\n",
      "|    geocities.com|  hc2.humanclick.com|   11|\n",
      "+-----------------+--------------------+-----+\n",
      "only showing top 10 rows\n",
      "\n"
     ]
    }
   ],
   "source": [
    "WebArchive(sc, sqlContext, \"/home/nruest/Projects/au/sample-data/geocities\")\\\n",
    "  .webgraph()\\\n",
    "  .groupBy(Udf.extract_domain(\"src\"), Udf.extract_domain(\"dest\"))\\\n",
    "  .count()\\\n",
    "  .filter(col(\"count\") > 5)\\\n",
    "  .show(10, True)"
   ]
  },
  {
   "cell_type": "code",
   "execution_count": 13,
   "metadata": {},
   "outputs": [
    {
     "name": "stdout",
     "output_type": "stream",
     "text": [
      "+-----------------------------------------------------------------------------------+\n",
      "|url                                                                                |\n",
      "+-----------------------------------------------------------------------------------+\n",
      "|http://geocities.com/babiekaos/Links.html                                          |\n",
      "|http://geocities.com/cloneaccount3/6490/                                           |\n",
      "|http://www.geocities.com/coledale28/hi-power-soldiers-music.html                   |\n",
      "|http://www.geocities.com/orvilleduncan811/12-day-of-christmas-sheet-music.html     |\n",
      "|http://geocities.com/jtbm71/fotos/2000/                                            |\n",
      "|http://geocities.com/cancmay/s/sunshine.html                                       |\n",
      "|http://www.talent-direct.com/cgi-bin/tal_pro.cgi?profile=ARZCdYbJU5KsMARKdUxiO4l3DY|\n",
      "|http://geocities.com/akimi919/sp_ph/?M=A                                           |\n",
      "|http://geocities.com/cancmay/s/save-tonight.html                                   |\n",
      "|http://www.geocities.com/orvilleduncan811/child-youth-elbow-knee-pad.html          |\n",
      "+-----------------------------------------------------------------------------------+\n",
      "only showing top 10 rows\n",
      "\n"
     ]
    }
   ],
   "source": [
    "url_pattern = \"http://[^/]+/[^/]+/\"\n",
    "\n",
    "WebArchive(sc, sqlContext, \"/home/nruest/Projects/au/sample-data/geocities\")\\\n",
    "  .webpages()\\\n",
    "  .select(\"url\")\\\n",
    "  .filter(col(\"url\").rlike(url_pattern))\\\n",
    "  .show(10, False)\n"
   ]
  },
  {
   "cell_type": "code",
   "execution_count": 14,
   "metadata": {},
   "outputs": [
    {
     "name": "stdout",
     "output_type": "stream",
     "text": [
      "+---------------------------+-----+\n",
      "|Domain                     |count|\n",
      "+---------------------------+-----+\n",
      "|geocities.com              |93886|\n",
      "|www.geocities.com          |29223|\n",
      "|www.infocastfn.com         |430  |\n",
      "|rcm.amazon.com             |201  |\n",
      "|www.bagus.com              |133  |\n",
      "|www.globalimagegallery.com |130  |\n",
      "|www.physforum.com          |124  |\n",
      "|www.internetarchaeology.org|121  |\n",
      "|us.geocities.com           |121  |\n",
      "|www.spb.tvoe.tv            |108  |\n",
      "+---------------------------+-----+\n",
      "only showing top 10 rows\n",
      "\n"
     ]
    }
   ],
   "source": [
    "WebArchive(sc, sqlContext, \"/home/nruest/Projects/au/sample-data/geocities\")\\\n",
    "  .webpages()\\\n",
    "  .select(Udf.extract_domain(\"url\").alias(\"Domain\"))\\\n",
    "  .groupBy(\"Domain\")\\\n",
    "  .count()\\\n",
    "  .sort(desc(\"count\"))\\\n",
    "  .show(10, False)\n"
   ]
  },
  {
   "cell_type": "code",
   "execution_count": 15,
   "metadata": {},
   "outputs": [
    {
     "name": "stdout",
     "output_type": "stream",
     "text": [
      "+----------+--------------------+--------------------+--------------------+\n",
      "|crawl_date|              domain|                 url|             content|\n",
      "+----------+--------------------+--------------------+--------------------+\n",
      "|  20091027|       geocities.com|http://geocities....|Sushi Land Sushi ...|\n",
      "|  20091027|       geocities.com|http://geocities....|Andrea Cruz Welco...|\n",
      "|  20091027|   www.geocities.com|http://www.geocit...|Hi Power Soldiers...|\n",
      "|  20091027|   www.geocities.com|http://www.geocit...|12 Day Of Christm...|\n",
      "|  20091027|       geocities.com|http://geocities....|Index of /jtbm71/...|\n",
      "|  20091027|       geocities.com|http://geocities....|sunshine CanCMay ...|\n",
      "|  20091027|www.talent-direct...|http://www.talent...|talent direct voi...|\n",
      "|  20091027|       geocities.com|http://geocities....|Index of /akimi91...|\n",
      "|  20091027|       geocities.com|http://geocities....|stardust CanCMay ...|\n",
      "|  20091027|   www.geocities.com|http://www.geocit...|Child Youth Elbow...|\n",
      "+----------+--------------------+--------------------+--------------------+\n",
      "only showing top 10 rows\n",
      "\n"
     ]
    }
   ],
   "source": [
    "WebArchive(sc, sqlContext, \"/home/nruest/Projects/au/sample-data/geocities\")\\\n",
    "  .webpages()\\\n",
    "  .select(\"crawl_date\", Udf.extract_domain(\"url\").alias(\"domain\"), \"url\", Udf.remove_html(\"content\").alias(\"content\"))\\\n",
    "  .show(10, True)"
   ]
  },
  {
   "cell_type": "code",
   "execution_count": 16,
   "metadata": {},
   "outputs": [
    {
     "name": "stdout",
     "output_type": "stream",
     "text": [
      "+--------------------+\n",
      "|             content|\n",
      "+--------------------+\n",
      "|Sushi Land Sushi ...|\n",
      "|Andrea Cruz Welco...|\n",
      "|Hi Power Soldiers...|\n",
      "|12 Day Of Christm...|\n",
      "|Index of /jtbm71/...|\n",
      "|sunshine CanCMay ...|\n",
      "|talent direct voi...|\n",
      "|Index of /akimi91...|\n",
      "|stardust CanCMay ...|\n",
      "|Child Youth Elbow...|\n",
      "+--------------------+\n",
      "only showing top 10 rows\n",
      "\n"
     ]
    }
   ],
   "source": [
    "WebArchive(sc, sqlContext, \"/home/nruest/Projects/au/sample-data/geocities\")\\\n",
    "  .webpages()\\\n",
    "  .select(Udf.remove_html(Udf.remove_http_header(\"content\")).alias(\"content\"))\\\n",
    "  .show(10, True)"
   ]
  },
  {
   "cell_type": "code",
   "execution_count": 17,
   "metadata": {},
   "outputs": [
    {
     "name": "stdout",
     "output_type": "stream",
     "text": [
      "+----------+--------------------+--------------------+--------------------+\n",
      "|crawl_date|              domain|                 url|             content|\n",
      "+----------+--------------------+--------------------+--------------------+\n",
      "|  20091027|       geocities.com|http://geocities....|Sushi Land Sushi ...|\n",
      "|  20091027|       geocities.com|http://geocities....|Andrea Cruz Welco...|\n",
      "|  20091027|   www.geocities.com|http://www.geocit...|Hi Power Soldiers...|\n",
      "|  20091027|   www.geocities.com|http://www.geocit...|12 Day Of Christm...|\n",
      "|  20091027|       geocities.com|http://geocities....|Index of /jtbm71/...|\n",
      "|  20091027|       geocities.com|http://geocities....|sunshine CanCMay ...|\n",
      "|  20091027|www.talent-direct...|http://www.talent...|talent direct voi...|\n",
      "|  20091027|       geocities.com|http://geocities....|Index of /akimi91...|\n",
      "|  20091027|       geocities.com|http://geocities....|stardust CanCMay ...|\n",
      "|  20091027|   www.geocities.com|http://www.geocit...|Child Youth Elbow...|\n",
      "+----------+--------------------+--------------------+--------------------+\n",
      "only showing top 10 rows\n",
      "\n"
     ]
    }
   ],
   "source": [
    "WebArchive(sc, sqlContext, \"/home/nruest/Projects/au/sample-data/geocities\")\\\n",
    "  .webpages()\\\n",
    "  .select(\"crawl_date\", Udf.extract_domain(\"url\").alias(\"domain\"), \"url\", Udf.remove_html(Udf.remove_http_header(\"content\")).alias(\"content\"))\\\n",
    "  .show(10, True)"
   ]
  },
  {
   "cell_type": "code",
   "execution_count": 18,
   "metadata": {},
   "outputs": [
    {
     "name": "stdout",
     "output_type": "stream",
     "text": [
      "+----------+--------------------+--------------------+--------------------+\n",
      "|crawl_date|              domain|                 url|             content|\n",
      "+----------+--------------------+--------------------+--------------------+\n",
      "|  20091027|       geocities.com|http://geocities....|Nori (seaweed) wa...|\n",
      "|  20091027|       geocities.com|http://geocities....| This site is about:|\n",
      "|  20091027|   www.geocities.com|http://www.geocit...|Hi Power Soldiers...|\n",
      "|  20091027|   www.geocities.com|http://www.geocit...|12 Day Of Christm...|\n",
      "|  20091027|       geocities.com|http://geocities....|                    |\n",
      "|  20091027|       geocities.com|http://geocities....|CanCMay Sunshine ...|\n",
      "|  20091027|www.talent-direct...|http://www.talent...|                    |\n",
      "|  20091027|       geocities.com|http://geocities....|                    |\n",
      "|  20091027|       geocities.com|http://geocities....|Save Tonight Mind...|\n",
      "|  20091027|   www.geocities.com|http://www.geocit...|Child Youth Elbow...|\n",
      "+----------+--------------------+--------------------+--------------------+\n",
      "only showing top 10 rows\n",
      "\n"
     ]
    }
   ],
   "source": [
    "WebArchive(sc, sqlContext, \"/home/nruest/Projects/au/sample-data/geocities\")\\\n",
    "  .webpages()\\\n",
    "  .select(\"crawl_date\", Udf.extract_domain(\"url\").alias(\"domain\"), \"url\", Udf.extract_boilerplate(Udf.remove_http_header(\"content\")).alias(\"content\"))\\\n",
    "  .show(10, True)"
   ]
  },
  {
   "cell_type": "code",
   "execution_count": 19,
   "metadata": {},
   "outputs": [
    {
     "name": "stdout",
     "output_type": "stream",
     "text": [
      "+----------+--------------------+--------------------+--------------------+\n",
      "|crawl_date|              domain|                 url|             content|\n",
      "+----------+--------------------+--------------------+--------------------+\n",
      "|  20091027|       geocities.com|http://geocities....|\r\n",
      "<html>\r\n",
      "\r\n",
      "<head...|\n",
      "|  20091027|       geocities.com|http://geocities....|<html><head><titl...|\n",
      "|  20091027|   www.geocities.com|http://www.geocit...|<html>\r\n",
      "\r\n",
      "<head>\r",
      "...|\n",
      "|  20091027|   www.geocities.com|http://www.geocit...|<html>\r\n",
      "\r\n",
      "<head>\r",
      "...|\n",
      "|  20091027|       geocities.com|http://geocities....|<!DOCTYPE HTML PU...|\n",
      "|  20091027|       geocities.com|http://geocities....|<html>\r\n",
      "<head><ti...|\n",
      "|  20091027|www.talent-direct...|http://www.talent...|\r\n",
      "\r\n",
      "<!DOCTYPE htm...|\n",
      "|  20091027|       geocities.com|http://geocities....|<!DOCTYPE HTML PU...|\n",
      "|  20091027|       geocities.com|http://geocities....|<html>\r\n",
      "<head><ti...|\n",
      "|  20091027|   www.geocities.com|http://www.geocit...|<html>\r\n",
      "\r\n",
      "<head>\r",
      "...|\n",
      "+----------+--------------------+--------------------+--------------------+\n",
      "only showing top 10 rows\n",
      "\n"
     ]
    }
   ],
   "source": [
    "WebArchive(sc, sqlContext, \"/home/nruest/Projects/au/sample-data/geocities\")\\\n",
    "  .webpages()\\\n",
    "  .select(\"crawl_date\", Udf.extract_domain(\"url\").alias(\"domain\"), \"url\", Udf.remove_http_header(\"content\").alias(\"content\"))\\\n",
    "  .show(10, True)"
   ]
  },
  {
   "cell_type": "code",
   "execution_count": 20,
   "metadata": {},
   "outputs": [
    {
     "name": "stdout",
     "output_type": "stream",
     "text": [
      "+--------------------+--------------------+--------------------+--------------------+--------------+------+-----+\n",
      "|            udf_sha1|                sha1|             udf_md5|                 md5|udf_image_size|height|width|\n",
      "+--------------------+--------------------+--------------------+--------------------+--------------+------+-----+\n",
      "|99d74a3b4fbd6d7cd...|9ca2bc31550f9369e...|ce1b5ab3e51fd9f6b...|ce4c718e925105232...|        [0, 0]|   432|  288|\n",
      "|245b94c90eac0dcd9...|ff0467d8d2cbc5d50...|9b8909a52d94b6d17...|f6b631a4db5f4c7a3...|        [0, 0]|   103| 1200|\n",
      "|cd19e4e7e2dd9e090...|faa81452f0c19b304...|a97c139a3a31467ae...|4f59788bde58d15d5...|        [0, 0]|     1|    1|\n",
      "|fd5eb52badba72a29...|0720946d3ced04976...|83ca84887072a62b9...|2677171223600bf34...|        [0, 0]|   480| 1050|\n",
      "|9333370d1f79af66c...|f9aa611fc62b735c3...|586628aaae7e0076a...|0a089830419a5c0ed...|        [0, 0]|   315|  217|\n",
      "|676b4a596a901024a...|5bb4bf5dfe39520a3...|dcec4d3ffac515f73...|a0210969ba9fac53a...|        [0, 0]|   156|  136|\n",
      "|4c99aa50462f84723...|b8a56b4dc015bdcc2...|fb51b7a1e1c25dc87...|c7d81ae036f502cf3...|        [0, 0]|    32|  200|\n",
      "|2bd92aea1b6370079...|0075394d3de702d27...|ad30253c36cb51e8a...|835fa6581c493ad15...|        [0, 0]|    60|  600|\n",
      "|86a7bcceae53c92b6...|2d99c303d7e8ca75f...|00628da87d6300e7c...|0134e45aca6297e8c...|        [0, 0]|    36|  140|\n",
      "|c5fa5c7c1a897f136...|429e3558e2b579426...|f9411618cf0a1c858...|a7b85484410cde43e...|        [0, 0]|   640|  480|\n",
      "+--------------------+--------------------+--------------------+--------------------+--------------+------+-----+\n",
      "only showing top 10 rows\n",
      "\n"
     ]
    }
   ],
   "source": [
    "WebArchive(sc, sqlContext, \"/home/nruest/Projects/au/sample-data/geocities\")\\\n",
    "  .images()\\\n",
    "  .select(Udf.compute_sha1(\"bytes\").alias(\"udf_sha1\"), \"sha1\", Udf.compute_md5(\"bytes\").alias(\"udf_md5\"), \"md5\", Udf.compute_image_size(\"bytes\").alias(\"udf_image_size\"), \"height\", \"width\")\\\n",
    "  .show(10, True)"
   ]
  },
  {
   "cell_type": "code",
   "execution_count": 21,
   "metadata": {},
   "outputs": [
    {
     "name": "stdout",
     "output_type": "stream",
     "text": [
      "+----------+------------+--------+\n",
      "|crawl_date|udf_language|language|\n",
      "+----------+------------+--------+\n",
      "|  20091027|          en|      en|\n",
      "|  20091027|          en|      en|\n",
      "|  20091027|          en|      en|\n",
      "|  20091027|          en|      en|\n",
      "|  20091027|          en|      en|\n",
      "|  20091027|          en|      en|\n",
      "|  20091027|          en|      en|\n",
      "|  20091027|          en|      ms|\n",
      "|  20091027|          en|      en|\n",
      "|  20091027|          en|      en|\n",
      "+----------+------------+--------+\n",
      "only showing top 10 rows\n",
      "\n"
     ]
    }
   ],
   "source": [
    "WebArchive(sc, sqlContext, \"/home/nruest/Projects/au/sample-data/geocities\")\\\n",
    "  .webpages()\\\n",
    "  .select(\"crawl_date\", Udf.detect_language(\"content\").alias(\"udf_language\"), \"language\")\\\n",
    "  .show(10, True)"
   ]
  },
  {
   "cell_type": "code",
   "execution_count": 22,
   "metadata": {},
   "outputs": [
    {
     "name": "stdout",
     "output_type": "stream",
     "text": [
      "+----------+--------------------+--------------------+\n",
      "|crawl_date|            udf_tika|      mime_type_tika|\n",
      "+----------+--------------------+--------------------+\n",
      "|  20091027|           text/html|           text/html|\n",
      "|  20091027|           text/html|           text/html|\n",
      "|  20091027|           text/html|           text/html|\n",
      "|  20091027|           text/html|           text/html|\n",
      "|  20091027|           text/html|           text/html|\n",
      "|  20091027|           text/html|           text/html|\n",
      "|  20091027|application/xhtml...|application/xhtml...|\n",
      "|  20091027|           text/html|           text/html|\n",
      "|  20091027|           text/html|           text/html|\n",
      "|  20091027|           text/html|           text/html|\n",
      "+----------+--------------------+--------------------+\n",
      "only showing top 10 rows\n",
      "\n"
     ]
    }
   ],
   "source": [
    "WebArchive(sc, sqlContext, \"/home/nruest/Projects/au/sample-data/geocities\")\\\n",
    "  .all()\\\n",
    "  .select(\"crawl_date\", Udf.detect_mime_type_tika(\"bytes\").alias(\"udf_tika\"), \"mime_type_tika\")\\\n",
    "  .show(10, True)"
   ]
  },
  {
   "cell_type": "code",
   "execution_count": 23,
   "metadata": {},
   "outputs": [
    {
     "name": "stdout",
     "output_type": "stream",
     "text": [
      "+-------------------------------------------------------------------------------------------------------------------------------------------------------------------------------------------------------------------+\n",
      "|links                                                                                                                                                                                                              |\n",
      "+-------------------------------------------------------------------------------------------------------------------------------------------------------------------------------------------------------------------+\n",
      "|[http://geocities.com/babiekaos/Links.html, http://www.sushilinks.com, Sushi Links]                                                                                                                                |\n",
      "|[http://geocities.com/babiekaos/Links.html, http://www.eatsushi.com, Eat Sushi]                                                                                                                                    |\n",
      "|[http://geocities.com/babiekaos/Links.html, http://www.sushifaq.com, Sushi FAQ]                                                                                                                                    |\n",
      "|[http://geocities.com/babiekaos/Links.html, http://sushi.perfectdrug.net, Can't Get Enough: The Official Sushi Fanlisting]                                                                                         |\n",
      "|[http://www.geocities.com/coledale28/hi-power-soldiers-music.html, http://www.geocities.com/kaywoodward17/hirsh-feed-wagon.html, Hirsh feed wagon]                                                                 |\n",
      "|[http://www.geocities.com/coledale28/hi-power-soldiers-music.html, http://www.geocities.com/robinhorn15/hold-harmless-agreement-example.html, Hold harmless agreement example]                                     |\n",
      "|[http://www.geocities.com/coledale28/hi-power-soldiers-music.html, http://www.geocities.com/jenniejacobson06/high-speed-internet-service-work-from-home-jobs.html, High speed internet service work from home jobs]|\n",
      "|[http://www.geocities.com/coledale28/hi-power-soldiers-music.html, http://www.geocities.com/williamsparks38/house-of-hair-dee-snider.html, House of hair dee snider]                                               |\n",
      "|[http://www.geocities.com/coledale28/hi-power-soldiers-music.html, http://www.geocities.com/williamsparks38/house-numbers-in-script.html, House numbers in script]                                                 |\n",
      "|[http://www.geocities.com/coledale28/hi-power-soldiers-music.html, http://www.geocities.com/ramongraham60/herbal-remedies-to-reduce-uric-acid-levels.html, Herbal remedies to reduce uric acid levels]             |\n",
      "+-------------------------------------------------------------------------------------------------------------------------------------------------------------------------------------------------------------------+\n",
      "only showing top 10 rows\n",
      "\n"
     ]
    }
   ],
   "source": [
    "WebArchive(sc, sqlContext, \"/home/nruest/Projects/au/sample-data/geocities\")\\\n",
    "  .webpages()\\\n",
    "  .select(explode(Udf.extract_links(\"url\", \"content\")).alias(\"links\"))\\\n",
    "  .show(10, False)"
   ]
  },
  {
   "cell_type": "code",
   "execution_count": 24,
   "metadata": {},
   "outputs": [
    {
     "name": "stdout",
     "output_type": "stream",
     "text": [
      "+---------------------------------------------------------------------------------------------------------------------------------------------------+\n",
      "|image_links                                                                                                                                        |\n",
      "+---------------------------------------------------------------------------------------------------------------------------------------------------+\n",
      "|[http://geocities.com/babiekaos/Links.html, http://geocities.com/babiekaos/PiX/sushi-index.jpg, ]                                                  |\n",
      "|[http://geocities.com/babiekaos/Links.html, file:/E|/WEB%20Stuff/templates/137/spaceline.gif, ]                                                    |\n",
      "|[http://geocities.com/babiekaos/Links.html, http://visit.geocities.yahoo.com/visit.gif?us1256654020, setstats]                                     |\n",
      "|[http://geocities.com/babiekaos/Links.html, http://geo.yahoo.com/serv?s=76001079&t=1256654020&f=us-w8, 1]                                          |\n",
      "|[http://geocities.com/cloneaccount3/6490/, http://sctc.runners.net//images/usatf.gif, ]                                                            |\n",
      "|[http://geocities.com/cloneaccount3/6490/, http://visit.geocities.yahoo.com/visit.gif?us1256654020, setstats]                                      |\n",
      "|[http://geocities.com/cloneaccount3/6490/, http://geo.yahoo.com/serv?s=76001064&t=1256654020&f=us-w2, 1]                                           |\n",
      "|[http://www.geocities.com/coledale28/hi-power-soldiers-music.html, http://visit.geocities.yahoo.com/visit.gif?us1256654020, setstats]              |\n",
      "|[http://www.geocities.com/coledale28/hi-power-soldiers-music.html, http://geo.yahoo.com/serv?s=76001548&t=1256654020&f=us-w3, 1]                   |\n",
      "|[http://www.geocities.com/orvilleduncan811/12-day-of-christmas-sheet-music.html, http://visit.geocities.yahoo.com/visit.gif?us1256654020, setstats]|\n",
      "+---------------------------------------------------------------------------------------------------------------------------------------------------+\n",
      "only showing top 10 rows\n",
      "\n"
     ]
    }
   ],
   "source": [
    "WebArchive(sc, sqlContext, \"/home/nruest/Projects/au/sample-data/geocities\")\\\n",
    "  .webpages()\\\n",
    "  .select(explode(Udf.extract_image_links(\"url\", \"content\")).alias(\"image_links\"))\\\n",
    "  .show(10, False)"
   ]
  },
  {
   "cell_type": "code",
   "execution_count": 25,
   "metadata": {},
   "outputs": [
    {
     "name": "stdout",
     "output_type": "stream",
     "text": [
      "+----------+-----------------+--------------------+--------+\n",
      "|crawl_date|           domain|                 url|language|\n",
      "+----------+-----------------+--------------------+--------+\n",
      "|  20091027|    geocities.com|http://geocities....|      es|\n",
      "|  20091027|    geocities.com|http://geocities....|      es|\n",
      "|  20091027|    geocities.com|http://geocities....|      es|\n",
      "|  20091027|www.geocities.com|http://www.geocit...|      es|\n",
      "|  20091027|www.geocities.com|http://www.geocit...|      es|\n",
      "|  20091027|www.geocities.com|http://www.geocit...|      es|\n",
      "|  20091027|    geocities.com|http://geocities....|      fr|\n",
      "|  20091027|    geocities.com|http://geocities....|      es|\n",
      "|  20091027|www.geocities.com|http://www.geocit...|      es|\n",
      "|  20091027|www.geocities.com|http://www.geocit...|      es|\n",
      "|  20091027|    geocities.com|http://geocities....|      fr|\n",
      "|  20091027|    geocities.com|http://geocities....|      es|\n",
      "|  20091027|    geocities.com|http://geocities....|      fr|\n",
      "|  20091027|    geocities.com|http://geocities....|      es|\n",
      "|  20091027|    geocities.com|http://geocities....|      es|\n",
      "|  20091027|    geocities.com|http://geocities....|      es|\n",
      "|  20091027|    geocities.com|http://geocities....|      es|\n",
      "|  20091027|    geocities.com|http://geocities....|      es|\n",
      "|  20091027|    geocities.com|http://geocities....|      es|\n",
      "|  20091027|    geocities.com|http://geocities....|      es|\n",
      "|  20091027|    geocities.com|http://geocities....|      es|\n",
      "|  20091027|    geocities.com|http://geocities....|      es|\n",
      "|  20091027|    geocities.com|http://geocities....|      es|\n",
      "|  20091027|    geocities.com|http://geocities....|      es|\n",
      "|  20091027|    geocities.com|http://geocities....|      es|\n",
      "|  20091027|    geocities.com|http://geocities....|      es|\n",
      "|  20091027|    geocities.com|http://geocities....|      es|\n",
      "|  20091027|    geocities.com|http://geocities....|      es|\n",
      "|  20091027|    geocities.com|http://geocities....|      es|\n",
      "|  20091027|    geocities.com|http://geocities....|      fr|\n",
      "|  20091027|    geocities.com|http://geocities....|      es|\n",
      "|  20091027|    geocities.com|http://geocities....|      es|\n",
      "|  20091027|    geocities.com|http://geocities....|      es|\n",
      "|  20091027|    geocities.com|http://geocities....|      es|\n",
      "|  20091027|    geocities.com|http://geocities....|      es|\n",
      "|  20091027|    geocities.com|http://geocities....|      es|\n",
      "|  20091027|    geocities.com|http://geocities....|      es|\n",
      "|  20091027|    geocities.com|http://geocities....|      es|\n",
      "|  20091027|    geocities.com|http://geocities....|      es|\n",
      "|  20091027|    geocities.com|http://geocities....|      es|\n",
      "|  20091027|    geocities.com|http://geocities....|      fr|\n",
      "|  20091027|    geocities.com|http://geocities....|      es|\n",
      "|  20091027|    geocities.com|http://geocities....|      fr|\n",
      "|  20091027|    geocities.com|http://geocities....|      fr|\n",
      "|  20091027|    geocities.com|http://geocities....|      es|\n",
      "|  20091027|    geocities.com|http://geocities....|      es|\n",
      "|  20091027|    geocities.com|http://geocities....|      es|\n",
      "|  20091027|    geocities.com|http://geocities....|      es|\n",
      "|  20091027|    geocities.com|http://geocities....|      fr|\n",
      "|  20091027|    geocities.com|http://geocities....|      es|\n",
      "+----------+-----------------+--------------------+--------+\n",
      "only showing top 50 rows\n",
      "\n"
     ]
    }
   ],
   "source": [
    "languages = [\"es\", \"fr\"]\n",
    "\n",
    "WebArchive(sc, sqlContext, \"/home/nruest/Projects/au/sample-data/geocities\")\\\n",
    "  .webpages()\\\n",
    "  .filter(col(\"language\").isin(languages))\\\n",
    "  .select(\"crawl_date\", Udf.extract_domain(\"url\").alias(\"domain\"), \"url\", \"language\")\\\n",
    "  .show(50, True)"
   ]
  },
  {
   "cell_type": "code",
   "execution_count": 26,
   "metadata": {},
   "outputs": [
    {
     "name": "stdout",
     "output_type": "stream",
     "text": [
      "+----------+--------------------+--------------------+--------+\n",
      "|crawl_date|              domain|                 url|language|\n",
      "+----------+--------------------+--------------------+--------+\n",
      "|  20091027|       geocities.com|http://geocities....|      en|\n",
      "|  20091027|       geocities.com|http://geocities....|      en|\n",
      "|  20091027|   www.geocities.com|http://www.geocit...|      en|\n",
      "|  20091027|   www.geocities.com|http://www.geocit...|      en|\n",
      "|  20091027|       geocities.com|http://geocities....|      en|\n",
      "|  20091027|       geocities.com|http://geocities....|      en|\n",
      "|  20091027|www.talent-direct...|http://www.talent...|      en|\n",
      "|  20091027|       geocities.com|http://geocities....|      ms|\n",
      "|  20091027|       geocities.com|http://geocities....|      en|\n",
      "|  20091027|   www.geocities.com|http://www.geocit...|      en|\n",
      "|  20091027|   www.geocities.com|http://www.geocit...|      en|\n",
      "|  20091027|       geocities.com|http://geocities....|      en|\n",
      "|  20091027|       geocities.com|http://geocities....|      en|\n",
      "|  20091027|   www.geocities.com|http://www.geocit...|      en|\n",
      "|  20091027|       geocities.com|http://geocities....|      en|\n",
      "|  20091027|       geocities.com|http://geocities....|      en|\n",
      "|  20091027|       geocities.com|http://geocities....|      en|\n",
      "|  20091027|       geocities.com|http://geocities....|      en|\n",
      "|  20091027|  www.infocastfn.com|http://www.infoca...|      en|\n",
      "|  20091027|       geocities.com|http://geocities....|      en|\n",
      "|  20091027|   www.geocities.com|http://www.geocit...|      en|\n",
      "|  20091027|       geocities.com|http://geocities....|      en|\n",
      "|  20091027|       geocities.com|http://geocities....|      en|\n",
      "|  20091027|       geocities.com|http://geocities....|      id|\n",
      "|  20091027|       geocities.com|http://geocities....|      en|\n",
      "|  20091027|   www.geocities.com|http://www.geocit...|      en|\n",
      "|  20091027|       geocities.com|http://geocities....|      en|\n",
      "|  20091027|       geocities.com|http://geocities....|      en|\n",
      "|  20091027|       geocities.com|http://geocities....|      so|\n",
      "|  20091027|       geocities.com|http://geocities....|      en|\n",
      "|  20091027|       geocities.com|http://geocities....|      en|\n",
      "|  20091027|       geocities.com|http://geocities....|      en|\n",
      "|  20091027|       geocities.com|http://geocities....|      en|\n",
      "|  20091027|       geocities.com|http://geocities....|      en|\n",
      "|  20091027|   www.geocities.com|http://www.geocit...|      en|\n",
      "|  20091027|       geocities.com|http://geocities....|      de|\n",
      "|  20091027|       geocities.com|http://geocities....|      en|\n",
      "|  20091027|   www.geocities.com|http://www.geocit...|      en|\n",
      "|  20091027|   www.geocities.com|http://www.geocit...|      en|\n",
      "|  20091027|       geocities.com|http://geocities....|      en|\n",
      "|  20091027|       geocities.com|http://geocities....|      en|\n",
      "|  20091027|       geocities.com|http://geocities....|      de|\n",
      "|  20091027|       geocities.com|http://geocities....|      en|\n",
      "|  20091027|       geocities.com|http://geocities....|      en|\n",
      "|  20091027|   www.geocities.com|http://www.geocit...|      en|\n",
      "|  20091027|       geocities.com|http://geocities....|      en|\n",
      "|  20091027|       geocities.com|http://geocities....|      en|\n",
      "|  20091027|       geocities.com|http://geocities....|      en|\n",
      "|  20091027|   www.geocities.com|http://www.geocit...|      en|\n",
      "|  20091027|       geocities.com|http://geocities....|      en|\n",
      "+----------+--------------------+--------------------+--------+\n",
      "only showing top 50 rows\n",
      "\n"
     ]
    }
   ],
   "source": [
    "languages = [\"es\", \"fr\"]\n",
    "\n",
    "WebArchive(sc, sqlContext, \"/home/nruest/Projects/au/sample-data/geocities\")\\\n",
    "  .webpages()\\\n",
    "  .filter(~col(\"language\").isin(languages))\\\n",
    "  .select(\"crawl_date\", Udf.extract_domain(\"url\").alias(\"domain\"), \"url\", \"language\")\\\n",
    "  .show(50, True)"
   ]
  }
 ],
 "metadata": {
  "kernelspec": {
   "display_name": "Python 3",
   "language": "python",
   "name": "python3"
  },
  "language_info": {
   "codemirror_mode": {
    "name": "ipython",
    "version": 3
   },
   "file_extension": ".py",
   "mimetype": "text/x-python",
   "name": "python",
   "nbconvert_exporter": "python",
   "pygments_lexer": "ipython3",
   "version": "3.7.3"
  }
 },
 "nbformat": 4,
 "nbformat_minor": 2
}
