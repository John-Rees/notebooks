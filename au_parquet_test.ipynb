{
  "nbformat": 4,
  "nbformat_minor": 0,
  "metadata": {
    "colab": {
      "name": "au-parquet-test.ipynb",
      "provenance": [],
      "include_colab_link": true
    },
    "kernelspec": {
      "name": "python3",
      "display_name": "Python 3"
    }
  },
  "cells": [
    {
      "cell_type": "markdown",
      "metadata": {
        "id": "view-in-github",
        "colab_type": "text"
      },
      "source": [
        "<a href=\"https://colab.research.google.com/github/archivesunleashed/notebooks/blob/master/au_parquet_test.ipynb\" target=\"_parent\"><img src=\"https://colab.research.google.com/assets/colab-badge.svg\" alt=\"Open In Colab\"/></a>"
      ]
    },
    {
      "cell_type": "markdown",
      "metadata": {
        "id": "EN0gajhr7pKd",
        "colab_type": "text"
      },
      "source": [
        "# Working with Archives Unleashed Parquet Derivatives\n",
        "\n",
        "In this notebook, we'll setup an enviroment, then load nine different DataFrames to experiment with.\n",
        "\n",
        "**[Binary Analysis](https://github.com/archivesunleashed/aut/wiki/Bleeding-Edge#list-of-domains)**\n",
        "- [Audio](https://github.com/archivesunleashed/aut-docs-new/blob/master/current/binary-analysis.md#Extract-Audio-Information)\n",
        "- [Images](https://github.com/archivesunleashed/aut-docs-new/blob/master/current/image-analysis.md#Extract-Image-information)\n",
        "- [PDFs](https://github.com/archivesunleashed/aut-docs-new/blob/master/current/binary-analysis.md#Extract-PDF-Information)\n",
        "- [Presentation program files](https://github.com/archivesunleashed/aut-docs-new/blob/master/current/binary-analysis.md#Extract-Presentation-Program-Files-Information)\n",
        "- [Spreadsheets](https://github.com/archivesunleashed/aut-docs-new/blob/master/current/binary-analysis.md#Extract-Spreadsheet-Information)\n",
        "- [Videos](https://github.com/archivesunleashed/aut-docs-new/blob/master/current/binary-analysis.md#Extract-Video-Information)\n",
        "- [Word processor files](hhttps://github.com/archivesunleashed/aut-docs-new/blob/master/current/binary-analysis.md#Extract-Word-Processor-Files-Information)\n",
        "\n",
        "**[Hyperlink Network](https://github.com/archivesunleashed/aut/wiki/Bleeding-Edge#hyperlink-network)**\n",
        "\n",
        "**[List of Domains](https://github.com/archivesunleashed/aut/wiki/Bleeding-Edge#list-of-domains)**"
      ]
    },
    {
      "cell_type": "markdown",
      "metadata": {
        "id": "Xe60G-E4wpVQ",
        "colab_type": "text"
      },
      "source": [
        "# Setup Dependencies\n",
        "\n",
        "First we'll need to setup Java, Apache Spark, and PySpark bindings"
      ]
    },
    {
      "cell_type": "code",
      "metadata": {
        "id": "tH4OBlJuwoPT",
        "colab_type": "code",
        "colab": {}
      },
      "source": [
        "%%capture\n",
        "\n",
        "!apt-get update\n",
        "!apt-get install -y openjdk-8-jdk-headless -qq \n",
        "!apt-get install maven -qq\n",
        "\n",
        "!curl -L \"https://archive.apache.org/dist/spark/spark-2.4.4/spark-2.4.4-bin-hadoop2.7.tgz\" > spark-2.4.4-bin-hadoop2.7.tgz\n",
        "!tar -xvf spark-2.4.4-bin-hadoop2.7.tgz\n",
        "!pip install -q findspark"
      ],
      "execution_count": 0,
      "outputs": []
    },
    {
      "cell_type": "markdown",
      "metadata": {
        "id": "OctPUqrG-K2W",
        "colab_type": "text"
      },
      "source": [
        "# Dataset\n",
        "\n",
        "Next, we'll download a dataset to work with. This once comes from Bibliothèque et Archives nationales du Québec. It is Parquet output of the Ministry of Environment of Québec (2011-2014) web archives processed by the Archives Unleashed Toolkit."
      ]
    },
    {
      "cell_type": "code",
      "metadata": {
        "id": "m3FRzjAYyPid",
        "colab_type": "code",
        "colab": {}
      },
      "source": [
        "%%capture\n",
        "\n",
        "!curl -L \"http://cloud.archivesunleashed.org/environment-qc-parquet.tar.gz\" > environment-qc-parquet.tar.gz\n",
        "!mkdir dataset\n",
        "!tar -xzvf environment-qc-parquet.tar.gz"
      ],
      "execution_count": 0,
      "outputs": []
    },
    {
      "cell_type": "markdown",
      "metadata": {
        "id": "mBY44Iq8_ABQ",
        "colab_type": "text"
      },
      "source": [
        "# Environment\n",
        "\n",
        "Next, we'll setup our environment so we can work with the Parquet output in PySpark."
      ]
    },
    {
      "cell_type": "code",
      "metadata": {
        "id": "VADCvbw40GcB",
        "colab_type": "code",
        "colab": {}
      },
      "source": [
        "import os\n",
        "os.environ[\"JAVA_HOME\"] = \"/usr/lib/jvm/java-8-openjdk-amd64\"\n",
        "os.environ[\"SPARK_HOME\"] = \"/content/spark-2.4.4-bin-hadoop2.7\""
      ],
      "execution_count": 0,
      "outputs": []
    },
    {
      "cell_type": "code",
      "metadata": {
        "id": "iIVq4Ii70PRZ",
        "colab_type": "code",
        "colab": {}
      },
      "source": [
        "import findspark\n",
        "findspark.init()\n",
        "from pyspark.sql import SparkSession\n",
        "spark = SparkSession.builder.master(\"local[*]\").getOrCreate()"
      ],
      "execution_count": 0,
      "outputs": []
    },
    {
      "cell_type": "markdown",
      "metadata": {
        "id": "oFAFb2X3_VJC",
        "colab_type": "text"
      },
      "source": [
        "# Datasets\n",
        "\n",
        "Next, we'll load up our datasets to work with, and show a preview of each."
      ]
    },
    {
      "cell_type": "code",
      "metadata": {
        "id": "GhE_Vhv8Awkx",
        "colab_type": "code",
        "outputId": "8ebde956-10e7-4cad-ad0a-ffcdc223694c",
        "colab": {
          "base_uri": "https://localhost:8080/",
          "height": 495
        }
      },
      "source": [
        "dataset_audio = spark.read.parquet(\"parquet/audio\")\n",
        "dataset_audio.show()"
      ],
      "execution_count": 0,
      "outputs": [
        {
          "output_type": "stream",
          "text": [
            "+--------------------+--------------------+---------+--------------------+--------------+--------------------+\n",
            "|                 url|            filename|extension|mime_type_web_server|mime_type_tika|                 md5|\n",
            "+--------------------+--------------------+---------+--------------------+--------------+--------------------+\n",
            "|http://www.mddep....|connaissances-eau...|      mp3|          audio/mpeg|    audio/mpeg|f1f9bd2570b2eef6b...|\n",
            "|http://www.ragedu...| operation-raton.wmv|      wma|      video/x-ms-wmv|audio/x-ms-wma|4e5763994a906b6aa...|\n",
            "|http://www.ragedu...| operation-raton.wmv|      wma|      video/x-ms-wmv|audio/x-ms-wma|4e5763994a906b6aa...|\n",
            "|http://www.ragedu...| operation-raton.wmv|      wma|      video/x-ms-wmv|audio/x-ms-wma|4e5763994a906b6aa...|\n",
            "|http://www.ragedu...| operation-raton.wmv|      wma|      video/x-ms-wmv|audio/x-ms-wma|4e5763994a906b6aa...|\n",
            "|http://www.deficl...|110314%20Steven%2...|      mp3|          audio/mpeg|    audio/mpeg|b6722993460210738...|\n",
            "|http://mddefp.gou...|         sound12.mp3|      mp3|          audio/mpeg|    audio/mpeg|ba98a036d4cd5247c...|\n",
            "|http://mddefp.gou...|         sound10.mp3|      mp3|          audio/mpeg|    audio/mpeg|aaf15e8806b3eeaca...|\n",
            "|http://mddefp.gou...|          sound5.mp3|      mp3|          audio/mpeg|    audio/mpeg|6d2b4d1d053f44821...|\n",
            "|http://mddefp.gou...|          sound2.mp3|      mp3|          audio/mpeg|    audio/mpeg|da46cf8d0365356fb...|\n",
            "|http://mddefp.gou...|          sound1.mp3|      mp3|          audio/mpeg|    audio/mpeg|1bf52c90d08205fc2...|\n",
            "|http://mddefp.gou...|          sound9.mp3|      mp3|          audio/mpeg|    audio/mpeg|d6553b89ea0bf6f1b...|\n",
            "|http://mddefp.gou...|          sound3.mp3|      mp3|          audio/mpeg|    audio/mpeg|969fe73c8ab88f460...|\n",
            "|http://mddefp.gou...|          sound4.mp3|      mp3|          audio/mpeg|    audio/mpeg|7b2c7534bbcd88f0e...|\n",
            "|http://mddefp.gou...|          sound6.mp3|      mp3|          audio/mpeg|    audio/mpeg|f5cf3398ad215d07f...|\n",
            "|http://mddefp.gou...|          sound8.mp3|      mp3|          audio/mpeg|    audio/mpeg|532ad8f4844c30eda...|\n",
            "|http://mddefp.gou...|          sound7.mp3|      mp3|          audio/mpeg|    audio/mpeg|5e26dff0e6845e9eb...|\n",
            "|http://mddefp.gou...|         sound37.mp3|      mp3|          audio/mpeg|    audio/mpeg|8a1622ad14174ce35...|\n",
            "|http://mddefp.gou...|         sound12.mp3|      mp3|          audio/mpeg|    audio/mpeg|966a91c032b7b63e1...|\n",
            "|http://mddefp.gou...|         sound22.mp3|      mp3|          audio/mpeg|    audio/mpeg|5f78e440dc84557ce...|\n",
            "+--------------------+--------------------+---------+--------------------+--------------+--------------------+\n",
            "only showing top 20 rows\n",
            "\n"
          ],
          "name": "stdout"
        }
      ]
    },
    {
      "cell_type": "code",
      "metadata": {
        "id": "391wgSogBErB",
        "colab_type": "code",
        "outputId": "36bf3484-2c14-44b4-ef50-c6b93db2a4ac",
        "colab": {
          "base_uri": "https://localhost:8080/",
          "height": 495
        }
      },
      "source": [
        "dataset_domains =  spark.read.parquet(\"parquet/domains\")\n",
        "dataset_domains.show()"
      ],
      "execution_count": 0,
      "outputs": [
        {
          "output_type": "stream",
          "text": [
            "+--------------------+-----+\n",
            "|              Domain|count|\n",
            "+--------------------+-----+\n",
            "|www.rechargeonsla...|    1|\n",
            "|ville.waterloo.qc.ca|    1|\n",
            "|        uclouvain.be|    1|\n",
            "|  static.addinto.com|    1|\n",
            "|    cbks0.google.com|    1|\n",
            "|  www.crt.gouv.qc.ca|    1|\n",
            "|       www.bdrvm.com|    1|\n",
            "|  www.csf.gouv.qc.ca|    1|\n",
            "|www.jeroenwijerin...|    1|\n",
            "|www.capitale.gouv...|    1|\n",
            "|www.senv.mddep.go...|    1|\n",
            "|     swdlp.apple.com|    1|\n",
            "|          fmv.fcm.ca|    1|\n",
            "|           oaq.qc.ca|    1|\n",
            "|      www.flickr.com|    1|\n",
            "|cache.addthiscdn.com|    1|\n",
            "|       www.google.ca|    1|\n",
            "|        web.undp.org|    1|\n",
            "|www.conseilinterc...|    1|\n",
            "| www.cspq.gouv.qc.ca|    1|\n",
            "+--------------------+-----+\n",
            "only showing top 20 rows\n",
            "\n"
          ],
          "name": "stdout"
        }
      ]
    },
    {
      "cell_type": "code",
      "metadata": {
        "id": "9AyNdmNoAk4z",
        "colab_type": "code",
        "outputId": "60094ce8-a18f-4b36-b562-1436501aeacc",
        "colab": {
          "base_uri": "https://localhost:8080/",
          "height": 495
        }
      },
      "source": [
        "dataset_images = spark.read.parquet(\"parquet/images\")\n",
        "dataset_images.show()"
      ],
      "execution_count": 0,
      "outputs": [
        {
          "output_type": "stream",
          "text": [
            "+--------------------+--------------------+---------+--------------------+--------------+-----+------+--------------------+\n",
            "|                 url|            filename|extension|mime_type_web_server|mime_type_tika|width|height|                 md5|\n",
            "+--------------------+--------------------+---------+--------------------+--------------+-----+------+--------------------+\n",
            "|https://ws.sharet...|    flipboard_16.png|      png|           image/png|     image/png|   32|    32|c7ecde5871b0582fe...|\n",
            "|http://www.cehq.g...|        X0002538.jpg|      jpg|          image/jpeg|    image/jpeg|  300|   225|c7eae700de547012d...|\n",
            "|http://mddefp.gou...|Tmoy_classificati...|      jpg|          image/jpeg|    image/jpeg|  100|    76|c7de8ec7c6e221260...|\n",
            "|http://www.cehq.g...|        X0002669.jpg|      jpg|          image/jpeg|    image/jpeg|  300|   225|c7d04c884ece4d1a4...|\n",
            "|http://www.fetede...|  peche-plus-1-g.jpg|      jpg|          image/jpeg|    image/jpeg| 2000|  2997|c7cf4673777dba8ba...|\n",
            "|http://www.deficl...|115-LUCILLE-TEASD...|      jpg|          image/jpeg|    image/jpeg|  300|    84|c7ce43c8cf4adc700...|\n",
            "|http://www.enviro...|1713-carte-planet...|      jpg|          image/jpeg|    image/jpeg|  800|   400|c7c2443075d8a64a7...|\n",
            "|http://www.cehq.g...|        X0001068.jpg|      jpg|          image/jpeg|    image/jpeg|  300|   225|c7c130575b5d1b040...|\n",
            "|http://mddefp.gou...|     1601-carte1.jpg|      jpg|          image/jpeg|    image/jpeg|  576|   407|c7c06fcc2dccdd34f...|\n",
            "|http://mddefp.gou...| 0402-fondeuse-p.jpg|      jpg|          image/jpeg|    image/jpeg|  100|    74|c7bd51f341e4c9e2e...|\n",
            "|http://www.mddep....| 0402-fondeuse-p.jpg|      jpg|          image/jpeg|    image/jpeg|  100|    74|c7bd51f341e4c9e2e...|\n",
            "|http://www.mddefp...| 0402-fondeuse-p.jpg|      jpg|          image/jpeg|    image/jpeg|  100|    74|c7bd51f341e4c9e2e...|\n",
            "|http://mddep.gouv...| 0402-fondeuse-p.jpg|      jpg|          image/jpeg|    image/jpeg|  100|    74|c7bd51f341e4c9e2e...|\n",
            "|http://mddep.gouv...| 0402-fondeuse-p.jpg|      jpg|          image/jpeg|    image/jpeg|  100|    74|c7bd51f341e4c9e2e...|\n",
            "|http://www.mddefp...| 0402-fondeuse-p.jpg|      jpg|          image/jpeg|    image/jpeg|  100|    74|c7bd51f341e4c9e2e...|\n",
            "|http://www.mddefp...| 0402-fondeuse-p.jpg|      jpg|          image/jpeg|    image/jpeg|  100|    74|c7bd51f341e4c9e2e...|\n",
            "|http://mddep.gouv...| 0402-fondeuse-p.jpg|      jpg|          image/jpeg|    image/jpeg|  100|    74|c7bd51f341e4c9e2e...|\n",
            "|http://mddefp.gou...| 0402-fondeuse-p.jpg|      jpg|          image/jpeg|    image/jpeg|  100|    74|c7bd51f341e4c9e2e...|\n",
            "|http://www.mddep....| 0402-fondeuse-p.jpg|      jpg|          image/jpeg|    image/jpeg|  100|    74|c7bd51f341e4c9e2e...|\n",
            "|http://www.mddefp...| 0402-fondeuse-p.jpg|      jpg|          image/jpeg|    image/jpeg|  100|    74|c7bd51f341e4c9e2e...|\n",
            "+--------------------+--------------------+---------+--------------------+--------------+-----+------+--------------------+\n",
            "only showing top 20 rows\n",
            "\n"
          ],
          "name": "stdout"
        }
      ]
    },
    {
      "cell_type": "code",
      "metadata": {
        "id": "hL5Qg_N6BMgZ",
        "colab_type": "code",
        "outputId": "ae65b643-2030-4dd0-a3e5-ff6a3091fc53",
        "colab": {
          "base_uri": "https://localhost:8080/",
          "height": 495
        }
      },
      "source": [
        "dataset_network = spark.read.parquet(\"parquet/network\")\n",
        "dataset_network.show()"
      ],
      "execution_count": 0,
      "outputs": [
        {
          "output_type": "stream",
          "text": [
            "+-----------------+--------------------+-----+\n",
            "|        SrcDomain|          DestDomain|count|\n",
            "+-----------------+--------------------+-----+\n",
            "|mddefp.gouv.qc.ca|            oies.com|    5|\n",
            "|mddefp.gouv.qc.ca|          unicef.org|    9|\n",
            "|mddefp.gouv.qc.ca|conseildelafedera...|   75|\n",
            "|mddefp.gouv.qc.ca|       covabar.qc.ca|   20|\n",
            "|mddefp.gouv.qc.ca|            obvm.org|   10|\n",
            "|mddefp.gouv.qc.ca|             loc.gov|    8|\n",
            "|mddefp.gouv.qc.ca|            stm.info|    1|\n",
            "|mddefp.gouv.qc.ca|budget.finances.g...|   38|\n",
            "|mddefp.gouv.qc.ca|corridorappalachi...|   17|\n",
            "|mddefp.gouv.qc.ca|   saint-adolphe.org|   10|\n",
            "|mddefp.gouv.qc.ca|          statcan.ca|   10|\n",
            "|mddefp.gouv.qc.ca|iqa.mddelcc.gouv....|    2|\n",
            "|mddefp.gouv.qc.ca|     bibliotheque.qc|    1|\n",
            "|mddefp.gouv.qc.ca|foruminondations2...|    2|\n",
            "|mddefp.gouv.qc.ca|          ciraig.org|    2|\n",
            "|mddefp.gouv.qc.ca|fondationdelafaun...|  223|\n",
            "|mddefp.gouv.qc.ca|especesenperil.gc.ca|   18|\n",
            "|mddefp.gouv.qc.ca|      cai.gouv.qc.ca|   51|\n",
            "|mddefp.gouv.qc.ca|reperenet.mddep.g...|    8|\n",
            "|mddefp.gouv.qc.ca|        rangifer.net|   16|\n",
            "+-----------------+--------------------+-----+\n",
            "only showing top 20 rows\n",
            "\n"
          ],
          "name": "stdout"
        }
      ]
    },
    {
      "cell_type": "code",
      "metadata": {
        "id": "72HXIj_rBuEL",
        "colab_type": "code",
        "outputId": "870ace35-98f7-4722-c349-5b105c3de795",
        "colab": {
          "base_uri": "https://localhost:8080/",
          "height": 495
        }
      },
      "source": [
        "dataset_pdfs = spark.read.parquet(\"parquet/pdf\")\n",
        "dataset_pdfs.show()"
      ],
      "execution_count": 0,
      "outputs": [
        {
          "output_type": "stream",
          "text": [
            "+--------------------+--------------------+---------+--------------------+---------------+--------------------+\n",
            "|                 url|            filename|extension|mime_type_web_server| mime_type_tika|                 md5|\n",
            "+--------------------+--------------------+---------+--------------------+---------------+--------------------+\n",
            "|http://mddefp.gou...|Wildlife_sanctuar...|      pdf|     application/pdf|application/pdf|345f2269c7a747aac...|\n",
            "|http://mddefp.gou...|Wildlife_sanctuar...|      pdf|     application/pdf|application/pdf|345f2269c7a747aac...|\n",
            "|http://www.mddep....|Wildlife_sanctuar...|      pdf|     application/pdf|application/pdf|345f2269c7a747aac...|\n",
            "|http://www.mddefp...|Wildlife_sanctuar...|      pdf|     application/pdf|application/pdf|345f2269c7a747aac...|\n",
            "|http://www.mddep....|Wildlife_sanctuar...|      pdf|     application/pdf|application/pdf|345f2269c7a747aac...|\n",
            "|http://www.mddep....|Wildlife_sanctuar...|      pdf|     application/pdf|application/pdf|345f2269c7a747aac...|\n",
            "|http://www.mddefp...|Wildlife_sanctuar...|      pdf|     application/pdf|application/pdf|345f2269c7a747aac...|\n",
            "|http://www.mddep....|Wildlife_sanctuar...|      pdf|     application/pdf|application/pdf|345f2269c7a747aac...|\n",
            "|http://www.mddefp...|Wildlife_sanctuar...|      pdf|     application/pdf|application/pdf|345f2269c7a747aac...|\n",
            "|http://www.mddep....|Wildlife_sanctuar...|      pdf|     application/pdf|application/pdf|345f2269c7a747aac...|\n",
            "|http://www.mddelc...|Carte_RB_DunesAtt...|      pdf|     application/pdf|application/pdf|345eafe75e5a8b8c2...|\n",
            "|http://mddefp.gou...|Carte_RB_DunesAtt...|      pdf|     application/pdf|application/pdf|345eafe75e5a8b8c2...|\n",
            "|http://www.enviro...|        Centrale.pdf|      pdf|     application/pdf|application/pdf|3453de01bda3bfef6...|\n",
            "|http://www.mddefp...|3215-14-007-20110...|      pdf|     application/pdf|application/pdf|3451c37e4c05f7368...|\n",
            "|http://mddep.gouv...|3215-14-007-20110...|      pdf|     application/pdf|application/pdf|3451c37e4c05f7368...|\n",
            "|http://mddep.gouv...|3215-14-007-20110...|      pdf|     application/pdf|application/pdf|3451c37e4c05f7368...|\n",
            "|http://www.mddefp...|3215-14-007-20110...|      pdf|     application/pdf|application/pdf|3451c37e4c05f7368...|\n",
            "|http://www.mddefp...|3215-14-007-20110...|      pdf|     application/pdf|application/pdf|3451c37e4c05f7368...|\n",
            "|http://mddep.gouv...|3215-14-007-20110...|      pdf|     application/pdf|application/pdf|3451c37e4c05f7368...|\n",
            "|http://mddep.gouv...|3215-14-007-20110...|      pdf|     application/pdf|application/pdf|3451c37e4c05f7368...|\n",
            "+--------------------+--------------------+---------+--------------------+---------------+--------------------+\n",
            "only showing top 20 rows\n",
            "\n"
          ],
          "name": "stdout"
        }
      ]
    },
    {
      "cell_type": "code",
      "metadata": {
        "id": "tbiJTSeLBu-1",
        "colab_type": "code",
        "outputId": "69a3fb3f-79e3-462a-e158-9ca47b1a8eee",
        "colab": {
          "base_uri": "https://localhost:8080/",
          "height": 495
        }
      },
      "source": [
        "dataset_presentation_program = spark.read.parquet(\"parquet/presentation_program\")\n",
        "dataset_presentation_program.show()"
      ],
      "execution_count": 0,
      "outputs": [
        {
          "output_type": "stream",
          "text": [
            "+--------------------+--------------------+---------+--------------------+--------------------+--------------------+\n",
            "|                 url|            filename|extension|mime_type_web_server|      mime_type_tika|                 md5|\n",
            "+--------------------+--------------------+---------+--------------------+--------------------+--------------------+\n",
            "|http://www.enviro...|           JEAP.pptx|     pptx|application/vnd.o...|application/vnd.o...|c3cf8193a17007d48...|\n",
            "|http://www.mddefp...|phosphore-abitibi...|      ppt|application/vnd.m...|application/vnd.m...|f355c8d364bbd7c69...|\n",
            "|http://www.mddep....|phosphore-abitibi...|      ppt|application/vnd.m...|application/vnd.m...|f355c8d364bbd7c69...|\n",
            "|http://mddep.gouv...|phosphore-abitibi...|      ppt|application/vnd.m...|application/vnd.m...|f355c8d364bbd7c69...|\n",
            "|http://www.mddefp...|phosphore-abitibi...|      ppt|application/vnd.m...|application/vnd.m...|f355c8d364bbd7c69...|\n",
            "|http://mddep.gouv...|phosphore-abitibi...|      ppt|application/vnd.m...|application/vnd.m...|f355c8d364bbd7c69...|\n",
            "|http://www.mddefp...|phosphore-abitibi...|      ppt|application/vnd.m...|application/vnd.m...|f355c8d364bbd7c69...|\n",
            "|http://mddep.gouv...|phosphore-abitibi...|      ppt|application/vnd.m...|application/vnd.m...|f355c8d364bbd7c69...|\n",
            "|http://www.mddefp...|phosphore-abitibi...|      ppt|application/vnd.m...|application/vnd.m...|f355c8d364bbd7c69...|\n",
            "|http://www.mddefp...|phosphore-abitibi...|      ppt|application/vnd.m...|application/vnd.m...|f355c8d364bbd7c69...|\n",
            "|http://www.mddep....|phosphore-abitibi...|      ppt|application/vnd.m...|application/vnd.m...|f355c8d364bbd7c69...|\n",
            "|http://www.mddefp...|phosphore-abitibi...|      ppt|application/vnd.m...|application/vnd.m...|f355c8d364bbd7c69...|\n",
            "|http://www.mddep....|phosphore-abitibi...|      ppt|application/vnd.m...|application/vnd.m...|f355c8d364bbd7c69...|\n",
            "|http://www.mddefp...|phosphore-abitibi...|      ppt|application/vnd.m...|application/vnd.m...|f355c8d364bbd7c69...|\n",
            "|http://www.mddep....|phosphore-abitibi...|      ppt|application/vnd.m...|application/vnd.m...|f355c8d364bbd7c69...|\n",
            "|http://www.mddefp...|phosphore-abitibi...|      ppt|application/vnd.m...|application/vnd.m...|f355c8d364bbd7c69...|\n",
            "|http://www.mddep....|phosphore-abitibi...|      ppt|application/vnd.m...|application/vnd.m...|f355c8d364bbd7c69...|\n",
            "|http://www.mddelc...|phosphore-abitibi...|      ppt|application/vnd.m...|application/vnd.m...|f355c8d364bbd7c69...|\n",
            "|http://www.mddelc...|phosphore-abitibi...|      ppt|application/vnd.m...|application/vnd.m...|f355c8d364bbd7c69...|\n",
            "|http://www.mddelc...|phosphore-abitibi...|      ppt|application/vnd.m...|application/vnd.m...|f355c8d364bbd7c69...|\n",
            "+--------------------+--------------------+---------+--------------------+--------------------+--------------------+\n",
            "only showing top 20 rows\n",
            "\n"
          ],
          "name": "stdout"
        }
      ]
    },
    {
      "cell_type": "code",
      "metadata": {
        "id": "SF0ncrhbBxND",
        "colab_type": "code",
        "outputId": "bb87901a-ae3e-4fa8-aa0b-dc013929f242",
        "colab": {
          "base_uri": "https://localhost:8080/",
          "height": 495
        }
      },
      "source": [
        "dataset_spreadsheets = spark.read.parquet(\"parquet/spreadsheets\")\n",
        "dataset_spreadsheets.show()"
      ],
      "execution_count": 0,
      "outputs": [
        {
          "output_type": "stream",
          "text": [
            "+--------------------+--------------------+---------+--------------------+--------------------+--------------------+\n",
            "|                 url|            filename|extension|mime_type_web_server|      mime_type_tika|                 md5|\n",
            "+--------------------+--------------------+---------+--------------------+--------------------+--------------------+\n",
            "|http://mddefp.gou...|liste-etablisseme...|     xlsx|application/vnd.o...|application/vnd.o...|2aa0b7c4f741a13ac...|\n",
            "|http://mddefp.gou...|30-3-2-adaptation...|     xlsm|application/vnd.m...|application/vnd.m...|b962130c2b1c169fe...|\n",
            "|http://mddefp.gou...|17-1-ecocamionnag...|     xlsx|application/vnd.o...|application/vnd.o...|5dc7c1910bcd8af6c...|\n",
            "|http://mddefp.gou...|9-3-financement-m...|     xlsm|application/vnd.m...|application/vnd.m...|35259010efa4b4a7d...|\n",
            "|http://mddefp.gou...|    14-7-PIEVAL.xlsm|     xlsm|application/vnd.m...|application/vnd.m...|3520b8cdafd7c500e...|\n",
            "|http://mddefp.gou...|ge-4-gestion-inte...|     xlsm|application/vnd.m...|application/vnd.m...|339bd9671929cff3c...|\n",
            "|http://mddefp.gou...|26-3-reduction-im...|     xlsm|application/vnd.m...|application/vnd.m...|32b6032882818ac99...|\n",
            "|http://www.mddep....|Qualit%C3%A9Eau_0...|      xls|application/vnd.m...|application/vnd.m...|32a45676f882ea9a0...|\n",
            "|http://mddefp.gou...|14-1-roulez-elect...|     xlsm|application/vnd.m...|application/vnd.m...|3276e161c1338d194...|\n",
            "|http://mddefp.gou...|fichier-calcul-me...|     xlsx|application/vnd.o...|application/vnd.o...|32649e87138053a19...|\n",
            "|http://www.mddep....|donn%C3%A9es_0401...|      xls|application/vnd.m...|application/vnd.m...|324df39765feb5b5f...|\n",
            "|http://mddefp.gou...|23-4-responsabili...|     xlsm|application/vnd.m...|application/vnd.m...|30dd6a14e1eff5c89...|\n",
            "|http://mddep.gouv...|Donnees_contamina...|      xls|application/vnd.m...|application/vnd.m...|30cab5f24afe0cbc4...|\n",
            "|http://www.mddefp...|Donnees_contamina...|      xls|application/vnd.m...|application/vnd.m...|30cab5f24afe0cbc4...|\n",
            "|http://mddep.gouv...|Donnees_contamina...|      xls|application/vnd.m...|application/vnd.m...|30cab5f24afe0cbc4...|\n",
            "|http://www.mddefp...|Donnees_contamina...|      xls|application/vnd.m...|application/vnd.m...|30cab5f24afe0cbc4...|\n",
            "|http://www.mddefp...|Donnees_contamina...|      xls|application/vnd.m...|application/vnd.m...|30cab5f24afe0cbc4...|\n",
            "|http://mddep.gouv...|Donnees_contamina...|      xls|application/vnd.m...|application/vnd.m...|30cab5f24afe0cbc4...|\n",
            "|http://www.mddefp...|Donnees_contamina...|      xls|application/vnd.m...|application/vnd.m...|30cab5f24afe0cbc4...|\n",
            "|http://mddep.gouv...|Donnees_contamina...|      xls|application/vnd.m...|application/vnd.m...|30cab5f24afe0cbc4...|\n",
            "+--------------------+--------------------+---------+--------------------+--------------------+--------------------+\n",
            "only showing top 20 rows\n",
            "\n"
          ],
          "name": "stdout"
        }
      ]
    },
    {
      "cell_type": "code",
      "metadata": {
        "id": "3L5Yj0hFBymu",
        "colab_type": "code",
        "outputId": "3d92aebb-9a01-4811-e989-9fb30012399f",
        "colab": {
          "base_uri": "https://localhost:8080/",
          "height": 495
        }
      },
      "source": [
        "dataset_videos = spark.read.parquet(\"parquet/videos\")\n",
        "dataset_videos.show()"
      ],
      "execution_count": 0,
      "outputs": [
        {
          "output_type": "stream",
          "text": [
            "+--------------------+-------------+---------+--------------------+--------------+--------------------+\n",
            "|                 url|     filename|extension|mime_type_web_server|mime_type_tika|                 md5|\n",
            "+--------------------+-------------+---------+--------------------+--------------+--------------------+\n",
            "|http://r2---sn-9p...|videoplayback|      mp4|           video/mp4|     video/mp4|d68b00e237cac18b5...|\n",
            "|http://r1---sn-9p...|videoplayback|      mp4|           video/mp4|     video/mp4|d687fc368843346ae...|\n",
            "|http://r1---sn-9p...|videoplayback|      mp4|           video/mp4|     video/mp4|d6428ab7ca3306dca...|\n",
            "|http://r2---sn-9p...|videoplayback|      mp4|           video/mp4|     video/mp4|d628294e7df1c7b12...|\n",
            "|https://r5---sn-t...|videoplayback|      mp4|           video/mp4|     video/mp4|d610d5763cc3d1a5a...|\n",
            "|http://r1---sn-9p...|videoplayback|      mp4|           video/mp4|     video/mp4|d5e37c1c79441e40b...|\n",
            "|http://r2---sn-9p...|videoplayback|      mp4|           video/mp4|     video/mp4|ec4d124adaf1cb851...|\n",
            "|http://r2---sn-9p...|videoplayback|      mp4|           video/mp4|     video/mp4|da030ec8fb5c51da5...|\n",
            "|http://r3---sn-9p...|videoplayback|      mp4|           video/mp4|     video/mp4|aa1d0c368a47e01da...|\n",
            "|http://r3---sn-9p...|videoplayback|      mp4|           video/mp4|     video/mp4|6de4288892afa99fa...|\n",
            "|http://r1---sn-9p...|videoplayback|      mp4|           video/mp4|     video/mp4|e4da474d5dfb421d2...|\n",
            "|http://r2---sn-9p...|videoplayback|      mp4|           video/mp4|     video/mp4|8b0b9d13f97bc8a70...|\n",
            "|http://r3---sn-9p...|videoplayback|      mp4|           video/mp4|     video/mp4|4f37ff17c476199df...|\n",
            "|http://r3---sn-9p...|videoplayback|      mp4|           video/mp4|     video/mp4|c8cbb276bd6d84031...|\n",
            "|http://r1---sn-9p...|videoplayback|      mp4|           video/mp4|     video/mp4|8a62377ca5b5e2294...|\n",
            "|http://r1---sn-9p...|videoplayback|      mp4|           video/mp4|     video/mp4|91a9e71a46f796a5e...|\n",
            "|http://r3---sn-9p...|videoplayback|      mp4|           video/mp4|     video/mp4|d9f8eb4488a0ff924...|\n",
            "|http://r3---sn-9p...|videoplayback|      mp4|           video/mp4|     video/mp4|aa8512af7dc38693f...|\n",
            "|http://r3---sn-9p...|videoplayback|      mp4|           video/mp4|     video/mp4|4fd8f8f8aae3fd403...|\n",
            "|http://r3---sn-9p...|videoplayback|      mp4|           video/mp4|     video/mp4|c8b4522164b8ea180...|\n",
            "+--------------------+-------------+---------+--------------------+--------------+--------------------+\n",
            "only showing top 20 rows\n",
            "\n"
          ],
          "name": "stdout"
        }
      ]
    },
    {
      "cell_type": "code",
      "metadata": {
        "id": "uGx-phLmB3Ku",
        "colab_type": "code",
        "outputId": "fa6ecc56-02b4-49ff-8abf-0e1fc7ddc0c9",
        "colab": {
          "base_uri": "https://localhost:8080/",
          "height": 495
        }
      },
      "source": [
        "dataset_word_processor = spark.read.parquet(\"parquet/word_processor\")\n",
        "dataset_word_processor.show()"
      ],
      "execution_count": 0,
      "outputs": [
        {
          "output_type": "stream",
          "text": [
            "+--------------------+--------------------+---------+--------------------+--------------------+--------------------+\n",
            "|                 url|            filename|extension|mime_type_web_server|      mime_type_tika|                 md5|\n",
            "+--------------------+--------------------+---------+--------------------+--------------------+--------------------+\n",
            "|http://mddefp.gou...|     formulaire.docx|     docx|application/vnd.o...|application/vnd.o...|49437b65e78fc8d07...|\n",
            "|http://www.mddep....|3-aide_particulie...|      doc|  application/msword|  application/msword|4943475a254e3b927...|\n",
            "|http://www.mddefp...|         annexe5.doc|      doc|  application/msword|  application/msword|491bdb25f3ee1358b...|\n",
            "|http://www.mddep....|         annexe5.doc|      doc|  application/msword|  application/msword|491bdb25f3ee1358b...|\n",
            "|http://mddefp.gou...|Attestation-perso...|      doc|  application/msword|  application/msword|4868aa8e259881533...|\n",
            "|http://www.mddep....|Attestation-perso...|      doc|  application/msword|  application/msword|4868aa8e259881533...|\n",
            "|http://www.mddelc...|Demande-autorisat...|      doc|  application/msword|  application/msword|478c860a9d6aea1e0...|\n",
            "|http://mddefp.gou...|attestation-grand...|     docx|application/vnd.o...|application/vnd.o...|46465a7425b290d0a...|\n",
            "|http://mddefp.gou...| PAMD_Formulaire.doc|      doc|  application/msword|  application/msword|45d5e57e719c6f875...|\n",
            "|http://mddefp.gou...|registres_permis_...|      doc|  application/msword|  application/msword|45aa80be3c3e28d4d...|\n",
            "|http://mddefp.gou...|  liste-associes.doc|      doc|  application/msword|  application/msword|44def2dd4389b6423...|\n",
            "|http://www.ceaeq....|FO120103_form_ren...|      doc|  application/msword|  application/msword|44cfb9e54a248d965...|\n",
            "|http://www.ceaeq....|FO120103_form_ren...|      doc|  application/msword|  application/msword|44cfb9e54a248d965...|\n",
            "|http://mddep.gouv...|collecteur-vhumid...|      doc|  application/msword|  application/msword|44229f60b2f645086...|\n",
            "|http://mddefp.gou...|collecteur-vhumid...|      doc|  application/msword|  application/msword|44229f60b2f645086...|\n",
            "|http://mddep.gouv...|collecteur-vhumid...|      doc|  application/msword|  application/msword|44229f60b2f645086...|\n",
            "|http://www.mddefp...|collecteur-vhumid...|      doc|  application/msword|  application/msword|44229f60b2f645086...|\n",
            "|http://mddep.gouv...|collecteur-vhumid...|      doc|  application/msword|  application/msword|44229f60b2f645086...|\n",
            "|http://www.mddefp...|collecteur-vhumid...|      doc|  application/msword|  application/msword|44229f60b2f645086...|\n",
            "|http://www.mddefp...|collecteur-vhumid...|      doc|  application/msword|  application/msword|44229f60b2f645086...|\n",
            "+--------------------+--------------------+---------+--------------------+--------------------+--------------------+\n",
            "only showing top 20 rows\n",
            "\n"
          ],
          "name": "stdout"
        }
      ]
    },
    {
      "cell_type": "markdown",
      "metadata": {
        "id": "2wWDNwX3_oia",
        "colab_type": "text"
      },
      "source": [
        "# Data Analysis\n",
        "\n",
        "Now that we have all of our datasets loaded up, we can begin to work with it!\n"
      ]
    },
    {
      "cell_type": "markdown",
      "metadata": {
        "id": "Yl5ZFzwT_6VZ",
        "colab_type": "text"
      },
      "source": [
        "## Counting total files, and unique files"
      ]
    },
    {
      "cell_type": "code",
      "metadata": {
        "id": "pjjUatxe_z3t",
        "colab_type": "code",
        "outputId": "775ab66b-bfb0-4fbf-c028-93c1fadd6ba2",
        "colab": {
          "base_uri": "https://localhost:8080/",
          "height": 35
        }
      },
      "source": [
        "# Count number of rows (how many images are in the web archive collection).\n",
        "dataset_images.count()"
      ],
      "execution_count": 0,
      "outputs": [
        {
          "output_type": "execute_result",
          "data": {
            "text/plain": [
              "156166"
            ]
          },
          "metadata": {
            "tags": []
          },
          "execution_count": 18
        }
      ]
    },
    {
      "cell_type": "code",
      "metadata": {
        "id": "-KLFNm_H_566",
        "colab_type": "code",
        "outputId": "d1a50a0b-5d8b-4855-cd09-cb46b9d70a09",
        "colab": {
          "base_uri": "https://localhost:8080/",
          "height": 127
        }
      },
      "source": [
        "# How do we get the number of unique images? We have a MD5 digest of each, so we can count the unique md5 values!\n",
        "from pyspark.sql.functions import countDistinct\n",
        "dataset_images.select(countDistinct(\"md5\")).show()"
      ],
      "execution_count": 0,
      "outputs": [
        {
          "output_type": "stream",
          "text": [
            "+-------------------+\n",
            "|count(DISTINCT md5)|\n",
            "+-------------------+\n",
            "|              18287|\n",
            "+-------------------+\n",
            "\n"
          ],
          "name": "stdout"
        }
      ]
    },
    {
      "cell_type": "code",
      "metadata": {
        "id": "j58L2WFEExId",
        "colab_type": "code",
        "outputId": "a986b820-d8b7-4f8f-e120-1b077e70d635",
        "colab": {
          "base_uri": "https://localhost:8080/",
          "height": 311
        }
      },
      "source": [
        "import pyspark.sql.functions as func\n",
        "dataset_images.groupBy('filename').count().orderBy('count', ascending=False).show(10)"
      ],
      "execution_count": 0,
      "outputs": [
        {
          "output_type": "stream",
          "text": [
            "+-------------+-----+\n",
            "|     filename|count|\n",
            "+-------------+-----+\n",
            "|  carte-p.jpg| 1196|\n",
            "|   carte2.jpg|  924|\n",
            "|   carte1.jpg|  875|\n",
            "|  carte-g.jpg|  660|\n",
            "|    carte.jpg|  576|\n",
            "| carte-qc.jpg|  575|\n",
            "| carte-an.jpg|  575|\n",
            "|  carte-G.jpg|  484|\n",
            "|  carte_p.jpg|  473|\n",
            "|carte_web.jpg|  431|\n",
            "+-------------+-----+\n",
            "only showing top 10 rows\n",
            "\n"
          ],
          "name": "stdout"
        }
      ]
    },
    {
      "cell_type": "code",
      "metadata": {
        "id": "Y4Hw1FvcGMQi",
        "colab_type": "code",
        "outputId": "b0e5a776-ff97-4f76-b732-e9c48860fdd4",
        "colab": {
          "base_uri": "https://localhost:8080/",
          "height": 311
        }
      },
      "source": [
        "import pyspark.sql.functions as func\n",
        "dataset_images.groupBy('md5').count().orderBy('count', ascending=False).show(10, False)"
      ],
      "execution_count": 0,
      "outputs": [
        {
          "output_type": "stream",
          "text": [
            "+--------------------------------+-----+\n",
            "|md5                             |count|\n",
            "+--------------------------------+-----+\n",
            "|5283d313972a24f0e71c47ae3c99958b|192  |\n",
            "|b09dc3225d5e1377c52c06feddc33bfe|192  |\n",
            "|a4d3ddfb1a95e87650c624660d67765a|192  |\n",
            "|e7d1f7750c16bc835bf1cfe1bf322d46|192  |\n",
            "|89663337857f6d769fbcaed7278cc925|77   |\n",
            "|497db34fffa0e278f57ae614b4b758a0|64   |\n",
            "|58e5d8676dfcc4205551314d98fb2624|61   |\n",
            "|100322cfd242ee75dd5a744526f08d6b|56   |\n",
            "|7252e42a951b5e449ea02c517839ed6d|53   |\n",
            "|65274f9eaa4c585b7c35193ebb04e0d7|53   |\n",
            "+--------------------------------+-----+\n",
            "only showing top 10 rows\n",
            "\n"
          ],
          "name": "stdout"
        }
      ]
    },
    {
      "cell_type": "code",
      "metadata": {
        "id": "oDwnH8RJGiUc",
        "colab_type": "code",
        "outputId": "ae0c5fcd-d8d5-431a-f2b2-1594f8b895f4",
        "colab": {
          "base_uri": "https://localhost:8080/",
          "height": 1000
        }
      },
      "source": [
        "dataset_images.filter(\"md5 = '5283d313972a24f0e71c47ae3c99958b'\").show(192, False)"
      ],
      "execution_count": 0,
      "outputs": [
        {
          "output_type": "stream",
          "text": [
            "+---------------------------------------------------------------+----------+---------+--------------------+--------------+-----+------+--------------------------------+\n",
            "|url                                                            |filename  |extension|mime_type_web_server|mime_type_tika|width|height|md5                             |\n",
            "+---------------------------------------------------------------+----------+---------+--------------------+--------------+-----+------+--------------------------------+\n",
            "|http://mddefp.gouv.qc.ca/poissons/assomption/tumeur.jpg        |tumeur.jpg|jpg      |image/jpeg          |image/jpeg    |310  |220   |5283d313972a24f0e71c47ae3c99958b|\n",
            "|http://mddefp.gouv.qc.ca/poissons/chateauguay/tumeur.jpg       |tumeur.jpg|jpg      |image/jpeg          |image/jpeg    |310  |220   |5283d313972a24f0e71c47ae3c99958b|\n",
            "|http://mddefp.gouv.qc.ca/poissons/st-francois/tumeur.jpg       |tumeur.jpg|jpg      |image/jpeg          |image/jpeg    |310  |220   |5283d313972a24f0e71c47ae3c99958b|\n",
            "|http://mddefp.gouv.qc.ca/poissons/st-maurice/tumeur.jpg        |tumeur.jpg|jpg      |image/jpeg          |image/jpeg    |310  |220   |5283d313972a24f0e71c47ae3c99958b|\n",
            "|http://mddefp.gouv.qc.ca/poissons/richelieu/tumeur.jpg         |tumeur.jpg|jpg      |image/jpeg          |image/jpeg    |310  |220   |5283d313972a24f0e71c47ae3c99958b|\n",
            "|http://mddefp.gouv.qc.ca/poissons/yamaska/tumeur.jpg           |tumeur.jpg|jpg      |image/jpeg          |image/jpeg    |310  |220   |5283d313972a24f0e71c47ae3c99958b|\n",
            "|http://mddefp.gouv.qc.ca/poissons/chaudiere/tumeur.jpg         |tumeur.jpg|jpg      |image/jpeg          |image/jpeg    |310  |220   |5283d313972a24f0e71c47ae3c99958b|\n",
            "|http://www.mddep.gouv.qc.ca/poissons/assomption/tumeur.jpg     |tumeur.jpg|jpg      |image/jpeg          |image/jpeg    |310  |220   |5283d313972a24f0e71c47ae3c99958b|\n",
            "|http://www.mddep.gouv.qc.ca/poissons/st-charles/tumeur.jpg     |tumeur.jpg|jpg      |image/jpeg          |image/jpeg    |310  |220   |5283d313972a24f0e71c47ae3c99958b|\n",
            "|http://www.mddep.gouv.qc.ca/poissons/st-francois/tumeur.jpg    |tumeur.jpg|jpg      |image/jpeg          |image/jpeg    |310  |220   |5283d313972a24f0e71c47ae3c99958b|\n",
            "|http://www.mddep.gouv.qc.ca/poissons/st-maurice/tumeur.jpg     |tumeur.jpg|jpg      |image/jpeg          |image/jpeg    |310  |220   |5283d313972a24f0e71c47ae3c99958b|\n",
            "|http://www.mddep.gouv.qc.ca/poissons/chateauguay/tumeur.jpg    |tumeur.jpg|jpg      |image/jpeg          |image/jpeg    |310  |220   |5283d313972a24f0e71c47ae3c99958b|\n",
            "|http://www.mddep.gouv.qc.ca/poissons/chaudiere/tumeur.jpg      |tumeur.jpg|jpg      |image/jpeg          |image/jpeg    |310  |220   |5283d313972a24f0e71c47ae3c99958b|\n",
            "|http://www.mddep.gouv.qc.ca/poissons/richelieu/tumeur.jpg      |tumeur.jpg|jpg      |image/jpeg          |image/jpeg    |310  |220   |5283d313972a24f0e71c47ae3c99958b|\n",
            "|http://www.mddep.gouv.qc.ca/poissons/yamaska/tumeur.jpg        |tumeur.jpg|jpg      |image/jpeg          |image/jpeg    |310  |220   |5283d313972a24f0e71c47ae3c99958b|\n",
            "|http://mddefp.gouv.qc.ca/poissons/st-charles/tumeur.jpg        |tumeur.jpg|jpg      |image/jpeg          |image/jpeg    |310  |220   |5283d313972a24f0e71c47ae3c99958b|\n",
            "|http://www.mddefp.gouv.qc.ca//poissons/assomption/tumeur.jpg   |tumeur.jpg|jpg      |image/jpeg          |image/jpeg    |310  |220   |5283d313972a24f0e71c47ae3c99958b|\n",
            "|http://mddep.gouv.qc.ca//poissons/yamaska/tumeur.jpg           |tumeur.jpg|jpg      |image/jpeg          |image/jpeg    |310  |220   |5283d313972a24f0e71c47ae3c99958b|\n",
            "|http://mddep.gouv.qc.ca//poissons/assomption/tumeur.jpg        |tumeur.jpg|jpg      |image/jpeg          |image/jpeg    |310  |220   |5283d313972a24f0e71c47ae3c99958b|\n",
            "|http://mddep.gouv.qc.ca//poissons/richelieu/tumeur.jpg         |tumeur.jpg|jpg      |image/jpeg          |image/jpeg    |310  |220   |5283d313972a24f0e71c47ae3c99958b|\n",
            "|http://mddep.gouv.qc.ca//poissons/st-francois/tumeur.jpg       |tumeur.jpg|jpg      |image/jpeg          |image/jpeg    |310  |220   |5283d313972a24f0e71c47ae3c99958b|\n",
            "|http://www.mddefp.gouv.qc.ca//poissons/yamaska/tumeur.jpg      |tumeur.jpg|jpg      |image/jpeg          |image/jpeg    |310  |220   |5283d313972a24f0e71c47ae3c99958b|\n",
            "|http://www.mddefp.gouv.qc.ca//poissons/st-francois/tumeur.jpg  |tumeur.jpg|jpg      |image/jpeg          |image/jpeg    |310  |220   |5283d313972a24f0e71c47ae3c99958b|\n",
            "|http://www.mddefp.gouv.qc.ca//poissons/richelieu/tumeur.jpg    |tumeur.jpg|jpg      |image/jpeg          |image/jpeg    |310  |220   |5283d313972a24f0e71c47ae3c99958b|\n",
            "|http://mddep.gouv.qc.ca//poissons/chateauguay/tumeur.jpg       |tumeur.jpg|jpg      |image/jpeg          |image/jpeg    |310  |220   |5283d313972a24f0e71c47ae3c99958b|\n",
            "|http://www.mddefp.gouv.qc.ca//poissons/chateauguay/tumeur.jpg  |tumeur.jpg|jpg      |image/jpeg          |image/jpeg    |310  |220   |5283d313972a24f0e71c47ae3c99958b|\n",
            "|http://mddep.gouv.qc.ca//poissons/st-charles/tumeur.jpg        |tumeur.jpg|jpg      |image/jpeg          |image/jpeg    |310  |220   |5283d313972a24f0e71c47ae3c99958b|\n",
            "|http://www.mddefp.gouv.qc.ca//poissons/st-charles/tumeur.jpg   |tumeur.jpg|jpg      |image/jpeg          |image/jpeg    |310  |220   |5283d313972a24f0e71c47ae3c99958b|\n",
            "|http://www.mddefp.gouv.qc.ca//poissons/chaudiere/tumeur.jpg    |tumeur.jpg|jpg      |image/jpeg          |image/jpeg    |310  |220   |5283d313972a24f0e71c47ae3c99958b|\n",
            "|http://www.mddefp.gouv.qc.ca//poissons/st-maurice/tumeur.jpg   |tumeur.jpg|jpg      |image/jpeg          |image/jpeg    |310  |220   |5283d313972a24f0e71c47ae3c99958b|\n",
            "|http://mddep.gouv.qc.ca//poissons/chaudiere/tumeur.jpg         |tumeur.jpg|jpg      |image/jpeg          |image/jpeg    |310  |220   |5283d313972a24f0e71c47ae3c99958b|\n",
            "|http://mddep.gouv.qc.ca//poissons/st-maurice/tumeur.jpg        |tumeur.jpg|jpg      |image/jpeg          |image/jpeg    |310  |220   |5283d313972a24f0e71c47ae3c99958b|\n",
            "|http://mddep.gouv.qc.ca///poissons/chaudiere/tumeur.jpg        |tumeur.jpg|jpg      |image/jpeg          |image/jpeg    |310  |220   |5283d313972a24f0e71c47ae3c99958b|\n",
            "|http://mddep.gouv.qc.ca///poissons/chateauguay/tumeur.jpg      |tumeur.jpg|jpg      |image/jpeg          |image/jpeg    |310  |220   |5283d313972a24f0e71c47ae3c99958b|\n",
            "|http://mddep.gouv.qc.ca///poissons/st-charles/tumeur.jpg       |tumeur.jpg|jpg      |image/jpeg          |image/jpeg    |310  |220   |5283d313972a24f0e71c47ae3c99958b|\n",
            "|http://mddep.gouv.qc.ca///poissons/st-maurice/tumeur.jpg       |tumeur.jpg|jpg      |image/jpeg          |image/jpeg    |310  |220   |5283d313972a24f0e71c47ae3c99958b|\n",
            "|http://mddep.gouv.qc.ca///poissons/richelieu/tumeur.jpg        |tumeur.jpg|jpg      |image/jpeg          |image/jpeg    |310  |220   |5283d313972a24f0e71c47ae3c99958b|\n",
            "|http://mddep.gouv.qc.ca///poissons/st-francois/tumeur.jpg      |tumeur.jpg|jpg      |image/jpeg          |image/jpeg    |310  |220   |5283d313972a24f0e71c47ae3c99958b|\n",
            "|http://mddep.gouv.qc.ca///poissons/yamaska/tumeur.jpg          |tumeur.jpg|jpg      |image/jpeg          |image/jpeg    |310  |220   |5283d313972a24f0e71c47ae3c99958b|\n",
            "|http://mddep.gouv.qc.ca///poissons/assomption/tumeur.jpg       |tumeur.jpg|jpg      |image/jpeg          |image/jpeg    |310  |220   |5283d313972a24f0e71c47ae3c99958b|\n",
            "|http://www.mddefp.gouv.qc.ca///poissons/assomption/tumeur.jpg  |tumeur.jpg|jpg      |image/jpeg          |image/jpeg    |310  |220   |5283d313972a24f0e71c47ae3c99958b|\n",
            "|http://www.mddefp.gouv.qc.ca///poissons/richelieu/tumeur.jpg   |tumeur.jpg|jpg      |image/jpeg          |image/jpeg    |310  |220   |5283d313972a24f0e71c47ae3c99958b|\n",
            "|http://www.mddefp.gouv.qc.ca///poissons/yamaska/tumeur.jpg     |tumeur.jpg|jpg      |image/jpeg          |image/jpeg    |310  |220   |5283d313972a24f0e71c47ae3c99958b|\n",
            "|http://www.mddefp.gouv.qc.ca///poissons/st-francois/tumeur.jpg |tumeur.jpg|jpg      |image/jpeg          |image/jpeg    |310  |220   |5283d313972a24f0e71c47ae3c99958b|\n",
            "|http://www.mddefp.gouv.qc.ca///poissons/st-maurice/tumeur.jpg  |tumeur.jpg|jpg      |image/jpeg          |image/jpeg    |310  |220   |5283d313972a24f0e71c47ae3c99958b|\n",
            "|http://www.mddefp.gouv.qc.ca///poissons/chateauguay/tumeur.jpg |tumeur.jpg|jpg      |image/jpeg          |image/jpeg    |310  |220   |5283d313972a24f0e71c47ae3c99958b|\n",
            "|http://www.mddefp.gouv.qc.ca///poissons/chaudiere/tumeur.jpg   |tumeur.jpg|jpg      |image/jpeg          |image/jpeg    |310  |220   |5283d313972a24f0e71c47ae3c99958b|\n",
            "|http://www.mddefp.gouv.qc.ca///poissons/st-charles/tumeur.jpg  |tumeur.jpg|jpg      |image/jpeg          |image/jpeg    |310  |220   |5283d313972a24f0e71c47ae3c99958b|\n",
            "|http://mddep.gouv.qc.ca////poissons/chateauguay/tumeur.jpg     |tumeur.jpg|jpg      |image/jpeg          |image/jpeg    |310  |220   |5283d313972a24f0e71c47ae3c99958b|\n",
            "|http://mddep.gouv.qc.ca////poissons/assomption/tumeur.jpg      |tumeur.jpg|jpg      |image/jpeg          |image/jpeg    |310  |220   |5283d313972a24f0e71c47ae3c99958b|\n",
            "|http://www.mddefp.gouv.qc.ca////poissons/st-charles/tumeur.jpg |tumeur.jpg|jpg      |image/jpeg          |image/jpeg    |310  |220   |5283d313972a24f0e71c47ae3c99958b|\n",
            "|http://www.mddefp.gouv.qc.ca////poissons/chaudiere/tumeur.jpg  |tumeur.jpg|jpg      |image/jpeg          |image/jpeg    |310  |220   |5283d313972a24f0e71c47ae3c99958b|\n",
            "|http://www.mddefp.gouv.qc.ca////poissons/chateauguay/tumeur.jpg|tumeur.jpg|jpg      |image/jpeg          |image/jpeg    |310  |220   |5283d313972a24f0e71c47ae3c99958b|\n",
            "|http://www.mddefp.gouv.qc.ca////poissons/richelieu/tumeur.jpg  |tumeur.jpg|jpg      |image/jpeg          |image/jpeg    |310  |220   |5283d313972a24f0e71c47ae3c99958b|\n",
            "|http://www.mddefp.gouv.qc.ca////poissons/assomption/tumeur.jpg |tumeur.jpg|jpg      |image/jpeg          |image/jpeg    |310  |220   |5283d313972a24f0e71c47ae3c99958b|\n",
            "|http://www.mddefp.gouv.qc.ca////poissons/st-francois/tumeur.jpg|tumeur.jpg|jpg      |image/jpeg          |image/jpeg    |310  |220   |5283d313972a24f0e71c47ae3c99958b|\n",
            "|http://www.mddefp.gouv.qc.ca////poissons/yamaska/tumeur.jpg    |tumeur.jpg|jpg      |image/jpeg          |image/jpeg    |310  |220   |5283d313972a24f0e71c47ae3c99958b|\n",
            "|http://www.mddefp.gouv.qc.ca////poissons/st-maurice/tumeur.jpg |tumeur.jpg|jpg      |image/jpeg          |image/jpeg    |310  |220   |5283d313972a24f0e71c47ae3c99958b|\n",
            "|http://mddep.gouv.qc.ca////poissons/richelieu/tumeur.jpg       |tumeur.jpg|jpg      |image/jpeg          |image/jpeg    |310  |220   |5283d313972a24f0e71c47ae3c99958b|\n",
            "|http://mddep.gouv.qc.ca////poissons/st-charles/tumeur.jpg      |tumeur.jpg|jpg      |image/jpeg          |image/jpeg    |310  |220   |5283d313972a24f0e71c47ae3c99958b|\n",
            "|http://mddep.gouv.qc.ca////poissons/st-francois/tumeur.jpg     |tumeur.jpg|jpg      |image/jpeg          |image/jpeg    |310  |220   |5283d313972a24f0e71c47ae3c99958b|\n",
            "|http://mddep.gouv.qc.ca////poissons/yamaska/tumeur.jpg         |tumeur.jpg|jpg      |image/jpeg          |image/jpeg    |310  |220   |5283d313972a24f0e71c47ae3c99958b|\n",
            "|http://mddep.gouv.qc.ca////poissons/st-maurice/tumeur.jpg      |tumeur.jpg|jpg      |image/jpeg          |image/jpeg    |310  |220   |5283d313972a24f0e71c47ae3c99958b|\n",
            "|http://mddep.gouv.qc.ca////poissons/chaudiere/tumeur.jpg       |tumeur.jpg|jpg      |image/jpeg          |image/jpeg    |310  |220   |5283d313972a24f0e71c47ae3c99958b|\n",
            "|http://mddefp.gouv.qc.ca/poissons/st-maurice/tumeur.jpg        |tumeur.jpg|jpg      |image/jpeg          |image/jpeg    |310  |220   |5283d313972a24f0e71c47ae3c99958b|\n",
            "|http://mddefp.gouv.qc.ca/poissons/st-francois/tumeur.jpg       |tumeur.jpg|jpg      |image/jpeg          |image/jpeg    |310  |220   |5283d313972a24f0e71c47ae3c99958b|\n",
            "|http://mddefp.gouv.qc.ca/poissons/chateauguay/tumeur.jpg       |tumeur.jpg|jpg      |image/jpeg          |image/jpeg    |310  |220   |5283d313972a24f0e71c47ae3c99958b|\n",
            "|http://mddefp.gouv.qc.ca/poissons/assomption/tumeur.jpg        |tumeur.jpg|jpg      |image/jpeg          |image/jpeg    |310  |220   |5283d313972a24f0e71c47ae3c99958b|\n",
            "|http://mddefp.gouv.qc.ca/poissons/richelieu/tumeur.jpg         |tumeur.jpg|jpg      |image/jpeg          |image/jpeg    |310  |220   |5283d313972a24f0e71c47ae3c99958b|\n",
            "|http://mddefp.gouv.qc.ca/poissons/yamaska/tumeur.jpg           |tumeur.jpg|jpg      |image/jpeg          |image/jpeg    |310  |220   |5283d313972a24f0e71c47ae3c99958b|\n",
            "|http://mddefp.gouv.qc.ca/poissons/chaudiere/tumeur.jpg         |tumeur.jpg|jpg      |image/jpeg          |image/jpeg    |310  |220   |5283d313972a24f0e71c47ae3c99958b|\n",
            "|http://mddefp.gouv.qc.ca/poissons/st-charles/tumeur.jpg        |tumeur.jpg|jpg      |image/jpeg          |image/jpeg    |310  |220   |5283d313972a24f0e71c47ae3c99958b|\n",
            "|http://www.mddep.gouv.qc.ca/poissons/chaudiere/tumeur.jpg      |tumeur.jpg|jpg      |image/jpeg          |image/jpeg    |310  |220   |5283d313972a24f0e71c47ae3c99958b|\n",
            "|http://www.mddep.gouv.qc.ca/poissons/st-charles/tumeur.jpg     |tumeur.jpg|jpg      |image/jpeg          |image/jpeg    |310  |220   |5283d313972a24f0e71c47ae3c99958b|\n",
            "|http://www.mddep.gouv.qc.ca/poissons/chateauguay/tumeur.jpg    |tumeur.jpg|jpg      |image/jpeg          |image/jpeg    |310  |220   |5283d313972a24f0e71c47ae3c99958b|\n",
            "|http://www.mddep.gouv.qc.ca/poissons/st-maurice/tumeur.jpg     |tumeur.jpg|jpg      |image/jpeg          |image/jpeg    |310  |220   |5283d313972a24f0e71c47ae3c99958b|\n",
            "|http://www.mddep.gouv.qc.ca/poissons/st-francois/tumeur.jpg    |tumeur.jpg|jpg      |image/jpeg          |image/jpeg    |310  |220   |5283d313972a24f0e71c47ae3c99958b|\n",
            "|http://www.mddep.gouv.qc.ca/poissons/assomption/tumeur.jpg     |tumeur.jpg|jpg      |image/jpeg          |image/jpeg    |310  |220   |5283d313972a24f0e71c47ae3c99958b|\n",
            "|http://www.mddep.gouv.qc.ca/poissons/yamaska/tumeur.jpg        |tumeur.jpg|jpg      |image/jpeg          |image/jpeg    |310  |220   |5283d313972a24f0e71c47ae3c99958b|\n",
            "|http://www.mddep.gouv.qc.ca/poissons/richelieu/tumeur.jpg      |tumeur.jpg|jpg      |image/jpeg          |image/jpeg    |310  |220   |5283d313972a24f0e71c47ae3c99958b|\n",
            "|http://www.mddefp.gouv.qc.ca//poissons/assomption/tumeur.jpg   |tumeur.jpg|jpg      |image/jpeg          |image/jpeg    |310  |220   |5283d313972a24f0e71c47ae3c99958b|\n",
            "|http://www.mddefp.gouv.qc.ca//poissons/yamaska/tumeur.jpg      |tumeur.jpg|jpg      |image/jpeg          |image/jpeg    |310  |220   |5283d313972a24f0e71c47ae3c99958b|\n",
            "|http://www.mddefp.gouv.qc.ca//poissons/st-francois/tumeur.jpg  |tumeur.jpg|jpg      |image/jpeg          |image/jpeg    |310  |220   |5283d313972a24f0e71c47ae3c99958b|\n",
            "|http://www.mddefp.gouv.qc.ca//poissons/richelieu/tumeur.jpg    |tumeur.jpg|jpg      |image/jpeg          |image/jpeg    |310  |220   |5283d313972a24f0e71c47ae3c99958b|\n",
            "|http://www.mddefp.gouv.qc.ca//poissons/chateauguay/tumeur.jpg  |tumeur.jpg|jpg      |image/jpeg          |image/jpeg    |310  |220   |5283d313972a24f0e71c47ae3c99958b|\n",
            "|http://www.mddefp.gouv.qc.ca//poissons/st-charles/tumeur.jpg   |tumeur.jpg|jpg      |image/jpeg          |image/jpeg    |310  |220   |5283d313972a24f0e71c47ae3c99958b|\n",
            "|http://www.mddefp.gouv.qc.ca//poissons/st-maurice/tumeur.jpg   |tumeur.jpg|jpg      |image/jpeg          |image/jpeg    |310  |220   |5283d313972a24f0e71c47ae3c99958b|\n",
            "|http://www.mddefp.gouv.qc.ca//poissons/chaudiere/tumeur.jpg    |tumeur.jpg|jpg      |image/jpeg          |image/jpeg    |310  |220   |5283d313972a24f0e71c47ae3c99958b|\n",
            "|http://www.mddep.gouv.qc.ca//poissons/yamaska/tumeur.jpg       |tumeur.jpg|jpg      |image/jpeg          |image/jpeg    |310  |220   |5283d313972a24f0e71c47ae3c99958b|\n",
            "|http://www.mddep.gouv.qc.ca//poissons/chateauguay/tumeur.jpg   |tumeur.jpg|jpg      |image/jpeg          |image/jpeg    |310  |220   |5283d313972a24f0e71c47ae3c99958b|\n",
            "|http://www.mddep.gouv.qc.ca//poissons/st-francois/tumeur.jpg   |tumeur.jpg|jpg      |image/jpeg          |image/jpeg    |310  |220   |5283d313972a24f0e71c47ae3c99958b|\n",
            "|http://www.mddep.gouv.qc.ca//poissons/richelieu/tumeur.jpg     |tumeur.jpg|jpg      |image/jpeg          |image/jpeg    |310  |220   |5283d313972a24f0e71c47ae3c99958b|\n",
            "|http://www.mddep.gouv.qc.ca//poissons/assomption/tumeur.jpg    |tumeur.jpg|jpg      |image/jpeg          |image/jpeg    |310  |220   |5283d313972a24f0e71c47ae3c99958b|\n",
            "|http://www.mddep.gouv.qc.ca//poissons/st-charles/tumeur.jpg    |tumeur.jpg|jpg      |image/jpeg          |image/jpeg    |310  |220   |5283d313972a24f0e71c47ae3c99958b|\n",
            "|http://www.mddep.gouv.qc.ca//poissons/chaudiere/tumeur.jpg     |tumeur.jpg|jpg      |image/jpeg          |image/jpeg    |310  |220   |5283d313972a24f0e71c47ae3c99958b|\n",
            "|http://www.mddep.gouv.qc.ca//poissons/st-maurice/tumeur.jpg    |tumeur.jpg|jpg      |image/jpeg          |image/jpeg    |310  |220   |5283d313972a24f0e71c47ae3c99958b|\n",
            "|http://www.mddefp.gouv.qc.ca///poissons/chateauguay/tumeur.jpg |tumeur.jpg|jpg      |image/jpeg          |image/jpeg    |310  |220   |5283d313972a24f0e71c47ae3c99958b|\n",
            "|http://www.mddefp.gouv.qc.ca///poissons/chaudiere/tumeur.jpg   |tumeur.jpg|jpg      |image/jpeg          |image/jpeg    |310  |220   |5283d313972a24f0e71c47ae3c99958b|\n",
            "|http://www.mddefp.gouv.qc.ca///poissons/st-charles/tumeur.jpg  |tumeur.jpg|jpg      |image/jpeg          |image/jpeg    |310  |220   |5283d313972a24f0e71c47ae3c99958b|\n",
            "|http://www.mddefp.gouv.qc.ca///poissons/assomption/tumeur.jpg  |tumeur.jpg|jpg      |image/jpeg          |image/jpeg    |310  |220   |5283d313972a24f0e71c47ae3c99958b|\n",
            "|http://www.mddefp.gouv.qc.ca///poissons/st-francois/tumeur.jpg |tumeur.jpg|jpg      |image/jpeg          |image/jpeg    |310  |220   |5283d313972a24f0e71c47ae3c99958b|\n",
            "|http://www.mddefp.gouv.qc.ca///poissons/yamaska/tumeur.jpg     |tumeur.jpg|jpg      |image/jpeg          |image/jpeg    |310  |220   |5283d313972a24f0e71c47ae3c99958b|\n",
            "|http://www.mddefp.gouv.qc.ca///poissons/richelieu/tumeur.jpg   |tumeur.jpg|jpg      |image/jpeg          |image/jpeg    |310  |220   |5283d313972a24f0e71c47ae3c99958b|\n",
            "|http://www.mddefp.gouv.qc.ca///poissons/st-maurice/tumeur.jpg  |tumeur.jpg|jpg      |image/jpeg          |image/jpeg    |310  |220   |5283d313972a24f0e71c47ae3c99958b|\n",
            "|http://www.mddep.gouv.qc.ca///poissons/st-francois/tumeur.jpg  |tumeur.jpg|jpg      |image/jpeg          |image/jpeg    |310  |220   |5283d313972a24f0e71c47ae3c99958b|\n",
            "|http://www.mddep.gouv.qc.ca///poissons/assomption/tumeur.jpg   |tumeur.jpg|jpg      |image/jpeg          |image/jpeg    |310  |220   |5283d313972a24f0e71c47ae3c99958b|\n",
            "|http://www.mddep.gouv.qc.ca///poissons/yamaska/tumeur.jpg      |tumeur.jpg|jpg      |image/jpeg          |image/jpeg    |310  |220   |5283d313972a24f0e71c47ae3c99958b|\n",
            "|http://www.mddep.gouv.qc.ca///poissons/chateauguay/tumeur.jpg  |tumeur.jpg|jpg      |image/jpeg          |image/jpeg    |310  |220   |5283d313972a24f0e71c47ae3c99958b|\n",
            "|http://www.mddep.gouv.qc.ca///poissons/richelieu/tumeur.jpg    |tumeur.jpg|jpg      |image/jpeg          |image/jpeg    |310  |220   |5283d313972a24f0e71c47ae3c99958b|\n",
            "|http://www.mddep.gouv.qc.ca///poissons/st-charles/tumeur.jpg   |tumeur.jpg|jpg      |image/jpeg          |image/jpeg    |310  |220   |5283d313972a24f0e71c47ae3c99958b|\n",
            "|http://www.mddep.gouv.qc.ca///poissons/chaudiere/tumeur.jpg    |tumeur.jpg|jpg      |image/jpeg          |image/jpeg    |310  |220   |5283d313972a24f0e71c47ae3c99958b|\n",
            "|http://www.mddep.gouv.qc.ca///poissons/st-maurice/tumeur.jpg   |tumeur.jpg|jpg      |image/jpeg          |image/jpeg    |310  |220   |5283d313972a24f0e71c47ae3c99958b|\n",
            "|http://www.mddefp.gouv.qc.ca////poissons/assomption/tumeur.jpg |tumeur.jpg|jpg      |image/jpeg          |image/jpeg    |310  |220   |5283d313972a24f0e71c47ae3c99958b|\n",
            "|http://www.mddefp.gouv.qc.ca////poissons/st-francois/tumeur.jpg|tumeur.jpg|jpg      |image/jpeg          |image/jpeg    |310  |220   |5283d313972a24f0e71c47ae3c99958b|\n",
            "|http://www.mddefp.gouv.qc.ca////poissons/yamaska/tumeur.jpg    |tumeur.jpg|jpg      |image/jpeg          |image/jpeg    |310  |220   |5283d313972a24f0e71c47ae3c99958b|\n",
            "|http://www.mddefp.gouv.qc.ca////poissons/st-maurice/tumeur.jpg |tumeur.jpg|jpg      |image/jpeg          |image/jpeg    |310  |220   |5283d313972a24f0e71c47ae3c99958b|\n",
            "|http://www.mddefp.gouv.qc.ca////poissons/st-charles/tumeur.jpg |tumeur.jpg|jpg      |image/jpeg          |image/jpeg    |310  |220   |5283d313972a24f0e71c47ae3c99958b|\n",
            "|http://www.mddefp.gouv.qc.ca////poissons/chaudiere/tumeur.jpg  |tumeur.jpg|jpg      |image/jpeg          |image/jpeg    |310  |220   |5283d313972a24f0e71c47ae3c99958b|\n",
            "|http://www.mddefp.gouv.qc.ca////poissons/chateauguay/tumeur.jpg|tumeur.jpg|jpg      |image/jpeg          |image/jpeg    |310  |220   |5283d313972a24f0e71c47ae3c99958b|\n",
            "|http://www.mddefp.gouv.qc.ca////poissons/richelieu/tumeur.jpg  |tumeur.jpg|jpg      |image/jpeg          |image/jpeg    |310  |220   |5283d313972a24f0e71c47ae3c99958b|\n",
            "|http://www.mddep.gouv.qc.ca////poissons/assomption/tumeur.jpg  |tumeur.jpg|jpg      |image/jpeg          |image/jpeg    |310  |220   |5283d313972a24f0e71c47ae3c99958b|\n",
            "|http://www.mddep.gouv.qc.ca////poissons/chaudiere/tumeur.jpg   |tumeur.jpg|jpg      |image/jpeg          |image/jpeg    |310  |220   |5283d313972a24f0e71c47ae3c99958b|\n",
            "|http://www.mddep.gouv.qc.ca////poissons/yamaska/tumeur.jpg     |tumeur.jpg|jpg      |image/jpeg          |image/jpeg    |310  |220   |5283d313972a24f0e71c47ae3c99958b|\n",
            "|http://www.mddep.gouv.qc.ca////poissons/st-francois/tumeur.jpg |tumeur.jpg|jpg      |image/jpeg          |image/jpeg    |310  |220   |5283d313972a24f0e71c47ae3c99958b|\n",
            "|http://www.mddep.gouv.qc.ca////poissons/chateauguay/tumeur.jpg |tumeur.jpg|jpg      |image/jpeg          |image/jpeg    |310  |220   |5283d313972a24f0e71c47ae3c99958b|\n",
            "|http://www.mddep.gouv.qc.ca////poissons/st-charles/tumeur.jpg  |tumeur.jpg|jpg      |image/jpeg          |image/jpeg    |310  |220   |5283d313972a24f0e71c47ae3c99958b|\n",
            "|http://www.mddep.gouv.qc.ca////poissons/richelieu/tumeur.jpg   |tumeur.jpg|jpg      |image/jpeg          |image/jpeg    |310  |220   |5283d313972a24f0e71c47ae3c99958b|\n",
            "|http://www.mddep.gouv.qc.ca////poissons/st-maurice/tumeur.jpg  |tumeur.jpg|jpg      |image/jpeg          |image/jpeg    |310  |220   |5283d313972a24f0e71c47ae3c99958b|\n",
            "|http://www.mddelcc.gouv.qc.ca/poissons/chaudiere/tumeur.jpg    |tumeur.jpg|jpg      |image/jpeg          |image/jpeg    |310  |220   |5283d313972a24f0e71c47ae3c99958b|\n",
            "|http://www.mddelcc.gouv.qc.ca/poissons/chateauguay/tumeur.jpg  |tumeur.jpg|jpg      |image/jpeg          |image/jpeg    |310  |220   |5283d313972a24f0e71c47ae3c99958b|\n",
            "|http://www.mddelcc.gouv.qc.ca/poissons/st-francois/tumeur.jpg  |tumeur.jpg|jpg      |image/jpeg          |image/jpeg    |310  |220   |5283d313972a24f0e71c47ae3c99958b|\n",
            "|http://www.mddelcc.gouv.qc.ca/poissons/richelieu/tumeur.jpg    |tumeur.jpg|jpg      |image/jpeg          |image/jpeg    |310  |220   |5283d313972a24f0e71c47ae3c99958b|\n",
            "|http://www.mddelcc.gouv.qc.ca/poissons/assomption/tumeur.jpg   |tumeur.jpg|jpg      |image/jpeg          |image/jpeg    |310  |220   |5283d313972a24f0e71c47ae3c99958b|\n",
            "|http://www.mddelcc.gouv.qc.ca/poissons/st-maurice/tumeur.jpg   |tumeur.jpg|jpg      |image/jpeg          |image/jpeg    |310  |220   |5283d313972a24f0e71c47ae3c99958b|\n",
            "|http://www.mddelcc.gouv.qc.ca/poissons/st-charles/tumeur.jpg   |tumeur.jpg|jpg      |image/jpeg          |image/jpeg    |310  |220   |5283d313972a24f0e71c47ae3c99958b|\n",
            "|http://www.mddelcc.gouv.qc.ca/poissons/yamaska/tumeur.jpg      |tumeur.jpg|jpg      |image/jpeg          |image/jpeg    |310  |220   |5283d313972a24f0e71c47ae3c99958b|\n",
            "|http://www.mddelcc.gouv.qc.ca//poissons/st-charles/tumeur.jpg  |tumeur.jpg|jpg      |image/jpeg          |image/jpeg    |310  |220   |5283d313972a24f0e71c47ae3c99958b|\n",
            "|http://www.mddelcc.gouv.qc.ca//poissons/chateauguay/tumeur.jpg |tumeur.jpg|jpg      |image/jpeg          |image/jpeg    |310  |220   |5283d313972a24f0e71c47ae3c99958b|\n",
            "|http://www.mddelcc.gouv.qc.ca//poissons/yamaska/tumeur.jpg     |tumeur.jpg|jpg      |image/jpeg          |image/jpeg    |310  |220   |5283d313972a24f0e71c47ae3c99958b|\n",
            "|http://www.mddelcc.gouv.qc.ca//poissons/assomption/tumeur.jpg  |tumeur.jpg|jpg      |image/jpeg          |image/jpeg    |310  |220   |5283d313972a24f0e71c47ae3c99958b|\n",
            "|http://www.mddelcc.gouv.qc.ca//poissons/st-francois/tumeur.jpg |tumeur.jpg|jpg      |image/jpeg          |image/jpeg    |310  |220   |5283d313972a24f0e71c47ae3c99958b|\n",
            "|http://www.mddelcc.gouv.qc.ca//poissons/richelieu/tumeur.jpg   |tumeur.jpg|jpg      |image/jpeg          |image/jpeg    |310  |220   |5283d313972a24f0e71c47ae3c99958b|\n",
            "|http://www.mddelcc.gouv.qc.ca//poissons/chaudiere/tumeur.jpg   |tumeur.jpg|jpg      |image/jpeg          |image/jpeg    |310  |220   |5283d313972a24f0e71c47ae3c99958b|\n",
            "|http://www.mddelcc.gouv.qc.ca//poissons/st-maurice/tumeur.jpg  |tumeur.jpg|jpg      |image/jpeg          |image/jpeg    |310  |220   |5283d313972a24f0e71c47ae3c99958b|\n",
            "|http://www.mddelcc.gouv.qc.ca/poissons/st-maurice/tumeur.jpg   |tumeur.jpg|jpg      |image/jpeg          |image/jpeg    |310  |220   |5283d313972a24f0e71c47ae3c99958b|\n",
            "|http://www.mddelcc.gouv.qc.ca/poissons/richelieu/tumeur.jpg    |tumeur.jpg|jpg      |image/jpeg          |image/jpeg    |310  |220   |5283d313972a24f0e71c47ae3c99958b|\n",
            "|http://www.mddelcc.gouv.qc.ca/poissons/st-francois/tumeur.jpg  |tumeur.jpg|jpg      |image/jpeg          |image/jpeg    |310  |220   |5283d313972a24f0e71c47ae3c99958b|\n",
            "|http://www.mddelcc.gouv.qc.ca/poissons/chaudiere/tumeur.jpg    |tumeur.jpg|jpg      |image/jpeg          |image/jpeg    |310  |220   |5283d313972a24f0e71c47ae3c99958b|\n",
            "|http://www.mddelcc.gouv.qc.ca/poissons/assomption/tumeur.jpg   |tumeur.jpg|jpg      |image/jpeg          |image/jpeg    |310  |220   |5283d313972a24f0e71c47ae3c99958b|\n",
            "|http://www.mddelcc.gouv.qc.ca/poissons/yamaska/tumeur.jpg      |tumeur.jpg|jpg      |image/jpeg          |image/jpeg    |310  |220   |5283d313972a24f0e71c47ae3c99958b|\n",
            "|http://www.mddelcc.gouv.qc.ca/poissons/st-charles/tumeur.jpg   |tumeur.jpg|jpg      |image/jpeg          |image/jpeg    |310  |220   |5283d313972a24f0e71c47ae3c99958b|\n",
            "|http://www.mddelcc.gouv.qc.ca/poissons/chateauguay/tumeur.jpg  |tumeur.jpg|jpg      |image/jpeg          |image/jpeg    |310  |220   |5283d313972a24f0e71c47ae3c99958b|\n",
            "|http://www.mddelcc.gouv.qc.ca/poissons/st-maurice/tumeur.jpg   |tumeur.jpg|jpg      |image/jpeg          |image/jpeg    |310  |220   |5283d313972a24f0e71c47ae3c99958b|\n",
            "|http://www.mddelcc.gouv.qc.ca/poissons/richelieu/tumeur.jpg    |tumeur.jpg|jpg      |image/jpeg          |image/jpeg    |310  |220   |5283d313972a24f0e71c47ae3c99958b|\n",
            "|http://www.mddelcc.gouv.qc.ca/poissons/st-francois/tumeur.jpg  |tumeur.jpg|jpg      |image/jpeg          |image/jpeg    |310  |220   |5283d313972a24f0e71c47ae3c99958b|\n",
            "|http://www.mddelcc.gouv.qc.ca/poissons/chaudiere/tumeur.jpg    |tumeur.jpg|jpg      |image/jpeg          |image/jpeg    |310  |220   |5283d313972a24f0e71c47ae3c99958b|\n",
            "|http://www.mddelcc.gouv.qc.ca/poissons/assomption/tumeur.jpg   |tumeur.jpg|jpg      |image/jpeg          |image/jpeg    |310  |220   |5283d313972a24f0e71c47ae3c99958b|\n",
            "|http://www.mddelcc.gouv.qc.ca/poissons/yamaska/tumeur.jpg      |tumeur.jpg|jpg      |image/jpeg          |image/jpeg    |310  |220   |5283d313972a24f0e71c47ae3c99958b|\n",
            "|http://www.mddelcc.gouv.qc.ca/poissons/st-charles/tumeur.jpg   |tumeur.jpg|jpg      |image/jpeg          |image/jpeg    |310  |220   |5283d313972a24f0e71c47ae3c99958b|\n",
            "|http://www.mddelcc.gouv.qc.ca/poissons/chateauguay/tumeur.jpg  |tumeur.jpg|jpg      |image/jpeg          |image/jpeg    |310  |220   |5283d313972a24f0e71c47ae3c99958b|\n",
            "|http://www.mddelcc.gouv.qc.ca/poissons/yamaska/tumeur.jpg      |tumeur.jpg|jpg      |image/jpeg          |image/jpeg    |310  |220   |5283d313972a24f0e71c47ae3c99958b|\n",
            "|http://www.mddelcc.gouv.qc.ca/poissons/st-charles/tumeur.jpg   |tumeur.jpg|jpg      |image/jpeg          |image/jpeg    |310  |220   |5283d313972a24f0e71c47ae3c99958b|\n",
            "|http://www.mddelcc.gouv.qc.ca/poissons/chateauguay/tumeur.jpg  |tumeur.jpg|jpg      |image/jpeg          |image/jpeg    |310  |220   |5283d313972a24f0e71c47ae3c99958b|\n",
            "|http://www.mddelcc.gouv.qc.ca/poissons/assomption/tumeur.jpg   |tumeur.jpg|jpg      |image/jpeg          |image/jpeg    |310  |220   |5283d313972a24f0e71c47ae3c99958b|\n",
            "|http://www.mddelcc.gouv.qc.ca/poissons/st-francois/tumeur.jpg  |tumeur.jpg|jpg      |image/jpeg          |image/jpeg    |310  |220   |5283d313972a24f0e71c47ae3c99958b|\n",
            "|http://www.mddelcc.gouv.qc.ca/poissons/chaudiere/tumeur.jpg    |tumeur.jpg|jpg      |image/jpeg          |image/jpeg    |310  |220   |5283d313972a24f0e71c47ae3c99958b|\n",
            "|http://www.mddelcc.gouv.qc.ca/poissons/st-maurice/tumeur.jpg   |tumeur.jpg|jpg      |image/jpeg          |image/jpeg    |310  |220   |5283d313972a24f0e71c47ae3c99958b|\n",
            "|http://www.mddelcc.gouv.qc.ca/poissons/richelieu/tumeur.jpg    |tumeur.jpg|jpg      |image/jpeg          |image/jpeg    |310  |220   |5283d313972a24f0e71c47ae3c99958b|\n",
            "|http://www.mddep.gouv.qc.ca/poissons/st-francois/tumeur.jpg    |tumeur.jpg|jpg      |image/jpeg          |image/jpeg    |310  |220   |5283d313972a24f0e71c47ae3c99958b|\n",
            "|http://www.mddep.gouv.qc.ca/poissons/chaudiere/tumeur.jpg      |tumeur.jpg|jpg      |image/jpeg          |image/jpeg    |310  |220   |5283d313972a24f0e71c47ae3c99958b|\n",
            "|http://www.mddep.gouv.qc.ca/poissons/assomption/tumeur.jpg     |tumeur.jpg|jpg      |image/jpeg          |image/jpeg    |310  |220   |5283d313972a24f0e71c47ae3c99958b|\n",
            "|http://www.mddep.gouv.qc.ca/poissons/st-maurice/tumeur.jpg     |tumeur.jpg|jpg      |image/jpeg          |image/jpeg    |310  |220   |5283d313972a24f0e71c47ae3c99958b|\n",
            "|http://www.mddep.gouv.qc.ca/poissons/chateauguay/tumeur.jpg    |tumeur.jpg|jpg      |image/jpeg          |image/jpeg    |310  |220   |5283d313972a24f0e71c47ae3c99958b|\n",
            "|http://www.mddep.gouv.qc.ca/poissons/richelieu/tumeur.jpg      |tumeur.jpg|jpg      |image/jpeg          |image/jpeg    |310  |220   |5283d313972a24f0e71c47ae3c99958b|\n",
            "|http://www.mddep.gouv.qc.ca/poissons/st-charles/tumeur.jpg     |tumeur.jpg|jpg      |image/jpeg          |image/jpeg    |310  |220   |5283d313972a24f0e71c47ae3c99958b|\n",
            "|http://www.mddep.gouv.qc.ca/poissons/yamaska/tumeur.jpg        |tumeur.jpg|jpg      |image/jpeg          |image/jpeg    |310  |220   |5283d313972a24f0e71c47ae3c99958b|\n",
            "|http://www.mddefp.gouv.qc.ca/poissons/st-maurice/tumeur.jpg    |tumeur.jpg|jpg      |image/jpeg          |image/jpeg    |310  |220   |5283d313972a24f0e71c47ae3c99958b|\n",
            "|http://www.mddefp.gouv.qc.ca/poissons/chaudiere/tumeur.jpg     |tumeur.jpg|jpg      |image/jpeg          |image/jpeg    |310  |220   |5283d313972a24f0e71c47ae3c99958b|\n",
            "|http://mddefp.gouv.qc.ca/poissons/yamaska/tumeur.jpg           |tumeur.jpg|jpg      |image/jpeg          |image/jpeg    |310  |220   |5283d313972a24f0e71c47ae3c99958b|\n",
            "|http://mddefp.gouv.qc.ca/poissons/assomption/tumeur.jpg        |tumeur.jpg|jpg      |image/jpeg          |image/jpeg    |310  |220   |5283d313972a24f0e71c47ae3c99958b|\n",
            "|http://mddefp.gouv.qc.ca/poissons/richelieu/tumeur.jpg         |tumeur.jpg|jpg      |image/jpeg          |image/jpeg    |310  |220   |5283d313972a24f0e71c47ae3c99958b|\n",
            "|http://mddefp.gouv.qc.ca/poissons/st-francois/tumeur.jpg       |tumeur.jpg|jpg      |image/jpeg          |image/jpeg    |310  |220   |5283d313972a24f0e71c47ae3c99958b|\n",
            "|http://mddefp.gouv.qc.ca/poissons/st-charles/tumeur.jpg        |tumeur.jpg|jpg      |image/jpeg          |image/jpeg    |310  |220   |5283d313972a24f0e71c47ae3c99958b|\n",
            "|http://mddefp.gouv.qc.ca/poissons/chateauguay/tumeur.jpg       |tumeur.jpg|jpg      |image/jpeg          |image/jpeg    |310  |220   |5283d313972a24f0e71c47ae3c99958b|\n",
            "|http://www.mddep.gouv.qc.ca/poissons/richelieu/tumeur.jpg      |tumeur.jpg|jpg      |image/jpeg          |image/jpeg    |310  |220   |5283d313972a24f0e71c47ae3c99958b|\n",
            "|http://www.mddep.gouv.qc.ca/poissons/st-maurice/tumeur.jpg     |tumeur.jpg|jpg      |image/jpeg          |image/jpeg    |310  |220   |5283d313972a24f0e71c47ae3c99958b|\n",
            "|http://www.mddep.gouv.qc.ca/poissons/st-francois/tumeur.jpg    |tumeur.jpg|jpg      |image/jpeg          |image/jpeg    |310  |220   |5283d313972a24f0e71c47ae3c99958b|\n",
            "|http://www.mddep.gouv.qc.ca/poissons/chaudiere/tumeur.jpg      |tumeur.jpg|jpg      |image/jpeg          |image/jpeg    |310  |220   |5283d313972a24f0e71c47ae3c99958b|\n",
            "|http://www.mddep.gouv.qc.ca/poissons/yamaska/tumeur.jpg        |tumeur.jpg|jpg      |image/jpeg          |image/jpeg    |310  |220   |5283d313972a24f0e71c47ae3c99958b|\n",
            "|http://www.mddep.gouv.qc.ca/poissons/chateauguay/tumeur.jpg    |tumeur.jpg|jpg      |image/jpeg          |image/jpeg    |310  |220   |5283d313972a24f0e71c47ae3c99958b|\n",
            "|http://www.mddep.gouv.qc.ca/poissons/assomption/tumeur.jpg     |tumeur.jpg|jpg      |image/jpeg          |image/jpeg    |310  |220   |5283d313972a24f0e71c47ae3c99958b|\n",
            "|http://www.mddep.gouv.qc.ca/poissons/st-charles/tumeur.jpg     |tumeur.jpg|jpg      |image/jpeg          |image/jpeg    |310  |220   |5283d313972a24f0e71c47ae3c99958b|\n",
            "+---------------------------------------------------------------+----------+---------+--------------------+--------------+-----+------+--------------------------------+\n",
            "\n"
          ],
          "name": "stdout"
        }
      ]
    }
  ]
}