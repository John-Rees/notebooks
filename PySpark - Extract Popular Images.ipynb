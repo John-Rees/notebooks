{
 "cells": [
  {
   "cell_type": "code",
   "execution_count": 1,
   "metadata": {},
   "outputs": [],
   "source": [
    "from aut import *"
   ]
  },
  {
   "cell_type": "code",
   "execution_count": 2,
   "metadata": {},
   "outputs": [],
   "source": [
    "# Web archive collection; images.\n",
    "images = WebArchive(sc, sqlContext, \"/home/nruest/Projects/au/sample-data/geocities\").images()"
   ]
  },
  {
   "cell_type": "code",
   "execution_count": 3,
   "metadata": {},
   "outputs": [
    {
     "name": "stdout",
     "output_type": "stream",
     "text": [
      "+----------+--------------------+--------------------+---------+--------------------+--------------+-----+------+--------------------+--------------------+--------------------+\n",
      "|crawl_date|                 url|            filename|extension|mime_type_web_server|mime_type_tika|width|height|                 md5|                sha1|               bytes|\n",
      "+----------+--------------------+--------------------+---------+--------------------+--------------+-----+------+--------------------+--------------------+--------------------+\n",
      "|  20091027|http://geocities....|bodyboardhowto_08...|      gif|           image/gif|     image/gif|  122|    42|17827882f7bf42860...|054ed6bee447d4165...|R0lGODlhegAqAPcAA...|\n",
      "|  20091027|http://geocities....|products.htm_cmp_...|      gif|           image/gif|     image/gif|  140|    60|899bc6e3309b0fc78...|c12218204f212d37d...|R0lGODlhjAA8AOMAA...|\n",
      "|  20091027|http://geocities....|           choc1.jpg|      jpg|          image/jpeg|    image/jpeg|  110|   110|955f6c342ffed6823...|5933e16f8c8444821...|/9j/4AAQSkZJRgABA...|\n",
      "|  20091027|http://geocities....|            0087.jpg|      jpg|          image/jpeg|    image/jpeg|   75|   100|47718718ddfd7d43a...|3af77b7faeaa5a0d3...|/9j/4AAQSkZJRgABA...|\n",
      "|  20091027|http://geocities....|      newyears_1.gif|      gif|           image/gif|     image/gif|  200|   274|8ada65828daff258e...|004a7bdadfadc1e28...|R0lGODlhyAASAfcAA...|\n",
      "|  20091027|http://geocities....|          garage.jpg|      jpg|          image/jpeg|    image/jpeg|  600|   422|626a59f173d5ea2f0...|2ed34b7c41340a141...|/9j/4AAQSkZJRgABA...|\n",
      "|  20091027|http://www.geocit...|         leevi02.jpg|      jpg|          image/jpeg|    image/jpeg|  176|   150|86138dc411c8a079b...|0b0ef066f53840938...|/9j/4AAQSkZJRgABA...|\n",
      "|  20091027|http://geocities....|       rose_open.gif|      gif|           image/gif|     image/gif|  120|   112|d6acf3534878f1cb9...|ece458c0c5c5351fd...|R0lGODlheABwAPQAA...|\n",
      "|  20091027|http://www.geocit...|        enterCLR.gif|      gif|           image/gif|     image/gif|  100|    70|cd80d70bf2517e0f1...|a3829ce2ebadb488a...|R0lGODlhZABGANQAA...|\n",
      "|  20091027|http://geocities....|     Film0002_18.jpg|      jpg|          image/jpeg|    image/jpeg|  192|   300|824557238e36624f7...|317cb2ab866247a7a...|/9j/4AAQSkZJRgABA...|\n",
      "|  20091027|http://geocities....|mike.htm_cmp_bloc...|      gif|           image/gif|     image/gif|  600|    60|11ec6724ac8f61b95...|b0151deb6b48df348...|R0lGODlhWAI8AOMAA...|\n",
      "|  20091027|http://geocities....|            0017.jpg|      jpg|          image/jpeg|    image/jpeg|   75|   100|797a0805347d6384c...|8fc1436904aaaebd5...|/9j/4AAQSkZJRgABA...|\n",
      "|  20091027|http://www.geocit...|          mary01.jpg|      jpg|          image/jpeg|    image/jpeg|  181|   377|08f510fe75f6f70d8...|663ecdc8835e93005...|/9j/4AAQSkZJRgABA...|\n",
      "|  20091027|http://geocities....|     dayl_button.gif|      gif|           image/gif|     image/gif|   42|    30|29838b4f98b9cccef...|9599ee281e4c20fd0...|R0lGODlhKgAeAPcAA...|\n",
      "|  20091027|http://geocities....|           MTW48.jpg|      jpg|          image/jpeg|    image/jpeg|  246|   262|ccbc878b6832f15e6...|130179b92a90c98fa...|/9j/4AAQSkZJRgABA...|\n",
      "|  20091027|http://geocities....|up_cmp_blocks110_...|      gif|           image/gif|     image/gif|  140|    60|6377484ef666ab5f5...|d4d4fb8c42403221b...|R0lGODlhjAA8AOMAA...|\n",
      "|  20091027|http://geocities....|       red-dk-lg.gif|      gif|           image/gif|     image/gif|   19|    19|a3c296a2371b5221d...|ca2b55197ae856934...|R0lGODlhEwATAIQAA...|\n",
      "|  20091027|http://www.geocit...|           jesse.jpg|      jpg|          image/jpeg|    image/jpeg|  183|   150|eca62b02a39127626...|3a61c2277de824f8f...|/9j/4AAQSkZJRgABA...|\n",
      "|  20091027|http://geocities....|skatepagepics_12.gif|      gif|           image/gif|     image/gif|  125|    42|d87e2a1bd5e6d9614...|951679fe427db957b...|R0lGODlhfQAqAPcAA...|\n",
      "|  20091027|http://geocities....|  skylight_small.jpg|      jpg|          image/jpeg|    image/jpeg|  100|    62|ea69da4bb38c7a519...|9e8e1a0b9a1aab72a...|/9j/4AAQSkZJRgABA...|\n",
      "+----------+--------------------+--------------------+---------+--------------------+--------------+-----+------+--------------------+--------------------+--------------------+\n",
      "only showing top 20 rows\n",
      "\n"
     ]
    }
   ],
   "source": [
    "# Show images DataFrame\n",
    "images.show()"
   ]
  },
  {
   "cell_type": "code",
   "execution_count": 4,
   "metadata": {},
   "outputs": [],
   "source": [
    "popular_images = Extract_Popular_Images(images, 20, 10, 10)"
   ]
  },
  {
   "cell_type": "code",
   "execution_count": 5,
   "metadata": {},
   "outputs": [
    {
     "name": "stdout",
     "output_type": "stream",
     "text": [
      "+--------------------+-----+\n",
      "|                 url|count|\n",
      "+--------------------+-----+\n",
      "|http://geocities....|  755|\n",
      "|http://geocities....|   58|\n",
      "|http://geocities....|   56|\n",
      "|http://geocities....|   51|\n",
      "|http://www.geocit...|   43|\n",
      "|http://geocities....|   39|\n",
      "|http://geocities....|   33|\n",
      "|http://geocities....|   31|\n",
      "|http://geocities....|   30|\n",
      "|http://geocities....|   29|\n",
      "|http://i24.photob...|   28|\n",
      "|http://geocities....|   26|\n",
      "|http://geocities....|   25|\n",
      "|http://geocities....|   25|\n",
      "|http://geocities....|   24|\n",
      "|http://geocities....|   24|\n",
      "|http://geocities....|   22|\n",
      "|http://geocities....|   22|\n",
      "|http://geocities....|   22|\n",
      "|http://www.geocit...|   22|\n",
      "+--------------------+-----+\n",
      "\n"
     ]
    }
   ],
   "source": [
    "popular_images.show()"
   ]
  }
 ],
 "metadata": {
  "kernelspec": {
   "display_name": "Python 3",
   "language": "python",
   "name": "python3"
  },
  "language_info": {
   "codemirror_mode": {
    "name": "ipython",
    "version": 3
   },
   "file_extension": ".py",
   "mimetype": "text/x-python",
   "name": "python",
   "nbconvert_exporter": "python",
   "pygments_lexer": "ipython3",
   "version": "3.7.3"
  }
 },
 "nbformat": 4,
 "nbformat_minor": 2
}
