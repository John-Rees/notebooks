{
  "nbformat": 4,
  "nbformat_minor": 0,
  "metadata": {
    "colab": {
      "name": "parquet_pandas_stonewall.ipynb",
      "provenance": [],
      "machine_shape": "hm",
      "include_colab_link": true
    },
    "kernelspec": {
      "name": "python3",
      "display_name": "Python 3"
    }
  },
  "cells": [
    {
      "cell_type": "markdown",
      "metadata": {
        "id": "view-in-github",
        "colab_type": "text"
      },
      "source": [
        "<a href=\"https://colab.research.google.com/github/archivesunleashed/notebooks/blob/master/parquet_pandas_stonewall.ipynb\" target=\"_parent\"><img src=\"https://colab.research.google.com/assets/colab-badge.svg\" alt=\"Open In Colab\"/></a>"
      ]
    },
    {
      "cell_type": "markdown",
      "metadata": {
        "id": "EN0gajhr7pKd",
        "colab_type": "text"
      },
      "source": [
        "# Working with Archives Unleashed Parquet Derivatives\n",
        "\n",
        "In this notebook, we'll setup an environment, then download a dataset of web archive collection derivatives that were produced with the [Archives Unleashed Toolkit](https://github.com/archivesunleashed/aut/). These derivatives are in the [Apache Parquet](https://parquet.apache.org/) format, which is a [columnar storage](http://en.wikipedia.org/wiki/Column-oriented_DBMS) format. These derivatives are generally small enough to work with on your local machine, and can be easily converted to Pandas DataFrames as demonstrated below.\n",
        "\n",
        "This notebook is useful for exploring the following derivatives. \n",
        "\n",
        "**[Binary Analysis](https://github.com/archivesunleashed/aut-docs/blob/master/current/binary-analysis.md#binary-analysis)**\n",
        "- [Audio](https://github.com/archivesunleashed/aut-docs/blob/master/current/binary-analysis.md#extract-audio-information)\n",
        "- [Images](https://github.com/archivesunleashed/aut-docs/blob/master/current/binary-analysis.md#extract-image-information)\n",
        "- [PDFs](https://github.com/archivesunleashed/aut-docs/blob/master/current/binary-analysis.md#extract-pdf-information)\n",
        "- [Presentation program files](https://github.com/archivesunleashed/aut-docs/blob/master/current/binary-analysis.md#extract-presentation-program-files-information)\n",
        "- [Spreadsheets](https://github.com/archivesunleashed/aut-docs/blob/master/current/binary-analysis.md#extract-spreadsheet-information)\n",
        "- [Text files](https://github.com/archivesunleashed/aut-docs/blob/master/current/binary-analysis.md#extract-text-files-information)\n",
        "- [Word processor files](https://github.com/archivesunleashed/aut-docs/blob/master/current/binary-analysis.md#extract-word-processor-files-information)\n",
        "\n",
        "**Web Pages**\n",
        "\n",
        "`.webpages().select($\"crawl_date\", $\"url\", $\"mime_type_web_server\", $\"mime_type_tika\", RemoveHTMLDF(RemoveHTTPHeaderDF(($\"content\"))).alias(\"content\"))` \n",
        "\n",
        "Produces a DataFrame with the following columns:\n",
        "  - `crawl_date`\n",
        "  - `url`\n",
        "  - `mime_type_web_server`\n",
        "  - `mime_type_tika`\n",
        "  - `content`\n",
        "\n",
        "As the `webpages` derivative is especially rich - it contains the full text of all webpages - we have a separate notebook for [text analysis](https://github.com/archivesunleashed/notebooks/blob/master/parquet_text_analyis.ipynb) here.\n",
        "\n",
        "**Web Graph**\n",
        "\n",
        "`.webgraph()` \n",
        "\n",
        "Produces a DataFrame with the following columns:\n",
        "  - `crawl_date`\n",
        "  - `src`\n",
        "  - `dest`\n",
        "  - `anchor`\n",
        "\n",
        "**Image Links**\n",
        "\n",
        "`.imageLinks()`\n",
        "\n",
        "Produces a DataFrame with the following columns:\n",
        "  - `src`\n",
        "  - `image_url`\n",
        "\n",
        "**Domains**\n",
        "\n",
        "`.webpages().groupBy(ExtractDomainDF($\"url\").alias(\"url\")).count().sort($\"count\".desc)`\n",
        "\n",
        "Produces a DataFrame with the following columns:\n",
        "- domain\n",
        "- count\n",
        "\n",
        "We recommend running through the notebook with the provided sample dataset. You may then want to substitute it with your own dataset."
      ]
    },
    {
      "cell_type": "markdown",
      "metadata": {
        "id": "OctPUqrG-K2W",
        "colab_type": "text"
      },
      "source": [
        "# Dataset\n",
        "\n",
        "Web archive derivatives of the [Stonewall 50 Commemoration collection](https://archive-it.org/collections/12143) from [Columbia University Libraries](https://archive-it.org/home/Columbia). The derivatives were created with the [Archives Unleashed Toolkit](https://github.com/archivesunleashed/aut/) and [Archives Unleashed Cloud](https://cloud.archivesunleashed.org/).\n",
        "\n",
        "\n",
        "[![DOI](https://zenodo.org/badge/DOI/10.5281/zenodo.3631347.svg)](https://doi.org/10.5281/zenodo.3631347)\n",
        "\n",
        "\n",
        "Curious about the size the derivative Parquet output compared to the size of the web archive collection?\n",
        "\n",
        "The total size of all 11 Parquet deriatives is 2.2G, with `webpages` being the largest (1.5G) since it has a column with full text (`content`).\n",
        "\n",
        "```\n",
        "16K     parquet/presentation-program-files\n",
        "1.5G    parquet/webpages\n",
        "16K     parquet/spreadsheet\n",
        "784K    parquet/pdf\n",
        "24K     parquet/word-processor\n",
        "2.4M    parquet/text-files\n",
        "105M    parquet/image\n",
        "180M    parquet/imagelinks\n",
        "1.7M    parquet/audio\n",
        "433M    parquet/webgraph\n",
        "308K    parquet/domains\n",
        "2.2G    parquet/\n",
        "```\n",
        "\n",
        "The total size of the web archive collection is 128G.\n",
        "\n",
        "The following command downloads all of the parquets file from the Zenodo data repository. To run a 'cell,' you can click the play button next to the cell or you can press your shift key and enter key at the same time.\n",
        "\n",
        "Whenever you see code snippets like this, you should do the same thing to run it.\n"
      ]
    },
    {
      "cell_type": "code",
      "metadata": {
        "id": "m3FRzjAYyPid",
        "colab_type": "code",
        "colab": {}
      },
      "source": [
        "%%capture\n",
        "\n",
        "!curl -L \"https://zenodo.org/record/3631347/files/cul-12143-parquet.tar.gz?download=1\" > cul-12143-parquet.tar.gz\n",
        "!tar -xzf cul-12143-parquet.tar.gz"
      ],
      "execution_count": 0,
      "outputs": []
    },
    {
      "cell_type": "markdown",
      "metadata": {
        "id": "h3Nr_JCbsWx8",
        "colab_type": "text"
      },
      "source": [
        "The following command provides a list of all the downloaded parquet files. You should see a list of all the different derivatives here - note that they line up with the list provided at the beginning of this notebook.\n"
      ]
    },
    {
      "cell_type": "code",
      "metadata": {
        "id": "2RK74TCSuIXE",
        "colab_type": "code",
        "outputId": "6d3b7d5e-fc15-473e-e7c7-a782867094a7",
        "colab": {
          "base_uri": "https://localhost:8080/",
          "height": 219
        }
      },
      "source": [
        "!ls -1 parquet"
      ],
      "execution_count": 2,
      "outputs": [
        {
          "output_type": "stream",
          "text": [
            "audio\n",
            "domains\n",
            "image\n",
            "imagelinks\n",
            "pdf\n",
            "presentation-program-files\n",
            "spreadsheet\n",
            "text-files\n",
            "webgraph\n",
            "webpages\n",
            "word-processor\n"
          ],
          "name": "stdout"
        }
      ]
    },
    {
      "cell_type": "markdown",
      "metadata": {
        "colab_type": "text",
        "id": "JS0T6i4xPTVx"
      },
      "source": [
        "# Environment\n",
        "\n",
        "Next, we'll setup our environment so we can work with the Parquet output with [Pandas](https://pandas.pydata.org)."
      ]
    },
    {
      "cell_type": "code",
      "metadata": {
        "colab_type": "code",
        "id": "n56-DeEFPTCq",
        "colab": {}
      },
      "source": [
        "import numpy as np\n",
        "import pandas as pd\n",
        "import pyarrow as pa\n",
        "import pyarrow.parquet as pq\n",
        "import matplotlib.pyplot as plt"
      ],
      "execution_count": 0,
      "outputs": []
    },
    {
      "cell_type": "markdown",
      "metadata": {
        "id": "oFAFb2X3_VJC",
        "colab_type": "text"
      },
      "source": [
        "# Loading our Archives Unleashed Datasets as DataFrames\n",
        "\n",
        "Next, we'll load up our datasets to work with and show a preview of each. We'll load the network, domains, web graph, and images. \n",
        "\n",
        "The remainder of the binary datasets (audio, video, spreadsheets, etc.) will all follow the same pattern as the images dataset, except that they do not have the height and width columns. A useful exercise when trying to learn how to use this would be to swap out images for audio, for example, and see how you can explore these other file types.\n",
        "\n",
        "We've provided a [separate notebook](https://github.com/archivesunleashed/notebooks/blob/master/parquet_text_analyis.ipynb) to work with the pages dataset  because it tends to be resource intensive.\n"
      ]
    },
    {
      "cell_type": "markdown",
      "metadata": {
        "id": "SnEntLU0U2ox",
        "colab_type": "text"
      },
      "source": [
        "## Images\n",
        "\n",
        "The following commands create a variable called `images` that contain a DataFrame with all of the image information from the web archive. \n",
        "\n",
        "**Reminder:** If you want to look at a differnt derivative, you can, for instance, replace out `images` for `audio`."
      ]
    },
    {
      "cell_type": "code",
      "metadata": {
        "id": "GhE_Vhv8Awkx",
        "colab_type": "code",
        "outputId": "62243d04-9f46-4cb3-d281-5dac666eae76",
        "colab": {
          "base_uri": "https://localhost:8080/",
          "height": 424
        }
      },
      "source": [
        "images_parquet = pq.read_table('parquet/image')\n",
        "images = images_parquet.to_pandas()\n",
        "images"
      ],
      "execution_count": 5,
      "outputs": [
        {
          "output_type": "execute_result",
          "data": {
            "text/html": [
              "<div>\n",
              "<style scoped>\n",
              "    .dataframe tbody tr th:only-of-type {\n",
              "        vertical-align: middle;\n",
              "    }\n",
              "\n",
              "    .dataframe tbody tr th {\n",
              "        vertical-align: top;\n",
              "    }\n",
              "\n",
              "    .dataframe thead th {\n",
              "        text-align: right;\n",
              "    }\n",
              "</style>\n",
              "<table border=\"1\" class=\"dataframe\">\n",
              "  <thead>\n",
              "    <tr style=\"text-align: right;\">\n",
              "      <th></th>\n",
              "      <th>url</th>\n",
              "      <th>filename</th>\n",
              "      <th>extension</th>\n",
              "      <th>mime_type_web_server</th>\n",
              "      <th>mime_type_tika</th>\n",
              "      <th>width</th>\n",
              "      <th>height</th>\n",
              "      <th>md5</th>\n",
              "    </tr>\n",
              "  </thead>\n",
              "  <tbody>\n",
              "    <tr>\n",
              "      <th>0</th>\n",
              "      <td>https://upload.wikimedia.org/wikipedia/commons...</td>\n",
              "      <td>250px-VirusTotal_Logo.svg.png</td>\n",
              "      <td>png</td>\n",
              "      <td>image/png</td>\n",
              "      <td>image/png</td>\n",
              "      <td>250</td>\n",
              "      <td>50</td>\n",
              "      <td>ffffc3d4dd0d5ca5cfd20066bf9be493</td>\n",
              "    </tr>\n",
              "    <tr>\n",
              "      <th>1</th>\n",
              "      <td>https://upload.wikimedia.org/wikipedia/commons...</td>\n",
              "      <td>60px-US-O3_insignia.svg.png</td>\n",
              "      <td>png</td>\n",
              "      <td>image/png</td>\n",
              "      <td>image/png</td>\n",
              "      <td>60</td>\n",
              "      <td>56</td>\n",
              "      <td>ffffba9c242928a6a907ea23577d41a0</td>\n",
              "    </tr>\n",
              "    <tr>\n",
              "      <th>2</th>\n",
              "      <td>https://bestgaynewyork.com/wp-content/uploads/...</td>\n",
              "      <td>world-pride-nyc-2019-stonewall-300x151.jpg</td>\n",
              "      <td>jpg</td>\n",
              "      <td>image/jpeg</td>\n",
              "      <td>image/jpeg</td>\n",
              "      <td>300</td>\n",
              "      <td>151</td>\n",
              "      <td>ffff454c66b8f105bd12e4e12229a34b</td>\n",
              "    </tr>\n",
              "    <tr>\n",
              "      <th>3</th>\n",
              "      <td>https://maps.wikimedia.org/img/osm-intl,6,40.9...</td>\n",
              "      <td>osm-intl,6,40.94,-72.68,300x200.png</td>\n",
              "      <td>png</td>\n",
              "      <td>image/png</td>\n",
              "      <td>image/png</td>\n",
              "      <td>300</td>\n",
              "      <td>200</td>\n",
              "      <td>ffff4411332dc5fd4bdb1992108e60ac</td>\n",
              "    </tr>\n",
              "    <tr>\n",
              "      <th>4</th>\n",
              "      <td>https://upload.wikimedia.org/wikipedia/commons...</td>\n",
              "      <td>220px-OldPostOfficeTomahWI.JPG</td>\n",
              "      <td>jpg</td>\n",
              "      <td>image/jpeg</td>\n",
              "      <td>image/jpeg</td>\n",
              "      <td>220</td>\n",
              "      <td>157</td>\n",
              "      <td>fffeebdfd9e8f1fe21fbfcc09c244fc4</td>\n",
              "    </tr>\n",
              "    <tr>\n",
              "      <th>...</th>\n",
              "      <td>...</td>\n",
              "      <td>...</td>\n",
              "      <td>...</td>\n",
              "      <td>...</td>\n",
              "      <td>...</td>\n",
              "      <td>...</td>\n",
              "      <td>...</td>\n",
              "      <td>...</td>\n",
              "    </tr>\n",
              "    <tr>\n",
              "      <th>311981</th>\n",
              "      <td>https://upload.wikimedia.org/wikipedia/commons...</td>\n",
              "      <td>48px-KlingonLang_w.svg.png</td>\n",
              "      <td>png</td>\n",
              "      <td>image/png</td>\n",
              "      <td>image/png</td>\n",
              "      <td>48</td>\n",
              "      <td>62</td>\n",
              "      <td>0000d77176fc96d19a215b55d27b65a0</td>\n",
              "    </tr>\n",
              "    <tr>\n",
              "      <th>311982</th>\n",
              "      <td>https://assets.vogue.com/photos/587736c14188c6...</td>\n",
              "      <td>sung-hee-kim-lais-ribeiro.jpg</td>\n",
              "      <td>jpg</td>\n",
              "      <td>image/jpeg</td>\n",
              "      <td>image/jpeg</td>\n",
              "      <td>2000</td>\n",
              "      <td>2582</td>\n",
              "      <td>000089ae142fd57e91b20e32f0010b5e</td>\n",
              "    </tr>\n",
              "    <tr>\n",
              "      <th>311983</th>\n",
              "      <td>https://planettransgender.com/wp-content/uploa...</td>\n",
              "      <td>apple-touch-icon-144x144.png</td>\n",
              "      <td>png</td>\n",
              "      <td>image/png</td>\n",
              "      <td>image/png</td>\n",
              "      <td>144</td>\n",
              "      <td>144</td>\n",
              "      <td>00006084a583f54c83a659b1d83332e8</td>\n",
              "    </tr>\n",
              "    <tr>\n",
              "      <th>311984</th>\n",
              "      <td>https://upload.wikimedia.org/wikipedia/commons...</td>\n",
              "      <td>50px-UA_shoulder_mark_10.svg.png</td>\n",
              "      <td>png</td>\n",
              "      <td>image/png</td>\n",
              "      <td>image/png</td>\n",
              "      <td>50</td>\n",
              "      <td>135</td>\n",
              "      <td>000035e22329b97c663aaaf40ae7b6bd</td>\n",
              "    </tr>\n",
              "    <tr>\n",
              "      <th>311985</th>\n",
              "      <td>https://upload.wikimedia.org/wikipedia/commons...</td>\n",
              "      <td>440px-Milwaukee_Art_Museum_1_%28Mulad%29.jpg</td>\n",
              "      <td>jpg</td>\n",
              "      <td>image/jpeg</td>\n",
              "      <td>image/jpeg</td>\n",
              "      <td>440</td>\n",
              "      <td>293</td>\n",
              "      <td>00001444dbb484bb11e0d1b4d965f00e</td>\n",
              "    </tr>\n",
              "  </tbody>\n",
              "</table>\n",
              "<p>311986 rows × 8 columns</p>\n",
              "</div>"
            ],
            "text/plain": [
              "                                                      url  ...                               md5\n",
              "0       https://upload.wikimedia.org/wikipedia/commons...  ...  ffffc3d4dd0d5ca5cfd20066bf9be493\n",
              "1       https://upload.wikimedia.org/wikipedia/commons...  ...  ffffba9c242928a6a907ea23577d41a0\n",
              "2       https://bestgaynewyork.com/wp-content/uploads/...  ...  ffff454c66b8f105bd12e4e12229a34b\n",
              "3       https://maps.wikimedia.org/img/osm-intl,6,40.9...  ...  ffff4411332dc5fd4bdb1992108e60ac\n",
              "4       https://upload.wikimedia.org/wikipedia/commons...  ...  fffeebdfd9e8f1fe21fbfcc09c244fc4\n",
              "...                                                   ...  ...                               ...\n",
              "311981  https://upload.wikimedia.org/wikipedia/commons...  ...  0000d77176fc96d19a215b55d27b65a0\n",
              "311982  https://assets.vogue.com/photos/587736c14188c6...  ...  000089ae142fd57e91b20e32f0010b5e\n",
              "311983  https://planettransgender.com/wp-content/uploa...  ...  00006084a583f54c83a659b1d83332e8\n",
              "311984  https://upload.wikimedia.org/wikipedia/commons...  ...  000035e22329b97c663aaaf40ae7b6bd\n",
              "311985  https://upload.wikimedia.org/wikipedia/commons...  ...  00001444dbb484bb11e0d1b4d965f00e\n",
              "\n",
              "[311986 rows x 8 columns]"
            ]
          },
          "metadata": {
            "tags": []
          },
          "execution_count": 5
        }
      ]
    },
    {
      "cell_type": "markdown",
      "metadata": {
        "id": "y5CmfUPNVAQH",
        "colab_type": "text"
      },
      "source": [
        "## Web Graph\n",
        "\n",
        "The next data that we will explore will be the \"web graph.\" This is a DataFrame containing all the hyperlinks within a collection - from `src` (or the page that _contains_ the link) to `dest` (or the page that the link is linking _to_). It also includes the date when this link was crawled, as well as the `anchor` text (what the user clicks on to visit)."
      ]
    },
    {
      "cell_type": "code",
      "metadata": {
        "id": "-YKUCY_izzT8",
        "colab_type": "code",
        "outputId": "573f83a1-6637-45ef-b7bb-08516496117d",
        "colab": {
          "base_uri": "https://localhost:8080/",
          "height": 424
        }
      },
      "source": [
        "webgraph_parquet = pq.read_table('parquet/webgraph')\n",
        "webgraph = webgraph_parquet.to_pandas()\n",
        "webgraph"
      ],
      "execution_count": 6,
      "outputs": [
        {
          "output_type": "execute_result",
          "data": {
            "text/html": [
              "<div>\n",
              "<style scoped>\n",
              "    .dataframe tbody tr th:only-of-type {\n",
              "        vertical-align: middle;\n",
              "    }\n",
              "\n",
              "    .dataframe tbody tr th {\n",
              "        vertical-align: top;\n",
              "    }\n",
              "\n",
              "    .dataframe thead th {\n",
              "        text-align: right;\n",
              "    }\n",
              "</style>\n",
              "<table border=\"1\" class=\"dataframe\">\n",
              "  <thead>\n",
              "    <tr style=\"text-align: right;\">\n",
              "      <th></th>\n",
              "      <th>crawl_date</th>\n",
              "      <th>src</th>\n",
              "      <th>dest</th>\n",
              "      <th>anchor</th>\n",
              "    </tr>\n",
              "  </thead>\n",
              "  <tbody>\n",
              "    <tr>\n",
              "      <th>0</th>\n",
              "      <td>20190708</td>\n",
              "      <td>https://www.youtube.com/watch?v=4MSelbHNTK8&amp;fe...</td>\n",
              "      <td>https://www.google.com/intl/en/policies/privacy/</td>\n",
              "      <td>Privacy</td>\n",
              "    </tr>\n",
              "    <tr>\n",
              "      <th>1</th>\n",
              "      <td>20190708</td>\n",
              "      <td>https://www.youtube.com/watch?v=4MSelbHNTK8&amp;fe...</td>\n",
              "      <td>https://www.google.com/support/legal/answer/31...</td>\n",
              "      <td>Legal Help page</td>\n",
              "    </tr>\n",
              "    <tr>\n",
              "      <th>2</th>\n",
              "      <td>20190708</td>\n",
              "      <td>https://accounts.google.com/ServiceLogin?uilel...</td>\n",
              "      <td>https://support.google.com/chrome/answer/61307...</td>\n",
              "      <td>Learn more</td>\n",
              "    </tr>\n",
              "    <tr>\n",
              "      <th>3</th>\n",
              "      <td>20190708</td>\n",
              "      <td>https://accounts.google.com/ServiceLogin?uilel...</td>\n",
              "      <td>https://support.google.com/accounts?hl=en</td>\n",
              "      <td>Help</td>\n",
              "    </tr>\n",
              "    <tr>\n",
              "      <th>4</th>\n",
              "      <td>20190708</td>\n",
              "      <td>https://accounts.google.com/ServiceLogin?uilel...</td>\n",
              "      <td>https://accounts.google.com/TOS?loc=US&amp;hl=en&amp;p...</td>\n",
              "      <td>Privacy</td>\n",
              "    </tr>\n",
              "    <tr>\n",
              "      <th>...</th>\n",
              "      <td>...</td>\n",
              "      <td>...</td>\n",
              "      <td>...</td>\n",
              "      <td>...</td>\n",
              "    </tr>\n",
              "    <tr>\n",
              "      <th>17518076</th>\n",
              "      <td>20190603</td>\n",
              "      <td>https://timessquares.nyc/stonewall50/search/%7...</td>\n",
              "      <td>https://grsquares.org/</td>\n",
              "      <td>Grand River Squares (MI)</td>\n",
              "    </tr>\n",
              "    <tr>\n",
              "      <th>17518077</th>\n",
              "      <td>20190603</td>\n",
              "      <td>https://timessquares.nyc/stonewall50/search/%7...</td>\n",
              "      <td>http://iagsdc.com/ottawa/</td>\n",
              "      <td>Ottawa Date Squares (Canada)</td>\n",
              "    </tr>\n",
              "    <tr>\n",
              "      <th>17518078</th>\n",
              "      <td>20190603</td>\n",
              "      <td>https://timessquares.nyc/stonewall50/search/%7...</td>\n",
              "      <td>https://puddletownsquares.org/</td>\n",
              "      <td>Puddletown Squares (WA)</td>\n",
              "    </tr>\n",
              "    <tr>\n",
              "      <th>17518079</th>\n",
              "      <td>20190603</td>\n",
              "      <td>https://timessquares.nyc/stonewall50/search/%7...</td>\n",
              "      <td>http://www.chesapeakesquares.org/</td>\n",
              "      <td>Chesapeake Squares (MD)</td>\n",
              "    </tr>\n",
              "    <tr>\n",
              "      <th>17518080</th>\n",
              "      <td>20190603</td>\n",
              "      <td>https://timessquares.nyc/stonewall50/search/%7...</td>\n",
              "      <td>http://www.hotlantasquares.org/</td>\n",
              "      <td>Hotlanta Squares (GA)</td>\n",
              "    </tr>\n",
              "  </tbody>\n",
              "</table>\n",
              "<p>17518081 rows × 4 columns</p>\n",
              "</div>"
            ],
            "text/plain": [
              "         crawl_date  ...                        anchor\n",
              "0          20190708  ...                       Privacy\n",
              "1          20190708  ...               Legal Help page\n",
              "2          20190708  ...                    Learn more\n",
              "3          20190708  ...                          Help\n",
              "4          20190708  ...                       Privacy\n",
              "...             ...  ...                           ...\n",
              "17518076   20190603  ...      Grand River Squares (MI)\n",
              "17518077   20190603  ...  Ottawa Date Squares (Canada)\n",
              "17518078   20190603  ...       Puddletown Squares (WA)\n",
              "17518079   20190603  ...       Chesapeake Squares (MD)\n",
              "17518080   20190603  ...         Hotlanta Squares (GA)\n",
              "\n",
              "[17518081 rows x 4 columns]"
            ]
          },
          "metadata": {
            "tags": []
          },
          "execution_count": 6
        }
      ]
    },
    {
      "cell_type": "markdown",
      "metadata": {
        "id": "ndZjsWKzUykd",
        "colab_type": "text"
      },
      "source": [
        "## Domains\n",
        "\n",
        "This derivative contains basic information about what's been collected in the crawl. Specifically we can analyze how often pages from each domain appear."
      ]
    },
    {
      "cell_type": "code",
      "metadata": {
        "id": "xUebRBMHuoRs",
        "colab_type": "code",
        "outputId": "6b5aaaa6-3ec5-4b13-c297-49ca78ef46f8",
        "colab": {
          "base_uri": "https://localhost:8080/",
          "height": 424
        }
      },
      "source": [
        "domains_parquet = pq.read_table('parquet/domains')\n",
        "domains = domains_parquet.to_pandas()\n",
        "domains"
      ],
      "execution_count": 7,
      "outputs": [
        {
          "output_type": "execute_result",
          "data": {
            "text/html": [
              "<div>\n",
              "<style scoped>\n",
              "    .dataframe tbody tr th:only-of-type {\n",
              "        vertical-align: middle;\n",
              "    }\n",
              "\n",
              "    .dataframe tbody tr th {\n",
              "        vertical-align: top;\n",
              "    }\n",
              "\n",
              "    .dataframe thead th {\n",
              "        text-align: right;\n",
              "    }\n",
              "</style>\n",
              "<table border=\"1\" class=\"dataframe\">\n",
              "  <thead>\n",
              "    <tr style=\"text-align: right;\">\n",
              "      <th></th>\n",
              "      <th>url</th>\n",
              "      <th>count</th>\n",
              "    </tr>\n",
              "  </thead>\n",
              "  <tbody>\n",
              "    <tr>\n",
              "      <th>0</th>\n",
              "      <td>www.nationalqueertheater.org</td>\n",
              "      <td>119016</td>\n",
              "    </tr>\n",
              "    <tr>\n",
              "      <th>1</th>\n",
              "      <td>www.stonewallchorale.org</td>\n",
              "      <td>118697</td>\n",
              "    </tr>\n",
              "    <tr>\n",
              "      <th>2</th>\n",
              "      <td>en.wikipedia.org</td>\n",
              "      <td>103231</td>\n",
              "    </tr>\n",
              "    <tr>\n",
              "      <th>3</th>\n",
              "      <td>accounts.google.com</td>\n",
              "      <td>55555</td>\n",
              "    </tr>\n",
              "    <tr>\n",
              "      <th>4</th>\n",
              "      <td>mobile.twitter.com</td>\n",
              "      <td>29955</td>\n",
              "    </tr>\n",
              "    <tr>\n",
              "      <th>...</th>\n",
              "      <td>...</td>\n",
              "      <td>...</td>\n",
              "    </tr>\n",
              "    <tr>\n",
              "      <th>3267</th>\n",
              "      <td>innonmainmanasquan.com</td>\n",
              "      <td>1</td>\n",
              "    </tr>\n",
              "    <tr>\n",
              "      <th>3268</th>\n",
              "      <td>nj.us.williamhill.com</td>\n",
              "      <td>1</td>\n",
              "    </tr>\n",
              "    <tr>\n",
              "      <th>3269</th>\n",
              "      <td>ld-linux.so</td>\n",
              "      <td>1</td>\n",
              "    </tr>\n",
              "    <tr>\n",
              "      <th>3270</th>\n",
              "      <td>conradhotels3.hilton.com</td>\n",
              "      <td>1</td>\n",
              "    </tr>\n",
              "    <tr>\n",
              "      <th>3271</th>\n",
              "      <td>www.consciouscolors.com</td>\n",
              "      <td>1</td>\n",
              "    </tr>\n",
              "  </tbody>\n",
              "</table>\n",
              "<p>3272 rows × 2 columns</p>\n",
              "</div>"
            ],
            "text/plain": [
              "                               url   count\n",
              "0     www.nationalqueertheater.org  119016\n",
              "1         www.stonewallchorale.org  118697\n",
              "2                 en.wikipedia.org  103231\n",
              "3              accounts.google.com   55555\n",
              "4               mobile.twitter.com   29955\n",
              "...                            ...     ...\n",
              "3267        innonmainmanasquan.com       1\n",
              "3268         nj.us.williamhill.com       1\n",
              "3269                   ld-linux.so       1\n",
              "3270      conradhotels3.hilton.com       1\n",
              "3271       www.consciouscolors.com       1\n",
              "\n",
              "[3272 rows x 2 columns]"
            ]
          },
          "metadata": {
            "tags": []
          },
          "execution_count": 7
        }
      ]
    },
    {
      "cell_type": "markdown",
      "metadata": {
        "id": "3HPwOCNAvqMe",
        "colab_type": "text"
      },
      "source": [
        "# Data Analysis\n",
        "\n",
        "Now that we have all of our datasets loaded up, we can begin to work with them!"
      ]
    },
    {
      "cell_type": "markdown",
      "metadata": {
        "id": "J6Pkg0prv3BE",
        "colab_type": "text"
      },
      "source": [
        "## Counting total files, and unique files\n"
      ]
    },
    {
      "cell_type": "markdown",
      "metadata": {
        "id": "DFX4Gl3wv7bi",
        "colab_type": "text"
      },
      "source": [
        "\n",
        "#### Count number of rows (how many images are in the web archive collection).\n"
      ]
    },
    {
      "cell_type": "code",
      "metadata": {
        "id": "bn-1v127aKIG",
        "colab_type": "code",
        "outputId": "e42580f3-257a-4b06-8dd3-d31a81d874ca",
        "colab": {
          "base_uri": "https://localhost:8080/",
          "height": 182
        }
      },
      "source": [
        "images.count()"
      ],
      "execution_count": 8,
      "outputs": [
        {
          "output_type": "execute_result",
          "data": {
            "text/plain": [
              "url                     311986\n",
              "filename                311986\n",
              "extension               311986\n",
              "mime_type_web_server    311986\n",
              "mime_type_tika          311986\n",
              "width                   311986\n",
              "height                  311986\n",
              "md5                     311986\n",
              "dtype: int64"
            ]
          },
          "metadata": {
            "tags": []
          },
          "execution_count": 8
        }
      ]
    },
    {
      "cell_type": "markdown",
      "metadata": {
        "id": "38veKiPhwKo4",
        "colab_type": "text"
      },
      "source": [
        " #### How many unique images are in the collection?\n",
        "\n",
        " We can see if an image is unique or not by computing an [MD5 hash](https://en.wikipedia.org/wiki/MD5#MD5_hashes) of it. The exact same image might be called `example.jpg` and `foo.jpg` - by computing the hash, we can see that even with different file names, they are actually the same image!\n",
        "\n",
        "\n"
      ]
    },
    {
      "cell_type": "code",
      "metadata": {
        "id": "WesM3kQowM5B",
        "colab_type": "code",
        "outputId": "6bde95fa-c046-4361-88aa-c99c9c2dba24",
        "colab": {
          "base_uri": "https://localhost:8080/",
          "height": 35
        }
      },
      "source": [
        "len(images.md5.unique())"
      ],
      "execution_count": 9,
      "outputs": [
        {
          "output_type": "execute_result",
          "data": {
            "text/plain": [
              "309886"
            ]
          },
          "metadata": {
            "tags": []
          },
          "execution_count": 9
        }
      ]
    },
    {
      "cell_type": "markdown",
      "metadata": {
        "id": "ZIXkI0-1wWQf",
        "colab_type": "text"
      },
      "source": [
        "#### What are the top 10 most occurring images in the collection?\n",
        "\n",
        "Here we discover which image (or images) occur most frequently. "
      ]
    },
    {
      "cell_type": "code",
      "metadata": {
        "id": "8Ts03OFyjPIM",
        "colab_type": "code",
        "outputId": "b2cf0f3b-dee2-44b7-f583-b38f8af83cfa",
        "colab": {
          "base_uri": "https://localhost:8080/",
          "height": 219
        }
      },
      "source": [
        "images['md5'].value_counts().head(10)"
      ],
      "execution_count": 10,
      "outputs": [
        {
          "output_type": "execute_result",
          "data": {
            "text/plain": [
              "b798f4ce7359fd815df4bdf76503b295    84\n",
              "d89746888da2d9510b64a9f031eaecd5    61\n",
              "28d6814f309ea289f847c69cf91194c6    41\n",
              "b4491705564909da7f9eaf749dbbfbb1    24\n",
              "55d25e9dc950d5db4d53a3b195c046c6    19\n",
              "55108a6986058133800679a12521b280     9\n",
              "c4a2b870062c2bb98c500bc1526c0498     6\n",
              "6851dbf491ae442da3314f19e8aff085     6\n",
              "2bc8930b2b073552d8954d9f84058245     5\n",
              "8d006199d0a06f11383c76eb7d35c317     5\n",
              "Name: md5, dtype: int64"
            ]
          },
          "metadata": {
            "tags": []
          },
          "execution_count": 10
        }
      ]
    },
    {
      "cell_type": "markdown",
      "metadata": {
        "id": "FG7pGZUEwlaI",
        "colab_type": "text"
      },
      "source": [
        "\n",
        "#### What's the information around all of the occurances of `b798f4ce7359fd815df4bdf76503b295`?\n",
        "\n",
        "What, you mean you don't know what `b798f4ce7359fd815df4bdf76503b295` means? Let's find those images in the DataFrame table - we can here see the real file name (`erosion.jpg`) and more importantly, its URL within the web archive.\n"
      ]
    },
    {
      "cell_type": "code",
      "metadata": {
        "id": "msmmm65lkSIK",
        "colab_type": "code",
        "outputId": "c35e3789-5bed-4c8b-c9a7-d3547bed31f7",
        "colab": {
          "base_uri": "https://localhost:8080/",
          "height": 424
        }
      },
      "source": [
        "images.loc[images['md5'] == 'b798f4ce7359fd815df4bdf76503b295']"
      ],
      "execution_count": 11,
      "outputs": [
        {
          "output_type": "execute_result",
          "data": {
            "text/html": [
              "<div>\n",
              "<style scoped>\n",
              "    .dataframe tbody tr th:only-of-type {\n",
              "        vertical-align: middle;\n",
              "    }\n",
              "\n",
              "    .dataframe tbody tr th {\n",
              "        vertical-align: top;\n",
              "    }\n",
              "\n",
              "    .dataframe thead th {\n",
              "        text-align: right;\n",
              "    }\n",
              "</style>\n",
              "<table border=\"1\" class=\"dataframe\">\n",
              "  <thead>\n",
              "    <tr style=\"text-align: right;\">\n",
              "      <th></th>\n",
              "      <th>url</th>\n",
              "      <th>filename</th>\n",
              "      <th>extension</th>\n",
              "      <th>mime_type_web_server</th>\n",
              "      <th>mime_type_tika</th>\n",
              "      <th>width</th>\n",
              "      <th>height</th>\n",
              "      <th>md5</th>\n",
              "    </tr>\n",
              "  </thead>\n",
              "  <tbody>\n",
              "    <tr>\n",
              "      <th>88226</th>\n",
              "      <td>https://www.facebook.com/tr?id=735575706641503...</td>\n",
              "      <td>tr</td>\n",
              "      <td>gif</td>\n",
              "      <td>image/gif</td>\n",
              "      <td>image/gif</td>\n",
              "      <td>1</td>\n",
              "      <td>1</td>\n",
              "      <td>b798f4ce7359fd815df4bdf76503b295</td>\n",
              "    </tr>\n",
              "    <tr>\n",
              "      <th>88227</th>\n",
              "      <td>https://www.facebook.com/tr/?id=33531913663388...</td>\n",
              "      <td></td>\n",
              "      <td>gif</td>\n",
              "      <td>image/gif</td>\n",
              "      <td>image/gif</td>\n",
              "      <td>1</td>\n",
              "      <td>1</td>\n",
              "      <td>b798f4ce7359fd815df4bdf76503b295</td>\n",
              "    </tr>\n",
              "    <tr>\n",
              "      <th>88228</th>\n",
              "      <td>https://www.facebook.com/tr/?id=39855345091085...</td>\n",
              "      <td></td>\n",
              "      <td>gif</td>\n",
              "      <td>image/gif</td>\n",
              "      <td>image/gif</td>\n",
              "      <td>1</td>\n",
              "      <td>1</td>\n",
              "      <td>b798f4ce7359fd815df4bdf76503b295</td>\n",
              "    </tr>\n",
              "    <tr>\n",
              "      <th>88229</th>\n",
              "      <td>https://www.facebook.com/tr/?id=39855345091085...</td>\n",
              "      <td></td>\n",
              "      <td>gif</td>\n",
              "      <td>image/gif</td>\n",
              "      <td>image/gif</td>\n",
              "      <td>1</td>\n",
              "      <td>1</td>\n",
              "      <td>b798f4ce7359fd815df4bdf76503b295</td>\n",
              "    </tr>\n",
              "    <tr>\n",
              "      <th>88230</th>\n",
              "      <td>https://www.facebook.com/tr/?id=33531913663388...</td>\n",
              "      <td></td>\n",
              "      <td>gif</td>\n",
              "      <td>image/gif</td>\n",
              "      <td>image/gif</td>\n",
              "      <td>1</td>\n",
              "      <td>1</td>\n",
              "      <td>b798f4ce7359fd815df4bdf76503b295</td>\n",
              "    </tr>\n",
              "    <tr>\n",
              "      <th>...</th>\n",
              "      <td>...</td>\n",
              "      <td>...</td>\n",
              "      <td>...</td>\n",
              "      <td>...</td>\n",
              "      <td>...</td>\n",
              "      <td>...</td>\n",
              "      <td>...</td>\n",
              "      <td>...</td>\n",
              "    </tr>\n",
              "    <tr>\n",
              "      <th>88305</th>\n",
              "      <td>https://www.facebook.com/tr/?id=16215573681589...</td>\n",
              "      <td></td>\n",
              "      <td>gif</td>\n",
              "      <td>image/gif</td>\n",
              "      <td>image/gif</td>\n",
              "      <td>1</td>\n",
              "      <td>1</td>\n",
              "      <td>b798f4ce7359fd815df4bdf76503b295</td>\n",
              "    </tr>\n",
              "    <tr>\n",
              "      <th>88306</th>\n",
              "      <td>https://www.facebook.com/tr/?id=33531913663388...</td>\n",
              "      <td></td>\n",
              "      <td>gif</td>\n",
              "      <td>image/gif</td>\n",
              "      <td>image/gif</td>\n",
              "      <td>1</td>\n",
              "      <td>1</td>\n",
              "      <td>b798f4ce7359fd815df4bdf76503b295</td>\n",
              "    </tr>\n",
              "    <tr>\n",
              "      <th>88307</th>\n",
              "      <td>https://www.facebook.com/tr/?id=39855345091085...</td>\n",
              "      <td></td>\n",
              "      <td>gif</td>\n",
              "      <td>image/gif</td>\n",
              "      <td>image/gif</td>\n",
              "      <td>1</td>\n",
              "      <td>1</td>\n",
              "      <td>b798f4ce7359fd815df4bdf76503b295</td>\n",
              "    </tr>\n",
              "    <tr>\n",
              "      <th>88308</th>\n",
              "      <td>https://www.facebook.com/tr/?id=33531913663388...</td>\n",
              "      <td></td>\n",
              "      <td>gif</td>\n",
              "      <td>image/gif</td>\n",
              "      <td>image/gif</td>\n",
              "      <td>1</td>\n",
              "      <td>1</td>\n",
              "      <td>b798f4ce7359fd815df4bdf76503b295</td>\n",
              "    </tr>\n",
              "    <tr>\n",
              "      <th>88309</th>\n",
              "      <td>https://www.facebook.com/tr/?id=39855345091085...</td>\n",
              "      <td></td>\n",
              "      <td>gif</td>\n",
              "      <td>image/gif</td>\n",
              "      <td>image/gif</td>\n",
              "      <td>1</td>\n",
              "      <td>1</td>\n",
              "      <td>b798f4ce7359fd815df4bdf76503b295</td>\n",
              "    </tr>\n",
              "  </tbody>\n",
              "</table>\n",
              "<p>84 rows × 8 columns</p>\n",
              "</div>"
            ],
            "text/plain": [
              "                                                     url  ...                               md5\n",
              "88226  https://www.facebook.com/tr?id=735575706641503...  ...  b798f4ce7359fd815df4bdf76503b295\n",
              "88227  https://www.facebook.com/tr/?id=33531913663388...  ...  b798f4ce7359fd815df4bdf76503b295\n",
              "88228  https://www.facebook.com/tr/?id=39855345091085...  ...  b798f4ce7359fd815df4bdf76503b295\n",
              "88229  https://www.facebook.com/tr/?id=39855345091085...  ...  b798f4ce7359fd815df4bdf76503b295\n",
              "88230  https://www.facebook.com/tr/?id=33531913663388...  ...  b798f4ce7359fd815df4bdf76503b295\n",
              "...                                                  ...  ...                               ...\n",
              "88305  https://www.facebook.com/tr/?id=16215573681589...  ...  b798f4ce7359fd815df4bdf76503b295\n",
              "88306  https://www.facebook.com/tr/?id=33531913663388...  ...  b798f4ce7359fd815df4bdf76503b295\n",
              "88307  https://www.facebook.com/tr/?id=39855345091085...  ...  b798f4ce7359fd815df4bdf76503b295\n",
              "88308  https://www.facebook.com/tr/?id=33531913663388...  ...  b798f4ce7359fd815df4bdf76503b295\n",
              "88309  https://www.facebook.com/tr/?id=39855345091085...  ...  b798f4ce7359fd815df4bdf76503b295\n",
              "\n",
              "[84 rows x 8 columns]"
            ]
          },
          "metadata": {
            "tags": []
          },
          "execution_count": 11
        }
      ]
    },
    {
      "cell_type": "markdown",
      "metadata": {
        "id": "kE-8epARIG0-",
        "colab_type": "text"
      },
      "source": [
        "### What does `b798f4ce7359fd815df4bdf76503b295` look like?\n",
        "\n",
        "We can extract the binary from the web archive using our [binary extraction functions](https://github.com/archivesunleashed/aut-docs-new/blob/master/current/image-analysis.md#scala-df).\n",
        "\n",
        "```scala\n",
        "import io.archivesunleashed._\n",
        "import io.archivesunleashed.df._\n",
        "\n",
        "val df = RecordLoader\n",
        "  .loadArchives(\"example.arc.gz\", sc)\n",
        "  .extractImageDetailsDF();\n",
        "\n",
        "df.select($\"bytes\", $\"extension\")\n",
        "  .saveToDisk(\"bytes\", \"/path/to/export/directory/your-preferred-filename-prefix\", $\"extension\")\n",
        "```\n",
        "\n",
        "**But**, since we don't have access to the WARC files here, just the Parquet derivatives, we can make do  by trying to display a live web version of the image or a replay URL. In this case, BANQ's replay service is available at [https://waext.banq.qc.ca](https://waext.banq.qc.ca)."
      ]
    },
    {
      "cell_type": "code",
      "metadata": {
        "id": "wB3VqcmgJQM0",
        "colab_type": "code",
        "outputId": "12a533de-0663-4548-e219-ffcd91a35595",
        "colab": {
          "base_uri": "https://localhost:8080/",
          "height": 54
        }
      },
      "source": [
        "pd.options.display.max_colwidth = -1\n",
        "one_image = images.loc[images['md5'] == 'b798f4ce7359fd815df4bdf76503b295'].head(1)\n",
        "one_image['url']"
      ],
      "execution_count": 12,
      "outputs": [
        {
          "output_type": "execute_result",
          "data": {
            "text/plain": [
              "88226    https://www.facebook.com/tr?id=735575706641503&ev=PageView&noscript=1\n",
              "Name: url, dtype: object"
            ]
          },
          "metadata": {
            "tags": []
          },
          "execution_count": 12
        }
      ]
    },
    {
      "cell_type": "markdown",
      "metadata": {
        "id": "5YV2u_8aLEJS",
        "colab_type": "text"
      },
      "source": [
        "![1 pixel Facebook tracker](https://www.facebook.com/tr?id=735575706641503&ev=PageView&noscript=1)"
      ]
    },
    {
      "cell_type": "markdown",
      "metadata": {
        "id": "6YfsUGSRt1Ns",
        "colab_type": "text"
      },
      "source": [
        "Oh. Surprise, surprise. The most popular image is a 1-pixel image that [Facebook uses to track users for conversion](https://developers.facebook.com/docs/facebook-pixel/implementation/conversion-tracking)."
      ]
    },
    {
      "cell_type": "markdown",
      "metadata": {
        "id": "GbLLZW2awzCv",
        "colab_type": "text"
      },
      "source": [
        "#### What are the top 10 most occuring filenames in the collection?\n",
        "\n",
        "Note that this is of course different than the MD5 results up above. Here we are focusing _just_ on filename. So `carte-p.jpg` for example, might actually be referring to different images who happen to have the same name.\n"
      ]
    },
    {
      "cell_type": "code",
      "metadata": {
        "id": "pQaw54ACkwdZ",
        "colab_type": "code",
        "outputId": "e0ac6eae-1777-4246-a081-fa3db4b8778f",
        "colab": {
          "base_uri": "https://localhost:8080/",
          "height": 219
        }
      },
      "source": [
        "top_filenames = images['filename'].value_counts().head(10)\n",
        "top_filenames"
      ],
      "execution_count": 13,
      "outputs": [
        {
          "output_type": "execute_result",
          "data": {
            "text/plain": [
              "images                 12529\n",
              "                       10692\n",
              "favicon.ico            344  \n",
              "hqdefault.jpg          322  \n",
              "stonewall.jpg          103  \n",
              "image.jpg              97   \n",
              "maxresdefault.jpg      80   \n",
              "HOLDING.jpg            79   \n",
              "330px-thumbnail.jpg    72   \n",
              "220px-thumbnail.jpg    72   \n",
              "Name: filename, dtype: int64"
            ]
          },
          "metadata": {
            "tags": []
          },
          "execution_count": 13
        }
      ]
    },
    {
      "cell_type": "markdown",
      "metadata": {
        "id": "Z7F3re20BQRI",
        "colab_type": "text"
      },
      "source": [
        "#### Let's plot it!"
      ]
    },
    {
      "cell_type": "code",
      "metadata": {
        "id": "sRvlstfsBWEZ",
        "colab_type": "code",
        "outputId": "6dac5f5f-91ce-412d-ad97-e6719df231ac",
        "colab": {
          "base_uri": "https://localhost:8080/",
          "height": 749
        }
      },
      "source": [
        "top_filenames_chart = top_filenames.plot.bar(figsize=(25,10))\n",
        "top_filenames_chart.set_title(\"Top Filenames\", fontsize=22)\n",
        "top_filenames_chart.set_xlabel(\"Filename\", fontsize=20)\n",
        "top_filenames_chart.set_ylabel(\"Count\", fontsize=20)"
      ],
      "execution_count": 14,
      "outputs": [
        {
          "output_type": "execute_result",
          "data": {
            "text/plain": [
              "Text(0, 0.5, 'Count')"
            ]
          },
          "metadata": {
            "tags": []
          },
          "execution_count": 14
        },
        {
          "output_type": "display_data",
          "data": {
            "image/png": "[encoded data removed]",
            "text/plain": [
              "<Figure size 1800x720 with 1 Axes>"
            ]
          },
          "metadata": {
            "tags": []
          }
        }
      ]
    },
    {
      "cell_type": "markdown",
      "metadata": {
        "id": "BneaN9cgGoly",
        "colab_type": "text"
      },
      "source": [
        "#### How about a MIME type distribution?\n",
        "\n",
        "What _kind_ of image files are present? We can discover this by checking their \"media type\", or [MIME type](https://en.wikipedia.org/wiki/Media_type). \n",
        "\n",
        "\n",
        "\n",
        "\n"
      ]
    },
    {
      "cell_type": "code",
      "metadata": {
        "id": "RDd-J8D-GwDk",
        "colab_type": "code",
        "outputId": "6d12d61f-543c-4629-a1ab-2f8486eb0545",
        "colab": {
          "base_uri": "https://localhost:8080/",
          "height": 723
        }
      },
      "source": [
        "image_mime_types = images['mime_type_tika'].value_counts().head(5)\n",
        "image_mime_type_chart = image_mime_types.plot.bar(figsize=(20,10))\n",
        "image_mime_type_chart.set_title(\"Images MIME Type Distribution\", fontsize=22)\n",
        "image_mime_type_chart.set_xlabel(\"MIME Type\", fontsize=20)\n",
        "image_mime_type_chart.set_ylabel(\"Count\", fontsize=20)"
      ],
      "execution_count": 16,
      "outputs": [
        {
          "output_type": "execute_result",
          "data": {
            "text/plain": [
              "Text(0, 0.5, 'Count')"
            ]
          },
          "metadata": {
            "tags": []
          },
          "execution_count": 16
        },
        {
          "output_type": "display_data",
          "data": {
            "image/png": "[encoded data removed]",
            "text/plain": [
              "<Figure size 1440x720 with 1 Axes>"
            ]
          },
          "metadata": {
            "tags": []
          }
        }
      ]
    },
    {
      "cell_type": "markdown",
      "metadata": {
        "id": "QGHnjGRQPzqV",
        "colab_type": "text"
      },
      "source": [
        "#### How about the distribution of the top 10 domains?\n",
        "\n",
        "Here we can see which domains are the most frequent within the web archive."
      ]
    },
    {
      "cell_type": "code",
      "metadata": {
        "id": "C_X_YSD4PyQi",
        "colab_type": "code",
        "outputId": "b90dabb5-e565-4a53-a084-b309cc1b586b",
        "colab": {
          "base_uri": "https://localhost:8080/",
          "height": 961
        }
      },
      "source": [
        "top_domains = domains.sort_values('count', ascending=False).head(10)\n",
        "top_domains_chart = top_domains.plot.bar(x='url', y='count', figsize=(25,13))\n",
        "top_domains_chart.set_title(\"Domains Distribution\", fontsize=22)\n",
        "top_domains_chart.set_xlabel(\"Domain\", fontsize=20)\n",
        "top_domains_chart.set_ylabel(\"Count\", fontsize=20)"
      ],
      "execution_count": 17,
      "outputs": [
        {
          "output_type": "execute_result",
          "data": {
            "text/plain": [
              "Text(0, 0.5, 'Count')"
            ]
          },
          "metadata": {
            "tags": []
          },
          "execution_count": 17
        },
        {
          "output_type": "display_data",
          "data": {
            "image/png": "[encoded data removed]",
            "text/plain": [
              "<Figure size 1800x936 with 1 Axes>"
            ]
          },
          "metadata": {
            "tags": []
          }
        }
      ]
    },
    {
      "cell_type": "markdown",
      "metadata": {
        "id": "VDXDhqCcyyFj",
        "colab_type": "text"
      },
      "source": [
        "### Top Level Domain Analysis\n",
        "Now let's create a new column, `tld`, which is based off an existing column, 'Domain'. This example should give you an idea of how you can expand these datasets to do further research and analysis. \n",
        "\n",
        "A [top-level domain](https://en.wikipedia.org/wiki/Top-level_domain) refers to the highest domain in an address - i.e. `.ca`, `.com`, `.org`, or yes, even `.pizza`.\n",
        "\n",
        "Things get a bit complicated, however, in some national TLDs. While `qc.ca` (the domain for Quebec) isn't really a top-level domain, it has many of the features of one as people can directly register under it. Below, we'll use the command `suffix` to include this. \n",
        "\n",
        "> You can learn more about suffixes at https://publicsuffix.org.\n",
        "\n",
        "We'll take the `Domain` column and extract the `tld` from it with [`tldextract`](https://github.com/john-kurkowski/tldextract).\n",
        "\n",
        "First we'll add the [`tldextract`](https://github.com/john-kurkowski/tldextract) library to the notebook. Then, we'll create the new column."
      ]
    },
    {
      "cell_type": "code",
      "metadata": {
        "id": "clPJuQAe5mcg",
        "colab_type": "code",
        "colab": {}
      },
      "source": [
        "%%capture\n",
        "\n",
        "!pip install tldextract"
      ],
      "execution_count": 0,
      "outputs": []
    },
    {
      "cell_type": "code",
      "metadata": {
        "id": "mv7a-MLIx-3f",
        "colab_type": "code",
        "outputId": "3da05bf2-f338-40c5-ca7d-edee0955c3e8",
        "colab": {
          "base_uri": "https://localhost:8080/",
          "height": 424
        }
      },
      "source": [
        "import tldextract\n",
        "\n",
        "domains['tld'] = domains.apply(lambda row: tldextract.extract(row.url).domain, axis=1)\n",
        "domains"
      ],
      "execution_count": 20,
      "outputs": [
        {
          "output_type": "execute_result",
          "data": {
            "text/html": [
              "<div>\n",
              "<style scoped>\n",
              "    .dataframe tbody tr th:only-of-type {\n",
              "        vertical-align: middle;\n",
              "    }\n",
              "\n",
              "    .dataframe tbody tr th {\n",
              "        vertical-align: top;\n",
              "    }\n",
              "\n",
              "    .dataframe thead th {\n",
              "        text-align: right;\n",
              "    }\n",
              "</style>\n",
              "<table border=\"1\" class=\"dataframe\">\n",
              "  <thead>\n",
              "    <tr style=\"text-align: right;\">\n",
              "      <th></th>\n",
              "      <th>url</th>\n",
              "      <th>count</th>\n",
              "      <th>tld</th>\n",
              "    </tr>\n",
              "  </thead>\n",
              "  <tbody>\n",
              "    <tr>\n",
              "      <th>0</th>\n",
              "      <td>www.nationalqueertheater.org</td>\n",
              "      <td>119016</td>\n",
              "      <td>nationalqueertheater</td>\n",
              "    </tr>\n",
              "    <tr>\n",
              "      <th>1</th>\n",
              "      <td>www.stonewallchorale.org</td>\n",
              "      <td>118697</td>\n",
              "      <td>stonewallchorale</td>\n",
              "    </tr>\n",
              "    <tr>\n",
              "      <th>2</th>\n",
              "      <td>en.wikipedia.org</td>\n",
              "      <td>103231</td>\n",
              "      <td>wikipedia</td>\n",
              "    </tr>\n",
              "    <tr>\n",
              "      <th>3</th>\n",
              "      <td>accounts.google.com</td>\n",
              "      <td>55555</td>\n",
              "      <td>google</td>\n",
              "    </tr>\n",
              "    <tr>\n",
              "      <th>4</th>\n",
              "      <td>mobile.twitter.com</td>\n",
              "      <td>29955</td>\n",
              "      <td>twitter</td>\n",
              "    </tr>\n",
              "    <tr>\n",
              "      <th>...</th>\n",
              "      <td>...</td>\n",
              "      <td>...</td>\n",
              "      <td>...</td>\n",
              "    </tr>\n",
              "    <tr>\n",
              "      <th>3267</th>\n",
              "      <td>innonmainmanasquan.com</td>\n",
              "      <td>1</td>\n",
              "      <td>innonmainmanasquan</td>\n",
              "    </tr>\n",
              "    <tr>\n",
              "      <th>3268</th>\n",
              "      <td>nj.us.williamhill.com</td>\n",
              "      <td>1</td>\n",
              "      <td>williamhill</td>\n",
              "    </tr>\n",
              "    <tr>\n",
              "      <th>3269</th>\n",
              "      <td>ld-linux.so</td>\n",
              "      <td>1</td>\n",
              "      <td>ld-linux</td>\n",
              "    </tr>\n",
              "    <tr>\n",
              "      <th>3270</th>\n",
              "      <td>conradhotels3.hilton.com</td>\n",
              "      <td>1</td>\n",
              "      <td>hilton</td>\n",
              "    </tr>\n",
              "    <tr>\n",
              "      <th>3271</th>\n",
              "      <td>www.consciouscolors.com</td>\n",
              "      <td>1</td>\n",
              "      <td>consciouscolors</td>\n",
              "    </tr>\n",
              "  </tbody>\n",
              "</table>\n",
              "<p>3272 rows × 3 columns</p>\n",
              "</div>"
            ],
            "text/plain": [
              "                               url   count                   tld\n",
              "0     www.nationalqueertheater.org  119016  nationalqueertheater\n",
              "1     www.stonewallchorale.org      118697  stonewallchorale    \n",
              "2     en.wikipedia.org              103231  wikipedia           \n",
              "3     accounts.google.com           55555   google              \n",
              "4     mobile.twitter.com            29955   twitter             \n",
              "...                  ...              ...       ...             \n",
              "3267  innonmainmanasquan.com        1       innonmainmanasquan  \n",
              "3268  nj.us.williamhill.com         1       williamhill         \n",
              "3269  ld-linux.so                   1       ld-linux            \n",
              "3270  conradhotels3.hilton.com      1       hilton              \n",
              "3271  www.consciouscolors.com       1       consciouscolors     \n",
              "\n",
              "[3272 rows x 3 columns]"
            ]
          },
          "metadata": {
            "tags": []
          },
          "execution_count": 20
        }
      ]
    },
    {
      "cell_type": "markdown",
      "metadata": {
        "id": "jdXFS2yu8XYG",
        "colab_type": "text"
      },
      "source": [
        "#### Next, let's count the distict TLDs.\n"
      ]
    },
    {
      "cell_type": "code",
      "metadata": {
        "id": "1lViQIU48e-u",
        "colab_type": "code",
        "outputId": "2298858b-e745-4df5-ead2-ccc3e5e57ea8",
        "colab": {
          "base_uri": "https://localhost:8080/",
          "height": 237
        }
      },
      "source": [
        "tld_count = domains['tld'].value_counts()\n",
        "tld_count"
      ],
      "execution_count": 21,
      "outputs": [
        {
          "output_type": "execute_result",
          "data": {
            "text/plain": [
              "wordpress             173\n",
              "columbia              53 \n",
              "google                39 \n",
              "gettyimages           23 \n",
              "yahoo                 22 \n",
              "                      .. \n",
              "duaneparknyc          1  \n",
              "worldairlineawards    1  \n",
              "nurseslounge          1  \n",
              "stonewallforever      1  \n",
              "openingceremony       1  \n",
              "Name: tld, Length: 2534, dtype: int64"
            ]
          },
          "metadata": {
            "tags": []
          },
          "execution_count": 21
        }
      ]
    },
    {
      "cell_type": "markdown",
      "metadata": {
        "id": "xm_V_0PGzZut",
        "colab_type": "text"
      },
      "source": [
        "#### Next, we'll plot the TLD count.\n"
      ]
    },
    {
      "cell_type": "code",
      "metadata": {
        "id": "N8yNlOa-zmBD",
        "colab_type": "code",
        "outputId": "9114c48c-f129-4f0c-f000-7fba1f82068f",
        "colab": {
          "base_uri": "https://localhost:8080/",
          "height": 718
        }
      },
      "source": [
        "tld_chart = tld_count.head(20).plot.bar(legend=None, figsize=(25,10))\n",
        "tld_chart.set_xlabel(\"TLD\", fontsize=20)\n",
        "tld_chart.set_ylabel(\"Count\", fontsize=20)\n",
        "tld_chart.set_title(\"Top Level Domain Distribution\", fontsize=22)"
      ],
      "execution_count": 24,
      "outputs": [
        {
          "output_type": "execute_result",
          "data": {
            "text/plain": [
              "Text(0.5, 1.0, 'Top Level Domain Distribution')"
            ]
          },
          "metadata": {
            "tags": []
          },
          "execution_count": 24
        },
        {
          "output_type": "display_data",
          "data": {
            "image/png": "[encoded data removed]",
            "text/plain": [
              "<Figure size 1800x720 with 1 Axes>"
            ]
          },
          "metadata": {
            "tags": []
          }
        }
      ]
    },
    {
      "cell_type": "markdown",
      "metadata": {
        "id": "DWq4hkhoAXNm",
        "colab_type": "text"
      },
      "source": [
        "## Examining the Web Graph"
      ]
    },
    {
      "cell_type": "markdown",
      "metadata": {
        "id": "tdCH8zAPAa2M",
        "colab_type": "text"
      },
      "source": [
        "Remember the hyperlink web graph? Let's look at the web graph columns again.\n",
        "\n"
      ]
    },
    {
      "cell_type": "code",
      "metadata": {
        "id": "-MFkAOcLAWy5",
        "colab_type": "code",
        "outputId": "127cebb8-0d12-467b-c1bd-803d5b4bb2b1",
        "colab": {
          "base_uri": "https://localhost:8080/",
          "height": 667
        }
      },
      "source": [
        "webgraph"
      ],
      "execution_count": 25,
      "outputs": [
        {
          "output_type": "execute_result",
          "data": {
            "text/html": [
              "<div>\n",
              "<style scoped>\n",
              "    .dataframe tbody tr th:only-of-type {\n",
              "        vertical-align: middle;\n",
              "    }\n",
              "\n",
              "    .dataframe tbody tr th {\n",
              "        vertical-align: top;\n",
              "    }\n",
              "\n",
              "    .dataframe thead th {\n",
              "        text-align: right;\n",
              "    }\n",
              "</style>\n",
              "<table border=\"1\" class=\"dataframe\">\n",
              "  <thead>\n",
              "    <tr style=\"text-align: right;\">\n",
              "      <th></th>\n",
              "      <th>crawl_date</th>\n",
              "      <th>src</th>\n",
              "      <th>dest</th>\n",
              "      <th>anchor</th>\n",
              "    </tr>\n",
              "  </thead>\n",
              "  <tbody>\n",
              "    <tr>\n",
              "      <th>0</th>\n",
              "      <td>20190708</td>\n",
              "      <td>https://www.youtube.com/watch?v=4MSelbHNTK8&amp;feature=youtu.be</td>\n",
              "      <td>https://www.google.com/intl/en/policies/privacy/</td>\n",
              "      <td>Privacy</td>\n",
              "    </tr>\n",
              "    <tr>\n",
              "      <th>1</th>\n",
              "      <td>20190708</td>\n",
              "      <td>https://www.youtube.com/watch?v=4MSelbHNTK8&amp;feature=youtu.be</td>\n",
              "      <td>https://www.google.com/support/legal/answer/3110420</td>\n",
              "      <td>Legal Help page</td>\n",
              "    </tr>\n",
              "    <tr>\n",
              "      <th>2</th>\n",
              "      <td>20190708</td>\n",
              "      <td>https://accounts.google.com/ServiceLogin?uilel=3&amp;service=youtube&amp;continue=https%3A%2F%2Fwww.youtube.com%2Fsignin%3Ffeature%3Dpassive%26hl%3Den%26app%3Ddesktop%26next%3D%252Fsignin_passive%26action_handle_signin%3Dtrue&amp;passive=true&amp;hl=en</td>\n",
              "      <td>https://support.google.com/chrome/answer/6130773?hl=en</td>\n",
              "      <td>Learn more</td>\n",
              "    </tr>\n",
              "    <tr>\n",
              "      <th>3</th>\n",
              "      <td>20190708</td>\n",
              "      <td>https://accounts.google.com/ServiceLogin?uilel=3&amp;service=youtube&amp;continue=https%3A%2F%2Fwww.youtube.com%2Fsignin%3Ffeature%3Dpassive%26hl%3Den%26app%3Ddesktop%26next%3D%252Fsignin_passive%26action_handle_signin%3Dtrue&amp;passive=true&amp;hl=en</td>\n",
              "      <td>https://support.google.com/accounts?hl=en</td>\n",
              "      <td>Help</td>\n",
              "    </tr>\n",
              "    <tr>\n",
              "      <th>4</th>\n",
              "      <td>20190708</td>\n",
              "      <td>https://accounts.google.com/ServiceLogin?uilel=3&amp;service=youtube&amp;continue=https%3A%2F%2Fwww.youtube.com%2Fsignin%3Ffeature%3Dpassive%26hl%3Den%26app%3Ddesktop%26next%3D%252Fsignin_passive%26action_handle_signin%3Dtrue&amp;passive=true&amp;hl=en</td>\n",
              "      <td>https://accounts.google.com/TOS?loc=US&amp;hl=en&amp;privacy=true</td>\n",
              "      <td>Privacy</td>\n",
              "    </tr>\n",
              "    <tr>\n",
              "      <th>...</th>\n",
              "      <td>...</td>\n",
              "      <td>...</td>\n",
              "      <td>...</td>\n",
              "      <td>...</td>\n",
              "    </tr>\n",
              "    <tr>\n",
              "      <th>17518076</th>\n",
              "      <td>20190603</td>\n",
              "      <td>https://timessquares.nyc/stonewall50/search/%7Bsearch_term_string%7D/timessquares.nyc/timessquares.nyc/R0lGODlhAQABAIAAAAAAAP///timessquares.nyc/timessquares.nyc/R0lGODlhAQABAIAAAAAAAP///timessquares.nyc/R0lGODlhAQABAIAAAAAAAP///timessquares.nyc/timessquares.nyc/timessquares.nyc</td>\n",
              "      <td>https://grsquares.org/</td>\n",
              "      <td>Grand River Squares (MI)</td>\n",
              "    </tr>\n",
              "    <tr>\n",
              "      <th>17518077</th>\n",
              "      <td>20190603</td>\n",
              "      <td>https://timessquares.nyc/stonewall50/search/%7Bsearch_term_string%7D/timessquares.nyc/timessquares.nyc/R0lGODlhAQABAIAAAAAAAP///timessquares.nyc/timessquares.nyc/R0lGODlhAQABAIAAAAAAAP///timessquares.nyc/R0lGODlhAQABAIAAAAAAAP///timessquares.nyc/timessquares.nyc/timessquares.nyc</td>\n",
              "      <td>http://iagsdc.com/ottawa/</td>\n",
              "      <td>Ottawa Date Squares (Canada)</td>\n",
              "    </tr>\n",
              "    <tr>\n",
              "      <th>17518078</th>\n",
              "      <td>20190603</td>\n",
              "      <td>https://timessquares.nyc/stonewall50/search/%7Bsearch_term_string%7D/timessquares.nyc/timessquares.nyc/R0lGODlhAQABAIAAAAAAAP///timessquares.nyc/timessquares.nyc/R0lGODlhAQABAIAAAAAAAP///timessquares.nyc/R0lGODlhAQABAIAAAAAAAP///timessquares.nyc/timessquares.nyc/timessquares.nyc</td>\n",
              "      <td>https://puddletownsquares.org/</td>\n",
              "      <td>Puddletown Squares (WA)</td>\n",
              "    </tr>\n",
              "    <tr>\n",
              "      <th>17518079</th>\n",
              "      <td>20190603</td>\n",
              "      <td>https://timessquares.nyc/stonewall50/search/%7Bsearch_term_string%7D/timessquares.nyc/timessquares.nyc/R0lGODlhAQABAIAAAAAAAP///timessquares.nyc/timessquares.nyc/R0lGODlhAQABAIAAAAAAAP///timessquares.nyc/R0lGODlhAQABAIAAAAAAAP///timessquares.nyc/timessquares.nyc/timessquares.nyc</td>\n",
              "      <td>http://www.chesapeakesquares.org/</td>\n",
              "      <td>Chesapeake Squares (MD)</td>\n",
              "    </tr>\n",
              "    <tr>\n",
              "      <th>17518080</th>\n",
              "      <td>20190603</td>\n",
              "      <td>https://timessquares.nyc/stonewall50/search/%7Bsearch_term_string%7D/timessquares.nyc/timessquares.nyc/R0lGODlhAQABAIAAAAAAAP///timessquares.nyc/timessquares.nyc/R0lGODlhAQABAIAAAAAAAP///timessquares.nyc/R0lGODlhAQABAIAAAAAAAP///timessquares.nyc/timessquares.nyc/timessquares.nyc</td>\n",
              "      <td>http://www.hotlantasquares.org/</td>\n",
              "      <td>Hotlanta Squares (GA)</td>\n",
              "    </tr>\n",
              "  </tbody>\n",
              "</table>\n",
              "<p>17518081 rows × 4 columns</p>\n",
              "</div>"
            ],
            "text/plain": [
              "         crawl_date  ...                        anchor\n",
              "0         20190708   ...  Privacy                     \n",
              "1         20190708   ...  Legal Help page             \n",
              "2         20190708   ...  Learn more                  \n",
              "3         20190708   ...  Help                        \n",
              "4         20190708   ...  Privacy                     \n",
              "...            ...   ...      ...                     \n",
              "17518076  20190603   ...  Grand River Squares (MI)    \n",
              "17518077  20190603   ...  Ottawa Date Squares (Canada)\n",
              "17518078  20190603   ...  Puddletown Squares (WA)     \n",
              "17518079  20190603   ...  Chesapeake Squares (MD)     \n",
              "17518080  20190603   ...  Hotlanta Squares (GA)       \n",
              "\n",
              "[17518081 rows x 4 columns]"
            ]
          },
          "metadata": {
            "tags": []
          },
          "execution_count": 25
        }
      ]
    },
    {
      "cell_type": "markdown",
      "metadata": {
        "id": "BFaebkzWAp-R",
        "colab_type": "text"
      },
      "source": [
        "### What are the most frequent crawl dates?\n"
      ]
    },
    {
      "cell_type": "code",
      "metadata": {
        "id": "kJNT3vqkAxqj",
        "colab_type": "code",
        "outputId": "aee09d46-787d-4e7a-d617-21c421de5d3e",
        "colab": {
          "base_uri": "https://localhost:8080/",
          "height": 763
        }
      },
      "source": [
        "crawl_dates = webgraph['crawl_date'].value_counts()\n",
        "crawl_dates\n",
        "crawl_dates_chart = crawl_dates.plot.line(figsize=(25,12))\n",
        "crawl_dates_chart.set_xlabel(\"Crawl Date\", fontsize=20)\n",
        "crawl_dates_chart.set_ylabel(\"Count\", fontsize=20)\n",
        "crawl_dates_chart.set_title(\"Crawl Date Frequency\", fontsize=22)\n"
      ],
      "execution_count": 26,
      "outputs": [
        {
          "output_type": "execute_result",
          "data": {
            "text/plain": [
              "Text(0.5, 1.0, 'Crawl Date Frequency')"
            ]
          },
          "metadata": {
            "tags": []
          },
          "execution_count": 26
        },
        {
          "output_type": "display_data",
          "data": {
            "image/png": "[encoded data removed]",
            "text/plain": [
              "<Figure size 1800x864 with 1 Axes>"
            ]
          },
          "metadata": {
            "tags": []
          }
        }
      ]
    }
  ]
}