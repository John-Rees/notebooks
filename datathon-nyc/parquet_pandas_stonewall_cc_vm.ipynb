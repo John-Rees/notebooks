{
 "cells": [
  {
   "cell_type": "markdown",
   "metadata": {
    "colab_type": "text",
    "id": "EN0gajhr7pKd"
   },
   "source": [
    "# Working with Archives Unleashed Parquet Derivatives\n",
    "\n",
    "In this notebook, we'll setup an environment, then download a dataset of web archive collection derivatives that were produced with the [Archives Unleashed Toolkit](https://github.com/archivesunleashed/aut/). These derivatives are in the [Apache Parquet](https://parquet.apache.org/) format, which is a [columnar storage](http://en.wikipedia.org/wiki/Column-oriented_DBMS) format. These derivatives are generally small enough to work with on your local machine, and can be easily converted to Pandas DataFrames as demonstrated below.\n",
    "\n",
    "This notebook is useful for exploring the following derivatives. \n",
    "\n",
    "**[Binary Analysis](https://github.com/archivesunleashed/aut-docs/blob/master/current/binary-analysis.md#binary-analysis)**\n",
    "- [Audio](https://github.com/archivesunleashed/aut-docs/blob/master/current/binary-analysis.md#extract-audio-information)\n",
    "- [Images](https://github.com/archivesunleashed/aut-docs/blob/master/current/binary-analysis.md#extract-image-information)\n",
    "- [PDFs](https://github.com/archivesunleashed/aut-docs/blob/master/current/binary-analysis.md#extract-pdf-information)\n",
    "- [Presentation program files](https://github.com/archivesunleashed/aut-docs/blob/master/current/binary-analysis.md#extract-presentation-program-files-information)\n",
    "- [Spreadsheets](https://github.com/archivesunleashed/aut-docs/blob/master/current/binary-analysis.md#extract-spreadsheet-information)\n",
    "- [Text files](https://github.com/archivesunleashed/aut-docs/blob/master/current/binary-analysis.md#extract-text-files-information)\n",
    "- [Word processor files](https://github.com/archivesunleashed/aut-docs/blob/master/current/binary-analysis.md#extract-word-processor-files-information)\n",
    "\n",
    "**Web Pages**\n",
    "\n",
    "`.webpages().select($\"crawl_date\", $\"url\", $\"mime_type_web_server\", $\"mime_type_tika\", RemoveHTMLDF(RemoveHTTPHeaderDF(($\"content\"))).alias(\"content\"))` \n",
    "\n",
    "Produces a DataFrame with the following columns:\n",
    "  - `crawl_date`\n",
    "  - `url`\n",
    "  - `mime_type_web_server`\n",
    "  - `mime_type_tika`\n",
    "  - `content`\n",
    "\n",
    "As the `webpages` derivative is especially rich - it contains the full text of all webpages - we have a separate notebook for [text analysis](https://github.com/archivesunleashed/notebooks/blob/master/parquet_text_analyis.ipynb) here.\n",
    "\n",
    "**Web Graph**\n",
    "\n",
    "`.webgraph()` \n",
    "\n",
    "Produces a DataFrame with the following columns:\n",
    "  - `crawl_date`\n",
    "  - `src`\n",
    "  - `dest`\n",
    "  - `anchor`\n",
    "\n",
    "**Image Links**\n",
    "\n",
    "`.imageLinks()`\n",
    "\n",
    "Produces a DataFrame with the following columns:\n",
    "  - `src`\n",
    "  - `image_url`\n",
    "\n",
    "**Domains**\n",
    "\n",
    "`.webpages().groupBy(ExtractDomainDF($\"url\").alias(\"url\")).count().sort($\"count\".desc)`\n",
    "\n",
    "Produces a DataFrame with the following columns:\n",
    "- domain\n",
    "- count\n",
    "\n",
    "We recommend running through the notebook with the provided sample dataset. You may then want to substitute it with your own dataset."
   ]
  },
  {
   "cell_type": "markdown",
   "metadata": {
    "colab_type": "text",
    "id": "OctPUqrG-K2W"
   },
   "source": [
    "# Dataset\n",
    "\n",
    "Web archive derivatives of the [Stonewall 50 Commemoration collection](https://archive-it.org/collections/12143) from [Columbia University Libraries](https://archive-it.org/home/Columbia). The derivatives were created with the [Archives Unleashed Toolkit](https://github.com/archivesunleashed/aut/) and [Archives Unleashed Cloud](https://cloud.archivesunleashed.org/).\n",
    "\n",
    "\n",
    "[![DOI](https://zenodo.org/badge/DOI/10.5281/zenodo.3631347.svg)](https://doi.org/10.5281/zenodo.3631347)\n",
    "\n",
    "\n",
    "Curious about the size the derivative Parquet output compared to the size of the web archive collection?\n",
    "\n",
    "The total size of all 11 Parquet deriatives is 2.2G, with `webpages` being the largest (1.5G) since it has a column with full text (`content`).\n",
    "\n",
    "```\n",
    "16K     parquet/presentation-program-files\n",
    "1.5G    parquet/webpages\n",
    "16K     parquet/spreadsheet\n",
    "784K    parquet/pdf\n",
    "24K     parquet/word-processor\n",
    "2.4M    parquet/text-files\n",
    "105M    parquet/image\n",
    "180M    parquet/imagelinks\n",
    "1.7M    parquet/audio\n",
    "433M    parquet/webgraph\n",
    "308K    parquet/domains\n",
    "2.2G    parquet/\n",
    "```\n",
    "\n",
    "The total size of the web archive collection is 128G.\n",
    "\n",
    "The following command downloads all of the parquets file from the Zenodo data repository. To run a 'cell,' you can click the play button next to the cell or you can press your shift key and enter key at the same time.\n",
    "\n",
    "Whenever you see code snippets like this, you should do the same thing to run it.\n"
   ]
  },
  {
   "cell_type": "markdown",
   "metadata": {
    "colab_type": "text",
    "id": "h3Nr_JCbsWx8"
   },
   "source": [
    "The following command provides a list of all the downloaded parquet files. You should see a list of all the different derivatives here - note that they line up with the list provided at the beginning of this notebook.\n"
   ]
  },
  {
   "cell_type": "code",
   "execution_count": 1,
   "metadata": {
    "colab": {
     "base_uri": "https://localhost:8080/",
     "height": 219
    },
    "colab_type": "code",
    "id": "2RK74TCSuIXE",
    "outputId": "6d3b7d5e-fc15-473e-e7c7-a782867094a7"
   },
   "outputs": [
    {
     "name": "stdout",
     "output_type": "stream",
     "text": [
      "audio\r\n",
      "domains\r\n",
      "image\r\n",
      "imagelinks\r\n",
      "pdf\r\n",
      "presentation-program-files\r\n",
      "spreadsheet\r\n",
      "text-files\r\n",
      "webgraph\r\n",
      "webpages\r\n",
      "word-processor\r\n"
     ]
    }
   ],
   "source": [
    "!ls -1 cul-12143-parquet"
   ]
  },
  {
   "cell_type": "markdown",
   "metadata": {
    "colab_type": "text",
    "id": "JS0T6i4xPTVx"
   },
   "source": [
    "# Environment\n",
    "\n",
    "Next, we'll setup our environment so we can work with the Parquet output with [Pandas](https://pandas.pydata.org)."
   ]
  },
  {
   "cell_type": "code",
   "execution_count": 3,
   "metadata": {
    "colab": {},
    "colab_type": "code",
    "id": "n56-DeEFPTCq"
   },
   "outputs": [],
   "source": [
    "import numpy as np\n",
    "import pandas as pd\n",
    "import pyarrow as pa\n",
    "import pyarrow.parquet as pq\n",
    "import matplotlib.pyplot as plt"
   ]
  },
  {
   "cell_type": "markdown",
   "metadata": {
    "colab_type": "text",
    "id": "oFAFb2X3_VJC"
   },
   "source": [
    "# Loading our Archives Unleashed Datasets as DataFrames\n",
    "\n",
    "Next, we'll load up our datasets to work with and show a preview of each. We'll load the network, domains, web graph, and images. \n",
    "\n",
    "The remainder of the binary datasets (audio, video, spreadsheets, etc.) will all follow the same pattern as the images dataset, except that they do not have the height and width columns. A useful exercise when trying to learn how to use this would be to swap out images for audio, for example, and see how you can explore these other file types.\n",
    "\n",
    "We've provided a [separate notebook](https://github.com/archivesunleashed/notebooks/blob/master/parquet_text_analyis.ipynb) to work with the pages dataset  because it tends to be resource intensive.\n"
   ]
  },
  {
   "cell_type": "markdown",
   "metadata": {
    "colab_type": "text",
    "id": "SnEntLU0U2ox"
   },
   "source": [
    "## Images\n",
    "\n",
    "The following commands create a variable called `images` that contain a DataFrame with all of the image information from the web archive. \n",
    "\n",
    "**Reminder:** If you want to look at a differnt derivative, you can, for instance, replace out `images` for `audio`."
   ]
  },
  {
   "cell_type": "code",
   "execution_count": 4,
   "metadata": {
    "colab": {
     "base_uri": "https://localhost:8080/",
     "height": 424
    },
    "colab_type": "code",
    "id": "GhE_Vhv8Awkx",
    "outputId": "62243d04-9f46-4cb3-d281-5dac666eae76"
   },
   "outputs": [
    {
     "name": "stderr",
     "output_type": "stream",
     "text": [
      "/home/ubuntu/anaconda3/lib/python3.7/site-packages/pyarrow/pandas_compat.py:752: FutureWarning: .labels was deprecated in version 0.24.0. Use .codes instead.\n",
      "  labels, = index.labels\n"
     ]
    },
    {
     "data": {
      "text/html": [
       "<div>\n",
       "<style scoped>\n",
       "    .dataframe tbody tr th:only-of-type {\n",
       "        vertical-align: middle;\n",
       "    }\n",
       "\n",
       "    .dataframe tbody tr th {\n",
       "        vertical-align: top;\n",
       "    }\n",
       "\n",
       "    .dataframe thead th {\n",
       "        text-align: right;\n",
       "    }\n",
       "</style>\n",
       "<table border=\"1\" class=\"dataframe\">\n",
       "  <thead>\n",
       "    <tr style=\"text-align: right;\">\n",
       "      <th></th>\n",
       "      <th>url</th>\n",
       "      <th>filename</th>\n",
       "      <th>extension</th>\n",
       "      <th>mime_type_web_server</th>\n",
       "      <th>mime_type_tika</th>\n",
       "      <th>width</th>\n",
       "      <th>height</th>\n",
       "      <th>md5</th>\n",
       "    </tr>\n",
       "  </thead>\n",
       "  <tbody>\n",
       "    <tr>\n",
       "      <td>0</td>\n",
       "      <td>https://upload.wikimedia.org/wikipedia/commons...</td>\n",
       "      <td>250px-VirusTotal_Logo.svg.png</td>\n",
       "      <td>png</td>\n",
       "      <td>image/png</td>\n",
       "      <td>image/png</td>\n",
       "      <td>250</td>\n",
       "      <td>50</td>\n",
       "      <td>ffffc3d4dd0d5ca5cfd20066bf9be493</td>\n",
       "    </tr>\n",
       "    <tr>\n",
       "      <td>1</td>\n",
       "      <td>https://upload.wikimedia.org/wikipedia/commons...</td>\n",
       "      <td>60px-US-O3_insignia.svg.png</td>\n",
       "      <td>png</td>\n",
       "      <td>image/png</td>\n",
       "      <td>image/png</td>\n",
       "      <td>60</td>\n",
       "      <td>56</td>\n",
       "      <td>ffffba9c242928a6a907ea23577d41a0</td>\n",
       "    </tr>\n",
       "    <tr>\n",
       "      <td>2</td>\n",
       "      <td>https://bestgaynewyork.com/wp-content/uploads/...</td>\n",
       "      <td>world-pride-nyc-2019-stonewall-300x151.jpg</td>\n",
       "      <td>jpg</td>\n",
       "      <td>image/jpeg</td>\n",
       "      <td>image/jpeg</td>\n",
       "      <td>300</td>\n",
       "      <td>151</td>\n",
       "      <td>ffff454c66b8f105bd12e4e12229a34b</td>\n",
       "    </tr>\n",
       "    <tr>\n",
       "      <td>3</td>\n",
       "      <td>https://maps.wikimedia.org/img/osm-intl,6,40.9...</td>\n",
       "      <td>osm-intl,6,40.94,-72.68,300x200.png</td>\n",
       "      <td>png</td>\n",
       "      <td>image/png</td>\n",
       "      <td>image/png</td>\n",
       "      <td>300</td>\n",
       "      <td>200</td>\n",
       "      <td>ffff4411332dc5fd4bdb1992108e60ac</td>\n",
       "    </tr>\n",
       "    <tr>\n",
       "      <td>4</td>\n",
       "      <td>https://upload.wikimedia.org/wikipedia/commons...</td>\n",
       "      <td>220px-OldPostOfficeTomahWI.JPG</td>\n",
       "      <td>jpg</td>\n",
       "      <td>image/jpeg</td>\n",
       "      <td>image/jpeg</td>\n",
       "      <td>220</td>\n",
       "      <td>157</td>\n",
       "      <td>fffeebdfd9e8f1fe21fbfcc09c244fc4</td>\n",
       "    </tr>\n",
       "    <tr>\n",
       "      <td>...</td>\n",
       "      <td>...</td>\n",
       "      <td>...</td>\n",
       "      <td>...</td>\n",
       "      <td>...</td>\n",
       "      <td>...</td>\n",
       "      <td>...</td>\n",
       "      <td>...</td>\n",
       "      <td>...</td>\n",
       "    </tr>\n",
       "    <tr>\n",
       "      <td>311981</td>\n",
       "      <td>https://upload.wikimedia.org/wikipedia/commons...</td>\n",
       "      <td>48px-KlingonLang_w.svg.png</td>\n",
       "      <td>png</td>\n",
       "      <td>image/png</td>\n",
       "      <td>image/png</td>\n",
       "      <td>48</td>\n",
       "      <td>62</td>\n",
       "      <td>0000d77176fc96d19a215b55d27b65a0</td>\n",
       "    </tr>\n",
       "    <tr>\n",
       "      <td>311982</td>\n",
       "      <td>https://assets.vogue.com/photos/587736c14188c6...</td>\n",
       "      <td>sung-hee-kim-lais-ribeiro.jpg</td>\n",
       "      <td>jpg</td>\n",
       "      <td>image/jpeg</td>\n",
       "      <td>image/jpeg</td>\n",
       "      <td>2000</td>\n",
       "      <td>2582</td>\n",
       "      <td>000089ae142fd57e91b20e32f0010b5e</td>\n",
       "    </tr>\n",
       "    <tr>\n",
       "      <td>311983</td>\n",
       "      <td>https://planettransgender.com/wp-content/uploa...</td>\n",
       "      <td>apple-touch-icon-144x144.png</td>\n",
       "      <td>png</td>\n",
       "      <td>image/png</td>\n",
       "      <td>image/png</td>\n",
       "      <td>144</td>\n",
       "      <td>144</td>\n",
       "      <td>00006084a583f54c83a659b1d83332e8</td>\n",
       "    </tr>\n",
       "    <tr>\n",
       "      <td>311984</td>\n",
       "      <td>https://upload.wikimedia.org/wikipedia/commons...</td>\n",
       "      <td>50px-UA_shoulder_mark_10.svg.png</td>\n",
       "      <td>png</td>\n",
       "      <td>image/png</td>\n",
       "      <td>image/png</td>\n",
       "      <td>50</td>\n",
       "      <td>135</td>\n",
       "      <td>000035e22329b97c663aaaf40ae7b6bd</td>\n",
       "    </tr>\n",
       "    <tr>\n",
       "      <td>311985</td>\n",
       "      <td>https://upload.wikimedia.org/wikipedia/commons...</td>\n",
       "      <td>440px-Milwaukee_Art_Museum_1_%28Mulad%29.jpg</td>\n",
       "      <td>jpg</td>\n",
       "      <td>image/jpeg</td>\n",
       "      <td>image/jpeg</td>\n",
       "      <td>440</td>\n",
       "      <td>293</td>\n",
       "      <td>00001444dbb484bb11e0d1b4d965f00e</td>\n",
       "    </tr>\n",
       "  </tbody>\n",
       "</table>\n",
       "<p>311986 rows × 8 columns</p>\n",
       "</div>"
      ],
      "text/plain": [
       "                                                      url  \\\n",
       "0       https://upload.wikimedia.org/wikipedia/commons...   \n",
       "1       https://upload.wikimedia.org/wikipedia/commons...   \n",
       "2       https://bestgaynewyork.com/wp-content/uploads/...   \n",
       "3       https://maps.wikimedia.org/img/osm-intl,6,40.9...   \n",
       "4       https://upload.wikimedia.org/wikipedia/commons...   \n",
       "...                                                   ...   \n",
       "311981  https://upload.wikimedia.org/wikipedia/commons...   \n",
       "311982  https://assets.vogue.com/photos/587736c14188c6...   \n",
       "311983  https://planettransgender.com/wp-content/uploa...   \n",
       "311984  https://upload.wikimedia.org/wikipedia/commons...   \n",
       "311985  https://upload.wikimedia.org/wikipedia/commons...   \n",
       "\n",
       "                                            filename extension  \\\n",
       "0                      250px-VirusTotal_Logo.svg.png       png   \n",
       "1                        60px-US-O3_insignia.svg.png       png   \n",
       "2         world-pride-nyc-2019-stonewall-300x151.jpg       jpg   \n",
       "3                osm-intl,6,40.94,-72.68,300x200.png       png   \n",
       "4                     220px-OldPostOfficeTomahWI.JPG       jpg   \n",
       "...                                              ...       ...   \n",
       "311981                    48px-KlingonLang_w.svg.png       png   \n",
       "311982                 sung-hee-kim-lais-ribeiro.jpg       jpg   \n",
       "311983                  apple-touch-icon-144x144.png       png   \n",
       "311984              50px-UA_shoulder_mark_10.svg.png       png   \n",
       "311985  440px-Milwaukee_Art_Museum_1_%28Mulad%29.jpg       jpg   \n",
       "\n",
       "       mime_type_web_server mime_type_tika  width  height  \\\n",
       "0                 image/png      image/png    250      50   \n",
       "1                 image/png      image/png     60      56   \n",
       "2                image/jpeg     image/jpeg    300     151   \n",
       "3                 image/png      image/png    300     200   \n",
       "4                image/jpeg     image/jpeg    220     157   \n",
       "...                     ...            ...    ...     ...   \n",
       "311981            image/png      image/png     48      62   \n",
       "311982           image/jpeg     image/jpeg   2000    2582   \n",
       "311983            image/png      image/png    144     144   \n",
       "311984            image/png      image/png     50     135   \n",
       "311985           image/jpeg     image/jpeg    440     293   \n",
       "\n",
       "                                     md5  \n",
       "0       ffffc3d4dd0d5ca5cfd20066bf9be493  \n",
       "1       ffffba9c242928a6a907ea23577d41a0  \n",
       "2       ffff454c66b8f105bd12e4e12229a34b  \n",
       "3       ffff4411332dc5fd4bdb1992108e60ac  \n",
       "4       fffeebdfd9e8f1fe21fbfcc09c244fc4  \n",
       "...                                  ...  \n",
       "311981  0000d77176fc96d19a215b55d27b65a0  \n",
       "311982  000089ae142fd57e91b20e32f0010b5e  \n",
       "311983  00006084a583f54c83a659b1d83332e8  \n",
       "311984  000035e22329b97c663aaaf40ae7b6bd  \n",
       "311985  00001444dbb484bb11e0d1b4d965f00e  \n",
       "\n",
       "[311986 rows x 8 columns]"
      ]
     },
     "execution_count": 4,
     "metadata": {},
     "output_type": "execute_result"
    }
   ],
   "source": [
    "images_parquet = pq.read_table('cul-12143-parquet/image')\n",
    "images = images_parquet.to_pandas()\n",
    "images"
   ]
  },
  {
   "cell_type": "markdown",
   "metadata": {
    "colab_type": "text",
    "id": "y5CmfUPNVAQH"
   },
   "source": [
    "## Web Graph\n",
    "\n",
    "The next data that we will explore will be the \"web graph.\" This is a DataFrame containing all the hyperlinks within a collection - from `src` (or the page that _contains_ the link) to `dest` (or the page that the link is linking _to_). It also includes the date when this link was crawled, as well as the `anchor` text (what the user clicks on to visit)."
   ]
  },
  {
   "cell_type": "code",
   "execution_count": 6,
   "metadata": {
    "colab": {
     "base_uri": "https://localhost:8080/",
     "height": 424
    },
    "colab_type": "code",
    "id": "-YKUCY_izzT8",
    "outputId": "573f83a1-6637-45ef-b7bb-08516496117d"
   },
   "outputs": [
    {
     "data": {
      "text/html": [
       "<div>\n",
       "<style scoped>\n",
       "    .dataframe tbody tr th:only-of-type {\n",
       "        vertical-align: middle;\n",
       "    }\n",
       "\n",
       "    .dataframe tbody tr th {\n",
       "        vertical-align: top;\n",
       "    }\n",
       "\n",
       "    .dataframe thead th {\n",
       "        text-align: right;\n",
       "    }\n",
       "</style>\n",
       "<table border=\"1\" class=\"dataframe\">\n",
       "  <thead>\n",
       "    <tr style=\"text-align: right;\">\n",
       "      <th></th>\n",
       "      <th>crawl_date</th>\n",
       "      <th>src</th>\n",
       "      <th>dest</th>\n",
       "      <th>anchor</th>\n",
       "    </tr>\n",
       "  </thead>\n",
       "  <tbody>\n",
       "    <tr>\n",
       "      <td>0</td>\n",
       "      <td>20190708</td>\n",
       "      <td>https://www.youtube.com/watch?v=4MSelbHNTK8&amp;fe...</td>\n",
       "      <td>https://www.google.com/intl/en/policies/privacy/</td>\n",
       "      <td>Privacy</td>\n",
       "    </tr>\n",
       "    <tr>\n",
       "      <td>1</td>\n",
       "      <td>20190708</td>\n",
       "      <td>https://www.youtube.com/watch?v=4MSelbHNTK8&amp;fe...</td>\n",
       "      <td>https://www.google.com/support/legal/answer/31...</td>\n",
       "      <td>Legal Help page</td>\n",
       "    </tr>\n",
       "    <tr>\n",
       "      <td>2</td>\n",
       "      <td>20190708</td>\n",
       "      <td>https://accounts.google.com/ServiceLogin?uilel...</td>\n",
       "      <td>https://support.google.com/chrome/answer/61307...</td>\n",
       "      <td>Learn more</td>\n",
       "    </tr>\n",
       "    <tr>\n",
       "      <td>3</td>\n",
       "      <td>20190708</td>\n",
       "      <td>https://accounts.google.com/ServiceLogin?uilel...</td>\n",
       "      <td>https://support.google.com/accounts?hl=en</td>\n",
       "      <td>Help</td>\n",
       "    </tr>\n",
       "    <tr>\n",
       "      <td>4</td>\n",
       "      <td>20190708</td>\n",
       "      <td>https://accounts.google.com/ServiceLogin?uilel...</td>\n",
       "      <td>https://accounts.google.com/TOS?loc=US&amp;hl=en&amp;p...</td>\n",
       "      <td>Privacy</td>\n",
       "    </tr>\n",
       "    <tr>\n",
       "      <td>...</td>\n",
       "      <td>...</td>\n",
       "      <td>...</td>\n",
       "      <td>...</td>\n",
       "      <td>...</td>\n",
       "    </tr>\n",
       "    <tr>\n",
       "      <td>17518076</td>\n",
       "      <td>20190603</td>\n",
       "      <td>https://timessquares.nyc/stonewall50/search/%7...</td>\n",
       "      <td>https://grsquares.org/</td>\n",
       "      <td>Grand River Squares (MI)</td>\n",
       "    </tr>\n",
       "    <tr>\n",
       "      <td>17518077</td>\n",
       "      <td>20190603</td>\n",
       "      <td>https://timessquares.nyc/stonewall50/search/%7...</td>\n",
       "      <td>http://iagsdc.com/ottawa/</td>\n",
       "      <td>Ottawa Date Squares (Canada)</td>\n",
       "    </tr>\n",
       "    <tr>\n",
       "      <td>17518078</td>\n",
       "      <td>20190603</td>\n",
       "      <td>https://timessquares.nyc/stonewall50/search/%7...</td>\n",
       "      <td>https://puddletownsquares.org/</td>\n",
       "      <td>Puddletown Squares (WA)</td>\n",
       "    </tr>\n",
       "    <tr>\n",
       "      <td>17518079</td>\n",
       "      <td>20190603</td>\n",
       "      <td>https://timessquares.nyc/stonewall50/search/%7...</td>\n",
       "      <td>http://www.chesapeakesquares.org/</td>\n",
       "      <td>Chesapeake Squares (MD)</td>\n",
       "    </tr>\n",
       "    <tr>\n",
       "      <td>17518080</td>\n",
       "      <td>20190603</td>\n",
       "      <td>https://timessquares.nyc/stonewall50/search/%7...</td>\n",
       "      <td>http://www.hotlantasquares.org/</td>\n",
       "      <td>Hotlanta Squares (GA)</td>\n",
       "    </tr>\n",
       "  </tbody>\n",
       "</table>\n",
       "<p>17518081 rows × 4 columns</p>\n",
       "</div>"
      ],
      "text/plain": [
       "         crawl_date                                                src  \\\n",
       "0          20190708  https://www.youtube.com/watch?v=4MSelbHNTK8&fe...   \n",
       "1          20190708  https://www.youtube.com/watch?v=4MSelbHNTK8&fe...   \n",
       "2          20190708  https://accounts.google.com/ServiceLogin?uilel...   \n",
       "3          20190708  https://accounts.google.com/ServiceLogin?uilel...   \n",
       "4          20190708  https://accounts.google.com/ServiceLogin?uilel...   \n",
       "...             ...                                                ...   \n",
       "17518076   20190603  https://timessquares.nyc/stonewall50/search/%7...   \n",
       "17518077   20190603  https://timessquares.nyc/stonewall50/search/%7...   \n",
       "17518078   20190603  https://timessquares.nyc/stonewall50/search/%7...   \n",
       "17518079   20190603  https://timessquares.nyc/stonewall50/search/%7...   \n",
       "17518080   20190603  https://timessquares.nyc/stonewall50/search/%7...   \n",
       "\n",
       "                                                       dest  \\\n",
       "0          https://www.google.com/intl/en/policies/privacy/   \n",
       "1         https://www.google.com/support/legal/answer/31...   \n",
       "2         https://support.google.com/chrome/answer/61307...   \n",
       "3                 https://support.google.com/accounts?hl=en   \n",
       "4         https://accounts.google.com/TOS?loc=US&hl=en&p...   \n",
       "...                                                     ...   \n",
       "17518076                             https://grsquares.org/   \n",
       "17518077                          http://iagsdc.com/ottawa/   \n",
       "17518078                     https://puddletownsquares.org/   \n",
       "17518079                  http://www.chesapeakesquares.org/   \n",
       "17518080                    http://www.hotlantasquares.org/   \n",
       "\n",
       "                                anchor  \n",
       "0                              Privacy  \n",
       "1                      Legal Help page  \n",
       "2                           Learn more  \n",
       "3                                 Help  \n",
       "4                              Privacy  \n",
       "...                                ...  \n",
       "17518076      Grand River Squares (MI)  \n",
       "17518077  Ottawa Date Squares (Canada)  \n",
       "17518078       Puddletown Squares (WA)  \n",
       "17518079       Chesapeake Squares (MD)  \n",
       "17518080         Hotlanta Squares (GA)  \n",
       "\n",
       "[17518081 rows x 4 columns]"
      ]
     },
     "execution_count": 6,
     "metadata": {},
     "output_type": "execute_result"
    }
   ],
   "source": [
    "webgraph_parquet = pq.read_table('cul-12143-parquet/webgraph')\n",
    "webgraph = webgraph_parquet.to_pandas()\n",
    "webgraph"
   ]
  },
  {
   "cell_type": "markdown",
   "metadata": {
    "colab_type": "text",
    "id": "ndZjsWKzUykd"
   },
   "source": [
    "## Domains\n",
    "\n",
    "This derivative contains basic information about what's been collected in the crawl. Specifically we can analyze how often pages from each domain appear."
   ]
  },
  {
   "cell_type": "code",
   "execution_count": 7,
   "metadata": {
    "colab": {
     "base_uri": "https://localhost:8080/",
     "height": 424
    },
    "colab_type": "code",
    "id": "xUebRBMHuoRs",
    "outputId": "6b5aaaa6-3ec5-4b13-c297-49ca78ef46f8"
   },
   "outputs": [
    {
     "data": {
      "text/html": [
       "<div>\n",
       "<style scoped>\n",
       "    .dataframe tbody tr th:only-of-type {\n",
       "        vertical-align: middle;\n",
       "    }\n",
       "\n",
       "    .dataframe tbody tr th {\n",
       "        vertical-align: top;\n",
       "    }\n",
       "\n",
       "    .dataframe thead th {\n",
       "        text-align: right;\n",
       "    }\n",
       "</style>\n",
       "<table border=\"1\" class=\"dataframe\">\n",
       "  <thead>\n",
       "    <tr style=\"text-align: right;\">\n",
       "      <th></th>\n",
       "      <th>url</th>\n",
       "      <th>count</th>\n",
       "    </tr>\n",
       "  </thead>\n",
       "  <tbody>\n",
       "    <tr>\n",
       "      <td>0</td>\n",
       "      <td>www.nationalqueertheater.org</td>\n",
       "      <td>119016</td>\n",
       "    </tr>\n",
       "    <tr>\n",
       "      <td>1</td>\n",
       "      <td>www.stonewallchorale.org</td>\n",
       "      <td>118697</td>\n",
       "    </tr>\n",
       "    <tr>\n",
       "      <td>2</td>\n",
       "      <td>en.wikipedia.org</td>\n",
       "      <td>103231</td>\n",
       "    </tr>\n",
       "    <tr>\n",
       "      <td>3</td>\n",
       "      <td>accounts.google.com</td>\n",
       "      <td>55555</td>\n",
       "    </tr>\n",
       "    <tr>\n",
       "      <td>4</td>\n",
       "      <td>mobile.twitter.com</td>\n",
       "      <td>29955</td>\n",
       "    </tr>\n",
       "    <tr>\n",
       "      <td>...</td>\n",
       "      <td>...</td>\n",
       "      <td>...</td>\n",
       "    </tr>\n",
       "    <tr>\n",
       "      <td>3267</td>\n",
       "      <td>innonmainmanasquan.com</td>\n",
       "      <td>1</td>\n",
       "    </tr>\n",
       "    <tr>\n",
       "      <td>3268</td>\n",
       "      <td>nj.us.williamhill.com</td>\n",
       "      <td>1</td>\n",
       "    </tr>\n",
       "    <tr>\n",
       "      <td>3269</td>\n",
       "      <td>ld-linux.so</td>\n",
       "      <td>1</td>\n",
       "    </tr>\n",
       "    <tr>\n",
       "      <td>3270</td>\n",
       "      <td>conradhotels3.hilton.com</td>\n",
       "      <td>1</td>\n",
       "    </tr>\n",
       "    <tr>\n",
       "      <td>3271</td>\n",
       "      <td>www.consciouscolors.com</td>\n",
       "      <td>1</td>\n",
       "    </tr>\n",
       "  </tbody>\n",
       "</table>\n",
       "<p>3272 rows × 2 columns</p>\n",
       "</div>"
      ],
      "text/plain": [
       "                               url   count\n",
       "0     www.nationalqueertheater.org  119016\n",
       "1         www.stonewallchorale.org  118697\n",
       "2                 en.wikipedia.org  103231\n",
       "3              accounts.google.com   55555\n",
       "4               mobile.twitter.com   29955\n",
       "...                            ...     ...\n",
       "3267        innonmainmanasquan.com       1\n",
       "3268         nj.us.williamhill.com       1\n",
       "3269                   ld-linux.so       1\n",
       "3270      conradhotels3.hilton.com       1\n",
       "3271       www.consciouscolors.com       1\n",
       "\n",
       "[3272 rows x 2 columns]"
      ]
     },
     "execution_count": 7,
     "metadata": {},
     "output_type": "execute_result"
    }
   ],
   "source": [
    "domains_parquet = pq.read_table('cul-12143-parquet/domains')\n",
    "domains = domains_parquet.to_pandas()\n",
    "domains"
   ]
  },
  {
   "cell_type": "markdown",
   "metadata": {
    "colab_type": "text",
    "id": "3HPwOCNAvqMe"
   },
   "source": [
    "# Data Analysis\n",
    "\n",
    "Now that we have all of our datasets loaded up, we can begin to work with them!"
   ]
  },
  {
   "cell_type": "markdown",
   "metadata": {
    "colab_type": "text",
    "id": "J6Pkg0prv3BE"
   },
   "source": [
    "## Counting total files, and unique files\n"
   ]
  },
  {
   "cell_type": "markdown",
   "metadata": {
    "colab_type": "text",
    "id": "DFX4Gl3wv7bi"
   },
   "source": [
    "\n",
    "#### Count number of rows (how many images are in the web archive collection).\n"
   ]
  },
  {
   "cell_type": "code",
   "execution_count": 8,
   "metadata": {
    "colab": {
     "base_uri": "https://localhost:8080/",
     "height": 182
    },
    "colab_type": "code",
    "id": "bn-1v127aKIG",
    "outputId": "e42580f3-257a-4b06-8dd3-d31a81d874ca"
   },
   "outputs": [
    {
     "data": {
      "text/plain": [
       "url                     311986\n",
       "filename                311986\n",
       "extension               311986\n",
       "mime_type_web_server    311986\n",
       "mime_type_tika          311986\n",
       "width                   311986\n",
       "height                  311986\n",
       "md5                     311986\n",
       "dtype: int64"
      ]
     },
     "execution_count": 8,
     "metadata": {},
     "output_type": "execute_result"
    }
   ],
   "source": [
    "images.count()"
   ]
  },
  {
   "cell_type": "markdown",
   "metadata": {
    "colab_type": "text",
    "id": "38veKiPhwKo4"
   },
   "source": [
    " #### How many unique images are in the collection?\n",
    "\n",
    " We can see if an image is unique or not by computing an [MD5 hash](https://en.wikipedia.org/wiki/MD5#MD5_hashes) of it. The exact same image might be called `example.jpg` and `foo.jpg` - by computing the hash, we can see that even with different file names, they are actually the same image!\n",
    "\n",
    "\n"
   ]
  },
  {
   "cell_type": "code",
   "execution_count": 9,
   "metadata": {
    "colab": {
     "base_uri": "https://localhost:8080/",
     "height": 35
    },
    "colab_type": "code",
    "id": "WesM3kQowM5B",
    "outputId": "6bde95fa-c046-4361-88aa-c99c9c2dba24"
   },
   "outputs": [
    {
     "data": {
      "text/plain": [
       "309886"
      ]
     },
     "execution_count": 9,
     "metadata": {},
     "output_type": "execute_result"
    }
   ],
   "source": [
    "len(images.md5.unique())"
   ]
  },
  {
   "cell_type": "markdown",
   "metadata": {
    "colab_type": "text",
    "id": "ZIXkI0-1wWQf"
   },
   "source": [
    "#### What are the top 10 most occurring images in the collection?\n",
    "\n",
    "Here we discover which image (or images) occur most frequently. "
   ]
  },
  {
   "cell_type": "code",
   "execution_count": 10,
   "metadata": {
    "colab": {
     "base_uri": "https://localhost:8080/",
     "height": 219
    },
    "colab_type": "code",
    "id": "8Ts03OFyjPIM",
    "outputId": "b2cf0f3b-dee2-44b7-f583-b38f8af83cfa"
   },
   "outputs": [
    {
     "data": {
      "text/plain": [
       "b798f4ce7359fd815df4bdf76503b295    84\n",
       "d89746888da2d9510b64a9f031eaecd5    61\n",
       "28d6814f309ea289f847c69cf91194c6    41\n",
       "b4491705564909da7f9eaf749dbbfbb1    24\n",
       "55d25e9dc950d5db4d53a3b195c046c6    19\n",
       "55108a6986058133800679a12521b280     9\n",
       "6851dbf491ae442da3314f19e8aff085     6\n",
       "c4a2b870062c2bb98c500bc1526c0498     6\n",
       "fc94fb0c3ed8a8f909dbc7630a0987ff     5\n",
       "d603a2a43ece99766206523fcf56c38f     5\n",
       "Name: md5, dtype: int64"
      ]
     },
     "execution_count": 10,
     "metadata": {},
     "output_type": "execute_result"
    }
   ],
   "source": [
    "images['md5'].value_counts().head(10)"
   ]
  },
  {
   "cell_type": "markdown",
   "metadata": {
    "colab_type": "text",
    "id": "FG7pGZUEwlaI"
   },
   "source": [
    "\n",
    "#### What's the information around all of the occurances of `b798f4ce7359fd815df4bdf76503b295`?\n",
    "\n",
    "What, you mean you don't know what `b798f4ce7359fd815df4bdf76503b295` means? Let's find those images in the DataFrame table - we can here see the real file name (`erosion.jpg`) and more importantly, its URL within the web archive.\n"
   ]
  },
  {
   "cell_type": "code",
   "execution_count": 11,
   "metadata": {
    "colab": {
     "base_uri": "https://localhost:8080/",
     "height": 424
    },
    "colab_type": "code",
    "id": "msmmm65lkSIK",
    "outputId": "c35e3789-5bed-4c8b-c9a7-d3547bed31f7"
   },
   "outputs": [
    {
     "data": {
      "text/html": [
       "<div>\n",
       "<style scoped>\n",
       "    .dataframe tbody tr th:only-of-type {\n",
       "        vertical-align: middle;\n",
       "    }\n",
       "\n",
       "    .dataframe tbody tr th {\n",
       "        vertical-align: top;\n",
       "    }\n",
       "\n",
       "    .dataframe thead th {\n",
       "        text-align: right;\n",
       "    }\n",
       "</style>\n",
       "<table border=\"1\" class=\"dataframe\">\n",
       "  <thead>\n",
       "    <tr style=\"text-align: right;\">\n",
       "      <th></th>\n",
       "      <th>url</th>\n",
       "      <th>filename</th>\n",
       "      <th>extension</th>\n",
       "      <th>mime_type_web_server</th>\n",
       "      <th>mime_type_tika</th>\n",
       "      <th>width</th>\n",
       "      <th>height</th>\n",
       "      <th>md5</th>\n",
       "    </tr>\n",
       "  </thead>\n",
       "  <tbody>\n",
       "    <tr>\n",
       "      <td>88226</td>\n",
       "      <td>https://www.facebook.com/tr?id=735575706641503...</td>\n",
       "      <td>tr</td>\n",
       "      <td>gif</td>\n",
       "      <td>image/gif</td>\n",
       "      <td>image/gif</td>\n",
       "      <td>1</td>\n",
       "      <td>1</td>\n",
       "      <td>b798f4ce7359fd815df4bdf76503b295</td>\n",
       "    </tr>\n",
       "    <tr>\n",
       "      <td>88227</td>\n",
       "      <td>https://www.facebook.com/tr/?id=33531913663388...</td>\n",
       "      <td></td>\n",
       "      <td>gif</td>\n",
       "      <td>image/gif</td>\n",
       "      <td>image/gif</td>\n",
       "      <td>1</td>\n",
       "      <td>1</td>\n",
       "      <td>b798f4ce7359fd815df4bdf76503b295</td>\n",
       "    </tr>\n",
       "    <tr>\n",
       "      <td>88228</td>\n",
       "      <td>https://www.facebook.com/tr/?id=39855345091085...</td>\n",
       "      <td></td>\n",
       "      <td>gif</td>\n",
       "      <td>image/gif</td>\n",
       "      <td>image/gif</td>\n",
       "      <td>1</td>\n",
       "      <td>1</td>\n",
       "      <td>b798f4ce7359fd815df4bdf76503b295</td>\n",
       "    </tr>\n",
       "    <tr>\n",
       "      <td>88229</td>\n",
       "      <td>https://www.facebook.com/tr/?id=39855345091085...</td>\n",
       "      <td></td>\n",
       "      <td>gif</td>\n",
       "      <td>image/gif</td>\n",
       "      <td>image/gif</td>\n",
       "      <td>1</td>\n",
       "      <td>1</td>\n",
       "      <td>b798f4ce7359fd815df4bdf76503b295</td>\n",
       "    </tr>\n",
       "    <tr>\n",
       "      <td>88230</td>\n",
       "      <td>https://www.facebook.com/tr/?id=33531913663388...</td>\n",
       "      <td></td>\n",
       "      <td>gif</td>\n",
       "      <td>image/gif</td>\n",
       "      <td>image/gif</td>\n",
       "      <td>1</td>\n",
       "      <td>1</td>\n",
       "      <td>b798f4ce7359fd815df4bdf76503b295</td>\n",
       "    </tr>\n",
       "    <tr>\n",
       "      <td>...</td>\n",
       "      <td>...</td>\n",
       "      <td>...</td>\n",
       "      <td>...</td>\n",
       "      <td>...</td>\n",
       "      <td>...</td>\n",
       "      <td>...</td>\n",
       "      <td>...</td>\n",
       "      <td>...</td>\n",
       "    </tr>\n",
       "    <tr>\n",
       "      <td>88305</td>\n",
       "      <td>https://www.facebook.com/tr/?id=16215573681589...</td>\n",
       "      <td></td>\n",
       "      <td>gif</td>\n",
       "      <td>image/gif</td>\n",
       "      <td>image/gif</td>\n",
       "      <td>1</td>\n",
       "      <td>1</td>\n",
       "      <td>b798f4ce7359fd815df4bdf76503b295</td>\n",
       "    </tr>\n",
       "    <tr>\n",
       "      <td>88306</td>\n",
       "      <td>https://www.facebook.com/tr/?id=33531913663388...</td>\n",
       "      <td></td>\n",
       "      <td>gif</td>\n",
       "      <td>image/gif</td>\n",
       "      <td>image/gif</td>\n",
       "      <td>1</td>\n",
       "      <td>1</td>\n",
       "      <td>b798f4ce7359fd815df4bdf76503b295</td>\n",
       "    </tr>\n",
       "    <tr>\n",
       "      <td>88307</td>\n",
       "      <td>https://www.facebook.com/tr/?id=39855345091085...</td>\n",
       "      <td></td>\n",
       "      <td>gif</td>\n",
       "      <td>image/gif</td>\n",
       "      <td>image/gif</td>\n",
       "      <td>1</td>\n",
       "      <td>1</td>\n",
       "      <td>b798f4ce7359fd815df4bdf76503b295</td>\n",
       "    </tr>\n",
       "    <tr>\n",
       "      <td>88308</td>\n",
       "      <td>https://www.facebook.com/tr/?id=33531913663388...</td>\n",
       "      <td></td>\n",
       "      <td>gif</td>\n",
       "      <td>image/gif</td>\n",
       "      <td>image/gif</td>\n",
       "      <td>1</td>\n",
       "      <td>1</td>\n",
       "      <td>b798f4ce7359fd815df4bdf76503b295</td>\n",
       "    </tr>\n",
       "    <tr>\n",
       "      <td>88309</td>\n",
       "      <td>https://www.facebook.com/tr/?id=39855345091085...</td>\n",
       "      <td></td>\n",
       "      <td>gif</td>\n",
       "      <td>image/gif</td>\n",
       "      <td>image/gif</td>\n",
       "      <td>1</td>\n",
       "      <td>1</td>\n",
       "      <td>b798f4ce7359fd815df4bdf76503b295</td>\n",
       "    </tr>\n",
       "  </tbody>\n",
       "</table>\n",
       "<p>84 rows × 8 columns</p>\n",
       "</div>"
      ],
      "text/plain": [
       "                                                     url filename extension  \\\n",
       "88226  https://www.facebook.com/tr?id=735575706641503...       tr       gif   \n",
       "88227  https://www.facebook.com/tr/?id=33531913663388...                gif   \n",
       "88228  https://www.facebook.com/tr/?id=39855345091085...                gif   \n",
       "88229  https://www.facebook.com/tr/?id=39855345091085...                gif   \n",
       "88230  https://www.facebook.com/tr/?id=33531913663388...                gif   \n",
       "...                                                  ...      ...       ...   \n",
       "88305  https://www.facebook.com/tr/?id=16215573681589...                gif   \n",
       "88306  https://www.facebook.com/tr/?id=33531913663388...                gif   \n",
       "88307  https://www.facebook.com/tr/?id=39855345091085...                gif   \n",
       "88308  https://www.facebook.com/tr/?id=33531913663388...                gif   \n",
       "88309  https://www.facebook.com/tr/?id=39855345091085...                gif   \n",
       "\n",
       "      mime_type_web_server mime_type_tika  width  height  \\\n",
       "88226            image/gif      image/gif      1       1   \n",
       "88227            image/gif      image/gif      1       1   \n",
       "88228            image/gif      image/gif      1       1   \n",
       "88229            image/gif      image/gif      1       1   \n",
       "88230            image/gif      image/gif      1       1   \n",
       "...                    ...            ...    ...     ...   \n",
       "88305            image/gif      image/gif      1       1   \n",
       "88306            image/gif      image/gif      1       1   \n",
       "88307            image/gif      image/gif      1       1   \n",
       "88308            image/gif      image/gif      1       1   \n",
       "88309            image/gif      image/gif      1       1   \n",
       "\n",
       "                                    md5  \n",
       "88226  b798f4ce7359fd815df4bdf76503b295  \n",
       "88227  b798f4ce7359fd815df4bdf76503b295  \n",
       "88228  b798f4ce7359fd815df4bdf76503b295  \n",
       "88229  b798f4ce7359fd815df4bdf76503b295  \n",
       "88230  b798f4ce7359fd815df4bdf76503b295  \n",
       "...                                 ...  \n",
       "88305  b798f4ce7359fd815df4bdf76503b295  \n",
       "88306  b798f4ce7359fd815df4bdf76503b295  \n",
       "88307  b798f4ce7359fd815df4bdf76503b295  \n",
       "88308  b798f4ce7359fd815df4bdf76503b295  \n",
       "88309  b798f4ce7359fd815df4bdf76503b295  \n",
       "\n",
       "[84 rows x 8 columns]"
      ]
     },
     "execution_count": 11,
     "metadata": {},
     "output_type": "execute_result"
    }
   ],
   "source": [
    "images.loc[images['md5'] == 'b798f4ce7359fd815df4bdf76503b295']"
   ]
  },
  {
   "cell_type": "markdown",
   "metadata": {
    "colab_type": "text",
    "id": "kE-8epARIG0-"
   },
   "source": [
    "### What does `b798f4ce7359fd815df4bdf76503b295` look like?\n",
    "\n",
    "We can extract the binary from the web archive using our [binary extraction functions](https://github.com/archivesunleashed/aut-docs-new/blob/master/current/image-analysis.md#scala-df).\n",
    "\n",
    "```scala\n",
    "import io.archivesunleashed._\n",
    "import io.archivesunleashed.df._\n",
    "\n",
    "val df = RecordLoader\n",
    "  .loadArchives(\"example.arc.gz\", sc)\n",
    "  .extractImageDetailsDF();\n",
    "\n",
    "df.select($\"bytes\", $\"extension\")\n",
    "  .saveToDisk(\"bytes\", \"/path/to/export/directory/your-preferred-filename-prefix\", $\"extension\")\n",
    "```\n",
    "\n",
    "**But**, since we don't have access to the WARC files here, just the Parquet derivatives, we can make do  by trying to display a live web version of the image or a replay URL. In this case, BANQ's replay service is available at [https://waext.banq.qc.ca](https://waext.banq.qc.ca)."
   ]
  },
  {
   "cell_type": "code",
   "execution_count": 12,
   "metadata": {
    "colab": {
     "base_uri": "https://localhost:8080/",
     "height": 54
    },
    "colab_type": "code",
    "id": "wB3VqcmgJQM0",
    "outputId": "12a533de-0663-4548-e219-ffcd91a35595"
   },
   "outputs": [
    {
     "data": {
      "text/plain": [
       "88226    https://www.facebook.com/tr?id=735575706641503&ev=PageView&noscript=1\n",
       "Name: url, dtype: object"
      ]
     },
     "execution_count": 12,
     "metadata": {},
     "output_type": "execute_result"
    }
   ],
   "source": [
    "pd.options.display.max_colwidth = -1\n",
    "one_image = images.loc[images['md5'] == 'b798f4ce7359fd815df4bdf76503b295'].head(1)\n",
    "one_image['url']"
   ]
  },
  {
   "cell_type": "markdown",
   "metadata": {
    "colab_type": "text",
    "id": "5YV2u_8aLEJS"
   },
   "source": [
    "![1 pixel Facebook tracker](https://www.facebook.com/tr?id=735575706641503&ev=PageView&noscript=1)"
   ]
  },
  {
   "cell_type": "markdown",
   "metadata": {
    "colab_type": "text",
    "id": "6YfsUGSRt1Ns"
   },
   "source": [
    "Oh. Surprise, surprise. The most popular image is a 1-pixel image that [Facebook uses to track users for conversion](https://developers.facebook.com/docs/facebook-pixel/implementation/conversion-tracking)."
   ]
  },
  {
   "cell_type": "markdown",
   "metadata": {
    "colab_type": "text",
    "id": "GbLLZW2awzCv"
   },
   "source": [
    "#### What are the top 10 most occuring filenames in the collection?\n",
    "\n",
    "Note that this is of course different than the MD5 results up above. Here we are focusing _just_ on filename. So `carte-p.jpg` for example, might actually be referring to different images who happen to have the same name.\n"
   ]
  },
  {
   "cell_type": "code",
   "execution_count": 13,
   "metadata": {
    "colab": {
     "base_uri": "https://localhost:8080/",
     "height": 219
    },
    "colab_type": "code",
    "id": "pQaw54ACkwdZ",
    "outputId": "e0ac6eae-1777-4246-a081-fa3db4b8778f"
   },
   "outputs": [
    {
     "data": {
      "text/plain": [
       "images                 12529\n",
       "                       10692\n",
       "favicon.ico            344  \n",
       "hqdefault.jpg          322  \n",
       "stonewall.jpg          103  \n",
       "image.jpg              97   \n",
       "maxresdefault.jpg      80   \n",
       "HOLDING.jpg            79   \n",
       "220px-thumbnail.jpg    72   \n",
       "330px-thumbnail.jpg    72   \n",
       "Name: filename, dtype: int64"
      ]
     },
     "execution_count": 13,
     "metadata": {},
     "output_type": "execute_result"
    }
   ],
   "source": [
    "top_filenames = images['filename'].value_counts().head(10)\n",
    "top_filenames"
   ]
  },
  {
   "cell_type": "markdown",
   "metadata": {
    "colab_type": "text",
    "id": "Z7F3re20BQRI"
   },
   "source": [
    "#### Let's plot it!"
   ]
  },
  {
   "cell_type": "code",
   "execution_count": 14,
   "metadata": {
    "colab": {
     "base_uri": "https://localhost:8080/",
     "height": 749
    },
    "colab_type": "code",
    "id": "sRvlstfsBWEZ",
    "outputId": "6dac5f5f-91ce-412d-ad97-e6719df231ac"
   },
   "outputs": [
    {
     "data": {
      "text/plain": [
       "Text(0, 0.5, 'Count')"
      ]
     },
     "execution_count": 14,
     "metadata": {},
     "output_type": "execute_result"
    },
    {
     "data": {
      "image/png": "[encoded data removed]",
      "text/plain": [
       "<Figure size 1800x720 with 1 Axes>"
      ]
     },
     "metadata": {
      "needs_background": "light"
     },
     "output_type": "display_data"
    }
   ],
   "source": [
    "top_filenames_chart = top_filenames.plot.bar(figsize=(25,10))\n",
    "top_filenames_chart.set_title(\"Top Filenames\", fontsize=22)\n",
    "top_filenames_chart.set_xlabel(\"Filename\", fontsize=20)\n",
    "top_filenames_chart.set_ylabel(\"Count\", fontsize=20)"
   ]
  },
  {
   "cell_type": "markdown",
   "metadata": {
    "colab_type": "text",
    "id": "BneaN9cgGoly"
   },
   "source": [
    "#### How about a MIME type distribution?\n",
    "\n",
    "What _kind_ of image files are present? We can discover this by checking their \"media type\", or [MIME type](https://en.wikipedia.org/wiki/Media_type). \n",
    "\n",
    "\n",
    "\n",
    "\n"
   ]
  },
  {
   "cell_type": "code",
   "execution_count": 15,
   "metadata": {
    "colab": {
     "base_uri": "https://localhost:8080/",
     "height": 723
    },
    "colab_type": "code",
    "id": "RDd-J8D-GwDk",
    "outputId": "6d12d61f-543c-4629-a1ab-2f8486eb0545"
   },
   "outputs": [
    {
     "data": {
      "text/plain": [
       "Text(0, 0.5, 'Count')"
      ]
     },
     "execution_count": 15,
     "metadata": {},
     "output_type": "execute_result"
    },
    {
     "data": {
      "image/png": "[encoded data removed]",
      "text/plain": [
       "<Figure size 1440x720 with 1 Axes>"
      ]
     },
     "metadata": {
      "needs_background": "light"
     },
     "output_type": "display_data"
    }
   ],
   "source": [
    "image_mime_types = images['mime_type_tika'].value_counts().head(5)\n",
    "image_mime_type_chart = image_mime_types.plot.bar(figsize=(20,10))\n",
    "image_mime_type_chart.set_title(\"Images MIME Type Distribution\", fontsize=22)\n",
    "image_mime_type_chart.set_xlabel(\"MIME Type\", fontsize=20)\n",
    "image_mime_type_chart.set_ylabel(\"Count\", fontsize=20)"
   ]
  },
  {
   "cell_type": "markdown",
   "metadata": {
    "colab_type": "text",
    "id": "QGHnjGRQPzqV"
   },
   "source": [
    "#### How about the distribution of the top 10 domains?\n",
    "\n",
    "Here we can see which domains are the most frequent within the web archive."
   ]
  },
  {
   "cell_type": "code",
   "execution_count": 16,
   "metadata": {
    "colab": {
     "base_uri": "https://localhost:8080/",
     "height": 961
    },
    "colab_type": "code",
    "id": "C_X_YSD4PyQi",
    "outputId": "b90dabb5-e565-4a53-a084-b309cc1b586b"
   },
   "outputs": [
    {
     "data": {
      "text/plain": [
       "Text(0, 0.5, 'Count')"
      ]
     },
     "execution_count": 16,
     "metadata": {},
     "output_type": "execute_result"
    },
    {
     "data": {
      "image/png": "[encoded data removed]",
      "text/plain": [
       "<Figure size 1800x936 with 1 Axes>"
      ]
     },
     "metadata": {
      "needs_background": "light"
     },
     "output_type": "display_data"
    }
   ],
   "source": [
    "top_domains = domains.sort_values('count', ascending=False).head(10)\n",
    "top_domains_chart = top_domains.plot.bar(x='url', y='count', figsize=(25,13))\n",
    "top_domains_chart.set_title(\"Domains Distribution\", fontsize=22)\n",
    "top_domains_chart.set_xlabel(\"Domain\", fontsize=20)\n",
    "top_domains_chart.set_ylabel(\"Count\", fontsize=20)"
   ]
  },
  {
   "cell_type": "markdown",
   "metadata": {
    "colab_type": "text",
    "id": "VDXDhqCcyyFj"
   },
   "source": [
    "### Top Level Domain Analysis\n",
    "Now let's create a new column, `tld`, which is based off an existing column, 'Domain'. This example should give you an idea of how you can expand these datasets to do further research and analysis. \n",
    "\n",
    "A [top-level domain](https://en.wikipedia.org/wiki/Top-level_domain) refers to the highest domain in an address - i.e. `.ca`, `.com`, `.org`, or yes, even `.pizza`.\n",
    "\n",
    "Things get a bit complicated, however, in some national TLDs. While `qc.ca` (the domain for Quebec) isn't really a top-level domain, it has many of the features of one as people can directly register under it. Below, we'll use the command `suffix` to include this. \n",
    "\n",
    "> You can learn more about suffixes at https://publicsuffix.org.\n",
    "\n",
    "We'll take the `Domain` column and extract the `tld` from it with [`tldextract`](https://github.com/john-kurkowski/tldextract).\n",
    "\n",
    "First we'll add the [`tldextract`](https://github.com/john-kurkowski/tldextract) library to the notebook. Then, we'll create the new column."
   ]
  },
  {
   "cell_type": "code",
   "execution_count": 17,
   "metadata": {
    "colab": {
     "base_uri": "https://localhost:8080/",
     "height": 424
    },
    "colab_type": "code",
    "id": "mv7a-MLIx-3f",
    "outputId": "3da05bf2-f338-40c5-ca7d-edee0955c3e8"
   },
   "outputs": [
    {
     "data": {
      "text/html": [
       "<div>\n",
       "<style scoped>\n",
       "    .dataframe tbody tr th:only-of-type {\n",
       "        vertical-align: middle;\n",
       "    }\n",
       "\n",
       "    .dataframe tbody tr th {\n",
       "        vertical-align: top;\n",
       "    }\n",
       "\n",
       "    .dataframe thead th {\n",
       "        text-align: right;\n",
       "    }\n",
       "</style>\n",
       "<table border=\"1\" class=\"dataframe\">\n",
       "  <thead>\n",
       "    <tr style=\"text-align: right;\">\n",
       "      <th></th>\n",
       "      <th>url</th>\n",
       "      <th>count</th>\n",
       "      <th>tld</th>\n",
       "    </tr>\n",
       "  </thead>\n",
       "  <tbody>\n",
       "    <tr>\n",
       "      <td>0</td>\n",
       "      <td>www.nationalqueertheater.org</td>\n",
       "      <td>119016</td>\n",
       "      <td>nationalqueertheater</td>\n",
       "    </tr>\n",
       "    <tr>\n",
       "      <td>1</td>\n",
       "      <td>www.stonewallchorale.org</td>\n",
       "      <td>118697</td>\n",
       "      <td>stonewallchorale</td>\n",
       "    </tr>\n",
       "    <tr>\n",
       "      <td>2</td>\n",
       "      <td>en.wikipedia.org</td>\n",
       "      <td>103231</td>\n",
       "      <td>wikipedia</td>\n",
       "    </tr>\n",
       "    <tr>\n",
       "      <td>3</td>\n",
       "      <td>accounts.google.com</td>\n",
       "      <td>55555</td>\n",
       "      <td>google</td>\n",
       "    </tr>\n",
       "    <tr>\n",
       "      <td>4</td>\n",
       "      <td>mobile.twitter.com</td>\n",
       "      <td>29955</td>\n",
       "      <td>twitter</td>\n",
       "    </tr>\n",
       "    <tr>\n",
       "      <td>...</td>\n",
       "      <td>...</td>\n",
       "      <td>...</td>\n",
       "      <td>...</td>\n",
       "    </tr>\n",
       "    <tr>\n",
       "      <td>3267</td>\n",
       "      <td>innonmainmanasquan.com</td>\n",
       "      <td>1</td>\n",
       "      <td>innonmainmanasquan</td>\n",
       "    </tr>\n",
       "    <tr>\n",
       "      <td>3268</td>\n",
       "      <td>nj.us.williamhill.com</td>\n",
       "      <td>1</td>\n",
       "      <td>williamhill</td>\n",
       "    </tr>\n",
       "    <tr>\n",
       "      <td>3269</td>\n",
       "      <td>ld-linux.so</td>\n",
       "      <td>1</td>\n",
       "      <td>ld-linux</td>\n",
       "    </tr>\n",
       "    <tr>\n",
       "      <td>3270</td>\n",
       "      <td>conradhotels3.hilton.com</td>\n",
       "      <td>1</td>\n",
       "      <td>hilton</td>\n",
       "    </tr>\n",
       "    <tr>\n",
       "      <td>3271</td>\n",
       "      <td>www.consciouscolors.com</td>\n",
       "      <td>1</td>\n",
       "      <td>consciouscolors</td>\n",
       "    </tr>\n",
       "  </tbody>\n",
       "</table>\n",
       "<p>3272 rows × 3 columns</p>\n",
       "</div>"
      ],
      "text/plain": [
       "                               url   count                   tld\n",
       "0     www.nationalqueertheater.org  119016  nationalqueertheater\n",
       "1     www.stonewallchorale.org      118697  stonewallchorale    \n",
       "2     en.wikipedia.org              103231  wikipedia           \n",
       "3     accounts.google.com           55555   google              \n",
       "4     mobile.twitter.com            29955   twitter             \n",
       "...                  ...              ...       ...             \n",
       "3267  innonmainmanasquan.com        1       innonmainmanasquan  \n",
       "3268  nj.us.williamhill.com         1       williamhill         \n",
       "3269  ld-linux.so                   1       ld-linux            \n",
       "3270  conradhotels3.hilton.com      1       hilton              \n",
       "3271  www.consciouscolors.com       1       consciouscolors     \n",
       "\n",
       "[3272 rows x 3 columns]"
      ]
     },
     "execution_count": 17,
     "metadata": {},
     "output_type": "execute_result"
    }
   ],
   "source": [
    "import tldextract\n",
    "\n",
    "domains['tld'] = domains.apply(lambda row: tldextract.extract(row.url).domain, axis=1)\n",
    "domains"
   ]
  },
  {
   "cell_type": "markdown",
   "metadata": {
    "colab_type": "text",
    "id": "jdXFS2yu8XYG"
   },
   "source": [
    "#### Next, let's count the distict TLDs.\n"
   ]
  },
  {
   "cell_type": "code",
   "execution_count": 18,
   "metadata": {
    "colab": {
     "base_uri": "https://localhost:8080/",
     "height": 237
    },
    "colab_type": "code",
    "id": "1lViQIU48e-u",
    "outputId": "2298858b-e745-4df5-ead2-ccc3e5e57ea8"
   },
   "outputs": [
    {
     "data": {
      "text/plain": [
       "wordpress           173\n",
       "columbia            53 \n",
       "google              39 \n",
       "gettyimages         23 \n",
       "yahoo               22 \n",
       "                    .. \n",
       "weareknitters       1  \n",
       "weloveallanimals    1  \n",
       "goethe              1  \n",
       "metacritic          1  \n",
       "mnpartystore        1  \n",
       "Name: tld, Length: 2534, dtype: int64"
      ]
     },
     "execution_count": 18,
     "metadata": {},
     "output_type": "execute_result"
    }
   ],
   "source": [
    "tld_count = domains['tld'].value_counts()\n",
    "tld_count"
   ]
  },
  {
   "cell_type": "markdown",
   "metadata": {
    "colab_type": "text",
    "id": "xm_V_0PGzZut"
   },
   "source": [
    "#### Next, we'll plot the TLD count.\n"
   ]
  },
  {
   "cell_type": "code",
   "execution_count": 19,
   "metadata": {
    "colab": {
     "base_uri": "https://localhost:8080/",
     "height": 718
    },
    "colab_type": "code",
    "id": "N8yNlOa-zmBD",
    "outputId": "9114c48c-f129-4f0c-f000-7fba1f82068f"
   },
   "outputs": [
    {
     "data": {
      "text/plain": [
       "Text(0.5, 1.0, 'Top Level Domain Distribution')"
      ]
     },
     "execution_count": 19,
     "metadata": {},
     "output_type": "execute_result"
    },
    {
     "data": {
      "image/png": "[encoded data removed]",
      "text/plain": [
       "<Figure size 1800x720 with 1 Axes>"
      ]
     },
     "metadata": {
      "needs_background": "light"
     },
     "output_type": "display_data"
    }
   ],
   "source": [
    "tld_chart = tld_count.head(20).plot.bar(legend=None, figsize=(25,10))\n",
    "tld_chart.set_xlabel(\"TLD\", fontsize=20)\n",
    "tld_chart.set_ylabel(\"Count\", fontsize=20)\n",
    "tld_chart.set_title(\"Top Level Domain Distribution\", fontsize=22)"
   ]
  },
  {
   "cell_type": "markdown",
   "metadata": {
    "colab_type": "text",
    "id": "DWq4hkhoAXNm"
   },
   "source": [
    "## Examining the Web Graph"
   ]
  },
  {
   "cell_type": "markdown",
   "metadata": {
    "colab_type": "text",
    "id": "tdCH8zAPAa2M"
   },
   "source": [
    "Remember the hyperlink web graph? Let's look at the web graph columns again.\n",
    "\n"
   ]
  },
  {
   "cell_type": "code",
   "execution_count": 20,
   "metadata": {
    "colab": {
     "base_uri": "https://localhost:8080/",
     "height": 667
    },
    "colab_type": "code",
    "id": "-MFkAOcLAWy5",
    "outputId": "127cebb8-0d12-467b-c1bd-803d5b4bb2b1"
   },
   "outputs": [
    {
     "data": {
      "text/html": [
       "<div>\n",
       "<style scoped>\n",
       "    .dataframe tbody tr th:only-of-type {\n",
       "        vertical-align: middle;\n",
       "    }\n",
       "\n",
       "    .dataframe tbody tr th {\n",
       "        vertical-align: top;\n",
       "    }\n",
       "\n",
       "    .dataframe thead th {\n",
       "        text-align: right;\n",
       "    }\n",
       "</style>\n",
       "<table border=\"1\" class=\"dataframe\">\n",
       "  <thead>\n",
       "    <tr style=\"text-align: right;\">\n",
       "      <th></th>\n",
       "      <th>crawl_date</th>\n",
       "      <th>src</th>\n",
       "      <th>dest</th>\n",
       "      <th>anchor</th>\n",
       "    </tr>\n",
       "  </thead>\n",
       "  <tbody>\n",
       "    <tr>\n",
       "      <td>0</td>\n",
       "      <td>20190708</td>\n",
       "      <td>https://www.youtube.com/watch?v=4MSelbHNTK8&amp;feature=youtu.be</td>\n",
       "      <td>https://www.google.com/intl/en/policies/privacy/</td>\n",
       "      <td>Privacy</td>\n",
       "    </tr>\n",
       "    <tr>\n",
       "      <td>1</td>\n",
       "      <td>20190708</td>\n",
       "      <td>https://www.youtube.com/watch?v=4MSelbHNTK8&amp;feature=youtu.be</td>\n",
       "      <td>https://www.google.com/support/legal/answer/3110420</td>\n",
       "      <td>Legal Help page</td>\n",
       "    </tr>\n",
       "    <tr>\n",
       "      <td>2</td>\n",
       "      <td>20190708</td>\n",
       "      <td>https://accounts.google.com/ServiceLogin?uilel=3&amp;service=youtube&amp;continue=https%3A%2F%2Fwww.youtube.com%2Fsignin%3Ffeature%3Dpassive%26hl%3Den%26app%3Ddesktop%26next%3D%252Fsignin_passive%26action_handle_signin%3Dtrue&amp;passive=true&amp;hl=en</td>\n",
       "      <td>https://support.google.com/chrome/answer/6130773?hl=en</td>\n",
       "      <td>Learn more</td>\n",
       "    </tr>\n",
       "    <tr>\n",
       "      <td>3</td>\n",
       "      <td>20190708</td>\n",
       "      <td>https://accounts.google.com/ServiceLogin?uilel=3&amp;service=youtube&amp;continue=https%3A%2F%2Fwww.youtube.com%2Fsignin%3Ffeature%3Dpassive%26hl%3Den%26app%3Ddesktop%26next%3D%252Fsignin_passive%26action_handle_signin%3Dtrue&amp;passive=true&amp;hl=en</td>\n",
       "      <td>https://support.google.com/accounts?hl=en</td>\n",
       "      <td>Help</td>\n",
       "    </tr>\n",
       "    <tr>\n",
       "      <td>4</td>\n",
       "      <td>20190708</td>\n",
       "      <td>https://accounts.google.com/ServiceLogin?uilel=3&amp;service=youtube&amp;continue=https%3A%2F%2Fwww.youtube.com%2Fsignin%3Ffeature%3Dpassive%26hl%3Den%26app%3Ddesktop%26next%3D%252Fsignin_passive%26action_handle_signin%3Dtrue&amp;passive=true&amp;hl=en</td>\n",
       "      <td>https://accounts.google.com/TOS?loc=US&amp;hl=en&amp;privacy=true</td>\n",
       "      <td>Privacy</td>\n",
       "    </tr>\n",
       "    <tr>\n",
       "      <td>...</td>\n",
       "      <td>...</td>\n",
       "      <td>...</td>\n",
       "      <td>...</td>\n",
       "      <td>...</td>\n",
       "    </tr>\n",
       "    <tr>\n",
       "      <td>17518076</td>\n",
       "      <td>20190603</td>\n",
       "      <td>https://timessquares.nyc/stonewall50/search/%7Bsearch_term_string%7D/timessquares.nyc/timessquares.nyc/R0lGODlhAQABAIAAAAAAAP///timessquares.nyc/timessquares.nyc/R0lGODlhAQABAIAAAAAAAP///timessquares.nyc/R0lGODlhAQABAIAAAAAAAP///timessquares.nyc/timessquares.nyc/timessquares.nyc</td>\n",
       "      <td>https://grsquares.org/</td>\n",
       "      <td>Grand River Squares (MI)</td>\n",
       "    </tr>\n",
       "    <tr>\n",
       "      <td>17518077</td>\n",
       "      <td>20190603</td>\n",
       "      <td>https://timessquares.nyc/stonewall50/search/%7Bsearch_term_string%7D/timessquares.nyc/timessquares.nyc/R0lGODlhAQABAIAAAAAAAP///timessquares.nyc/timessquares.nyc/R0lGODlhAQABAIAAAAAAAP///timessquares.nyc/R0lGODlhAQABAIAAAAAAAP///timessquares.nyc/timessquares.nyc/timessquares.nyc</td>\n",
       "      <td>http://iagsdc.com/ottawa/</td>\n",
       "      <td>Ottawa Date Squares (Canada)</td>\n",
       "    </tr>\n",
       "    <tr>\n",
       "      <td>17518078</td>\n",
       "      <td>20190603</td>\n",
       "      <td>https://timessquares.nyc/stonewall50/search/%7Bsearch_term_string%7D/timessquares.nyc/timessquares.nyc/R0lGODlhAQABAIAAAAAAAP///timessquares.nyc/timessquares.nyc/R0lGODlhAQABAIAAAAAAAP///timessquares.nyc/R0lGODlhAQABAIAAAAAAAP///timessquares.nyc/timessquares.nyc/timessquares.nyc</td>\n",
       "      <td>https://puddletownsquares.org/</td>\n",
       "      <td>Puddletown Squares (WA)</td>\n",
       "    </tr>\n",
       "    <tr>\n",
       "      <td>17518079</td>\n",
       "      <td>20190603</td>\n",
       "      <td>https://timessquares.nyc/stonewall50/search/%7Bsearch_term_string%7D/timessquares.nyc/timessquares.nyc/R0lGODlhAQABAIAAAAAAAP///timessquares.nyc/timessquares.nyc/R0lGODlhAQABAIAAAAAAAP///timessquares.nyc/R0lGODlhAQABAIAAAAAAAP///timessquares.nyc/timessquares.nyc/timessquares.nyc</td>\n",
       "      <td>http://www.chesapeakesquares.org/</td>\n",
       "      <td>Chesapeake Squares (MD)</td>\n",
       "    </tr>\n",
       "    <tr>\n",
       "      <td>17518080</td>\n",
       "      <td>20190603</td>\n",
       "      <td>https://timessquares.nyc/stonewall50/search/%7Bsearch_term_string%7D/timessquares.nyc/timessquares.nyc/R0lGODlhAQABAIAAAAAAAP///timessquares.nyc/timessquares.nyc/R0lGODlhAQABAIAAAAAAAP///timessquares.nyc/R0lGODlhAQABAIAAAAAAAP///timessquares.nyc/timessquares.nyc/timessquares.nyc</td>\n",
       "      <td>http://www.hotlantasquares.org/</td>\n",
       "      <td>Hotlanta Squares (GA)</td>\n",
       "    </tr>\n",
       "  </tbody>\n",
       "</table>\n",
       "<p>17518081 rows × 4 columns</p>\n",
       "</div>"
      ],
      "text/plain": [
       "         crawl_date  \\\n",
       "0         20190708    \n",
       "1         20190708    \n",
       "2         20190708    \n",
       "3         20190708    \n",
       "4         20190708    \n",
       "...            ...    \n",
       "17518076  20190603    \n",
       "17518077  20190603    \n",
       "17518078  20190603    \n",
       "17518079  20190603    \n",
       "17518080  20190603    \n",
       "\n",
       "                                                                                                                                                                                                                                                                                              src  \\\n",
       "0         https://www.youtube.com/watch?v=4MSelbHNTK8&feature=youtu.be                                                                                                                                                                                                                              \n",
       "1         https://www.youtube.com/watch?v=4MSelbHNTK8&feature=youtu.be                                                                                                                                                                                                                              \n",
       "2         https://accounts.google.com/ServiceLogin?uilel=3&service=youtube&continue=https%3A%2F%2Fwww.youtube.com%2Fsignin%3Ffeature%3Dpassive%26hl%3Den%26app%3Ddesktop%26next%3D%252Fsignin_passive%26action_handle_signin%3Dtrue&passive=true&hl=en                                              \n",
       "3         https://accounts.google.com/ServiceLogin?uilel=3&service=youtube&continue=https%3A%2F%2Fwww.youtube.com%2Fsignin%3Ffeature%3Dpassive%26hl%3Den%26app%3Ddesktop%26next%3D%252Fsignin_passive%26action_handle_signin%3Dtrue&passive=true&hl=en                                              \n",
       "4         https://accounts.google.com/ServiceLogin?uilel=3&service=youtube&continue=https%3A%2F%2Fwww.youtube.com%2Fsignin%3Ffeature%3Dpassive%26hl%3Den%26app%3Ddesktop%26next%3D%252Fsignin_passive%26action_handle_signin%3Dtrue&passive=true&hl=en                                              \n",
       "...                                                                                                                                                                                                                                                ...                                              \n",
       "17518076  https://timessquares.nyc/stonewall50/search/%7Bsearch_term_string%7D/timessquares.nyc/timessquares.nyc/R0lGODlhAQABAIAAAAAAAP///timessquares.nyc/timessquares.nyc/R0lGODlhAQABAIAAAAAAAP///timessquares.nyc/R0lGODlhAQABAIAAAAAAAP///timessquares.nyc/timessquares.nyc/timessquares.nyc   \n",
       "17518077  https://timessquares.nyc/stonewall50/search/%7Bsearch_term_string%7D/timessquares.nyc/timessquares.nyc/R0lGODlhAQABAIAAAAAAAP///timessquares.nyc/timessquares.nyc/R0lGODlhAQABAIAAAAAAAP///timessquares.nyc/R0lGODlhAQABAIAAAAAAAP///timessquares.nyc/timessquares.nyc/timessquares.nyc   \n",
       "17518078  https://timessquares.nyc/stonewall50/search/%7Bsearch_term_string%7D/timessquares.nyc/timessquares.nyc/R0lGODlhAQABAIAAAAAAAP///timessquares.nyc/timessquares.nyc/R0lGODlhAQABAIAAAAAAAP///timessquares.nyc/R0lGODlhAQABAIAAAAAAAP///timessquares.nyc/timessquares.nyc/timessquares.nyc   \n",
       "17518079  https://timessquares.nyc/stonewall50/search/%7Bsearch_term_string%7D/timessquares.nyc/timessquares.nyc/R0lGODlhAQABAIAAAAAAAP///timessquares.nyc/timessquares.nyc/R0lGODlhAQABAIAAAAAAAP///timessquares.nyc/R0lGODlhAQABAIAAAAAAAP///timessquares.nyc/timessquares.nyc/timessquares.nyc   \n",
       "17518080  https://timessquares.nyc/stonewall50/search/%7Bsearch_term_string%7D/timessquares.nyc/timessquares.nyc/R0lGODlhAQABAIAAAAAAAP///timessquares.nyc/timessquares.nyc/R0lGODlhAQABAIAAAAAAAP///timessquares.nyc/R0lGODlhAQABAIAAAAAAAP///timessquares.nyc/timessquares.nyc/timessquares.nyc   \n",
       "\n",
       "                                                               dest  \\\n",
       "0         https://www.google.com/intl/en/policies/privacy/            \n",
       "1         https://www.google.com/support/legal/answer/3110420         \n",
       "2         https://support.google.com/chrome/answer/6130773?hl=en      \n",
       "3         https://support.google.com/accounts?hl=en                   \n",
       "4         https://accounts.google.com/TOS?loc=US&hl=en&privacy=true   \n",
       "...                                                             ...   \n",
       "17518076  https://grsquares.org/                                      \n",
       "17518077  http://iagsdc.com/ottawa/                                   \n",
       "17518078  https://puddletownsquares.org/                              \n",
       "17518079  http://www.chesapeakesquares.org/                           \n",
       "17518080  http://www.hotlantasquares.org/                             \n",
       "\n",
       "                                anchor  \n",
       "0         Privacy                       \n",
       "1         Legal Help page               \n",
       "2         Learn more                    \n",
       "3         Help                          \n",
       "4         Privacy                       \n",
       "...           ...                       \n",
       "17518076  Grand River Squares (MI)      \n",
       "17518077  Ottawa Date Squares (Canada)  \n",
       "17518078  Puddletown Squares (WA)       \n",
       "17518079  Chesapeake Squares (MD)       \n",
       "17518080  Hotlanta Squares (GA)         \n",
       "\n",
       "[17518081 rows x 4 columns]"
      ]
     },
     "execution_count": 20,
     "metadata": {},
     "output_type": "execute_result"
    }
   ],
   "source": [
    "webgraph"
   ]
  },
  {
   "cell_type": "markdown",
   "metadata": {
    "colab_type": "text",
    "id": "BFaebkzWAp-R"
   },
   "source": [
    "### What are the most frequent crawl dates?\n"
   ]
  },
  {
   "cell_type": "code",
   "execution_count": 21,
   "metadata": {
    "colab": {
     "base_uri": "https://localhost:8080/",
     "height": 763
    },
    "colab_type": "code",
    "id": "kJNT3vqkAxqj",
    "outputId": "aee09d46-787d-4e7a-d617-21c421de5d3e"
   },
   "outputs": [
    {
     "data": {
      "text/plain": [
       "Text(0.5, 1.0, 'Crawl Date Frequency')"
      ]
     },
     "execution_count": 21,
     "metadata": {},
     "output_type": "execute_result"
    },
    {
     "data": {
      "image/png": "[encoded data removed]",
      "text/plain": [
       "<Figure size 1800x864 with 1 Axes>"
      ]
     },
     "metadata": {
      "needs_background": "light"
     },
     "output_type": "display_data"
    }
   ],
   "source": [
    "crawl_dates = webgraph['crawl_date'].value_counts()\n",
    "crawl_dates\n",
    "crawl_dates_chart = crawl_dates.plot.line(figsize=(25,12))\n",
    "crawl_dates_chart.set_xlabel(\"Crawl Date\", fontsize=20)\n",
    "crawl_dates_chart.set_ylabel(\"Count\", fontsize=20)\n",
    "crawl_dates_chart.set_title(\"Crawl Date Frequency\", fontsize=22)\n"
   ]
  }
 ],
 "metadata": {
  "colab": {
   "include_colab_link": true,
   "machine_shape": "hm",
   "name": "parquet_pandas_stonewall.ipynb",
   "provenance": []
  },
  "kernelspec": {
   "display_name": "Python 3",
   "language": "python",
   "name": "python3"
  },
  "language_info": {
   "codemirror_mode": {
    "name": "ipython",
    "version": 3
   },
   "file_extension": ".py",
   "mimetype": "text/x-python",
   "name": "python",
   "nbconvert_exporter": "python",
   "pygments_lexer": "ipython3",
   "version": "3.7.4"
  }
 },
 "nbformat": 4,
 "nbformat_minor": 1
}
